{
 "cells": [
  {
   "cell_type": "markdown",
   "metadata": {
    "slideshow": {
     "slide_type": "slide"
    }
   },
   "source": [
    "# *Introducción a Julia*\n",
    "\n",
    "<img src=\"http://courses.csail.mit.edu/18.337/2015/images/julialogo.png\" alt=\"Julia logo\" style=\"width: 300px;\"/>\n",
    "\n",
    "## Francisco Tapia Vázquez\n",
    "## UMSNH-SCIESMEX"
   ]
  },
  {
   "cell_type": "markdown",
   "metadata": {},
   "source": [
    "# Bienvenido a Julia\n",
    "* ¿Qué es Julia?\n",
    "* Ventajas de Julia\n",
    "* Desventajas\n",
    "* ¿Cómo iniciar?"
   ]
  },
  {
   "cell_type": "markdown",
   "metadata": {},
   "source": [
    "# ¿Qué es Julia?\n",
    "\n",
    "\n",
    "<img src=\"http://i.imgur.com/VDjgSDS.png\" alt=\"Juli-what?\" style=\"width: 300px;\"/>"
   ]
  },
  {
   "cell_type": "markdown",
   "metadata": {},
   "source": [
    "Julia es un nuevo lenguaje de programación orientado al cómputo científico y para aquellos programdores que buscan velocidad, flexibilidad y usabilidad.<br>\n",
    "<a href=http://arxiv.org/pdf/1209.5145v1.pdf>Fue Presentado en 2012</a> tras dos años de desarrollo en el MIT  y sus principales desarrolladores son Jeff Benzanson, Stefan Karpinski, Viral Shah y Alan Edelman.  <br>\n",
    "Es aún un lenguaje en desarrollo pues aún no alcanza la **V 1.0** pero tiene, como veremos un futuro que promete mucho.<br>\n",
    "Una de la promesas de Julia es detener el problema de \"los dos lenguajes\".<br>\n",
    "En particular, en el campo de la ciencia, uno prueba cosas a pequeña escala para luego correr códigos con una gran cantidad de datos. Muchos científicos y programadores necesitan estar constantemente moviéndose entre dos códigos, ya que uno tiene herramientas que le son útiles, pero no logra satisfacer lo que necesita para cumplir con los objetivos de su investigación, así que recurre a un segundo lenguaje para completar la investigación. En general un busca que un lenguaje sea dinámico, fácil de aprender, de propósito general, que sea bueno para el cálculo y sobre todo que sea rápido. Teniendo en todas estas cosas en mente fue que se desarroló Julia.<br>\n",
    "<cite> http://julialang.org/blog/2012/02/why-we-created-julia </cite>\n",
    "\n",
    "Veamos ahora que ventajas tiene:"
   ]
  },
  {
   "cell_type": "markdown",
   "metadata": {},
   "source": [
    "## Veloz y flexible\n",
    "El buen diseño de Julia y su LLVM (Low-Level-vitual-machine) le permiten ejecutar código 2-3xC y aproximadamente 2-3 ordenes de magninutid respecto a Python o Matlab.\n",
    "Veamos un benchmark:\n",
    "<img src=\"http://i.imgur.com/kQKulLk.png\" alt=\"Julia benchmarks\" style=\"width: auto;\"/>\n",
    "\n",
    "Es importante mencionar que no se basan en la escritura de código óptimo en cada situación. El objetivo de estos benchmarks es comparar el rendimiento de los algoritmos específicos a través de implementaciones de lenguajes, no comparar el medio más rápido de calcular un resultado, que en la mayoría de lenguajes de alto nivel se basa en llamar a código C."
   ]
  },
  {
   "cell_type": "markdown",
   "metadata": {},
   "source": [
    "## Fácil de aprender\n",
    "Julia es amigable con los nuevos usuarios, pero mantiene contentos a los usuarios más avanzados, ya que si conoces la sintaxis de lenguajes como Matlab, Python,R etc. te sentirás como en casa."
   ]
  },
  {
   "cell_type": "code",
   "execution_count": null,
   "metadata": {
    "collapsed": false
   },
   "outputs": [],
   "source": [
    "[1 2 3] + [4 5 6]"
   ]
  },
  {
   "cell_type": "code",
   "execution_count": null,
   "metadata": {
    "collapsed": false
   },
   "outputs": [],
   "source": [
    "A=[1 2 3]\n",
    "A.^2"
   ]
  },
  {
   "cell_type": "markdown",
   "metadata": {},
   "source": [
    "## Llamadas a otros lenguajes\n",
    "En Julia podemos llamar código de otro lenguajes, su filosofía *\"No repetitivo\"* nos permite utilizar nuestro código o alguna función de C,Fortran,Python etc. para que no tengamos que convertir código y perder valioso tiempo de trabajo."
   ]
  },
  {
   "cell_type": "code",
   "execution_count": null,
   "metadata": {
    "collapsed": false
   },
   "outputs": [],
   "source": [
    "num_ran= ccall( (:rand, \"libc\"), Int32, ())"
   ]
  },
  {
   "cell_type": "code",
   "execution_count": null,
   "metadata": {
    "collapsed": false
   },
   "outputs": [],
   "source": [
    "ccall((:clock, \"libc\"), Int32, ())"
   ]
  },
  {
   "cell_type": "code",
   "execution_count": null,
   "metadata": {
    "collapsed": false
   },
   "outputs": [],
   "source": [
    "using PyCall\n",
    "@pyimport numpy as np\n",
    "@pyimport matplotlib.pyplot as plt\n",
    "\n",
    "x=np.linspace(-pi,pi,1000)\n",
    "y=np.cos(x)\n",
    "\n",
    "plt.plot(x,y,\"b-\")\n",
    "plt.title(\"Graficando en Julia con librerias de Python\")\n",
    "plt.grid()\n",
    "plt.show()"
   ]
  },
  {
   "cell_type": "markdown",
   "metadata": {
    "slideshow": {
     "slide_type": "subslide"
    }
   },
   "source": [
    "<!--Julia es un lenguaje de programación orientado al cómputo científico y de alto rendimiento, así como para propósitos generales.\n",
    "\n",
    "\n",
    "# Introducción a Julia\n",
    "<a href=http://arxiv.org/pdf/1209.5145v1.pdf>Julia fue lanzado en 2012</a> tras dos años de desarrollo en el MIT  y sus principales desarrolladores son Jeff Benzanson, Stefan Karpinski, Viral Shah y Alan Edelman.  <br>\n",
    "\n",
    "## ¿Qué ventajas tiene?\n",
    "* Orientado al cómputo científico y de alto rendimiento\n",
    "* Diseñado para computo paralelo y distribuido \n",
    "* Open Source\n",
    "* Gratuito\n",
    "* Tan rápido con C, pero tan dinámico como Ruby\n",
    "* Macros al estilo lisp, pero notación matemática como Matlab.\n",
    "* Se usa para programación en general como Python\n",
    "* Fácil para la estadítica como R\n",
    "* Un procesamiento de cadenas natural como Perl\n",
    "* Poderoso para álgebra lineal como Matlab\n",
    "* Actua como una interfaz shell\n",
    "* Fácil de aprender, pero manteniendo a los más avanzados felices\n",
    "* Interactivo, pero \"Just-In-Time\" (JIT) compilado\n",
    "* Puede llamar código de C y fortran nativamente\n",
    "* Mediante un pacquete se puede llamar funciones de diferentes lenguajes\n",
    "* Una amplia librería de funciones matemáticas\n",
    "\n",
    "<cite> http://julialang.org/blog/2012/02/why-we-created-julia </cite>\n",
    "\n",
    "\n",
    "## ¿Por qué debería usarlo?\n",
    "* Da un nuevo enfoque al computo científico\n",
    "* Muchas personas en el mundo los están usando a diario\n",
    "* Tiene el respaldo de una amplia cominidad de desarrolladores a lo largo de mundo\n",
    "* Marca el futuro del computo científico\n",
    "\n",
    "\n",
    "## ¿Qué tan rápido es respecto a otros lenguajes?\n",
    "El buen diseño de Julia y su LLVM (Low-Level-vitual-machine) le permiten aproximarse a la velocidad de C. <b>\n",
    "Veamos un benchmark:\n",
    "\n",
    "\n",
    "<img src=\"http://scienceblogs.com/catdynamics/files/2014/04/julia-perf1.jpg\" />\n",
    "\n",
    "\n",
    "\n",
    "\n",
    "\n",
    "<!--El lenguaje es \"Open source\"  y fue diseñado teniendo en mente el cómputo científico.\n",
    "<blockquote><i>\n",
    "Nosotros queremos un lenguaje que sea \"open source\", con una licencia libre. Queremos la velocidad de C con el dinamismo de Ruby. Queremos un lenguaje que sea ?homoiconico, con los macros como lisp, pero con notacional matemática familiar como Matlab. Queremos algo que sea usable para la programación general como Python, pero fácil para la estadística con R, natural para el procesamiento de cadenas como Perl  </i>\n",
    "\n",
    "</blockquote>\n",
    "\n",
    "\n",
    "\n",
    "######  Julia se considera aún en fase de desarrollo pues aún no alcanza su $V1.0$\n",
    "\n",
    "###### Julia integra mucho código de C/C++ en su kernel.\n",
    "\n",
    "###### Julia es comparado \n",
    "-->\n",
    "\n",
    "## Paralelismo\n"
   ]
  },
  {
   "cell_type": "markdown",
   "metadata": {},
   "source": [
    "Julia fue creado con la idea aprovechar el computo paralelo y distribuido, para ayudar a los científicos con sus tareas más pesadas.\n",
    "Por defecto Julia cuenta con un macro que paraleliza, pero existen herramientas clásicas como MPI o CUDA, las cuales podemos usar sin necesidad de aprender nuevas cosas, sólo aplicar lo que sabemos con una sintaxis ligeramente distinta.\n"
   ]
  },
  {
   "cell_type": "code",
   "execution_count": null,
   "metadata": {
    "collapsed": false
   },
   "outputs": [],
   "source": [
    "N = 100000000\n",
    "@time promedio = sum(rand(1:6,N)) / N"
   ]
  },
  {
   "cell_type": "code",
   "execution_count": null,
   "metadata": {
    "collapsed": false
   },
   "outputs": [],
   "source": [
    "numero() = rand(1:6)\n",
    "total = @parallel (+) for i=1:N\n",
    "    numero()\n",
    "end\n",
    "\n",
    "@time promedio = total / N"
   ]
  },
  {
   "cell_type": "markdown",
   "metadata": {},
   "source": [
    "## Desventajas\n",
    "\n",
    "## Estabilidad del lenguaje\n",
    "* Debido a que está aún en fase de desarrollo, las cosas cambian, pero podemos tomar eso como una oportunidad para crear librería que se adapten a nuestras necesidades y que sirvan a los demás.\n",
    "* Los lanzamientos son algo inestables\n",
    "* Si no quieres escribir el código otra vez para adaptarse a los estándares, Julia no es para ti! \n",
    "<img src=\"http://i.imgur.com/WKmerew.png\" alt=\"Constantly changing\" style=\"width: auto;\"/>\n",
    "## Soporte a los paquetes\n",
    "* Algunos paquetes están aún en desarrollo, por lo que es posible que no los encuentres\n",
    "* Poco documentación\n",
    "<img src=\"http://i.imgur.com/kola3TB.png\" alt=\"Few astro libraries\" style=\"width: auto;\"/>\n",
    "## Reparar código\n",
    "* En ocaciones es probable que te encuentres con código que necesita una optimización o un detalle pequeño, por lo que hay que intervenir. La comunidad de desarrolladores arregla con bastante rapidez los inconvenientes.\n",
    "\n",
    "<img src=\"http://i.imgur.com/2EbC8d8.png\" alt=\"Tinkering may be required\" style=\"width: auto;\"/>"
   ]
  },
  {
   "cell_type": "markdown",
   "metadata": {},
   "source": [
    "## En resumen\n",
    "\n",
    "<img src=\"http://i.imgur.com/OtAoIiD.png\" alt=\"Graphical summary of Julia\" style=\"width: auto;\"/>\n",
    "\n",
    "* Lenguaje Nuevo\n",
    "* Rápido y dinámico\n",
    "* Se lleva bien con los demás lenguajes\n",
    "* Diseño limpio pero muy poderoso"
   ]
  },
  {
   "cell_type": "markdown",
   "metadata": {},
   "source": [
    "# Ok, me convenciste, pero ¿Cómo puedo empezar?\n",
    "## Hay dos formas de empezar\n",
    "\n",
    "### En tu computadora\n",
    "Julia está disponible para Windows, OSx y Linux. </b>\n",
    "Se puede descargar directamente de la <a href=http://julialang.org/downloads/>página</a>. Si tienes un Ubuntu sigue las siguientes instruciones:\n",
    "\n",
    "<code >\n",
    "sudo add-apt-repository ppa:staticfloat/juliareleases\n",
    "sudo add-apt-repository ppa:staticfloat/julia-deps\n",
    "sudo apt-get update\n",
    "sudo apt-get install julia\n",
    "</code>\n",
    "\n",
    "Una vez instalado, seguimos estos pasos: </b>\n",
    "* Abrimos una terminal nueva\n",
    "* Escribimos: \n",
    "![Command line](http://i.imgur.com/yfj2iR5.png)\n",
    "\n",
    "\n",
    "### IDE's\n",
    "\n",
    "#### IJulia\n",
    "\n",
    "Existe una alternativa gráfica y muy cómoda para programar, corre sobre nuestro servidor local y es ejecutado en el navegador. \n",
    "\n",
    "Para instalar un paquete en julia basta con escribir <i>Pkg.add(\"Nombre del paquete\")</i> y listo! tenemos la librería en nuestra computadora.\n",
    "\n",
    "Para instalar IJulia, un prerequisito es contar con ipython notebook, si no lo tenemos instalado solo escribimos en una terminal: </b>\n",
    "\n",
    " ```\n",
    "    sudo apt-get install ipython-notebook python-numpy python-scipy python-matplotlib ipython ipython-notebook python-pandas python-sympy python-nose\n",
    "    ```\n",
    "y una vez ya instalado estos paquetes, instalamos IJulia como sigue:\n",
    "\n",
    "```julia\n",
    "    julia> Pkg.add(\"IJulia\")\n",
    "    julia> Pkg.update()\n",
    "    ```    \n",
    " Y lo ejecutamos\n",
    "    \n",
    "![Command line](http://i.imgur.com/fmX0JCB.png)\n",
    " \n",
    "### En la nube mediante JuliaBox \n",
    "\n",
    "<img src=\"http://i.imgur.com/L814XDv.png\" alt=\"Login\" style=\"width: auto;\"/>\n",
    "Podemos utilizar nuestra cuenta de Google o Github para entrar.\n",
    "<img src=\"http://i.imgur.com/0C3bdJZ.png\" alt=\"Kernelchoise\" style=\"width: auto;\"/>\n",
    "Una vez logeados, creamos una nueva notebook con el Kernel de Julia. Se nos abrirá una nueva pestaña.\n",
    "<img src=\"http://i.imgur.com/Uf8qTou.png\" alt=\"Start\" style=\"width: auto;\"/>\n",
    "\n",
    "##### ¡Listo ahora podemos comenzar a programar en Julia!"
   ]
  },
  {
   "cell_type": "markdown",
   "metadata": {},
   "source": [
    "# Manos a la obra\n",
    "# contenido\n",
    "\n",
    "                                                                                        \n",
    "                                                                                        \n",
    "<ul>\n",
    "                                                                                                <li><a href=\"#I/O\">Entradas y salidas</a></li>\n",
    "                                                                                                <li><a href=\"#Tipos-de-datos\">Tipo de datos</a></li>\n",
    "                                                                                                <li><a href=\"#Funciones-matemáticas\">Funciones matenmáticas</a></li>\n",
    "                                                                                                <li><a href=\"#Strings\">Strings</a></li>\n",
    "                                                                                                <li><a href=\"#Arreglos\">Arreglos y matrices</a></li>\n",
    "                                                                                                <li><a href=\"#Funciones\">Funciones</a></li>\n",
    "                                                                                                <li><a href=\"#Loops-y-condicionales\">Loops y condicionales</a></li>\n",
    "                                                                                                <li><a href=\"#Graficando\">Graficando</a></li>\n",
    "                                                                                                <li><a href=\"#Objetos\">Objetos orientados</a></li>\n",
    "</ul>\n",
    "\n",
    "\n",
    "## I/O"
   ]
  },
  {
   "cell_type": "code",
   "execution_count": 1,
   "metadata": {
    "collapsed": false
   },
   "outputs": [
    {
     "name": "stdout",
     "output_type": "stream",
     "text": [
      "Hola mundo!\n"
     ]
    }
   ],
   "source": [
    "println(\"Hola mundo!\")"
   ]
  },
  {
   "cell_type": "code",
   "execution_count": 2,
   "metadata": {
    "collapsed": false
   },
   "outputs": [
    {
     "name": "stdout",
     "output_type": "stream",
     "text": [
      "Hola mundo!Hola mundo!\n",
      "Nueva línea\n"
     ]
    }
   ],
   "source": [
    "print(\"Hola mundo!\")\n",
    "println(\"Hola mundo!\")\n",
    "println(\"Nueva línea\")"
   ]
  },
  {
   "cell_type": "code",
   "execution_count": 4,
   "metadata": {
    "collapsed": false
   },
   "outputs": [
    {
     "name": "stdout",
     "output_type": "stream",
     "text": [
      "STDIN> hola mundo!\n"
     ]
    },
    {
     "data": {
      "text/plain": [
       "\"hola mundo!\""
      ]
     },
     "execution_count": 4,
     "metadata": {},
     "output_type": "execute_result"
    }
   ],
   "source": [
    "mensaje= readline() "
   ]
  },
  {
   "cell_type": "code",
   "execution_count": 5,
   "metadata": {
    "collapsed": false
   },
   "outputs": [
    {
     "name": "stdout",
     "output_type": "stream",
     "text": [
      "El mensaje que ingresaste fue: hola mundo!\n"
     ]
    }
   ],
   "source": [
    "println(\"El mensaje que ingresaste fue: $mensaje\")"
   ]
  },
  {
   "cell_type": "markdown",
   "metadata": {},
   "source": [
    "# Tipos de datos\n",
    "\n",
    "## Números"
   ]
  },
  {
   "cell_type": "code",
   "execution_count": 6,
   "metadata": {
    "collapsed": false
   },
   "outputs": [
    {
     "data": {
      "text/plain": [
       "2"
      ]
     },
     "execution_count": 6,
     "metadata": {},
     "output_type": "execute_result"
    }
   ],
   "source": [
    "x=2"
   ]
  },
  {
   "cell_type": "code",
   "execution_count": 7,
   "metadata": {
    "collapsed": false
   },
   "outputs": [
    {
     "data": {
      "text/plain": [
       "Int64"
      ]
     },
     "execution_count": 7,
     "metadata": {},
     "output_type": "execute_result"
    }
   ],
   "source": [
    "typeof(ans)"
   ]
  },
  {
   "cell_type": "code",
   "execution_count": 8,
   "metadata": {
    "collapsed": false,
    "scrolled": true
   },
   "outputs": [
    {
     "data": {
      "text/plain": [
       "64"
      ]
     },
     "execution_count": 8,
     "metadata": {},
     "output_type": "execute_result"
    }
   ],
   "source": [
    "WORD_SIZE"
   ]
  },
  {
   "cell_type": "code",
   "execution_count": 9,
   "metadata": {
    "collapsed": false
   },
   "outputs": [
    {
     "data": {
      "text/plain": [
       "2"
      ]
     },
     "execution_count": 9,
     "metadata": {},
     "output_type": "execute_result"
    }
   ],
   "source": [
    "x=Int64(2)"
   ]
  },
  {
   "cell_type": "code",
   "execution_count": 10,
   "metadata": {
    "collapsed": false
   },
   "outputs": [
    {
     "data": {
      "text/plain": [
       "Int64"
      ]
     },
     "execution_count": 10,
     "metadata": {},
     "output_type": "execute_result"
    }
   ],
   "source": [
    "typeof(ans)"
   ]
  },
  {
   "cell_type": "code",
   "execution_count": 11,
   "metadata": {
    "collapsed": false
   },
   "outputs": [
    {
     "data": {
      "text/plain": [
       "1.0"
      ]
     },
     "execution_count": 11,
     "metadata": {},
     "output_type": "execute_result"
    }
   ],
   "source": [
    "y=1.0"
   ]
  },
  {
   "cell_type": "code",
   "execution_count": 12,
   "metadata": {
    "collapsed": false
   },
   "outputs": [
    {
     "data": {
      "text/plain": [
       "Float64"
      ]
     },
     "execution_count": 12,
     "metadata": {},
     "output_type": "execute_result"
    }
   ],
   "source": [
    "typeof(ans)"
   ]
  },
  {
   "cell_type": "code",
   "execution_count": 13,
   "metadata": {
    "collapsed": false
   },
   "outputs": [
    {
     "data": {
      "text/plain": [
       "10.0"
      ]
     },
     "execution_count": 13,
     "metadata": {},
     "output_type": "execute_result"
    }
   ],
   "source": [
    "y=Float64(10)"
   ]
  },
  {
   "cell_type": "code",
   "execution_count": 14,
   "metadata": {
    "collapsed": false
   },
   "outputs": [
    {
     "data": {
      "text/plain": [
       "Float64"
      ]
     },
     "execution_count": 14,
     "metadata": {},
     "output_type": "execute_result"
    }
   ],
   "source": [
    "typeof(ans)"
   ]
  },
  {
   "cell_type": "code",
   "execution_count": 15,
   "metadata": {
    "collapsed": false
   },
   "outputs": [
    {
     "data": {
      "text/plain": [
       "18014398509481984"
      ]
     },
     "execution_count": 15,
     "metadata": {},
     "output_type": "execute_result"
    }
   ],
   "source": [
    "x=BigInt(2^54)"
   ]
  },
  {
   "cell_type": "code",
   "execution_count": 16,
   "metadata": {
    "collapsed": false
   },
   "outputs": [
    {
     "data": {
      "text/plain": [
       "BigInt"
      ]
     },
     "execution_count": 16,
     "metadata": {},
     "output_type": "execute_result"
    }
   ],
   "source": [
    "typeof(ans)"
   ]
  },
  {
   "cell_type": "code",
   "execution_count": 17,
   "metadata": {
    "collapsed": false
   },
   "outputs": [
    {
     "data": {
      "text/plain": [
       "34175792574734561318320347298712833833643272357706444319152665725155515612490248800367393390985216"
      ]
     },
     "execution_count": 17,
     "metadata": {},
     "output_type": "execute_result"
    }
   ],
   "source": [
    "x^6"
   ]
  },
  {
   "cell_type": "code",
   "execution_count": 18,
   "metadata": {
    "collapsed": false
   },
   "outputs": [
    {
     "data": {
      "text/plain": [
       "BigInt"
      ]
     },
     "execution_count": 18,
     "metadata": {},
     "output_type": "execute_result"
    }
   ],
   "source": [
    "typeof(ans)"
   ]
  },
  {
   "cell_type": "code",
   "execution_count": 19,
   "metadata": {
    "collapsed": false
   },
   "outputs": [
    {
     "data": {
      "text/plain": [
       "4.294967296000000000000000000000000000000000000000000000000000000000000000000000e+09"
      ]
     },
     "execution_count": 19,
     "metadata": {},
     "output_type": "execute_result"
    }
   ],
   "source": [
    "y=BigFloat(2.0^32)"
   ]
  },
  {
   "cell_type": "code",
   "execution_count": 20,
   "metadata": {
    "collapsed": false
   },
   "outputs": [
    {
     "data": {
      "text/plain": [
       "BigFloat"
      ]
     },
     "execution_count": 20,
     "metadata": {},
     "output_type": "execute_result"
    }
   ],
   "source": [
    "typeof(ans)"
   ]
  },
  {
   "cell_type": "code",
   "execution_count": 21,
   "metadata": {
    "collapsed": false
   },
   "outputs": [
    {
     "data": {
      "text/plain": [
       "6.277101735386680763835789423207666416102355444464034512896000000000000000000000e+57"
      ]
     },
     "execution_count": 21,
     "metadata": {},
     "output_type": "execute_result"
    }
   ],
   "source": [
    "y^6"
   ]
  },
  {
   "cell_type": "code",
   "execution_count": 22,
   "metadata": {
    "collapsed": false
   },
   "outputs": [
    {
     "name": "stdout",
     "output_type": "stream",
     "text": [
      "   Int8: [-128,127]\n",
      "  Int16: [-32768,32767]\n",
      "  Int32: [-2147483648,2147483647]\n",
      "  Int64: [-9223372036854775808,9223372036854775807]\n",
      " Int128: [-170141183460469231731687303715884105728,170141183460469231731687303715884105727]\n"
     ]
    }
   ],
   "source": [
    "for T = [Int8,Int16,Int32,Int64,Int128]\n",
    "    println(\"$(lpad(T,7)): [$(typemin(T)),$(typemax(T))]\")\n",
    "end"
   ]
  },
  {
   "cell_type": "code",
   "execution_count": 23,
   "metadata": {
    "collapsed": false
   },
   "outputs": [
    {
     "data": {
      "text/plain": [
       "85070591730234615865843651857942052864"
      ]
     },
     "execution_count": 23,
     "metadata": {},
     "output_type": "execute_result"
    }
   ],
   "source": [
    "x = Int128(2^63)\n",
    "x*x "
   ]
  },
  {
   "cell_type": "code",
   "execution_count": 24,
   "metadata": {
    "collapsed": false
   },
   "outputs": [
    {
     "data": {
      "text/plain": [
       "8.0"
      ]
     },
     "execution_count": 24,
     "metadata": {},
     "output_type": "execute_result"
    }
   ],
   "source": [
    "x=6\n",
    "y=2.0\n",
    "x+y"
   ]
  },
  {
   "cell_type": "code",
   "execution_count": 25,
   "metadata": {
    "collapsed": false
   },
   "outputs": [
    {
     "data": {
      "text/plain": [
       "3.0"
      ]
     },
     "execution_count": 25,
     "metadata": {},
     "output_type": "execute_result"
    }
   ],
   "source": [
    "x/y #6/2"
   ]
  },
  {
   "cell_type": "code",
   "execution_count": 26,
   "metadata": {
    "collapsed": false
   },
   "outputs": [
    {
     "data": {
      "text/plain": [
       "0.3333333333333333"
      ]
     },
     "execution_count": 26,
     "metadata": {},
     "output_type": "execute_result"
    }
   ],
   "source": [
    "x\\y #2/6"
   ]
  },
  {
   "cell_type": "code",
   "execution_count": 27,
   "metadata": {
    "collapsed": false
   },
   "outputs": [
    {
     "data": {
      "text/plain": [
       "12.0"
      ]
     },
     "execution_count": 27,
     "metadata": {},
     "output_type": "execute_result"
    }
   ],
   "source": [
    "x*y"
   ]
  },
  {
   "cell_type": "code",
   "execution_count": 28,
   "metadata": {
    "collapsed": false
   },
   "outputs": [
    {
     "data": {
      "text/plain": [
       "4.0"
      ]
     },
     "execution_count": 28,
     "metadata": {},
     "output_type": "execute_result"
    }
   ],
   "source": [
    "x-y"
   ]
  },
  {
   "cell_type": "code",
   "execution_count": 29,
   "metadata": {
    "collapsed": false
   },
   "outputs": [
    {
     "data": {
      "text/plain": [
       "36.0"
      ]
     },
     "execution_count": 29,
     "metadata": {},
     "output_type": "execute_result"
    }
   ],
   "source": [
    "x^y"
   ]
  },
  {
   "cell_type": "code",
   "execution_count": 30,
   "metadata": {
    "collapsed": false
   },
   "outputs": [
    {
     "data": {
      "text/plain": [
       "Float64"
      ]
     },
     "execution_count": 30,
     "metadata": {},
     "output_type": "execute_result"
    }
   ],
   "source": [
    "typeof(ans)"
   ]
  },
  {
   "cell_type": "code",
   "execution_count": 31,
   "metadata": {
    "collapsed": false
   },
   "outputs": [
    {
     "data": {
      "text/plain": [
       "false"
      ]
     },
     "execution_count": 31,
     "metadata": {},
     "output_type": "execute_result"
    }
   ],
   "source": [
    "2<2"
   ]
  },
  {
   "cell_type": "code",
   "execution_count": 32,
   "metadata": {
    "collapsed": false
   },
   "outputs": [
    {
     "data": {
      "text/plain": [
       "true"
      ]
     },
     "execution_count": 32,
     "metadata": {},
     "output_type": "execute_result"
    }
   ],
   "source": [
    "2<3"
   ]
  },
  {
   "cell_type": "code",
   "execution_count": 33,
   "metadata": {
    "collapsed": false
   },
   "outputs": [
    {
     "data": {
      "text/plain": [
       "true"
      ]
     },
     "execution_count": 33,
     "metadata": {},
     "output_type": "execute_result"
    }
   ],
   "source": [
    "2<=3"
   ]
  },
  {
   "cell_type": "code",
   "execution_count": 34,
   "metadata": {
    "collapsed": false
   },
   "outputs": [
    {
     "data": {
      "text/plain": [
       "Bool"
      ]
     },
     "execution_count": 34,
     "metadata": {},
     "output_type": "execute_result"
    }
   ],
   "source": [
    "typeof(ans)"
   ]
  },
  {
   "cell_type": "code",
   "execution_count": 35,
   "metadata": {
    "collapsed": false
   },
   "outputs": [
    {
     "data": {
      "text/plain": [
       "false"
      ]
     },
     "execution_count": 35,
     "metadata": {},
     "output_type": "execute_result"
    }
   ],
   "source": [
    "3 ∈ (1,2,4) #\\in"
   ]
  },
  {
   "cell_type": "markdown",
   "metadata": {},
   "source": [
    "## Funciones matemáticas"
   ]
  },
  {
   "cell_type": "code",
   "execution_count": 36,
   "metadata": {
    "collapsed": false
   },
   "outputs": [
    {
     "data": {
      "text/plain": [
       "π = 3.1415926535897..."
      ]
     },
     "execution_count": 36,
     "metadata": {},
     "output_type": "execute_result"
    }
   ],
   "source": [
    "α=pi"
   ]
  },
  {
   "cell_type": "code",
   "execution_count": 37,
   "metadata": {
    "collapsed": false
   },
   "outputs": [
    {
     "data": {
      "text/plain": [
       "π = 3.1415926535897..."
      ]
     },
     "execution_count": 37,
     "metadata": {},
     "output_type": "execute_result"
    }
   ],
   "source": [
    "π"
   ]
  },
  {
   "cell_type": "code",
   "execution_count": 38,
   "metadata": {
    "collapsed": false
   },
   "outputs": [
    {
     "data": {
      "text/plain": [
       "1.2246467991473532e-16"
      ]
     },
     "execution_count": 38,
     "metadata": {},
     "output_type": "execute_result"
    }
   ],
   "source": [
    "sin(π)"
   ]
  },
  {
   "cell_type": "code",
   "execution_count": 39,
   "metadata": {
    "collapsed": false
   },
   "outputs": [
    {
     "data": {
      "text/plain": [
       "-1.0"
      ]
     },
     "execution_count": 39,
     "metadata": {},
     "output_type": "execute_result"
    }
   ],
   "source": [
    "cos(π)"
   ]
  },
  {
   "cell_type": "code",
   "execution_count": 40,
   "metadata": {
    "collapsed": false
   },
   "outputs": [
    {
     "data": {
      "text/plain": [
       "11.548739357257748"
      ]
     },
     "execution_count": 40,
     "metadata": {},
     "output_type": "execute_result"
    }
   ],
   "source": [
    "sinh(π)"
   ]
  },
  {
   "cell_type": "code",
   "execution_count": 41,
   "metadata": {
    "collapsed": false
   },
   "outputs": [
    {
     "data": {
      "text/plain": [
       "0.0"
      ]
     },
     "execution_count": 41,
     "metadata": {},
     "output_type": "execute_result"
    }
   ],
   "source": [
    "acos(1)"
   ]
  },
  {
   "cell_type": "code",
   "execution_count": 42,
   "metadata": {
    "collapsed": false
   },
   "outputs": [
    {
     "data": {
      "text/plain": [
       "1.5707963267948966"
      ]
     },
     "execution_count": 42,
     "metadata": {},
     "output_type": "execute_result"
    }
   ],
   "source": [
    "asin(1)"
   ]
  },
  {
   "cell_type": "code",
   "execution_count": 43,
   "metadata": {
    "collapsed": false
   },
   "outputs": [
    {
     "data": {
      "text/plain": [
       "1.5707963267948966"
      ]
     },
     "execution_count": 43,
     "metadata": {},
     "output_type": "execute_result"
    }
   ],
   "source": [
    "π/2"
   ]
  },
  {
   "cell_type": "code",
   "execution_count": 44,
   "metadata": {
    "collapsed": false
   },
   "outputs": [
    {
     "data": {
      "text/plain": [
       "2 + 1im"
      ]
     },
     "execution_count": 44,
     "metadata": {},
     "output_type": "execute_result"
    }
   ],
   "source": [
    "2 + 1im"
   ]
  },
  {
   "cell_type": "code",
   "execution_count": 45,
   "metadata": {
    "collapsed": false
   },
   "outputs": [
    {
     "data": {
      "text/plain": [
       "2 + 1im"
      ]
     },
     "execution_count": 45,
     "metadata": {},
     "output_type": "execute_result"
    }
   ],
   "source": [
    "complex(2,1)"
   ]
  },
  {
   "cell_type": "code",
   "execution_count": 46,
   "metadata": {
    "collapsed": false
   },
   "outputs": [
    {
     "data": {
      "text/plain": [
       "0.0 + 3.141592653589793im"
      ]
     },
     "execution_count": 46,
     "metadata": {},
     "output_type": "execute_result"
    }
   ],
   "source": [
    "θ=complex(0,pi)"
   ]
  },
  {
   "cell_type": "code",
   "execution_count": 47,
   "metadata": {
    "collapsed": false
   },
   "outputs": [
    {
     "data": {
      "text/plain": [
       "-1.0 + 1.2246467991473532e-16im"
      ]
     },
     "execution_count": 47,
     "metadata": {},
     "output_type": "execute_result"
    }
   ],
   "source": [
    "e^(θ)"
   ]
  },
  {
   "cell_type": "code",
   "execution_count": 48,
   "metadata": {
    "collapsed": false
   },
   "outputs": [
    {
     "data": {
      "text/plain": [
       "Complex{Float64}"
      ]
     },
     "execution_count": 48,
     "metadata": {},
     "output_type": "execute_result"
    }
   ],
   "source": [
    "typeof(ans)"
   ]
  },
  {
   "cell_type": "code",
   "execution_count": 49,
   "metadata": {
    "collapsed": false
   },
   "outputs": [
    {
     "data": {
      "text/plain": [
       "1.1447298858494002 + 1.5707963267948966im"
      ]
     },
     "execution_count": 49,
     "metadata": {},
     "output_type": "execute_result"
    }
   ],
   "source": [
    "log(θ)"
   ]
  },
  {
   "cell_type": "markdown",
   "metadata": {},
   "source": [
    "## Strings"
   ]
  },
  {
   "cell_type": "code",
   "execution_count": 50,
   "metadata": {
    "collapsed": false
   },
   "outputs": [
    {
     "data": {
      "text/plain": [
       "\"Hola \""
      ]
     },
     "execution_count": 50,
     "metadata": {},
     "output_type": "execute_result"
    }
   ],
   "source": [
    "frase=\"Hola \""
   ]
  },
  {
   "cell_type": "code",
   "execution_count": 51,
   "metadata": {
    "collapsed": false
   },
   "outputs": [
    {
     "data": {
      "text/plain": [
       "\", buenos dias mi nombre es Francisco\""
      ]
     },
     "execution_count": 51,
     "metadata": {},
     "output_type": "execute_result"
    }
   ],
   "source": [
    "nombre=\"Francisco\"\n",
    "saludo=\", buenos dias mi nombre es $nombre\""
   ]
  },
  {
   "cell_type": "code",
   "execution_count": 52,
   "metadata": {
    "collapsed": false
   },
   "outputs": [
    {
     "ename": "LoadError",
     "evalue": "LoadError: MethodError: `+` has no method matching +(::ASCIIString, ::ASCIIString)\nClosest candidates are:\n  +(::Any, ::Any, !Matched::Any, !Matched::Any...)\nwhile loading In[52], in expression starting on line 1",
     "output_type": "error",
     "traceback": [
      "LoadError: MethodError: `+` has no method matching +(::ASCIIString, ::ASCIIString)\nClosest candidates are:\n  +(::Any, ::Any, !Matched::Any, !Matched::Any...)\nwhile loading In[52], in expression starting on line 1",
      ""
     ]
    }
   ],
   "source": [
    "saludo_mañana=frase+saludo"
   ]
  },
  {
   "cell_type": "code",
   "execution_count": 53,
   "metadata": {
    "collapsed": false
   },
   "outputs": [
    {
     "data": {
      "text/plain": [
       "\"Hola , buenos dias mi nombre es Francisco\""
      ]
     },
     "execution_count": 53,
     "metadata": {},
     "output_type": "execute_result"
    }
   ],
   "source": [
    "saludo_mañana=frase * saludo"
   ]
  },
  {
   "cell_type": "code",
   "execution_count": 54,
   "metadata": {
    "collapsed": false
   },
   "outputs": [
    {
     "data": {
      "text/plain": [
       "ASCIIString"
      ]
     },
     "execution_count": 54,
     "metadata": {},
     "output_type": "execute_result"
    }
   ],
   "source": [
    "typeof(ans)"
   ]
  },
  {
   "cell_type": "code",
   "execution_count": 55,
   "metadata": {
    "collapsed": false
   },
   "outputs": [
    {
     "data": {
      "text/plain": [
       "\"Hola Hola Hola \""
      ]
     },
     "execution_count": 55,
     "metadata": {},
     "output_type": "execute_result"
    }
   ],
   "source": [
    "frase^3"
   ]
  },
  {
   "cell_type": "code",
   "execution_count": 56,
   "metadata": {
    "collapsed": false
   },
   "outputs": [
    {
     "data": {
      "text/plain": [
       "'H'"
      ]
     },
     "execution_count": 56,
     "metadata": {},
     "output_type": "execute_result"
    }
   ],
   "source": [
    "frase[1]"
   ]
  },
  {
   "cell_type": "code",
   "execution_count": 57,
   "metadata": {
    "collapsed": false
   },
   "outputs": [
    {
     "data": {
      "text/plain": [
       "5"
      ]
     },
     "execution_count": 57,
     "metadata": {},
     "output_type": "execute_result"
    }
   ],
   "source": [
    "length(frase)"
   ]
  },
  {
   "cell_type": "code",
   "execution_count": 58,
   "metadata": {
    "collapsed": false
   },
   "outputs": [
    {
     "name": "stdout",
     "output_type": "stream",
     "text": [
      "H-o-l-a- -  0.012679 seconds (4.90 k allocations: 257.456 KB)\n"
     ]
    }
   ],
   "source": [
    "@time for i=1:length(frase)\n",
    "    print(frase[i],\"-\")\n",
    "end"
   ]
  },
  {
   "cell_type": "code",
   "execution_count": 59,
   "metadata": {
    "collapsed": false
   },
   "outputs": [
    {
     "data": {
      "text/plain": [
       "\"Hola \""
      ]
     },
     "execution_count": 59,
     "metadata": {},
     "output_type": "execute_result"
    }
   ],
   "source": [
    "frase[1:end]"
   ]
  },
  {
   "cell_type": "code",
   "execution_count": 60,
   "metadata": {
    "collapsed": false
   },
   "outputs": [
    {
     "data": {
      "text/plain": [
       "\"Ho\""
      ]
     },
     "execution_count": 60,
     "metadata": {},
     "output_type": "execute_result"
    }
   ],
   "source": [
    "frase[1:2]"
   ]
  },
  {
   "cell_type": "code",
   "execution_count": 61,
   "metadata": {
    "collapsed": false
   },
   "outputs": [
    {
     "data": {
      "text/plain": [
       "\"la \""
      ]
     },
     "execution_count": 61,
     "metadata": {},
     "output_type": "execute_result"
    }
   ],
   "source": [
    "frase[3:end]"
   ]
  },
  {
   "cell_type": "code",
   "execution_count": 62,
   "metadata": {
    "collapsed": false
   },
   "outputs": [
    {
     "data": {
      "text/plain": [
       "\"Hl \""
      ]
     },
     "execution_count": 62,
     "metadata": {},
     "output_type": "execute_result"
    }
   ],
   "source": [
    "frase[1:2:end]"
   ]
  },
  {
   "cell_type": "code",
   "execution_count": 63,
   "metadata": {
    "collapsed": false
   },
   "outputs": [
    {
     "data": {
      "text/plain": [
       "\"Ha\""
      ]
     },
     "execution_count": 63,
     "metadata": {},
     "output_type": "execute_result"
    }
   ],
   "source": [
    "frase[1:3:end]"
   ]
  },
  {
   "cell_type": "code",
   "execution_count": 64,
   "metadata": {
    "collapsed": false
   },
   "outputs": [
    {
     "data": {
      "text/plain": [
       "\" aloH\""
      ]
     },
     "execution_count": 64,
     "metadata": {},
     "output_type": "execute_result"
    }
   ],
   "source": [
    "frase[end:-1:1]"
   ]
  },
  {
   "cell_type": "code",
   "execution_count": 65,
   "metadata": {
    "collapsed": false
   },
   "outputs": [
    {
     "data": {
      "text/plain": [
       "\" lH\""
      ]
     },
     "execution_count": 65,
     "metadata": {},
     "output_type": "execute_result"
    }
   ],
   "source": [
    "frase[end:-2:1]"
   ]
  },
  {
   "cell_type": "code",
   "execution_count": 66,
   "metadata": {
    "collapsed": false
   },
   "outputs": [
    {
     "data": {
      "text/plain": [
       "'A'"
      ]
     },
     "execution_count": 66,
     "metadata": {},
     "output_type": "execute_result"
    }
   ],
   "source": [
    "c='A'"
   ]
  },
  {
   "cell_type": "code",
   "execution_count": 67,
   "metadata": {
    "collapsed": false
   },
   "outputs": [
    {
     "data": {
      "text/plain": [
       "'A'"
      ]
     },
     "execution_count": 67,
     "metadata": {},
     "output_type": "execute_result"
    }
   ],
   "source": [
    "c=Char(65)"
   ]
  },
  {
   "cell_type": "code",
   "execution_count": 68,
   "metadata": {
    "collapsed": false
   },
   "outputs": [
    {
     "data": {
      "text/plain": [
       "'A'"
      ]
     },
     "execution_count": 68,
     "metadata": {},
     "output_type": "execute_result"
    }
   ],
   "source": [
    "c='\\U0041'"
   ]
  },
  {
   "cell_type": "markdown",
   "metadata": {},
   "source": [
    "## Arreglos"
   ]
  },
  {
   "cell_type": "code",
   "execution_count": 69,
   "metadata": {
    "collapsed": false
   },
   "outputs": [
    {
     "data": {
      "text/plain": [
       "3-element Array{Int64,1}:\n",
       " 1\n",
       " 2\n",
       " 3"
      ]
     },
     "execution_count": 69,
     "metadata": {},
     "output_type": "execute_result"
    }
   ],
   "source": [
    "A=[1,2,3] #Estructura de datos de una dimensión"
   ]
  },
  {
   "cell_type": "code",
   "execution_count": 70,
   "metadata": {
    "collapsed": false
   },
   "outputs": [
    {
     "data": {
      "text/plain": [
       "1x3 Array{Int64,2}:\n",
       " 1  2  3"
      ]
     },
     "execution_count": 70,
     "metadata": {},
     "output_type": "execute_result"
    }
   ],
   "source": [
    "B=[1 2 3] #Matriz"
   ]
  },
  {
   "cell_type": "code",
   "execution_count": 71,
   "metadata": {
    "collapsed": false
   },
   "outputs": [
    {
     "data": {
      "text/plain": [
       "2x3 Array{Int64,2}:\n",
       " 1  2  3\n",
       " 4  5  6"
      ]
     },
     "execution_count": 71,
     "metadata": {},
     "output_type": "execute_result"
    }
   ],
   "source": [
    "BB=[1 2 3; 4 5 6]"
   ]
  },
  {
   "cell_type": "code",
   "execution_count": 72,
   "metadata": {
    "collapsed": false
   },
   "outputs": [
    {
     "name": "stderr",
     "output_type": "stream",
     "text": [
      "WARNING: [a] concatenation is deprecated; use collect(a) instead\n",
      " in depwarn at deprecated.jl:73\n",
      " in oldstyle_vcat_warning at /Applications/Julia-0.4.3 2.app/Contents/Resources/julia/lib/julia/sys.dylib\n",
      " in vect at abstractarray.jl:32\n",
      " in include_string at loading.jl:266\n",
      " in execute_request_0x535c5df2 at /Users/fratava/.julia/v0.4/IJulia/src/execute_request.jl:182\n",
      " in eventloop at /Users/fratava/.julia/v0.4/IJulia/src/IJulia.jl:142\n",
      " in anonymous at task.jl:447\n",
      "while loading In[72], in expression starting on line 1\n"
     ]
    },
    {
     "data": {
      "text/plain": [
       "11-element Array{Float64,1}:\n",
       " 1.0\n",
       " 1.1\n",
       " 1.2\n",
       " 1.3\n",
       " 1.4\n",
       " 1.5\n",
       " 1.6\n",
       " 1.7\n",
       " 1.8\n",
       " 1.9\n",
       " 2.0"
      ]
     },
     "execution_count": 72,
     "metadata": {},
     "output_type": "execute_result"
    }
   ],
   "source": [
    "c=[1:0.1:2]"
   ]
  },
  {
   "cell_type": "code",
   "execution_count": 73,
   "metadata": {
    "collapsed": false
   },
   "outputs": [
    {
     "data": {
      "text/plain": [
       "10-element Array{Int64,1}:\n",
       "  1\n",
       "  2\n",
       "  3\n",
       "  4\n",
       "  5\n",
       "  6\n",
       "  7\n",
       "  8\n",
       "  9\n",
       " 10"
      ]
     },
     "execution_count": 73,
     "metadata": {},
     "output_type": "execute_result"
    }
   ],
   "source": [
    "D=[1:10]"
   ]
  },
  {
   "cell_type": "code",
   "execution_count": 74,
   "metadata": {
    "collapsed": false
   },
   "outputs": [
    {
     "data": {
      "text/plain": [
       "2-element Array{Float64,1}:\n",
       " 0.0\n",
       " 0.0"
      ]
     },
     "execution_count": 74,
     "metadata": {},
     "output_type": "execute_result"
    }
   ],
   "source": [
    "E=zeros(2)"
   ]
  },
  {
   "cell_type": "code",
   "execution_count": 75,
   "metadata": {
    "collapsed": false
   },
   "outputs": [
    {
     "data": {
      "text/plain": [
       "2x2 Array{Float64,2}:\n",
       " 0.0  0.0\n",
       " 0.0  0.0"
      ]
     },
     "execution_count": 75,
     "metadata": {},
     "output_type": "execute_result"
    }
   ],
   "source": [
    "EE=zeros(2,2)"
   ]
  },
  {
   "cell_type": "code",
   "execution_count": 76,
   "metadata": {
    "collapsed": false
   },
   "outputs": [
    {
     "data": {
      "text/plain": [
       "2x2 Array{Float64,2}:\n",
       " 1.0  0.0\n",
       " 0.0  1.0"
      ]
     },
     "execution_count": 76,
     "metadata": {},
     "output_type": "execute_result"
    }
   ],
   "source": [
    "Identidad=eye(2,2)"
   ]
  },
  {
   "cell_type": "code",
   "execution_count": 77,
   "metadata": {
    "collapsed": false
   },
   "outputs": [
    {
     "data": {
      "text/plain": [
       "2x2 Array{Float64,2}:\n",
       " 1.0  1.0\n",
       " 1.0  1.0"
      ]
     },
     "execution_count": 77,
     "metadata": {},
     "output_type": "execute_result"
    }
   ],
   "source": [
    "EEE=ones(2,2)"
   ]
  },
  {
   "cell_type": "code",
   "execution_count": 78,
   "metadata": {
    "collapsed": false
   },
   "outputs": [
    {
     "data": {
      "text/plain": [
       "2x2 Array{Int64,2}:\n",
       " 2  1\n",
       " 2  1"
      ]
     },
     "execution_count": 78,
     "metadata": {},
     "output_type": "execute_result"
    }
   ],
   "source": [
    "EEEE=rand(1:3,2,2)"
   ]
  },
  {
   "cell_type": "code",
   "execution_count": 79,
   "metadata": {
    "collapsed": false
   },
   "outputs": [
    {
     "data": {
      "text/plain": [
       "0-element Array{Int64,1}"
      ]
     },
     "execution_count": 79,
     "metadata": {},
     "output_type": "execute_result"
    }
   ],
   "source": [
    "A=Int64[]"
   ]
  },
  {
   "cell_type": "code",
   "execution_count": 80,
   "metadata": {
    "collapsed": false
   },
   "outputs": [
    {
     "data": {
      "text/plain": [
       "1-element Array{Int64,1}:\n",
       " 1"
      ]
     },
     "execution_count": 80,
     "metadata": {},
     "output_type": "execute_result"
    }
   ],
   "source": [
    "push!(A,1)"
   ]
  },
  {
   "cell_type": "code",
   "execution_count": 81,
   "metadata": {
    "collapsed": false
   },
   "outputs": [
    {
     "data": {
      "text/plain": [
       "2-element Array{Int64,1}:\n",
       " 1\n",
       " 2"
      ]
     },
     "execution_count": 81,
     "metadata": {},
     "output_type": "execute_result"
    }
   ],
   "source": [
    "push!(A,2)"
   ]
  },
  {
   "cell_type": "code",
   "execution_count": 82,
   "metadata": {
    "collapsed": false
   },
   "outputs": [
    {
     "data": {
      "text/plain": [
       "3-element Array{Int64,1}:\n",
       " 1\n",
       " 2\n",
       " 3"
      ]
     },
     "execution_count": 82,
     "metadata": {},
     "output_type": "execute_result"
    }
   ],
   "source": [
    "push!(A,3)"
   ]
  },
  {
   "cell_type": "code",
   "execution_count": 83,
   "metadata": {
    "collapsed": false
   },
   "outputs": [
    {
     "data": {
      "text/plain": [
       "3"
      ]
     },
     "execution_count": 83,
     "metadata": {},
     "output_type": "execute_result"
    }
   ],
   "source": [
    "pop!(A)"
   ]
  },
  {
   "cell_type": "code",
   "execution_count": 84,
   "metadata": {
    "collapsed": false
   },
   "outputs": [
    {
     "data": {
      "text/plain": [
       "2"
      ]
     },
     "execution_count": 84,
     "metadata": {},
     "output_type": "execute_result"
    }
   ],
   "source": [
    "pop!(A)"
   ]
  },
  {
   "cell_type": "code",
   "execution_count": 85,
   "metadata": {
    "collapsed": false
   },
   "outputs": [
    {
     "data": {
      "text/plain": [
       "1-element Array{Int64,1}:\n",
       " 1"
      ]
     },
     "execution_count": 85,
     "metadata": {},
     "output_type": "execute_result"
    }
   ],
   "source": [
    "A"
   ]
  },
  {
   "cell_type": "code",
   "execution_count": 86,
   "metadata": {
    "collapsed": false
   },
   "outputs": [
    {
     "data": {
      "text/plain": [
       "2x3 Array{Int64,2}:\n",
       " 1  2  3\n",
       " 4  5  6"
      ]
     },
     "execution_count": 86,
     "metadata": {},
     "output_type": "execute_result"
    }
   ],
   "source": [
    "BB"
   ]
  },
  {
   "cell_type": "code",
   "execution_count": 87,
   "metadata": {
    "collapsed": false
   },
   "outputs": [
    {
     "data": {
      "text/plain": [
       "2"
      ]
     },
     "execution_count": 87,
     "metadata": {},
     "output_type": "execute_result"
    }
   ],
   "source": [
    "BB[1,2]"
   ]
  },
  {
   "cell_type": "code",
   "execution_count": 88,
   "metadata": {
    "collapsed": false
   },
   "outputs": [
    {
     "data": {
      "text/plain": [
       "2-element Array{Int64,1}:\n",
       " 1\n",
       " 4"
      ]
     },
     "execution_count": 88,
     "metadata": {},
     "output_type": "execute_result"
    }
   ],
   "source": [
    "BB[:,1]"
   ]
  },
  {
   "cell_type": "code",
   "execution_count": 89,
   "metadata": {
    "collapsed": false
   },
   "outputs": [
    {
     "data": {
      "text/plain": [
       "1x3 Array{Int64,2}:\n",
       " 1  2  3"
      ]
     },
     "execution_count": 89,
     "metadata": {},
     "output_type": "execute_result"
    }
   ],
   "source": [
    "BB[1,:]"
   ]
  },
  {
   "cell_type": "code",
   "execution_count": 90,
   "metadata": {
    "collapsed": false
   },
   "outputs": [
    {
     "data": {
      "text/plain": [
       "5x5 Array{Int64,2}:\n",
       " 2  2  2  2  1\n",
       " 1  1  1  1  2\n",
       " 2  1  1  2  1\n",
       " 1  1  2  2  2\n",
       " 1  1  1  2  1"
      ]
     },
     "execution_count": 90,
     "metadata": {},
     "output_type": "execute_result"
    }
   ],
   "source": [
    "BBB=rand(1:2,5,5)"
   ]
  },
  {
   "cell_type": "code",
   "execution_count": 91,
   "metadata": {
    "collapsed": false
   },
   "outputs": [
    {
     "data": {
      "text/plain": [
       "2x3 Array{Int64,2}:\n",
       " 2  2  2\n",
       " 1  1  1"
      ]
     },
     "execution_count": 91,
     "metadata": {},
     "output_type": "execute_result"
    }
   ],
   "source": [
    "BBB[1:2,1:3]"
   ]
  },
  {
   "cell_type": "code",
   "execution_count": 92,
   "metadata": {
    "collapsed": false
   },
   "outputs": [
    {
     "data": {
      "text/plain": [
       "3x2 Array{Int64,2}:\n",
       " 2  2\n",
       " 1  1\n",
       " 2  1"
      ]
     },
     "execution_count": 92,
     "metadata": {},
     "output_type": "execute_result"
    }
   ],
   "source": [
    "BBB[1:3,1:2]"
   ]
  },
  {
   "cell_type": "code",
   "execution_count": 93,
   "metadata": {
    "collapsed": false
   },
   "outputs": [
    {
     "data": {
      "text/plain": [
       "5x5 Array{Int64,2}:\n",
       " 2  1  2  1  1\n",
       " 2  1  1  1  1\n",
       " 2  1  1  2  1\n",
       " 2  1  2  2  2\n",
       " 1  2  1  2  1"
      ]
     },
     "execution_count": 93,
     "metadata": {},
     "output_type": "execute_result"
    }
   ],
   "source": [
    "T=transpose(BBB)"
   ]
  },
  {
   "cell_type": "code",
   "execution_count": 94,
   "metadata": {
    "collapsed": false
   },
   "outputs": [
    {
     "data": {
      "text/plain": [
       "5x5 Array{Int64,2}:\n",
       " 4  3  4  3  2\n",
       " 3  2  2  2  3\n",
       " 4  2  2  4  2\n",
       " 3  2  4  4  4\n",
       " 2  3  2  4  2"
      ]
     },
     "execution_count": 94,
     "metadata": {},
     "output_type": "execute_result"
    }
   ],
   "source": [
    "BBB+T"
   ]
  },
  {
   "cell_type": "code",
   "execution_count": 95,
   "metadata": {
    "collapsed": false
   },
   "outputs": [
    {
     "data": {
      "text/plain": [
       "5x5 Array{Int64,2}:\n",
       " 17  10  13  14  11\n",
       " 10   8   8  10   7\n",
       " 13   8  11  11   9\n",
       " 14  10  11  14  10\n",
       " 11   7   9  10   8"
      ]
     },
     "execution_count": 95,
     "metadata": {},
     "output_type": "execute_result"
    }
   ],
   "source": [
    "BBB*T"
   ]
  },
  {
   "cell_type": "code",
   "execution_count": 96,
   "metadata": {
    "collapsed": false
   },
   "outputs": [
    {
     "data": {
      "text/plain": [
       "2x2 Array{Int64,2}:\n",
       " 1  2\n",
       " 3  4"
      ]
     },
     "execution_count": 96,
     "metadata": {},
     "output_type": "execute_result"
    }
   ],
   "source": [
    "A=[1 2;3 4]"
   ]
  },
  {
   "cell_type": "code",
   "execution_count": 97,
   "metadata": {
    "collapsed": false
   },
   "outputs": [
    {
     "data": {
      "text/plain": [
       "2x2 Array{Int64,2}:\n",
       " 5  6\n",
       " 7  8"
      ]
     },
     "execution_count": 97,
     "metadata": {},
     "output_type": "execute_result"
    }
   ],
   "source": [
    "B=[5 6;7 8]"
   ]
  },
  {
   "cell_type": "code",
   "execution_count": 98,
   "metadata": {
    "collapsed": false
   },
   "outputs": [
    {
     "data": {
      "text/plain": [
       "2x2 Array{Int64,2}:\n",
       "  5  12\n",
       " 21  32"
      ]
     },
     "execution_count": 98,
     "metadata": {},
     "output_type": "execute_result"
    }
   ],
   "source": [
    "A.*B"
   ]
  },
  {
   "cell_type": "code",
   "execution_count": 99,
   "metadata": {
    "collapsed": false
   },
   "outputs": [
    {
     "data": {
      "text/plain": [
       "2x2 Array{Float64,2}:\n",
       " 0.2       0.333333\n",
       " 0.428571  0.5     "
      ]
     },
     "execution_count": 99,
     "metadata": {},
     "output_type": "execute_result"
    }
   ],
   "source": [
    "A./B"
   ]
  },
  {
   "cell_type": "code",
   "execution_count": 100,
   "metadata": {
    "collapsed": false
   },
   "outputs": [
    {
     "data": {
      "text/plain": [
       "2x2 BitArray{2}:\n",
       " false  false\n",
       " false  false"
      ]
     },
     "execution_count": 100,
     "metadata": {},
     "output_type": "execute_result"
    }
   ],
   "source": [
    "A.==B"
   ]
  },
  {
   "cell_type": "code",
   "execution_count": 101,
   "metadata": {
    "collapsed": false
   },
   "outputs": [
    {
     "data": {
      "text/plain": [
       "2x2 Array{Float64,2}:\n",
       " -2.0   1.0\n",
       "  1.5  -0.5"
      ]
     },
     "execution_count": 101,
     "metadata": {},
     "output_type": "execute_result"
    }
   ],
   "source": [
    "inv(A)"
   ]
  },
  {
   "cell_type": "code",
   "execution_count": 102,
   "metadata": {
    "collapsed": false
   },
   "outputs": [
    {
     "data": {
      "text/plain": [
       "5"
      ]
     },
     "execution_count": 102,
     "metadata": {},
     "output_type": "execute_result"
    }
   ],
   "source": [
    "trace(A)"
   ]
  },
  {
   "cell_type": "code",
   "execution_count": 103,
   "metadata": {
    "collapsed": false
   },
   "outputs": [
    {
     "data": {
      "text/plain": [
       "26"
      ]
     },
     "execution_count": 103,
     "metadata": {},
     "output_type": "execute_result"
    }
   ],
   "source": [
    "v1=[1,2,3]\n",
    "v2=[3,4,5]\n",
    "\n",
    "dot(v1,v2)"
   ]
  },
  {
   "cell_type": "markdown",
   "metadata": {},
   "source": [
    "## Funciones"
   ]
  },
  {
   "cell_type": "code",
   "execution_count": 104,
   "metadata": {
    "collapsed": false
   },
   "outputs": [
    {
     "data": {
      "text/plain": [
       "f (generic function with 1 method)"
      ]
     },
     "execution_count": 104,
     "metadata": {},
     "output_type": "execute_result"
    }
   ],
   "source": [
    "f(x)=x^2"
   ]
  },
  {
   "cell_type": "code",
   "execution_count": 105,
   "metadata": {
    "collapsed": false
   },
   "outputs": [
    {
     "data": {
      "text/plain": [
       "9"
      ]
     },
     "execution_count": 105,
     "metadata": {},
     "output_type": "execute_result"
    }
   ],
   "source": [
    "f(3)"
   ]
  },
  {
   "cell_type": "code",
   "execution_count": 106,
   "metadata": {
    "collapsed": false
   },
   "outputs": [
    {
     "data": {
      "text/plain": [
       "g (generic function with 1 method)"
      ]
     },
     "execution_count": 106,
     "metadata": {},
     "output_type": "execute_result"
    }
   ],
   "source": [
    "g(x::Array)=x.^2"
   ]
  },
  {
   "cell_type": "code",
   "execution_count": 107,
   "metadata": {
    "collapsed": false
   },
   "outputs": [
    {
     "data": {
      "text/plain": [
       "1x3 Array{Int64,2}:\n",
       " 10  20  30"
      ]
     },
     "execution_count": 107,
     "metadata": {},
     "output_type": "execute_result"
    }
   ],
   "source": [
    "x=[10 20 30]"
   ]
  },
  {
   "cell_type": "code",
   "execution_count": 108,
   "metadata": {
    "collapsed": false
   },
   "outputs": [
    {
     "data": {
      "text/plain": [
       "1x3 Array{Int64,2}:\n",
       " 100  400  900"
      ]
     },
     "execution_count": 108,
     "metadata": {},
     "output_type": "execute_result"
    }
   ],
   "source": [
    "g(x)"
   ]
  },
  {
   "cell_type": "code",
   "execution_count": 109,
   "metadata": {
    "collapsed": false
   },
   "outputs": [
    {
     "ename": "LoadError",
     "evalue": "LoadError: MethodError: `g` has no method matching g(::Int64)\nwhile loading In[109], in expression starting on line 1",
     "output_type": "error",
     "traceback": [
      "LoadError: MethodError: `g` has no method matching g(::Int64)\nwhile loading In[109], in expression starting on line 1",
      ""
     ]
    }
   ],
   "source": [
    "g(2)"
   ]
  },
  {
   "cell_type": "code",
   "execution_count": 110,
   "metadata": {
    "collapsed": false
   },
   "outputs": [
    {
     "data": {
      "text/plain": [
       "h (generic function with 1 method)"
      ]
     },
     "execution_count": 110,
     "metadata": {},
     "output_type": "execute_result"
    }
   ],
   "source": [
    "function h(x::Array,n::Int64)\n",
    "    return Y=x.^n\n",
    "end "
   ]
  },
  {
   "cell_type": "code",
   "execution_count": 111,
   "metadata": {
    "collapsed": false
   },
   "outputs": [
    {
     "data": {
      "text/plain": [
       "1x3 Array{Int64,2}:\n",
       " 100  400  900"
      ]
     },
     "execution_count": 111,
     "metadata": {},
     "output_type": "execute_result"
    }
   ],
   "source": [
    "n=2\n",
    " \n",
    "h(x,2)"
   ]
  },
  {
   "cell_type": "code",
   "execution_count": 112,
   "metadata": {
    "collapsed": false
   },
   "outputs": [
    {
     "data": {
      "text/plain": [
       "l (generic function with 1 method)"
      ]
     },
     "execution_count": 112,
     "metadata": {},
     "output_type": "execute_result"
    }
   ],
   "source": [
    "function l(x::Array,n::Int64)\n",
    "    for j in enumerate(x)\n",
    "        println(\"$j\")\n",
    "    end\n",
    "end "
   ]
  },
  {
   "cell_type": "code",
   "execution_count": 113,
   "metadata": {
    "collapsed": false
   },
   "outputs": [
    {
     "name": "stdout",
     "output_type": "stream",
     "text": [
      "(1,10)\n",
      "(2,20)\n",
      "(3,30)\n"
     ]
    }
   ],
   "source": [
    "funcion_l=l(x,2)"
   ]
  },
  {
   "cell_type": "code",
   "execution_count": 114,
   "metadata": {
    "collapsed": false
   },
   "outputs": [
    {
     "data": {
      "text/plain": [
       "Void"
      ]
     },
     "execution_count": 114,
     "metadata": {},
     "output_type": "execute_result"
    }
   ],
   "source": [
    "typeof(funcion_l)"
   ]
  },
  {
   "cell_type": "code",
   "execution_count": 115,
   "metadata": {
    "collapsed": false
   },
   "outputs": [
    {
     "ename": "LoadError",
     "evalue": "LoadError: MethodError: `getindex` has no method matching getindex(::Void, ::Int64)\nwhile loading In[115], in expression starting on line 1",
     "output_type": "error",
     "traceback": [
      "LoadError: MethodError: `getindex` has no method matching getindex(::Void, ::Int64)\nwhile loading In[115], in expression starting on line 1",
      ""
     ]
    }
   ],
   "source": [
    "funcion_l[1]"
   ]
  },
  {
   "cell_type": "markdown",
   "metadata": {},
   "source": [
    "## Loops y condicionales"
   ]
  },
  {
   "cell_type": "code",
   "execution_count": 116,
   "metadata": {
    "collapsed": false
   },
   "outputs": [
    {
     "name": "stdout",
     "output_type": "stream",
     "text": [
      "1\n",
      "2\n",
      "3\n",
      "4\n",
      "5\n"
     ]
    }
   ],
   "source": [
    "R = 1:5\n",
    "for i in R\n",
    "    println(i)\n",
    "end"
   ]
  },
  {
   "cell_type": "code",
   "execution_count": 117,
   "metadata": {
    "collapsed": false
   },
   "outputs": [
    {
     "data": {
      "text/plain": [
       "5-element Array{Int64,1}:\n",
       " 1\n",
       " 2\n",
       " 3\n",
       " 4\n",
       " 5"
      ]
     },
     "execution_count": 117,
     "metadata": {},
     "output_type": "execute_result"
    }
   ],
   "source": [
    "v = collect(1:5)"
   ]
  },
  {
   "cell_type": "code",
   "execution_count": 118,
   "metadata": {
    "collapsed": false
   },
   "outputs": [
    {
     "name": "stdout",
     "output_type": "stream",
     "text": [
      "1 % 2 no es igual a 0\n",
      "2\n",
      "*\n",
      "4\n",
      "5 % 2 no es igual a 0\n"
     ]
    }
   ],
   "source": [
    "for i=1:length(R)\n",
    "    if i%2==0\n",
    "        println(i)\n",
    "        elseif(i==3)    \n",
    "            println(\"*\")    \n",
    "    else\n",
    "        println(\"$i % 2 no es igual a 0\")\n",
    "    end\n",
    "end"
   ]
  },
  {
   "cell_type": "markdown",
   "metadata": {},
   "source": [
    "## Graficando"
   ]
  },
  {
   "cell_type": "code",
   "execution_count": 119,
   "metadata": {
    "collapsed": false
   },
   "outputs": [],
   "source": [
    "#Pkg.add(\"PyPlot\")\n",
    "#Pkg.add(\"Gadfly\")\n",
    "#Pkg.add(\"Winston\")\n",
    "\n",
    "using PyPlot"
   ]
  },
  {
   "cell_type": "code",
   "execution_count": 120,
   "metadata": {
    "collapsed": false
   },
   "outputs": [
    {
     "data": {
      "image/png": "[encoded data removed]",
      "text/plain": [
       "PyPlot.Figure(PyObject <matplotlib.figure.Figure object at 0x316530190>)"
      ]
     },
     "metadata": {},
     "output_type": "display_data"
    }
   ],
   "source": [
    "x=linspace(-pi,pi,1000)\n",
    "\n",
    "titulo=\"Sin(x)\"\n",
    "\n",
    "plot(x,sin(x))\n",
    "title(titulo)\n",
    "xlabel=(\"x\")\n",
    "ylabel=(\"sin(x)\")\n",
    "grid()"
   ]
  },
  {
   "cell_type": "code",
   "execution_count": 126,
   "metadata": {
    "collapsed": false
   },
   "outputs": [
    {
     "data": {
      "image/png": "[encoded data removed]",
      "text/plain": [
       "PyPlot.Figure(PyObject <matplotlib.figure.Figure object at 0x31688d090>)"
      ]
     },
     "metadata": {},
     "output_type": "display_data"
    }
   ],
   "source": [
    "waves(x::Float64, y::Float64) = sin(x) * cos(y)\n",
    "\n",
    "xs = linspace(-2.0, 2.0)\n",
    "ys = linspace(-2.0, 2.0)\n",
    "\n",
    "zs = [waves(x, y) for x in xs, y in ys]\n",
    "surf(xs, ys, zs, cmap=\"bone\");"
   ]
  },
  {
   "cell_type": "code",
   "execution_count": 127,
   "metadata": {
    "collapsed": false
   },
   "outputs": [
    {
     "data": {
      "image/png": "[encoded data removed]",
      "text/plain": [
       "PyPlot.Figure(PyObject <matplotlib.figure.Figure object at 0x3165306d0>)"
      ]
     },
     "metadata": {},
     "output_type": "display_data"
    }
   ],
   "source": [
    "f(x, y) = (1 - x^2) + (y - x^2)^2\n",
    "xs = linspace(-2, 2)\n",
    "ys = linspace(-1, 3)\n",
    "zs = [f(x,y) for x in xs, y in ys];\n",
    "\n",
    "surf(xs, ys, zs, cmap=\"Spectral_r\");"
   ]
  },
  {
   "cell_type": "code",
   "execution_count": 123,
   "metadata": {
    "collapsed": true
   },
   "outputs": [],
   "source": [
    "#workspace()"
   ]
  },
  {
   "cell_type": "code",
   "execution_count": 124,
   "metadata": {
    "collapsed": false
   },
   "outputs": [
    {
     "name": "stderr",
     "output_type": "stream",
     "text": [
      "WARNING: using Gadfly.plot in module Main conflicts with an existing identifier.\n"
     ]
    },
    {
     "data": {
      "image/png": "[encoded data removed]",
      "image/svg+xml": [
       "<?xml version=\"1.0\" encoding=\"UTF-8\"?>\n",
       "<svg xmlns=\"http://www.w3.org/2000/svg\"\n",
       "     xmlns:xlink=\"http://www.w3.org/1999/xlink\"\n",
       "     xmlns:gadfly=\"http://www.gadflyjl.org/ns\"\n",
       "     version=\"1.2\"\n",
       "     width=\"141.42mm\" height=\"100mm\" viewBox=\"0 0 141.42 100\"\n",
       "     stroke=\"none\"\n",
       "     fill=\"#000000\"\n",
       "     stroke-width=\"0.3\"\n",
       "     font-size=\"3.88\"\n",
       ">\n",
       "<g class=\"plotroot xscalable yscalable\" id=\"img-f402476c-1\">\n",
       "  <g font-size=\"3.88\" font-family=\"'PT Sans','Helvetica Neue','Helvetica',sans-serif\" fill=\"#564A55\" stroke=\"#000000\" stroke-opacity=\"0.000\" id=\"img-f402476c-2\">\n",
       "    <text x=\"73.66\" y=\"88.39\" text-anchor=\"middle\" dy=\"0.6em\">x</text>\n",
       "  </g>\n",
       "  <g class=\"guide xlabels\" font-size=\"2.82\" font-family=\"'PT Sans Caption','Helvetica Neue','Helvetica',sans-serif\" fill=\"#6C606B\" id=\"img-f402476c-3\">\n",
       "    <text x=\"21.75\" y=\"81.72\" text-anchor=\"middle\" dy=\"0.6em\">0</text>\n",
       "    <text x=\"47.7\" y=\"81.72\" text-anchor=\"middle\" dy=\"0.6em\">2</text>\n",
       "    <text x=\"73.66\" y=\"81.72\" text-anchor=\"middle\" dy=\"0.6em\">4</text>\n",
       "    <text x=\"99.62\" y=\"81.72\" text-anchor=\"middle\" dy=\"0.6em\">6</text>\n",
       "    <text x=\"125.58\" y=\"81.72\" text-anchor=\"middle\" dy=\"0.6em\">8</text>\n",
       "  </g>\n",
       "  <g class=\"guide colorkey\" id=\"img-f402476c-4\">\n",
       "    <g fill=\"#4C404B\" font-size=\"2.82\" font-family=\"'PT Sans','Helvetica Neue','Helvetica',sans-serif\" id=\"img-f402476c-5\">\n",
       "      <text x=\"132.05\" y=\"40.39\" dy=\"0.35em\" id=\"img-f402476c-6\" class=\"color_f1\">f<tspan style=\"dominant-baseline:inherit\" dy=\"0.6em\" font-size=\"83%\">1</tspan><tspan dy=\"-0.498000em\"></tspan></text>\n",
       "      <text x=\"132.05\" y=\"45.33\" dy=\"0.35em\" id=\"img-f402476c-7\" class=\"color_f2\">f<tspan style=\"dominant-baseline:inherit\" dy=\"0.6em\" font-size=\"83%\">2</tspan><tspan dy=\"-0.498000em\"></tspan></text>\n",
       "      <text x=\"132.05\" y=\"50.27\" dy=\"0.35em\" id=\"img-f402476c-8\" class=\"color_f3\">f<tspan style=\"dominant-baseline:inherit\" dy=\"0.6em\" font-size=\"83%\">3</tspan><tspan dy=\"-0.498000em\"></tspan></text>\n",
       "    </g>\n",
       "    <g stroke=\"#000000\" stroke-opacity=\"0.000\" id=\"img-f402476c-9\">\n",
       "      <rect x=\"128.58\" y=\"39.15\" width=\"2.47\" height=\"2.47\" id=\"img-f402476c-10\" fill=\"#00BFFF\" class=\"color_f1\"/>\n",
       "      <rect x=\"128.58\" y=\"44.09\" width=\"2.47\" height=\"2.47\" id=\"img-f402476c-11\" fill=\"#D4CA3A\" class=\"color_f2\"/>\n",
       "      <rect x=\"128.58\" y=\"49.03\" width=\"2.47\" height=\"2.47\" id=\"img-f402476c-12\" fill=\"#FF6DAE\" class=\"color_f3\"/>\n",
       "    </g>\n",
       "    <g fill=\"#362A35\" font-size=\"3.88\" font-family=\"'PT Sans','Helvetica Neue','Helvetica',sans-serif\" stroke=\"#000000\" stroke-opacity=\"0.000\" id=\"img-f402476c-13\">\n",
       "      <text x=\"128.58\" y=\"35.25\" id=\"img-f402476c-14\">Color</text>\n",
       "    </g>\n",
       "  </g>\n",
       "<g clip-path=\"url(#img-f402476c-15)\">\n",
       "  <g id=\"img-f402476c-16\">\n",
       "    <g pointer-events=\"visible\" opacity=\"1\" fill=\"#000000\" fill-opacity=\"0.000\" stroke=\"#000000\" stroke-opacity=\"0.000\" class=\"guide background\" id=\"img-f402476c-17\">\n",
       "      <rect x=\"19.75\" y=\"5\" width=\"107.84\" height=\"75.72\" id=\"img-f402476c-18\"/>\n",
       "    </g>\n",
       "    <g class=\"guide ygridlines xfixed\" stroke-dasharray=\"0.5,0.5\" stroke-width=\"0.2\" stroke=\"#D0D0E0\" id=\"img-f402476c-19\">\n",
       "      <path fill=\"none\" d=\"M19.75,78.71 L 127.58 78.71\" id=\"img-f402476c-20\"/>\n",
       "      <path fill=\"none\" d=\"M19.75,60.79 L 127.58 60.79\" id=\"img-f402476c-21\"/>\n",
       "      <path fill=\"none\" d=\"M19.75,42.86 L 127.58 42.86\" id=\"img-f402476c-22\"/>\n",
       "      <path fill=\"none\" d=\"M19.75,24.93 L 127.58 24.93\" id=\"img-f402476c-23\"/>\n",
       "      <path fill=\"none\" d=\"M19.75,7 L 127.58 7\" id=\"img-f402476c-24\"/>\n",
       "    </g>\n",
       "    <g class=\"guide xgridlines yfixed\" stroke-dasharray=\"0.5,0.5\" stroke-width=\"0.2\" stroke=\"#D0D0E0\" id=\"img-f402476c-25\">\n",
       "      <path fill=\"none\" d=\"M21.75,5 L 21.75 80.72\" id=\"img-f402476c-26\"/>\n",
       "      <path fill=\"none\" d=\"M47.7,5 L 47.7 80.72\" id=\"img-f402476c-27\"/>\n",
       "      <path fill=\"none\" d=\"M73.66,5 L 73.66 80.72\" id=\"img-f402476c-28\"/>\n",
       "      <path fill=\"none\" d=\"M99.62,5 L 99.62 80.72\" id=\"img-f402476c-29\"/>\n",
       "      <path fill=\"none\" d=\"M125.58,5 L 125.58 80.72\" id=\"img-f402476c-30\"/>\n",
       "    </g>\n",
       "    <g class=\"plotpanel\" id=\"img-f402476c-31\">\n",
       "      <g stroke-width=\"0.3\" fill=\"#000000\" fill-opacity=\"0.000\" stroke-dasharray=\"none\" id=\"img-f402476c-32\">\n",
       "        <path fill=\"none\" d=\"M21.75,42.86 L 22.16 41.71 22.58 40.55 23 39.41 23.41 38.26 23.83 37.12 24.25 35.99 24.66 34.86 25.08 33.74 25.5 32.63 25.92 31.53 26.33 30.45 26.75 29.37 27.17 28.31 27.58 27.27 28 26.24 28.42 25.23 28.83 24.23 29.25 23.26 29.67 22.3 30.09 21.37 30.5 20.46 30.92 19.57 31.34 18.71 31.75 17.87 32.17 17.05 32.59 16.27 33 15.51 33.42 14.78 33.84 14.08 34.26 13.4 34.67 12.76 35.09 12.15 35.51 11.57 35.92 11.03 36.34 10.51 36.76 10.03 37.17 9.59 37.59 9.17 38.01 8.8 38.43 8.45 38.84 8.15 39.26 7.88 39.68 7.64 40.09 7.44 40.51 7.28 40.93 7.15 41.35 7.07 41.76 7.01 42.18 7 42.6 7.02 43.01 7.08 43.43 7.18 43.85 7.31 44.26 7.48 44.68 7.69 45.1 7.93 45.52 8.21 45.93 8.52 46.35 8.87 46.77 9.26 47.18 9.68 47.6 10.13 48.02 10.62 48.43 11.14 48.85 11.7 49.27 12.28 49.69 12.9 50.1 13.55 50.52 14.23 50.94 14.94 51.35 15.67 51.77 16.44 52.19 17.23 52.6 18.05 53.02 18.89 53.44 19.76 53.86 20.66 54.27 21.57 54.69 22.51 55.11 23.47 55.52 24.45 55.94 25.44 56.36 26.46 56.78 27.49 57.19 28.54 57.61 29.61 58.03 30.68 58.44 31.77 58.86 32.87 59.28 33.99 59.69 35.11 60.11 36.23 60.53 37.37 60.95 38.51 61.36 39.66 61.78 40.81 62.2 41.96 62.61 43.11 63.03 44.26 63.45 45.41 63.86 46.56 64.28 47.7 64.7 48.84 65.12 49.97 65.53 51.1 65.95 52.22 66.37 53.32 66.78 54.42 67.2 55.5 67.62 56.57 68.03 57.63 68.45 58.67 68.87 59.7 69.29 60.71 69.7 61.7 70.12 62.67 70.54 63.62 70.95 64.55 71.37 65.45 71.79 66.33 72.21 67.19 72.62 68.03 73.04 68.83 73.46 69.61 73.87 70.37 74.29 71.09 74.71 71.79 75.12 72.45 75.54 73.09 75.96 73.69 76.38 74.26 76.79 74.8 77.21 75.31 77.63 75.78 78.04 76.22 78.46 76.63 78.88 77 79.29 77.33 79.71 77.63 80.13 77.89 80.55 78.12 80.96 78.31 81.38 78.47 81.8 78.58 82.21 78.66 82.63 78.71 83.05 78.71 83.46 78.68 83.88 78.61 84.3 78.51 84.72 78.37 85.13 78.19 85.55 77.98 85.97 77.73 86.38 77.44 86.8 77.12 87.22 76.76 87.64 76.37 88.05 75.94 88.47 75.48 88.89 74.98 89.3 74.45 89.72 73.89 90.14 73.3 90.55 72.68 90.97 72.02 91.39 71.34 91.81 70.62 92.22 69.88 92.64 69.11 93.06 68.31 93.47 67.48 93.89 66.63 94.31 65.76 94.72 64.86 95.14 63.94 95.56 63 95.98 62.04 96.39 61.05 96.81 60.05 97.23 59.03 97.64 57.99 98.06 56.94 98.48 55.88 98.89 54.8 99.31 53.7 99.73 52.6 100.15 51.49 100.56 50.36 100.98 49.23 101.4 48.1 101.81 46.95 102.23 45.81 102.65 44.66 103.07 43.51 103.48 42.36 103.9 41.2 104.32 40.05 104.73 38.91 105.15 37.76 105.57 36.63 105.98 35.5 106.4 34.37 106.82 33.26 107.24 32.15 107.65 31.06 108.07 29.98 108.49 28.91 108.9 27.86 109.32 26.82 109.74 25.79 110.15 24.79 110.57 23.8 110.99 22.84 111.41 21.89 111.82 20.97 112.24 20.07 112.66 19.19 113.07 18.34 113.49 17.51 113.91 16.71 114.32 15.93 114.74 15.19 115.16 14.47 115.58 13.78 115.99 13.12 116.41 12.49 116.83 11.9 117.24 11.33 117.66 10.8 118.08 10.3 118.5 9.83 118.91 9.4 119.33 9 119.75 8.64 120.16 8.31 120.58 8.02 121 7.77 121.41 7.55 121.83 7.37 122.25 7.22 122.67 7.11 123.08 7.04 123.5 7 123.92 7.01 124.33 7.04 124.75 7.12 125.17 7.23 125.58 7.38\" id=\"img-f402476c-33\" class=\"geometry color_f1\" stroke=\"#00BFFF\"/>\n",
       "        <path fill=\"none\" d=\"M21.75,7 L 22.16 7.02 22.58 7.07 23 7.17 23.41 7.3 23.83 7.46 24.25 7.66 24.66 7.9 25.08 8.18 25.5 8.49 25.92 8.83 26.33 9.22 26.75 9.63 27.17 10.08 27.58 10.57 28 11.08 28.42 11.63 28.83 12.22 29.25 12.83 29.67 13.48 30.09 14.15 30.5 14.86 30.92 15.59 31.34 16.35 31.75 17.14 32.17 17.96 32.59 18.8 33 19.67 33.42 20.56 33.84 21.47 34.26 22.41 34.67 23.36 35.09 24.34 35.51 25.34 35.92 26.35 36.34 27.38 36.76 28.43 37.17 29.49 37.59 30.56 38.01 31.65 38.43 32.75 38.84 33.86 39.26 34.98 39.68 36.11 40.09 37.25 40.51 38.39 40.93 39.53 41.35 40.68 41.76 41.83 42.18 42.98 42.6 44.13 43.01 45.29 43.43 46.43 43.85 47.58 44.26 48.72 44.68 49.85 45.1 50.98 45.52 52.09 45.93 53.2 46.35 54.3 46.77 55.39 47.18 56.46 47.6 57.52 48.02 58.56 48.43 59.59 48.85 60.6 49.27 61.59 49.69 62.56 50.1 63.51 50.52 64.45 50.94 65.35 51.35 66.24 51.77 67.1 52.19 67.94 52.6 68.75 53.02 69.53 53.44 70.29 53.86 71.01 54.27 71.71 54.69 72.38 55.11 73.02 55.52 73.63 55.94 74.2 56.36 74.75 56.78 75.26 57.19 75.73 57.61 76.18 58.03 76.58 58.44 76.96 58.86 77.3 59.28 77.6 59.69 77.87 60.11 78.1 60.53 78.29 60.95 78.45 61.36 78.57 61.78 78.66 62.2 78.7 62.61 78.71 63.03 78.69 63.45 78.62 63.86 78.52 64.28 78.39 64.7 78.21 65.12 78 65.53 77.76 65.95 77.47 66.37 77.15 66.78 76.8 67.2 76.41 67.62 75.99 68.03 75.53 68.45 75.04 68.87 74.51 69.29 73.96 69.7 73.37 70.12 72.75 70.54 72.09 70.95 71.41 71.37 70.7 71.79 69.96 72.21 69.19 72.62 68.4 73.04 67.58 73.46 66.73 73.87 65.86 74.29 64.96 74.71 64.04 75.12 63.1 75.54 62.14 75.96 61.16 76.38 60.16 76.79 59.14 77.21 58.11 77.63 57.06 78.04 55.99 78.46 54.91 78.88 53.82 79.29 52.72 79.71 51.61 80.13 50.49 80.55 49.36 80.96 48.22 81.38 47.08 81.8 45.93 82.21 44.78 82.63 43.63 83.05 42.48 83.46 41.33 83.88 40.18 84.3 39.03 84.72 37.89 85.13 36.75 85.55 35.62 85.97 34.49 86.38 33.38 86.8 32.27 87.22 31.18 87.64 30.09 88.05 29.02 88.47 27.97 88.89 26.93 89.3 25.91 89.72 24.9 90.14 23.91 90.55 22.94 90.97 22 91.39 21.07 91.81 20.17 92.22 19.29 92.64 18.43 93.06 17.6 93.47 16.79 93.89 16.02 94.31 15.27 94.72 14.55 95.14 13.85 95.56 13.19 95.98 12.56 96.39 11.96 96.81 11.39 97.23 10.85 97.64 10.35 98.06 9.88 98.48 9.45 98.89 9.05 99.31 8.68 99.73 8.35 100.15 8.05 100.56 7.79 100.98 7.57 101.4 7.38 101.81 7.23 102.23 7.12 102.65 7.05 103.07 7.01 103.48 7 103.9 7.04 104.32 7.11 104.73 7.22 105.15 7.36 105.57 7.55 105.98 7.76 106.4 8.02 106.82 8.31 107.24 8.64 107.65 9 108.07 9.39 108.49 9.82 108.9 10.29 109.32 10.79 109.74 11.32 110.15 11.88 110.57 12.48 110.99 13.11 111.41 13.77 111.82 14.46 112.24 15.17 112.66 15.92 113.07 16.69 113.49 17.49 113.91 18.32 114.32 19.17 114.74 20.05 115.16 20.95 115.58 21.88 115.99 22.82 116.41 23.79 116.83 24.77 117.24 25.78 117.66 26.8 118.08 27.83 118.5 28.89 118.91 29.96 119.33 31.04 119.75 32.13 120.16 33.24 120.58 34.35 121 35.47 121.41 36.6 121.83 37.74 122.25 38.89 122.67 40.03 123.08 41.18 123.5 42.33 123.92 43.49 124.33 44.64 124.75 45.79 125.17 46.93 125.58 48.07\" id=\"img-f402476c-34\" class=\"geometry color_f2\" stroke=\"#D4CA3A\"/>\n",
       "        <path fill=\"none\" d=\"M21.75,42.86 L 22.16 42.28 22.58 41.71 23 41.13 23.41 40.56 23.83 39.99 24.25 39.42 24.66 38.85 25.08 38.29 25.5 37.73 25.92 37.17 26.33 36.62 26.75 36.07 27.17 35.53 27.58 35 28 34.47 28.42 33.94 28.83 33.43 29.25 32.92 29.67 32.41 30.09 31.92 30.5 31.44 30.92 30.96 31.34 30.49 31.75 30.04 32.17 29.59 32.59 29.15 33 28.72 33.42 28.31 33.84 27.9 34.26 27.51 34.67 27.13 35.09 26.76 35.51 26.4 35.92 26.05 36.34 25.72 36.76 25.4 37.17 25.09 37.59 24.8 38.01 24.52 38.43 24.26 38.84 24.01 39.26 23.77 39.68 23.55 40.09 23.34 40.51 23.14 40.93 22.97 41.35 22.8 41.76 22.65 42.18 22.52 42.6 22.4 43.01 22.3 43.43 22.21 43.85 22.13 44.26 22.08 44.68 22.03 45.1 22.01 45.52 21.99 45.93 22 46.35 22.01 46.77 22.05 47.18 22.1 47.6 22.16 48.02 22.24 48.43 22.33 48.85 22.44 49.27 22.56 49.69 22.7 50.1 22.85 50.52 23.01 50.94 23.19 51.35 23.38 51.77 23.59 52.19 23.8 52.6 24.04 53.02 24.28 53.44 24.54 53.86 24.81 54.27 25.09 54.69 25.38 55.11 25.68 55.52 26 55.94 26.33 56.36 26.66 56.78 27.01 57.19 27.37 57.61 27.73 58.03 28.11 58.44 28.49 58.86 28.89 59.28 29.29 59.69 29.7 60.11 30.12 60.53 30.54 60.95 30.97 61.36 31.41 61.78 31.85 62.2 32.3 62.61 32.75 63.03 33.21 63.45 33.67 63.86 34.14 64.28 34.61 64.7 35.08 65.12 35.56 65.53 36.04 65.95 36.52 66.37 37 66.78 37.48 67.2 37.96 67.62 38.44 68.03 38.93 68.45 39.41 68.87 39.89 69.29 40.37 69.7 40.85 70.12 41.33 70.54 41.8 70.95 42.27 71.37 42.74 71.79 43.2 72.21 43.66 72.62 44.11 73.04 44.56 73.46 45.01 73.87 45.44 74.29 45.88 74.71 46.3 75.12 46.72 75.54 47.13 75.96 47.54 76.38 47.94 76.79 48.33 77.21 48.71 77.63 49.08 78.04 49.45 78.46 49.8 78.88 50.15 79.29 50.48 79.71 50.81 80.13 51.12 80.55 51.43 80.96 51.72 81.38 52.01 81.8 52.28 82.21 52.54 82.63 52.79 83.05 53.03 83.46 53.26 83.88 53.48 84.3 53.68 84.72 53.87 85.13 54.05 85.55 54.22 85.97 54.38 86.38 54.52 86.8 54.65 87.22 54.77 87.64 54.88 88.05 54.97 88.47 55.05 88.89 55.12 89.3 55.17 89.72 55.21 90.14 55.25 90.55 55.26 90.97 55.27 91.39 55.26 91.81 55.24 92.22 55.21 92.64 55.17 93.06 55.11 93.47 55.05 93.89 54.97 94.31 54.88 94.72 54.77 95.14 54.66 95.56 54.54 95.98 54.4 96.39 54.25 96.81 54.1 97.23 53.93 97.64 53.75 98.06 53.56 98.48 53.37 98.89 53.16 99.31 52.95 99.73 52.72 100.15 52.49 100.56 52.25 100.98 52 101.4 51.74 101.81 51.47 102.23 51.2 102.65 50.92 103.07 50.64 103.48 50.34 103.9 50.05 104.32 49.74 104.73 49.43 105.15 49.12 105.57 48.8 105.98 48.48 106.4 48.15 106.82 47.82 107.24 47.48 107.65 47.14 108.07 46.8 108.49 46.46 108.9 46.12 109.32 45.77 109.74 45.42 110.15 45.07 110.57 44.72 110.99 44.38 111.41 44.03 111.82 43.68 112.24 43.33 112.66 42.98 113.07 42.64 113.49 42.29 113.91 41.95 114.32 41.61 114.74 41.28 115.16 40.94 115.58 40.61 115.99 40.29 116.41 39.96 116.83 39.65 117.24 39.33 117.66 39.03 118.08 38.72 118.5 38.43 118.91 38.13 119.33 37.85 119.75 37.57 120.16 37.3 120.58 37.03 121 36.77 121.41 36.52 121.83 36.27 122.25 36.04 122.67 35.81 123.08 35.59 123.5 35.38 123.92 35.17 124.33 34.98 124.75 34.79 125.17 34.61 125.58 34.44\" id=\"img-f402476c-35\" class=\"geometry color_f3\" stroke=\"#FF6DAE\"/>\n",
       "      </g>\n",
       "    </g>\n",
       "  </g>\n",
       "</g>\n",
       "  <g class=\"guide ylabels\" font-size=\"2.82\" font-family=\"'PT Sans Caption','Helvetica Neue','Helvetica',sans-serif\" fill=\"#6C606B\" id=\"img-f402476c-36\">\n",
       "    <text x=\"18.74\" y=\"78.71\" text-anchor=\"end\" dy=\"0.35em\" id=\"img-f402476c-37\">-1.0</text>\n",
       "    <text x=\"18.74\" y=\"60.79\" text-anchor=\"end\" dy=\"0.35em\" id=\"img-f402476c-38\">-0.5</text>\n",
       "    <text x=\"18.74\" y=\"42.86\" text-anchor=\"end\" dy=\"0.35em\" id=\"img-f402476c-39\">0.0</text>\n",
       "    <text x=\"18.74\" y=\"24.93\" text-anchor=\"end\" dy=\"0.35em\" id=\"img-f402476c-40\">0.5</text>\n",
       "    <text x=\"18.74\" y=\"7\" text-anchor=\"end\" dy=\"0.35em\" id=\"img-f402476c-41\">1.0</text>\n",
       "  </g>\n",
       "  <g font-size=\"3.88\" font-family=\"'PT Sans','Helvetica Neue','Helvetica',sans-serif\" fill=\"#564A55\" stroke=\"#000000\" stroke-opacity=\"0.000\" id=\"img-f402476c-42\">\n",
       "    <text x=\"8.81\" y=\"40.86\" text-anchor=\"middle\" dy=\"0.35em\" transform=\"rotate(-90, 8.81, 42.86)\" id=\"img-f402476c-43\">f(x)</text>\n",
       "  </g>\n",
       "</g>\n",
       "<defs>\n",
       "  <clipPath id=\"img-f402476c-15\">\n",
       "  <path d=\"M19.75,5 L 127.58 5 127.58 80.72 19.75 80.72\" />\n",
       "</clipPath>\n",
       "</defs>\n",
       "</svg>\n"
      ],
      "text/html": [
       "<?xml version=\"1.0\" encoding=\"UTF-8\"?>\n",
       "<svg xmlns=\"http://www.w3.org/2000/svg\"\n",
       "     xmlns:xlink=\"http://www.w3.org/1999/xlink\"\n",
       "     xmlns:gadfly=\"http://www.gadflyjl.org/ns\"\n",
       "     version=\"1.2\"\n",
       "     width=\"141.42mm\" height=\"100mm\" viewBox=\"0 0 141.42 100\"\n",
       "     stroke=\"none\"\n",
       "     fill=\"#000000\"\n",
       "     stroke-width=\"0.3\"\n",
       "     font-size=\"3.88\"\n",
       "\n",
       "     id=\"img-cd557cd9\">\n",
       "<g class=\"plotroot xscalable yscalable\" id=\"img-cd557cd9-1\">\n",
       "  <g font-size=\"3.88\" font-family=\"'PT Sans','Helvetica Neue','Helvetica',sans-serif\" fill=\"#564A55\" stroke=\"#000000\" stroke-opacity=\"0.000\" id=\"img-cd557cd9-2\">\n",
       "    <text x=\"73.66\" y=\"88.39\" text-anchor=\"middle\" dy=\"0.6em\">x</text>\n",
       "  </g>\n",
       "  <g class=\"guide xlabels\" font-size=\"2.82\" font-family=\"'PT Sans Caption','Helvetica Neue','Helvetica',sans-serif\" fill=\"#6C606B\" id=\"img-cd557cd9-3\">\n",
       "    <text x=\"-108.05\" y=\"84.39\" text-anchor=\"middle\" gadfly:scale=\"1.0\" visibility=\"hidden\">-10</text>\n",
       "    <text x=\"-82.09\" y=\"84.39\" text-anchor=\"middle\" gadfly:scale=\"1.0\" visibility=\"hidden\">-8</text>\n",
       "    <text x=\"-56.13\" y=\"84.39\" text-anchor=\"middle\" gadfly:scale=\"1.0\" visibility=\"hidden\">-6</text>\n",
       "    <text x=\"-30.17\" y=\"84.39\" text-anchor=\"middle\" gadfly:scale=\"1.0\" visibility=\"hidden\">-4</text>\n",
       "    <text x=\"-4.21\" y=\"84.39\" text-anchor=\"middle\" gadfly:scale=\"1.0\" visibility=\"hidden\">-2</text>\n",
       "    <text x=\"21.75\" y=\"84.39\" text-anchor=\"middle\" gadfly:scale=\"1.0\" visibility=\"visible\">0</text>\n",
       "    <text x=\"47.7\" y=\"84.39\" text-anchor=\"middle\" gadfly:scale=\"1.0\" visibility=\"visible\">2</text>\n",
       "    <text x=\"73.66\" y=\"84.39\" text-anchor=\"middle\" gadfly:scale=\"1.0\" visibility=\"visible\">4</text>\n",
       "    <text x=\"99.62\" y=\"84.39\" text-anchor=\"middle\" gadfly:scale=\"1.0\" visibility=\"visible\">6</text>\n",
       "    <text x=\"125.58\" y=\"84.39\" text-anchor=\"middle\" gadfly:scale=\"1.0\" visibility=\"visible\">8</text>\n",
       "    <text x=\"151.54\" y=\"84.39\" text-anchor=\"middle\" gadfly:scale=\"1.0\" visibility=\"hidden\">10</text>\n",
       "    <text x=\"177.5\" y=\"84.39\" text-anchor=\"middle\" gadfly:scale=\"1.0\" visibility=\"hidden\">12</text>\n",
       "    <text x=\"203.46\" y=\"84.39\" text-anchor=\"middle\" gadfly:scale=\"1.0\" visibility=\"hidden\">14</text>\n",
       "    <text x=\"229.42\" y=\"84.39\" text-anchor=\"middle\" gadfly:scale=\"1.0\" visibility=\"hidden\">16</text>\n",
       "    <text x=\"255.38\" y=\"84.39\" text-anchor=\"middle\" gadfly:scale=\"1.0\" visibility=\"hidden\">18</text>\n",
       "    <text x=\"-82.09\" y=\"84.39\" text-anchor=\"middle\" gadfly:scale=\"10.0\" visibility=\"hidden\">-8.0</text>\n",
       "    <text x=\"-75.6\" y=\"84.39\" text-anchor=\"middle\" gadfly:scale=\"10.0\" visibility=\"hidden\">-7.5</text>\n",
       "    <text x=\"-69.11\" y=\"84.39\" text-anchor=\"middle\" gadfly:scale=\"10.0\" visibility=\"hidden\">-7.0</text>\n",
       "    <text x=\"-62.62\" y=\"84.39\" text-anchor=\"middle\" gadfly:scale=\"10.0\" visibility=\"hidden\">-6.5</text>\n",
       "    <text x=\"-56.13\" y=\"84.39\" text-anchor=\"middle\" gadfly:scale=\"10.0\" visibility=\"hidden\">-6.0</text>\n",
       "    <text x=\"-49.64\" y=\"84.39\" text-anchor=\"middle\" gadfly:scale=\"10.0\" visibility=\"hidden\">-5.5</text>\n",
       "    <text x=\"-43.15\" y=\"84.39\" text-anchor=\"middle\" gadfly:scale=\"10.0\" visibility=\"hidden\">-5.0</text>\n",
       "    <text x=\"-36.66\" y=\"84.39\" text-anchor=\"middle\" gadfly:scale=\"10.0\" visibility=\"hidden\">-4.5</text>\n",
       "    <text x=\"-30.17\" y=\"84.39\" text-anchor=\"middle\" gadfly:scale=\"10.0\" visibility=\"hidden\">-4.0</text>\n",
       "    <text x=\"-23.68\" y=\"84.39\" text-anchor=\"middle\" gadfly:scale=\"10.0\" visibility=\"hidden\">-3.5</text>\n",
       "    <text x=\"-17.19\" y=\"84.39\" text-anchor=\"middle\" gadfly:scale=\"10.0\" visibility=\"hidden\">-3.0</text>\n",
       "    <text x=\"-10.7\" y=\"84.39\" text-anchor=\"middle\" gadfly:scale=\"10.0\" visibility=\"hidden\">-2.5</text>\n",
       "    <text x=\"-4.21\" y=\"84.39\" text-anchor=\"middle\" gadfly:scale=\"10.0\" visibility=\"hidden\">-2.0</text>\n",
       "    <text x=\"2.28\" y=\"84.39\" text-anchor=\"middle\" gadfly:scale=\"10.0\" visibility=\"hidden\">-1.5</text>\n",
       "    <text x=\"8.77\" y=\"84.39\" text-anchor=\"middle\" gadfly:scale=\"10.0\" visibility=\"hidden\">-1.0</text>\n",
       "    <text x=\"15.26\" y=\"84.39\" text-anchor=\"middle\" gadfly:scale=\"10.0\" visibility=\"hidden\">-0.5</text>\n",
       "    <text x=\"21.75\" y=\"84.39\" text-anchor=\"middle\" gadfly:scale=\"10.0\" visibility=\"hidden\">0.0</text>\n",
       "    <text x=\"28.23\" y=\"84.39\" text-anchor=\"middle\" gadfly:scale=\"10.0\" visibility=\"hidden\">0.5</text>\n",
       "    <text x=\"34.72\" y=\"84.39\" text-anchor=\"middle\" gadfly:scale=\"10.0\" visibility=\"hidden\">1.0</text>\n",
       "    <text x=\"41.21\" y=\"84.39\" text-anchor=\"middle\" gadfly:scale=\"10.0\" visibility=\"hidden\">1.5</text>\n",
       "    <text x=\"47.7\" y=\"84.39\" text-anchor=\"middle\" gadfly:scale=\"10.0\" visibility=\"hidden\">2.0</text>\n",
       "    <text x=\"54.19\" y=\"84.39\" text-anchor=\"middle\" gadfly:scale=\"10.0\" visibility=\"hidden\">2.5</text>\n",
       "    <text x=\"60.68\" y=\"84.39\" text-anchor=\"middle\" gadfly:scale=\"10.0\" visibility=\"hidden\">3.0</text>\n",
       "    <text x=\"67.17\" y=\"84.39\" text-anchor=\"middle\" gadfly:scale=\"10.0\" visibility=\"hidden\">3.5</text>\n",
       "    <text x=\"73.66\" y=\"84.39\" text-anchor=\"middle\" gadfly:scale=\"10.0\" visibility=\"hidden\">4.0</text>\n",
       "    <text x=\"80.15\" y=\"84.39\" text-anchor=\"middle\" gadfly:scale=\"10.0\" visibility=\"hidden\">4.5</text>\n",
       "    <text x=\"86.64\" y=\"84.39\" text-anchor=\"middle\" gadfly:scale=\"10.0\" visibility=\"hidden\">5.0</text>\n",
       "    <text x=\"93.13\" y=\"84.39\" text-anchor=\"middle\" gadfly:scale=\"10.0\" visibility=\"hidden\">5.5</text>\n",
       "    <text x=\"99.62\" y=\"84.39\" text-anchor=\"middle\" gadfly:scale=\"10.0\" visibility=\"hidden\">6.0</text>\n",
       "    <text x=\"106.11\" y=\"84.39\" text-anchor=\"middle\" gadfly:scale=\"10.0\" visibility=\"hidden\">6.5</text>\n",
       "    <text x=\"112.6\" y=\"84.39\" text-anchor=\"middle\" gadfly:scale=\"10.0\" visibility=\"hidden\">7.0</text>\n",
       "    <text x=\"119.09\" y=\"84.39\" text-anchor=\"middle\" gadfly:scale=\"10.0\" visibility=\"hidden\">7.5</text>\n",
       "    <text x=\"125.58\" y=\"84.39\" text-anchor=\"middle\" gadfly:scale=\"10.0\" visibility=\"hidden\">8.0</text>\n",
       "    <text x=\"132.07\" y=\"84.39\" text-anchor=\"middle\" gadfly:scale=\"10.0\" visibility=\"hidden\">8.5</text>\n",
       "    <text x=\"138.56\" y=\"84.39\" text-anchor=\"middle\" gadfly:scale=\"10.0\" visibility=\"hidden\">9.0</text>\n",
       "    <text x=\"145.05\" y=\"84.39\" text-anchor=\"middle\" gadfly:scale=\"10.0\" visibility=\"hidden\">9.5</text>\n",
       "    <text x=\"151.54\" y=\"84.39\" text-anchor=\"middle\" gadfly:scale=\"10.0\" visibility=\"hidden\">10.0</text>\n",
       "    <text x=\"158.03\" y=\"84.39\" text-anchor=\"middle\" gadfly:scale=\"10.0\" visibility=\"hidden\">10.5</text>\n",
       "    <text x=\"164.52\" y=\"84.39\" text-anchor=\"middle\" gadfly:scale=\"10.0\" visibility=\"hidden\">11.0</text>\n",
       "    <text x=\"171.01\" y=\"84.39\" text-anchor=\"middle\" gadfly:scale=\"10.0\" visibility=\"hidden\">11.5</text>\n",
       "    <text x=\"177.5\" y=\"84.39\" text-anchor=\"middle\" gadfly:scale=\"10.0\" visibility=\"hidden\">12.0</text>\n",
       "    <text x=\"183.99\" y=\"84.39\" text-anchor=\"middle\" gadfly:scale=\"10.0\" visibility=\"hidden\">12.5</text>\n",
       "    <text x=\"190.48\" y=\"84.39\" text-anchor=\"middle\" gadfly:scale=\"10.0\" visibility=\"hidden\">13.0</text>\n",
       "    <text x=\"196.97\" y=\"84.39\" text-anchor=\"middle\" gadfly:scale=\"10.0\" visibility=\"hidden\">13.5</text>\n",
       "    <text x=\"203.46\" y=\"84.39\" text-anchor=\"middle\" gadfly:scale=\"10.0\" visibility=\"hidden\">14.0</text>\n",
       "    <text x=\"209.95\" y=\"84.39\" text-anchor=\"middle\" gadfly:scale=\"10.0\" visibility=\"hidden\">14.5</text>\n",
       "    <text x=\"216.44\" y=\"84.39\" text-anchor=\"middle\" gadfly:scale=\"10.0\" visibility=\"hidden\">15.0</text>\n",
       "    <text x=\"222.93\" y=\"84.39\" text-anchor=\"middle\" gadfly:scale=\"10.0\" visibility=\"hidden\">15.5</text>\n",
       "    <text x=\"229.42\" y=\"84.39\" text-anchor=\"middle\" gadfly:scale=\"10.0\" visibility=\"hidden\">16.0</text>\n",
       "    <text x=\"-108.05\" y=\"84.39\" text-anchor=\"middle\" gadfly:scale=\"0.5\" visibility=\"hidden\">-10</text>\n",
       "    <text x=\"21.75\" y=\"84.39\" text-anchor=\"middle\" gadfly:scale=\"0.5\" visibility=\"hidden\">0</text>\n",
       "    <text x=\"151.54\" y=\"84.39\" text-anchor=\"middle\" gadfly:scale=\"0.5\" visibility=\"hidden\">10</text>\n",
       "    <text x=\"281.34\" y=\"84.39\" text-anchor=\"middle\" gadfly:scale=\"0.5\" visibility=\"hidden\">20</text>\n",
       "    <text x=\"-82.09\" y=\"84.39\" text-anchor=\"middle\" gadfly:scale=\"5.0\" visibility=\"hidden\">-8.0</text>\n",
       "    <text x=\"-75.6\" y=\"84.39\" text-anchor=\"middle\" gadfly:scale=\"5.0\" visibility=\"hidden\">-7.5</text>\n",
       "    <text x=\"-69.11\" y=\"84.39\" text-anchor=\"middle\" gadfly:scale=\"5.0\" visibility=\"hidden\">-7.0</text>\n",
       "    <text x=\"-62.62\" y=\"84.39\" text-anchor=\"middle\" gadfly:scale=\"5.0\" visibility=\"hidden\">-6.5</text>\n",
       "    <text x=\"-56.13\" y=\"84.39\" text-anchor=\"middle\" gadfly:scale=\"5.0\" visibility=\"hidden\">-6.0</text>\n",
       "    <text x=\"-49.64\" y=\"84.39\" text-anchor=\"middle\" gadfly:scale=\"5.0\" visibility=\"hidden\">-5.5</text>\n",
       "    <text x=\"-43.15\" y=\"84.39\" text-anchor=\"middle\" gadfly:scale=\"5.0\" visibility=\"hidden\">-5.0</text>\n",
       "    <text x=\"-36.66\" y=\"84.39\" text-anchor=\"middle\" gadfly:scale=\"5.0\" visibility=\"hidden\">-4.5</text>\n",
       "    <text x=\"-30.17\" y=\"84.39\" text-anchor=\"middle\" gadfly:scale=\"5.0\" visibility=\"hidden\">-4.0</text>\n",
       "    <text x=\"-23.68\" y=\"84.39\" text-anchor=\"middle\" gadfly:scale=\"5.0\" visibility=\"hidden\">-3.5</text>\n",
       "    <text x=\"-17.19\" y=\"84.39\" text-anchor=\"middle\" gadfly:scale=\"5.0\" visibility=\"hidden\">-3.0</text>\n",
       "    <text x=\"-10.7\" y=\"84.39\" text-anchor=\"middle\" gadfly:scale=\"5.0\" visibility=\"hidden\">-2.5</text>\n",
       "    <text x=\"-4.21\" y=\"84.39\" text-anchor=\"middle\" gadfly:scale=\"5.0\" visibility=\"hidden\">-2.0</text>\n",
       "    <text x=\"2.28\" y=\"84.39\" text-anchor=\"middle\" gadfly:scale=\"5.0\" visibility=\"hidden\">-1.5</text>\n",
       "    <text x=\"8.77\" y=\"84.39\" text-anchor=\"middle\" gadfly:scale=\"5.0\" visibility=\"hidden\">-1.0</text>\n",
       "    <text x=\"15.26\" y=\"84.39\" text-anchor=\"middle\" gadfly:scale=\"5.0\" visibility=\"hidden\">-0.5</text>\n",
       "    <text x=\"21.75\" y=\"84.39\" text-anchor=\"middle\" gadfly:scale=\"5.0\" visibility=\"hidden\">0.0</text>\n",
       "    <text x=\"28.23\" y=\"84.39\" text-anchor=\"middle\" gadfly:scale=\"5.0\" visibility=\"hidden\">0.5</text>\n",
       "    <text x=\"34.72\" y=\"84.39\" text-anchor=\"middle\" gadfly:scale=\"5.0\" visibility=\"hidden\">1.0</text>\n",
       "    <text x=\"41.21\" y=\"84.39\" text-anchor=\"middle\" gadfly:scale=\"5.0\" visibility=\"hidden\">1.5</text>\n",
       "    <text x=\"47.7\" y=\"84.39\" text-anchor=\"middle\" gadfly:scale=\"5.0\" visibility=\"hidden\">2.0</text>\n",
       "    <text x=\"54.19\" y=\"84.39\" text-anchor=\"middle\" gadfly:scale=\"5.0\" visibility=\"hidden\">2.5</text>\n",
       "    <text x=\"60.68\" y=\"84.39\" text-anchor=\"middle\" gadfly:scale=\"5.0\" visibility=\"hidden\">3.0</text>\n",
       "    <text x=\"67.17\" y=\"84.39\" text-anchor=\"middle\" gadfly:scale=\"5.0\" visibility=\"hidden\">3.5</text>\n",
       "    <text x=\"73.66\" y=\"84.39\" text-anchor=\"middle\" gadfly:scale=\"5.0\" visibility=\"hidden\">4.0</text>\n",
       "    <text x=\"80.15\" y=\"84.39\" text-anchor=\"middle\" gadfly:scale=\"5.0\" visibility=\"hidden\">4.5</text>\n",
       "    <text x=\"86.64\" y=\"84.39\" text-anchor=\"middle\" gadfly:scale=\"5.0\" visibility=\"hidden\">5.0</text>\n",
       "    <text x=\"93.13\" y=\"84.39\" text-anchor=\"middle\" gadfly:scale=\"5.0\" visibility=\"hidden\">5.5</text>\n",
       "    <text x=\"99.62\" y=\"84.39\" text-anchor=\"middle\" gadfly:scale=\"5.0\" visibility=\"hidden\">6.0</text>\n",
       "    <text x=\"106.11\" y=\"84.39\" text-anchor=\"middle\" gadfly:scale=\"5.0\" visibility=\"hidden\">6.5</text>\n",
       "    <text x=\"112.6\" y=\"84.39\" text-anchor=\"middle\" gadfly:scale=\"5.0\" visibility=\"hidden\">7.0</text>\n",
       "    <text x=\"119.09\" y=\"84.39\" text-anchor=\"middle\" gadfly:scale=\"5.0\" visibility=\"hidden\">7.5</text>\n",
       "    <text x=\"125.58\" y=\"84.39\" text-anchor=\"middle\" gadfly:scale=\"5.0\" visibility=\"hidden\">8.0</text>\n",
       "    <text x=\"132.07\" y=\"84.39\" text-anchor=\"middle\" gadfly:scale=\"5.0\" visibility=\"hidden\">8.5</text>\n",
       "    <text x=\"138.56\" y=\"84.39\" text-anchor=\"middle\" gadfly:scale=\"5.0\" visibility=\"hidden\">9.0</text>\n",
       "    <text x=\"145.05\" y=\"84.39\" text-anchor=\"middle\" gadfly:scale=\"5.0\" visibility=\"hidden\">9.5</text>\n",
       "    <text x=\"151.54\" y=\"84.39\" text-anchor=\"middle\" gadfly:scale=\"5.0\" visibility=\"hidden\">10.0</text>\n",
       "    <text x=\"158.03\" y=\"84.39\" text-anchor=\"middle\" gadfly:scale=\"5.0\" visibility=\"hidden\">10.5</text>\n",
       "    <text x=\"164.52\" y=\"84.39\" text-anchor=\"middle\" gadfly:scale=\"5.0\" visibility=\"hidden\">11.0</text>\n",
       "    <text x=\"171.01\" y=\"84.39\" text-anchor=\"middle\" gadfly:scale=\"5.0\" visibility=\"hidden\">11.5</text>\n",
       "    <text x=\"177.5\" y=\"84.39\" text-anchor=\"middle\" gadfly:scale=\"5.0\" visibility=\"hidden\">12.0</text>\n",
       "    <text x=\"183.99\" y=\"84.39\" text-anchor=\"middle\" gadfly:scale=\"5.0\" visibility=\"hidden\">12.5</text>\n",
       "    <text x=\"190.48\" y=\"84.39\" text-anchor=\"middle\" gadfly:scale=\"5.0\" visibility=\"hidden\">13.0</text>\n",
       "    <text x=\"196.97\" y=\"84.39\" text-anchor=\"middle\" gadfly:scale=\"5.0\" visibility=\"hidden\">13.5</text>\n",
       "    <text x=\"203.46\" y=\"84.39\" text-anchor=\"middle\" gadfly:scale=\"5.0\" visibility=\"hidden\">14.0</text>\n",
       "    <text x=\"209.95\" y=\"84.39\" text-anchor=\"middle\" gadfly:scale=\"5.0\" visibility=\"hidden\">14.5</text>\n",
       "    <text x=\"216.44\" y=\"84.39\" text-anchor=\"middle\" gadfly:scale=\"5.0\" visibility=\"hidden\">15.0</text>\n",
       "    <text x=\"222.93\" y=\"84.39\" text-anchor=\"middle\" gadfly:scale=\"5.0\" visibility=\"hidden\">15.5</text>\n",
       "    <text x=\"229.42\" y=\"84.39\" text-anchor=\"middle\" gadfly:scale=\"5.0\" visibility=\"hidden\">16.0</text>\n",
       "  </g>\n",
       "  <g class=\"guide colorkey\" id=\"img-cd557cd9-4\">\n",
       "    <g fill=\"#4C404B\" font-size=\"2.82\" font-family=\"'PT Sans','Helvetica Neue','Helvetica',sans-serif\" id=\"img-cd557cd9-5\">\n",
       "      <text x=\"132.05\" y=\"40.39\" dy=\"0.35em\" id=\"img-cd557cd9-6\" class=\"color_f1\">f<tspan style=\"dominant-baseline:inherit\" dy=\"0.6em\" font-size=\"83%\">1</tspan><tspan dy=\"-0.498000em\"></tspan></text>\n",
       "      <text x=\"132.05\" y=\"45.33\" dy=\"0.35em\" id=\"img-cd557cd9-7\" class=\"color_f2\">f<tspan style=\"dominant-baseline:inherit\" dy=\"0.6em\" font-size=\"83%\">2</tspan><tspan dy=\"-0.498000em\"></tspan></text>\n",
       "      <text x=\"132.05\" y=\"50.27\" dy=\"0.35em\" id=\"img-cd557cd9-8\" class=\"color_f3\">f<tspan style=\"dominant-baseline:inherit\" dy=\"0.6em\" font-size=\"83%\">3</tspan><tspan dy=\"-0.498000em\"></tspan></text>\n",
       "    </g>\n",
       "    <g stroke=\"#000000\" stroke-opacity=\"0.000\" id=\"img-cd557cd9-9\">\n",
       "      <rect x=\"128.58\" y=\"39.15\" width=\"2.47\" height=\"2.47\" id=\"img-cd557cd9-10\" fill=\"#00BFFF\" class=\"color_f1\"/>\n",
       "      <rect x=\"128.58\" y=\"44.09\" width=\"2.47\" height=\"2.47\" id=\"img-cd557cd9-11\" fill=\"#D4CA3A\" class=\"color_f2\"/>\n",
       "      <rect x=\"128.58\" y=\"49.03\" width=\"2.47\" height=\"2.47\" id=\"img-cd557cd9-12\" fill=\"#FF6DAE\" class=\"color_f3\"/>\n",
       "    </g>\n",
       "    <g fill=\"#362A35\" font-size=\"3.88\" font-family=\"'PT Sans','Helvetica Neue','Helvetica',sans-serif\" stroke=\"#000000\" stroke-opacity=\"0.000\" id=\"img-cd557cd9-13\">\n",
       "      <text x=\"128.58\" y=\"35.25\" id=\"img-cd557cd9-14\">Color</text>\n",
       "    </g>\n",
       "  </g>\n",
       "<g clip-path=\"url(#img-cd557cd9-15)\">\n",
       "  <g id=\"img-cd557cd9-16\">\n",
       "    <g pointer-events=\"visible\" opacity=\"1\" fill=\"#000000\" fill-opacity=\"0.000\" stroke=\"#000000\" stroke-opacity=\"0.000\" class=\"guide background\" id=\"img-cd557cd9-17\">\n",
       "      <rect x=\"19.75\" y=\"5\" width=\"107.84\" height=\"75.72\" id=\"img-cd557cd9-18\"/>\n",
       "    </g>\n",
       "    <g class=\"guide ygridlines xfixed\" stroke-dasharray=\"0.5,0.5\" stroke-width=\"0.2\" stroke=\"#D0D0E0\" id=\"img-cd557cd9-19\">\n",
       "      <path fill=\"none\" d=\"M19.75,168.36 L 127.58 168.36\" id=\"img-cd557cd9-20\" gadfly:scale=\"1.0\" visibility=\"hidden\"/>\n",
       "      <path fill=\"none\" d=\"M19.75,150.43 L 127.58 150.43\" id=\"img-cd557cd9-21\" gadfly:scale=\"1.0\" visibility=\"hidden\"/>\n",
       "      <path fill=\"none\" d=\"M19.75,132.5 L 127.58 132.5\" id=\"img-cd557cd9-22\" gadfly:scale=\"1.0\" visibility=\"hidden\"/>\n",
       "      <path fill=\"none\" d=\"M19.75,114.57 L 127.58 114.57\" id=\"img-cd557cd9-23\" gadfly:scale=\"1.0\" visibility=\"hidden\"/>\n",
       "      <path fill=\"none\" d=\"M19.75,96.64 L 127.58 96.64\" id=\"img-cd557cd9-24\" gadfly:scale=\"1.0\" visibility=\"hidden\"/>\n",
       "      <path fill=\"none\" d=\"M19.75,78.71 L 127.58 78.71\" id=\"img-cd557cd9-25\" gadfly:scale=\"1.0\" visibility=\"visible\"/>\n",
       "      <path fill=\"none\" d=\"M19.75,60.79 L 127.58 60.79\" id=\"img-cd557cd9-26\" gadfly:scale=\"1.0\" visibility=\"visible\"/>\n",
       "      <path fill=\"none\" d=\"M19.75,42.86 L 127.58 42.86\" id=\"img-cd557cd9-27\" gadfly:scale=\"1.0\" visibility=\"visible\"/>\n",
       "      <path fill=\"none\" d=\"M19.75,24.93 L 127.58 24.93\" id=\"img-cd557cd9-28\" gadfly:scale=\"1.0\" visibility=\"visible\"/>\n",
       "      <path fill=\"none\" d=\"M19.75,7 L 127.58 7\" id=\"img-cd557cd9-29\" gadfly:scale=\"1.0\" visibility=\"visible\"/>\n",
       "      <path fill=\"none\" d=\"M19.75,-10.93 L 127.58 -10.93\" id=\"img-cd557cd9-30\" gadfly:scale=\"1.0\" visibility=\"hidden\"/>\n",
       "      <path fill=\"none\" d=\"M19.75,-28.86 L 127.58 -28.86\" id=\"img-cd557cd9-31\" gadfly:scale=\"1.0\" visibility=\"hidden\"/>\n",
       "      <path fill=\"none\" d=\"M19.75,-46.79 L 127.58 -46.79\" id=\"img-cd557cd9-32\" gadfly:scale=\"1.0\" visibility=\"hidden\"/>\n",
       "      <path fill=\"none\" d=\"M19.75,-64.71 L 127.58 -64.71\" id=\"img-cd557cd9-33\" gadfly:scale=\"1.0\" visibility=\"hidden\"/>\n",
       "      <path fill=\"none\" d=\"M19.75,-82.64 L 127.58 -82.64\" id=\"img-cd557cd9-34\" gadfly:scale=\"1.0\" visibility=\"hidden\"/>\n",
       "      <path fill=\"none\" d=\"M19.75,150.43 L 127.58 150.43\" id=\"img-cd557cd9-35\" gadfly:scale=\"10.0\" visibility=\"hidden\"/>\n",
       "      <path fill=\"none\" d=\"M19.75,146.84 L 127.58 146.84\" id=\"img-cd557cd9-36\" gadfly:scale=\"10.0\" visibility=\"hidden\"/>\n",
       "      <path fill=\"none\" d=\"M19.75,143.26 L 127.58 143.26\" id=\"img-cd557cd9-37\" gadfly:scale=\"10.0\" visibility=\"hidden\"/>\n",
       "      <path fill=\"none\" d=\"M19.75,139.67 L 127.58 139.67\" id=\"img-cd557cd9-38\" gadfly:scale=\"10.0\" visibility=\"hidden\"/>\n",
       "      <path fill=\"none\" d=\"M19.75,136.09 L 127.58 136.09\" id=\"img-cd557cd9-39\" gadfly:scale=\"10.0\" visibility=\"hidden\"/>\n",
       "      <path fill=\"none\" d=\"M19.75,132.5 L 127.58 132.5\" id=\"img-cd557cd9-40\" gadfly:scale=\"10.0\" visibility=\"hidden\"/>\n",
       "      <path fill=\"none\" d=\"M19.75,128.92 L 127.58 128.92\" id=\"img-cd557cd9-41\" gadfly:scale=\"10.0\" visibility=\"hidden\"/>\n",
       "      <path fill=\"none\" d=\"M19.75,125.33 L 127.58 125.33\" id=\"img-cd557cd9-42\" gadfly:scale=\"10.0\" visibility=\"hidden\"/>\n",
       "      <path fill=\"none\" d=\"M19.75,121.74 L 127.58 121.74\" id=\"img-cd557cd9-43\" gadfly:scale=\"10.0\" visibility=\"hidden\"/>\n",
       "      <path fill=\"none\" d=\"M19.75,118.16 L 127.58 118.16\" id=\"img-cd557cd9-44\" gadfly:scale=\"10.0\" visibility=\"hidden\"/>\n",
       "      <path fill=\"none\" d=\"M19.75,114.57 L 127.58 114.57\" id=\"img-cd557cd9-45\" gadfly:scale=\"10.0\" visibility=\"hidden\"/>\n",
       "      <path fill=\"none\" d=\"M19.75,110.99 L 127.58 110.99\" id=\"img-cd557cd9-46\" gadfly:scale=\"10.0\" visibility=\"hidden\"/>\n",
       "      <path fill=\"none\" d=\"M19.75,107.4 L 127.58 107.4\" id=\"img-cd557cd9-47\" gadfly:scale=\"10.0\" visibility=\"hidden\"/>\n",
       "      <path fill=\"none\" d=\"M19.75,103.82 L 127.58 103.82\" id=\"img-cd557cd9-48\" gadfly:scale=\"10.0\" visibility=\"hidden\"/>\n",
       "      <path fill=\"none\" d=\"M19.75,100.23 L 127.58 100.23\" id=\"img-cd557cd9-49\" gadfly:scale=\"10.0\" visibility=\"hidden\"/>\n",
       "      <path fill=\"none\" d=\"M19.75,96.64 L 127.58 96.64\" id=\"img-cd557cd9-50\" gadfly:scale=\"10.0\" visibility=\"hidden\"/>\n",
       "      <path fill=\"none\" d=\"M19.75,93.06 L 127.58 93.06\" id=\"img-cd557cd9-51\" gadfly:scale=\"10.0\" visibility=\"hidden\"/>\n",
       "      <path fill=\"none\" d=\"M19.75,89.47 L 127.58 89.47\" id=\"img-cd557cd9-52\" gadfly:scale=\"10.0\" visibility=\"hidden\"/>\n",
       "      <path fill=\"none\" d=\"M19.75,85.89 L 127.58 85.89\" id=\"img-cd557cd9-53\" gadfly:scale=\"10.0\" visibility=\"hidden\"/>\n",
       "      <path fill=\"none\" d=\"M19.75,82.3 L 127.58 82.3\" id=\"img-cd557cd9-54\" gadfly:scale=\"10.0\" visibility=\"hidden\"/>\n",
       "      <path fill=\"none\" d=\"M19.75,78.71 L 127.58 78.71\" id=\"img-cd557cd9-55\" gadfly:scale=\"10.0\" visibility=\"hidden\"/>\n",
       "      <path fill=\"none\" d=\"M19.75,75.13 L 127.58 75.13\" id=\"img-cd557cd9-56\" gadfly:scale=\"10.0\" visibility=\"hidden\"/>\n",
       "      <path fill=\"none\" d=\"M19.75,71.54 L 127.58 71.54\" id=\"img-cd557cd9-57\" gadfly:scale=\"10.0\" visibility=\"hidden\"/>\n",
       "      <path fill=\"none\" d=\"M19.75,67.96 L 127.58 67.96\" id=\"img-cd557cd9-58\" gadfly:scale=\"10.0\" visibility=\"hidden\"/>\n",
       "      <path fill=\"none\" d=\"M19.75,64.37 L 127.58 64.37\" id=\"img-cd557cd9-59\" gadfly:scale=\"10.0\" visibility=\"hidden\"/>\n",
       "      <path fill=\"none\" d=\"M19.75,60.79 L 127.58 60.79\" id=\"img-cd557cd9-60\" gadfly:scale=\"10.0\" visibility=\"hidden\"/>\n",
       "      <path fill=\"none\" d=\"M19.75,57.2 L 127.58 57.2\" id=\"img-cd557cd9-61\" gadfly:scale=\"10.0\" visibility=\"hidden\"/>\n",
       "      <path fill=\"none\" d=\"M19.75,53.61 L 127.58 53.61\" id=\"img-cd557cd9-62\" gadfly:scale=\"10.0\" visibility=\"hidden\"/>\n",
       "      <path fill=\"none\" d=\"M19.75,50.03 L 127.58 50.03\" id=\"img-cd557cd9-63\" gadfly:scale=\"10.0\" visibility=\"hidden\"/>\n",
       "      <path fill=\"none\" d=\"M19.75,46.44 L 127.58 46.44\" id=\"img-cd557cd9-64\" gadfly:scale=\"10.0\" visibility=\"hidden\"/>\n",
       "      <path fill=\"none\" d=\"M19.75,42.86 L 127.58 42.86\" id=\"img-cd557cd9-65\" gadfly:scale=\"10.0\" visibility=\"hidden\"/>\n",
       "      <path fill=\"none\" d=\"M19.75,39.27 L 127.58 39.27\" id=\"img-cd557cd9-66\" gadfly:scale=\"10.0\" visibility=\"hidden\"/>\n",
       "      <path fill=\"none\" d=\"M19.75,35.69 L 127.58 35.69\" id=\"img-cd557cd9-67\" gadfly:scale=\"10.0\" visibility=\"hidden\"/>\n",
       "      <path fill=\"none\" d=\"M19.75,32.1 L 127.58 32.1\" id=\"img-cd557cd9-68\" gadfly:scale=\"10.0\" visibility=\"hidden\"/>\n",
       "      <path fill=\"none\" d=\"M19.75,28.51 L 127.58 28.51\" id=\"img-cd557cd9-69\" gadfly:scale=\"10.0\" visibility=\"hidden\"/>\n",
       "      <path fill=\"none\" d=\"M19.75,24.93 L 127.58 24.93\" id=\"img-cd557cd9-70\" gadfly:scale=\"10.0\" visibility=\"hidden\"/>\n",
       "      <path fill=\"none\" d=\"M19.75,21.34 L 127.58 21.34\" id=\"img-cd557cd9-71\" gadfly:scale=\"10.0\" visibility=\"hidden\"/>\n",
       "      <path fill=\"none\" d=\"M19.75,17.76 L 127.58 17.76\" id=\"img-cd557cd9-72\" gadfly:scale=\"10.0\" visibility=\"hidden\"/>\n",
       "      <path fill=\"none\" d=\"M19.75,14.17 L 127.58 14.17\" id=\"img-cd557cd9-73\" gadfly:scale=\"10.0\" visibility=\"hidden\"/>\n",
       "      <path fill=\"none\" d=\"M19.75,10.59 L 127.58 10.59\" id=\"img-cd557cd9-74\" gadfly:scale=\"10.0\" visibility=\"hidden\"/>\n",
       "      <path fill=\"none\" d=\"M19.75,7 L 127.58 7\" id=\"img-cd557cd9-75\" gadfly:scale=\"10.0\" visibility=\"hidden\"/>\n",
       "      <path fill=\"none\" d=\"M19.75,3.41 L 127.58 3.41\" id=\"img-cd557cd9-76\" gadfly:scale=\"10.0\" visibility=\"hidden\"/>\n",
       "      <path fill=\"none\" d=\"M19.75,-0.17 L 127.58 -0.17\" id=\"img-cd557cd9-77\" gadfly:scale=\"10.0\" visibility=\"hidden\"/>\n",
       "      <path fill=\"none\" d=\"M19.75,-3.76 L 127.58 -3.76\" id=\"img-cd557cd9-78\" gadfly:scale=\"10.0\" visibility=\"hidden\"/>\n",
       "      <path fill=\"none\" d=\"M19.75,-7.34 L 127.58 -7.34\" id=\"img-cd557cd9-79\" gadfly:scale=\"10.0\" visibility=\"hidden\"/>\n",
       "      <path fill=\"none\" d=\"M19.75,-10.93 L 127.58 -10.93\" id=\"img-cd557cd9-80\" gadfly:scale=\"10.0\" visibility=\"hidden\"/>\n",
       "      <path fill=\"none\" d=\"M19.75,-14.51 L 127.58 -14.51\" id=\"img-cd557cd9-81\" gadfly:scale=\"10.0\" visibility=\"hidden\"/>\n",
       "      <path fill=\"none\" d=\"M19.75,-18.1 L 127.58 -18.1\" id=\"img-cd557cd9-82\" gadfly:scale=\"10.0\" visibility=\"hidden\"/>\n",
       "      <path fill=\"none\" d=\"M19.75,-21.69 L 127.58 -21.69\" id=\"img-cd557cd9-83\" gadfly:scale=\"10.0\" visibility=\"hidden\"/>\n",
       "      <path fill=\"none\" d=\"M19.75,-25.27 L 127.58 -25.27\" id=\"img-cd557cd9-84\" gadfly:scale=\"10.0\" visibility=\"hidden\"/>\n",
       "      <path fill=\"none\" d=\"M19.75,-28.86 L 127.58 -28.86\" id=\"img-cd557cd9-85\" gadfly:scale=\"10.0\" visibility=\"hidden\"/>\n",
       "      <path fill=\"none\" d=\"M19.75,-32.44 L 127.58 -32.44\" id=\"img-cd557cd9-86\" gadfly:scale=\"10.0\" visibility=\"hidden\"/>\n",
       "      <path fill=\"none\" d=\"M19.75,-36.03 L 127.58 -36.03\" id=\"img-cd557cd9-87\" gadfly:scale=\"10.0\" visibility=\"hidden\"/>\n",
       "      <path fill=\"none\" d=\"M19.75,-39.61 L 127.58 -39.61\" id=\"img-cd557cd9-88\" gadfly:scale=\"10.0\" visibility=\"hidden\"/>\n",
       "      <path fill=\"none\" d=\"M19.75,-43.2 L 127.58 -43.2\" id=\"img-cd557cd9-89\" gadfly:scale=\"10.0\" visibility=\"hidden\"/>\n",
       "      <path fill=\"none\" d=\"M19.75,-46.79 L 127.58 -46.79\" id=\"img-cd557cd9-90\" gadfly:scale=\"10.0\" visibility=\"hidden\"/>\n",
       "      <path fill=\"none\" d=\"M19.75,-50.37 L 127.58 -50.37\" id=\"img-cd557cd9-91\" gadfly:scale=\"10.0\" visibility=\"hidden\"/>\n",
       "      <path fill=\"none\" d=\"M19.75,-53.96 L 127.58 -53.96\" id=\"img-cd557cd9-92\" gadfly:scale=\"10.0\" visibility=\"hidden\"/>\n",
       "      <path fill=\"none\" d=\"M19.75,-57.54 L 127.58 -57.54\" id=\"img-cd557cd9-93\" gadfly:scale=\"10.0\" visibility=\"hidden\"/>\n",
       "      <path fill=\"none\" d=\"M19.75,-61.13 L 127.58 -61.13\" id=\"img-cd557cd9-94\" gadfly:scale=\"10.0\" visibility=\"hidden\"/>\n",
       "      <path fill=\"none\" d=\"M19.75,-64.71 L 127.58 -64.71\" id=\"img-cd557cd9-95\" gadfly:scale=\"10.0\" visibility=\"hidden\"/>\n",
       "      <path fill=\"none\" d=\"M19.75,186.29 L 127.58 186.29\" id=\"img-cd557cd9-96\" gadfly:scale=\"0.5\" visibility=\"hidden\"/>\n",
       "      <path fill=\"none\" d=\"M19.75,114.57 L 127.58 114.57\" id=\"img-cd557cd9-97\" gadfly:scale=\"0.5\" visibility=\"hidden\"/>\n",
       "      <path fill=\"none\" d=\"M19.75,42.86 L 127.58 42.86\" id=\"img-cd557cd9-98\" gadfly:scale=\"0.5\" visibility=\"hidden\"/>\n",
       "      <path fill=\"none\" d=\"M19.75,-28.86 L 127.58 -28.86\" id=\"img-cd557cd9-99\" gadfly:scale=\"0.5\" visibility=\"hidden\"/>\n",
       "      <path fill=\"none\" d=\"M19.75,-100.57 L 127.58 -100.57\" id=\"img-cd557cd9-100\" gadfly:scale=\"0.5\" visibility=\"hidden\"/>\n",
       "      <path fill=\"none\" d=\"M19.75,150.43 L 127.58 150.43\" id=\"img-cd557cd9-101\" gadfly:scale=\"5.0\" visibility=\"hidden\"/>\n",
       "      <path fill=\"none\" d=\"M19.75,143.26 L 127.58 143.26\" id=\"img-cd557cd9-102\" gadfly:scale=\"5.0\" visibility=\"hidden\"/>\n",
       "      <path fill=\"none\" d=\"M19.75,136.09 L 127.58 136.09\" id=\"img-cd557cd9-103\" gadfly:scale=\"5.0\" visibility=\"hidden\"/>\n",
       "      <path fill=\"none\" d=\"M19.75,128.92 L 127.58 128.92\" id=\"img-cd557cd9-104\" gadfly:scale=\"5.0\" visibility=\"hidden\"/>\n",
       "      <path fill=\"none\" d=\"M19.75,121.74 L 127.58 121.74\" id=\"img-cd557cd9-105\" gadfly:scale=\"5.0\" visibility=\"hidden\"/>\n",
       "      <path fill=\"none\" d=\"M19.75,114.57 L 127.58 114.57\" id=\"img-cd557cd9-106\" gadfly:scale=\"5.0\" visibility=\"hidden\"/>\n",
       "      <path fill=\"none\" d=\"M19.75,107.4 L 127.58 107.4\" id=\"img-cd557cd9-107\" gadfly:scale=\"5.0\" visibility=\"hidden\"/>\n",
       "      <path fill=\"none\" d=\"M19.75,100.23 L 127.58 100.23\" id=\"img-cd557cd9-108\" gadfly:scale=\"5.0\" visibility=\"hidden\"/>\n",
       "      <path fill=\"none\" d=\"M19.75,93.06 L 127.58 93.06\" id=\"img-cd557cd9-109\" gadfly:scale=\"5.0\" visibility=\"hidden\"/>\n",
       "      <path fill=\"none\" d=\"M19.75,85.89 L 127.58 85.89\" id=\"img-cd557cd9-110\" gadfly:scale=\"5.0\" visibility=\"hidden\"/>\n",
       "      <path fill=\"none\" d=\"M19.75,78.71 L 127.58 78.71\" id=\"img-cd557cd9-111\" gadfly:scale=\"5.0\" visibility=\"hidden\"/>\n",
       "      <path fill=\"none\" d=\"M19.75,71.54 L 127.58 71.54\" id=\"img-cd557cd9-112\" gadfly:scale=\"5.0\" visibility=\"hidden\"/>\n",
       "      <path fill=\"none\" d=\"M19.75,64.37 L 127.58 64.37\" id=\"img-cd557cd9-113\" gadfly:scale=\"5.0\" visibility=\"hidden\"/>\n",
       "      <path fill=\"none\" d=\"M19.75,57.2 L 127.58 57.2\" id=\"img-cd557cd9-114\" gadfly:scale=\"5.0\" visibility=\"hidden\"/>\n",
       "      <path fill=\"none\" d=\"M19.75,50.03 L 127.58 50.03\" id=\"img-cd557cd9-115\" gadfly:scale=\"5.0\" visibility=\"hidden\"/>\n",
       "      <path fill=\"none\" d=\"M19.75,42.86 L 127.58 42.86\" id=\"img-cd557cd9-116\" gadfly:scale=\"5.0\" visibility=\"hidden\"/>\n",
       "      <path fill=\"none\" d=\"M19.75,35.69 L 127.58 35.69\" id=\"img-cd557cd9-117\" gadfly:scale=\"5.0\" visibility=\"hidden\"/>\n",
       "      <path fill=\"none\" d=\"M19.75,28.51 L 127.58 28.51\" id=\"img-cd557cd9-118\" gadfly:scale=\"5.0\" visibility=\"hidden\"/>\n",
       "      <path fill=\"none\" d=\"M19.75,21.34 L 127.58 21.34\" id=\"img-cd557cd9-119\" gadfly:scale=\"5.0\" visibility=\"hidden\"/>\n",
       "      <path fill=\"none\" d=\"M19.75,14.17 L 127.58 14.17\" id=\"img-cd557cd9-120\" gadfly:scale=\"5.0\" visibility=\"hidden\"/>\n",
       "      <path fill=\"none\" d=\"M19.75,7 L 127.58 7\" id=\"img-cd557cd9-121\" gadfly:scale=\"5.0\" visibility=\"hidden\"/>\n",
       "      <path fill=\"none\" d=\"M19.75,-0.17 L 127.58 -0.17\" id=\"img-cd557cd9-122\" gadfly:scale=\"5.0\" visibility=\"hidden\"/>\n",
       "      <path fill=\"none\" d=\"M19.75,-7.34 L 127.58 -7.34\" id=\"img-cd557cd9-123\" gadfly:scale=\"5.0\" visibility=\"hidden\"/>\n",
       "      <path fill=\"none\" d=\"M19.75,-14.51 L 127.58 -14.51\" id=\"img-cd557cd9-124\" gadfly:scale=\"5.0\" visibility=\"hidden\"/>\n",
       "      <path fill=\"none\" d=\"M19.75,-21.69 L 127.58 -21.69\" id=\"img-cd557cd9-125\" gadfly:scale=\"5.0\" visibility=\"hidden\"/>\n",
       "      <path fill=\"none\" d=\"M19.75,-28.86 L 127.58 -28.86\" id=\"img-cd557cd9-126\" gadfly:scale=\"5.0\" visibility=\"hidden\"/>\n",
       "      <path fill=\"none\" d=\"M19.75,-36.03 L 127.58 -36.03\" id=\"img-cd557cd9-127\" gadfly:scale=\"5.0\" visibility=\"hidden\"/>\n",
       "      <path fill=\"none\" d=\"M19.75,-43.2 L 127.58 -43.2\" id=\"img-cd557cd9-128\" gadfly:scale=\"5.0\" visibility=\"hidden\"/>\n",
       "      <path fill=\"none\" d=\"M19.75,-50.37 L 127.58 -50.37\" id=\"img-cd557cd9-129\" gadfly:scale=\"5.0\" visibility=\"hidden\"/>\n",
       "      <path fill=\"none\" d=\"M19.75,-57.54 L 127.58 -57.54\" id=\"img-cd557cd9-130\" gadfly:scale=\"5.0\" visibility=\"hidden\"/>\n",
       "      <path fill=\"none\" d=\"M19.75,-64.71 L 127.58 -64.71\" id=\"img-cd557cd9-131\" gadfly:scale=\"5.0\" visibility=\"hidden\"/>\n",
       "    </g>\n",
       "    <g class=\"guide xgridlines yfixed\" stroke-dasharray=\"0.5,0.5\" stroke-width=\"0.2\" stroke=\"#D0D0E0\" id=\"img-cd557cd9-132\">\n",
       "      <path fill=\"none\" d=\"M-108.05,5 L -108.05 80.72\" id=\"img-cd557cd9-133\" gadfly:scale=\"1.0\" visibility=\"hidden\"/>\n",
       "      <path fill=\"none\" d=\"M-82.09,5 L -82.09 80.72\" id=\"img-cd557cd9-134\" gadfly:scale=\"1.0\" visibility=\"hidden\"/>\n",
       "      <path fill=\"none\" d=\"M-56.13,5 L -56.13 80.72\" id=\"img-cd557cd9-135\" gadfly:scale=\"1.0\" visibility=\"hidden\"/>\n",
       "      <path fill=\"none\" d=\"M-30.17,5 L -30.17 80.72\" id=\"img-cd557cd9-136\" gadfly:scale=\"1.0\" visibility=\"hidden\"/>\n",
       "      <path fill=\"none\" d=\"M-4.21,5 L -4.21 80.72\" id=\"img-cd557cd9-137\" gadfly:scale=\"1.0\" visibility=\"hidden\"/>\n",
       "      <path fill=\"none\" d=\"M21.75,5 L 21.75 80.72\" id=\"img-cd557cd9-138\" gadfly:scale=\"1.0\" visibility=\"visible\"/>\n",
       "      <path fill=\"none\" d=\"M47.7,5 L 47.7 80.72\" id=\"img-cd557cd9-139\" gadfly:scale=\"1.0\" visibility=\"visible\"/>\n",
       "      <path fill=\"none\" d=\"M73.66,5 L 73.66 80.72\" id=\"img-cd557cd9-140\" gadfly:scale=\"1.0\" visibility=\"visible\"/>\n",
       "      <path fill=\"none\" d=\"M99.62,5 L 99.62 80.72\" id=\"img-cd557cd9-141\" gadfly:scale=\"1.0\" visibility=\"visible\"/>\n",
       "      <path fill=\"none\" d=\"M125.58,5 L 125.58 80.72\" id=\"img-cd557cd9-142\" gadfly:scale=\"1.0\" visibility=\"visible\"/>\n",
       "      <path fill=\"none\" d=\"M151.54,5 L 151.54 80.72\" id=\"img-cd557cd9-143\" gadfly:scale=\"1.0\" visibility=\"hidden\"/>\n",
       "      <path fill=\"none\" d=\"M177.5,5 L 177.5 80.72\" id=\"img-cd557cd9-144\" gadfly:scale=\"1.0\" visibility=\"hidden\"/>\n",
       "      <path fill=\"none\" d=\"M203.46,5 L 203.46 80.72\" id=\"img-cd557cd9-145\" gadfly:scale=\"1.0\" visibility=\"hidden\"/>\n",
       "      <path fill=\"none\" d=\"M229.42,5 L 229.42 80.72\" id=\"img-cd557cd9-146\" gadfly:scale=\"1.0\" visibility=\"hidden\"/>\n",
       "      <path fill=\"none\" d=\"M255.38,5 L 255.38 80.72\" id=\"img-cd557cd9-147\" gadfly:scale=\"1.0\" visibility=\"hidden\"/>\n",
       "      <path fill=\"none\" d=\"M-82.09,5 L -82.09 80.72\" id=\"img-cd557cd9-148\" gadfly:scale=\"10.0\" visibility=\"hidden\"/>\n",
       "      <path fill=\"none\" d=\"M-75.6,5 L -75.6 80.72\" id=\"img-cd557cd9-149\" gadfly:scale=\"10.0\" visibility=\"hidden\"/>\n",
       "      <path fill=\"none\" d=\"M-69.11,5 L -69.11 80.72\" id=\"img-cd557cd9-150\" gadfly:scale=\"10.0\" visibility=\"hidden\"/>\n",
       "      <path fill=\"none\" d=\"M-62.62,5 L -62.62 80.72\" id=\"img-cd557cd9-151\" gadfly:scale=\"10.0\" visibility=\"hidden\"/>\n",
       "      <path fill=\"none\" d=\"M-56.13,5 L -56.13 80.72\" id=\"img-cd557cd9-152\" gadfly:scale=\"10.0\" visibility=\"hidden\"/>\n",
       "      <path fill=\"none\" d=\"M-49.64,5 L -49.64 80.72\" id=\"img-cd557cd9-153\" gadfly:scale=\"10.0\" visibility=\"hidden\"/>\n",
       "      <path fill=\"none\" d=\"M-43.15,5 L -43.15 80.72\" id=\"img-cd557cd9-154\" gadfly:scale=\"10.0\" visibility=\"hidden\"/>\n",
       "      <path fill=\"none\" d=\"M-36.66,5 L -36.66 80.72\" id=\"img-cd557cd9-155\" gadfly:scale=\"10.0\" visibility=\"hidden\"/>\n",
       "      <path fill=\"none\" d=\"M-30.17,5 L -30.17 80.72\" id=\"img-cd557cd9-156\" gadfly:scale=\"10.0\" visibility=\"hidden\"/>\n",
       "      <path fill=\"none\" d=\"M-23.68,5 L -23.68 80.72\" id=\"img-cd557cd9-157\" gadfly:scale=\"10.0\" visibility=\"hidden\"/>\n",
       "      <path fill=\"none\" d=\"M-17.19,5 L -17.19 80.72\" id=\"img-cd557cd9-158\" gadfly:scale=\"10.0\" visibility=\"hidden\"/>\n",
       "      <path fill=\"none\" d=\"M-10.7,5 L -10.7 80.72\" id=\"img-cd557cd9-159\" gadfly:scale=\"10.0\" visibility=\"hidden\"/>\n",
       "      <path fill=\"none\" d=\"M-4.21,5 L -4.21 80.72\" id=\"img-cd557cd9-160\" gadfly:scale=\"10.0\" visibility=\"hidden\"/>\n",
       "      <path fill=\"none\" d=\"M2.28,5 L 2.28 80.72\" id=\"img-cd557cd9-161\" gadfly:scale=\"10.0\" visibility=\"hidden\"/>\n",
       "      <path fill=\"none\" d=\"M8.77,5 L 8.77 80.72\" id=\"img-cd557cd9-162\" gadfly:scale=\"10.0\" visibility=\"hidden\"/>\n",
       "      <path fill=\"none\" d=\"M15.26,5 L 15.26 80.72\" id=\"img-cd557cd9-163\" gadfly:scale=\"10.0\" visibility=\"hidden\"/>\n",
       "      <path fill=\"none\" d=\"M21.75,5 L 21.75 80.72\" id=\"img-cd557cd9-164\" gadfly:scale=\"10.0\" visibility=\"hidden\"/>\n",
       "      <path fill=\"none\" d=\"M28.23,5 L 28.23 80.72\" id=\"img-cd557cd9-165\" gadfly:scale=\"10.0\" visibility=\"hidden\"/>\n",
       "      <path fill=\"none\" d=\"M34.72,5 L 34.72 80.72\" id=\"img-cd557cd9-166\" gadfly:scale=\"10.0\" visibility=\"hidden\"/>\n",
       "      <path fill=\"none\" d=\"M41.21,5 L 41.21 80.72\" id=\"img-cd557cd9-167\" gadfly:scale=\"10.0\" visibility=\"hidden\"/>\n",
       "      <path fill=\"none\" d=\"M47.7,5 L 47.7 80.72\" id=\"img-cd557cd9-168\" gadfly:scale=\"10.0\" visibility=\"hidden\"/>\n",
       "      <path fill=\"none\" d=\"M54.19,5 L 54.19 80.72\" id=\"img-cd557cd9-169\" gadfly:scale=\"10.0\" visibility=\"hidden\"/>\n",
       "      <path fill=\"none\" d=\"M60.68,5 L 60.68 80.72\" id=\"img-cd557cd9-170\" gadfly:scale=\"10.0\" visibility=\"hidden\"/>\n",
       "      <path fill=\"none\" d=\"M67.17,5 L 67.17 80.72\" id=\"img-cd557cd9-171\" gadfly:scale=\"10.0\" visibility=\"hidden\"/>\n",
       "      <path fill=\"none\" d=\"M73.66,5 L 73.66 80.72\" id=\"img-cd557cd9-172\" gadfly:scale=\"10.0\" visibility=\"hidden\"/>\n",
       "      <path fill=\"none\" d=\"M80.15,5 L 80.15 80.72\" id=\"img-cd557cd9-173\" gadfly:scale=\"10.0\" visibility=\"hidden\"/>\n",
       "      <path fill=\"none\" d=\"M86.64,5 L 86.64 80.72\" id=\"img-cd557cd9-174\" gadfly:scale=\"10.0\" visibility=\"hidden\"/>\n",
       "      <path fill=\"none\" d=\"M93.13,5 L 93.13 80.72\" id=\"img-cd557cd9-175\" gadfly:scale=\"10.0\" visibility=\"hidden\"/>\n",
       "      <path fill=\"none\" d=\"M99.62,5 L 99.62 80.72\" id=\"img-cd557cd9-176\" gadfly:scale=\"10.0\" visibility=\"hidden\"/>\n",
       "      <path fill=\"none\" d=\"M106.11,5 L 106.11 80.72\" id=\"img-cd557cd9-177\" gadfly:scale=\"10.0\" visibility=\"hidden\"/>\n",
       "      <path fill=\"none\" d=\"M112.6,5 L 112.6 80.72\" id=\"img-cd557cd9-178\" gadfly:scale=\"10.0\" visibility=\"hidden\"/>\n",
       "      <path fill=\"none\" d=\"M119.09,5 L 119.09 80.72\" id=\"img-cd557cd9-179\" gadfly:scale=\"10.0\" visibility=\"hidden\"/>\n",
       "      <path fill=\"none\" d=\"M125.58,5 L 125.58 80.72\" id=\"img-cd557cd9-180\" gadfly:scale=\"10.0\" visibility=\"hidden\"/>\n",
       "      <path fill=\"none\" d=\"M132.07,5 L 132.07 80.72\" id=\"img-cd557cd9-181\" gadfly:scale=\"10.0\" visibility=\"hidden\"/>\n",
       "      <path fill=\"none\" d=\"M138.56,5 L 138.56 80.72\" id=\"img-cd557cd9-182\" gadfly:scale=\"10.0\" visibility=\"hidden\"/>\n",
       "      <path fill=\"none\" d=\"M145.05,5 L 145.05 80.72\" id=\"img-cd557cd9-183\" gadfly:scale=\"10.0\" visibility=\"hidden\"/>\n",
       "      <path fill=\"none\" d=\"M151.54,5 L 151.54 80.72\" id=\"img-cd557cd9-184\" gadfly:scale=\"10.0\" visibility=\"hidden\"/>\n",
       "      <path fill=\"none\" d=\"M158.03,5 L 158.03 80.72\" id=\"img-cd557cd9-185\" gadfly:scale=\"10.0\" visibility=\"hidden\"/>\n",
       "      <path fill=\"none\" d=\"M164.52,5 L 164.52 80.72\" id=\"img-cd557cd9-186\" gadfly:scale=\"10.0\" visibility=\"hidden\"/>\n",
       "      <path fill=\"none\" d=\"M171.01,5 L 171.01 80.72\" id=\"img-cd557cd9-187\" gadfly:scale=\"10.0\" visibility=\"hidden\"/>\n",
       "      <path fill=\"none\" d=\"M177.5,5 L 177.5 80.72\" id=\"img-cd557cd9-188\" gadfly:scale=\"10.0\" visibility=\"hidden\"/>\n",
       "      <path fill=\"none\" d=\"M183.99,5 L 183.99 80.72\" id=\"img-cd557cd9-189\" gadfly:scale=\"10.0\" visibility=\"hidden\"/>\n",
       "      <path fill=\"none\" d=\"M190.48,5 L 190.48 80.72\" id=\"img-cd557cd9-190\" gadfly:scale=\"10.0\" visibility=\"hidden\"/>\n",
       "      <path fill=\"none\" d=\"M196.97,5 L 196.97 80.72\" id=\"img-cd557cd9-191\" gadfly:scale=\"10.0\" visibility=\"hidden\"/>\n",
       "      <path fill=\"none\" d=\"M203.46,5 L 203.46 80.72\" id=\"img-cd557cd9-192\" gadfly:scale=\"10.0\" visibility=\"hidden\"/>\n",
       "      <path fill=\"none\" d=\"M209.95,5 L 209.95 80.72\" id=\"img-cd557cd9-193\" gadfly:scale=\"10.0\" visibility=\"hidden\"/>\n",
       "      <path fill=\"none\" d=\"M216.44,5 L 216.44 80.72\" id=\"img-cd557cd9-194\" gadfly:scale=\"10.0\" visibility=\"hidden\"/>\n",
       "      <path fill=\"none\" d=\"M222.93,5 L 222.93 80.72\" id=\"img-cd557cd9-195\" gadfly:scale=\"10.0\" visibility=\"hidden\"/>\n",
       "      <path fill=\"none\" d=\"M229.42,5 L 229.42 80.72\" id=\"img-cd557cd9-196\" gadfly:scale=\"10.0\" visibility=\"hidden\"/>\n",
       "      <path fill=\"none\" d=\"M-108.05,5 L -108.05 80.72\" id=\"img-cd557cd9-197\" gadfly:scale=\"0.5\" visibility=\"hidden\"/>\n",
       "      <path fill=\"none\" d=\"M21.75,5 L 21.75 80.72\" id=\"img-cd557cd9-198\" gadfly:scale=\"0.5\" visibility=\"hidden\"/>\n",
       "      <path fill=\"none\" d=\"M151.54,5 L 151.54 80.72\" id=\"img-cd557cd9-199\" gadfly:scale=\"0.5\" visibility=\"hidden\"/>\n",
       "      <path fill=\"none\" d=\"M281.34,5 L 281.34 80.72\" id=\"img-cd557cd9-200\" gadfly:scale=\"0.5\" visibility=\"hidden\"/>\n",
       "      <path fill=\"none\" d=\"M-82.09,5 L -82.09 80.72\" id=\"img-cd557cd9-201\" gadfly:scale=\"5.0\" visibility=\"hidden\"/>\n",
       "      <path fill=\"none\" d=\"M-75.6,5 L -75.6 80.72\" id=\"img-cd557cd9-202\" gadfly:scale=\"5.0\" visibility=\"hidden\"/>\n",
       "      <path fill=\"none\" d=\"M-69.11,5 L -69.11 80.72\" id=\"img-cd557cd9-203\" gadfly:scale=\"5.0\" visibility=\"hidden\"/>\n",
       "      <path fill=\"none\" d=\"M-62.62,5 L -62.62 80.72\" id=\"img-cd557cd9-204\" gadfly:scale=\"5.0\" visibility=\"hidden\"/>\n",
       "      <path fill=\"none\" d=\"M-56.13,5 L -56.13 80.72\" id=\"img-cd557cd9-205\" gadfly:scale=\"5.0\" visibility=\"hidden\"/>\n",
       "      <path fill=\"none\" d=\"M-49.64,5 L -49.64 80.72\" id=\"img-cd557cd9-206\" gadfly:scale=\"5.0\" visibility=\"hidden\"/>\n",
       "      <path fill=\"none\" d=\"M-43.15,5 L -43.15 80.72\" id=\"img-cd557cd9-207\" gadfly:scale=\"5.0\" visibility=\"hidden\"/>\n",
       "      <path fill=\"none\" d=\"M-36.66,5 L -36.66 80.72\" id=\"img-cd557cd9-208\" gadfly:scale=\"5.0\" visibility=\"hidden\"/>\n",
       "      <path fill=\"none\" d=\"M-30.17,5 L -30.17 80.72\" id=\"img-cd557cd9-209\" gadfly:scale=\"5.0\" visibility=\"hidden\"/>\n",
       "      <path fill=\"none\" d=\"M-23.68,5 L -23.68 80.72\" id=\"img-cd557cd9-210\" gadfly:scale=\"5.0\" visibility=\"hidden\"/>\n",
       "      <path fill=\"none\" d=\"M-17.19,5 L -17.19 80.72\" id=\"img-cd557cd9-211\" gadfly:scale=\"5.0\" visibility=\"hidden\"/>\n",
       "      <path fill=\"none\" d=\"M-10.7,5 L -10.7 80.72\" id=\"img-cd557cd9-212\" gadfly:scale=\"5.0\" visibility=\"hidden\"/>\n",
       "      <path fill=\"none\" d=\"M-4.21,5 L -4.21 80.72\" id=\"img-cd557cd9-213\" gadfly:scale=\"5.0\" visibility=\"hidden\"/>\n",
       "      <path fill=\"none\" d=\"M2.28,5 L 2.28 80.72\" id=\"img-cd557cd9-214\" gadfly:scale=\"5.0\" visibility=\"hidden\"/>\n",
       "      <path fill=\"none\" d=\"M8.77,5 L 8.77 80.72\" id=\"img-cd557cd9-215\" gadfly:scale=\"5.0\" visibility=\"hidden\"/>\n",
       "      <path fill=\"none\" d=\"M15.26,5 L 15.26 80.72\" id=\"img-cd557cd9-216\" gadfly:scale=\"5.0\" visibility=\"hidden\"/>\n",
       "      <path fill=\"none\" d=\"M21.75,5 L 21.75 80.72\" id=\"img-cd557cd9-217\" gadfly:scale=\"5.0\" visibility=\"hidden\"/>\n",
       "      <path fill=\"none\" d=\"M28.23,5 L 28.23 80.72\" id=\"img-cd557cd9-218\" gadfly:scale=\"5.0\" visibility=\"hidden\"/>\n",
       "      <path fill=\"none\" d=\"M34.72,5 L 34.72 80.72\" id=\"img-cd557cd9-219\" gadfly:scale=\"5.0\" visibility=\"hidden\"/>\n",
       "      <path fill=\"none\" d=\"M41.21,5 L 41.21 80.72\" id=\"img-cd557cd9-220\" gadfly:scale=\"5.0\" visibility=\"hidden\"/>\n",
       "      <path fill=\"none\" d=\"M47.7,5 L 47.7 80.72\" id=\"img-cd557cd9-221\" gadfly:scale=\"5.0\" visibility=\"hidden\"/>\n",
       "      <path fill=\"none\" d=\"M54.19,5 L 54.19 80.72\" id=\"img-cd557cd9-222\" gadfly:scale=\"5.0\" visibility=\"hidden\"/>\n",
       "      <path fill=\"none\" d=\"M60.68,5 L 60.68 80.72\" id=\"img-cd557cd9-223\" gadfly:scale=\"5.0\" visibility=\"hidden\"/>\n",
       "      <path fill=\"none\" d=\"M67.17,5 L 67.17 80.72\" id=\"img-cd557cd9-224\" gadfly:scale=\"5.0\" visibility=\"hidden\"/>\n",
       "      <path fill=\"none\" d=\"M73.66,5 L 73.66 80.72\" id=\"img-cd557cd9-225\" gadfly:scale=\"5.0\" visibility=\"hidden\"/>\n",
       "      <path fill=\"none\" d=\"M80.15,5 L 80.15 80.72\" id=\"img-cd557cd9-226\" gadfly:scale=\"5.0\" visibility=\"hidden\"/>\n",
       "      <path fill=\"none\" d=\"M86.64,5 L 86.64 80.72\" id=\"img-cd557cd9-227\" gadfly:scale=\"5.0\" visibility=\"hidden\"/>\n",
       "      <path fill=\"none\" d=\"M93.13,5 L 93.13 80.72\" id=\"img-cd557cd9-228\" gadfly:scale=\"5.0\" visibility=\"hidden\"/>\n",
       "      <path fill=\"none\" d=\"M99.62,5 L 99.62 80.72\" id=\"img-cd557cd9-229\" gadfly:scale=\"5.0\" visibility=\"hidden\"/>\n",
       "      <path fill=\"none\" d=\"M106.11,5 L 106.11 80.72\" id=\"img-cd557cd9-230\" gadfly:scale=\"5.0\" visibility=\"hidden\"/>\n",
       "      <path fill=\"none\" d=\"M112.6,5 L 112.6 80.72\" id=\"img-cd557cd9-231\" gadfly:scale=\"5.0\" visibility=\"hidden\"/>\n",
       "      <path fill=\"none\" d=\"M119.09,5 L 119.09 80.72\" id=\"img-cd557cd9-232\" gadfly:scale=\"5.0\" visibility=\"hidden\"/>\n",
       "      <path fill=\"none\" d=\"M125.58,5 L 125.58 80.72\" id=\"img-cd557cd9-233\" gadfly:scale=\"5.0\" visibility=\"hidden\"/>\n",
       "      <path fill=\"none\" d=\"M132.07,5 L 132.07 80.72\" id=\"img-cd557cd9-234\" gadfly:scale=\"5.0\" visibility=\"hidden\"/>\n",
       "      <path fill=\"none\" d=\"M138.56,5 L 138.56 80.72\" id=\"img-cd557cd9-235\" gadfly:scale=\"5.0\" visibility=\"hidden\"/>\n",
       "      <path fill=\"none\" d=\"M145.05,5 L 145.05 80.72\" id=\"img-cd557cd9-236\" gadfly:scale=\"5.0\" visibility=\"hidden\"/>\n",
       "      <path fill=\"none\" d=\"M151.54,5 L 151.54 80.72\" id=\"img-cd557cd9-237\" gadfly:scale=\"5.0\" visibility=\"hidden\"/>\n",
       "      <path fill=\"none\" d=\"M158.03,5 L 158.03 80.72\" id=\"img-cd557cd9-238\" gadfly:scale=\"5.0\" visibility=\"hidden\"/>\n",
       "      <path fill=\"none\" d=\"M164.52,5 L 164.52 80.72\" id=\"img-cd557cd9-239\" gadfly:scale=\"5.0\" visibility=\"hidden\"/>\n",
       "      <path fill=\"none\" d=\"M171.01,5 L 171.01 80.72\" id=\"img-cd557cd9-240\" gadfly:scale=\"5.0\" visibility=\"hidden\"/>\n",
       "      <path fill=\"none\" d=\"M177.5,5 L 177.5 80.72\" id=\"img-cd557cd9-241\" gadfly:scale=\"5.0\" visibility=\"hidden\"/>\n",
       "      <path fill=\"none\" d=\"M183.99,5 L 183.99 80.72\" id=\"img-cd557cd9-242\" gadfly:scale=\"5.0\" visibility=\"hidden\"/>\n",
       "      <path fill=\"none\" d=\"M190.48,5 L 190.48 80.72\" id=\"img-cd557cd9-243\" gadfly:scale=\"5.0\" visibility=\"hidden\"/>\n",
       "      <path fill=\"none\" d=\"M196.97,5 L 196.97 80.72\" id=\"img-cd557cd9-244\" gadfly:scale=\"5.0\" visibility=\"hidden\"/>\n",
       "      <path fill=\"none\" d=\"M203.46,5 L 203.46 80.72\" id=\"img-cd557cd9-245\" gadfly:scale=\"5.0\" visibility=\"hidden\"/>\n",
       "      <path fill=\"none\" d=\"M209.95,5 L 209.95 80.72\" id=\"img-cd557cd9-246\" gadfly:scale=\"5.0\" visibility=\"hidden\"/>\n",
       "      <path fill=\"none\" d=\"M216.44,5 L 216.44 80.72\" id=\"img-cd557cd9-247\" gadfly:scale=\"5.0\" visibility=\"hidden\"/>\n",
       "      <path fill=\"none\" d=\"M222.93,5 L 222.93 80.72\" id=\"img-cd557cd9-248\" gadfly:scale=\"5.0\" visibility=\"hidden\"/>\n",
       "      <path fill=\"none\" d=\"M229.42,5 L 229.42 80.72\" id=\"img-cd557cd9-249\" gadfly:scale=\"5.0\" visibility=\"hidden\"/>\n",
       "    </g>\n",
       "    <g class=\"plotpanel\" id=\"img-cd557cd9-250\">\n",
       "      <g stroke-width=\"0.3\" fill=\"#000000\" fill-opacity=\"0.000\" stroke-dasharray=\"none\" id=\"img-cd557cd9-251\">\n",
       "        <path fill=\"none\" d=\"M21.75,42.86 L 22.16 41.71 22.58 40.55 23 39.41 23.41 38.26 23.83 37.12 24.25 35.99 24.66 34.86 25.08 33.74 25.5 32.63 25.92 31.53 26.33 30.45 26.75 29.37 27.17 28.31 27.58 27.27 28 26.24 28.42 25.23 28.83 24.23 29.25 23.26 29.67 22.3 30.09 21.37 30.5 20.46 30.92 19.57 31.34 18.71 31.75 17.87 32.17 17.05 32.59 16.27 33 15.51 33.42 14.78 33.84 14.08 34.26 13.4 34.67 12.76 35.09 12.15 35.51 11.57 35.92 11.03 36.34 10.51 36.76 10.03 37.17 9.59 37.59 9.17 38.01 8.8 38.43 8.45 38.84 8.15 39.26 7.88 39.68 7.64 40.09 7.44 40.51 7.28 40.93 7.15 41.35 7.07 41.76 7.01 42.18 7 42.6 7.02 43.01 7.08 43.43 7.18 43.85 7.31 44.26 7.48 44.68 7.69 45.1 7.93 45.52 8.21 45.93 8.52 46.35 8.87 46.77 9.26 47.18 9.68 47.6 10.13 48.02 10.62 48.43 11.14 48.85 11.7 49.27 12.28 49.69 12.9 50.1 13.55 50.52 14.23 50.94 14.94 51.35 15.67 51.77 16.44 52.19 17.23 52.6 18.05 53.02 18.89 53.44 19.76 53.86 20.66 54.27 21.57 54.69 22.51 55.11 23.47 55.52 24.45 55.94 25.44 56.36 26.46 56.78 27.49 57.19 28.54 57.61 29.61 58.03 30.68 58.44 31.77 58.86 32.87 59.28 33.99 59.69 35.11 60.11 36.23 60.53 37.37 60.95 38.51 61.36 39.66 61.78 40.81 62.2 41.96 62.61 43.11 63.03 44.26 63.45 45.41 63.86 46.56 64.28 47.7 64.7 48.84 65.12 49.97 65.53 51.1 65.95 52.22 66.37 53.32 66.78 54.42 67.2 55.5 67.62 56.57 68.03 57.63 68.45 58.67 68.87 59.7 69.29 60.71 69.7 61.7 70.12 62.67 70.54 63.62 70.95 64.55 71.37 65.45 71.79 66.33 72.21 67.19 72.62 68.03 73.04 68.83 73.46 69.61 73.87 70.37 74.29 71.09 74.71 71.79 75.12 72.45 75.54 73.09 75.96 73.69 76.38 74.26 76.79 74.8 77.21 75.31 77.63 75.78 78.04 76.22 78.46 76.63 78.88 77 79.29 77.33 79.71 77.63 80.13 77.89 80.55 78.12 80.96 78.31 81.38 78.47 81.8 78.58 82.21 78.66 82.63 78.71 83.05 78.71 83.46 78.68 83.88 78.61 84.3 78.51 84.72 78.37 85.13 78.19 85.55 77.98 85.97 77.73 86.38 77.44 86.8 77.12 87.22 76.76 87.64 76.37 88.05 75.94 88.47 75.48 88.89 74.98 89.3 74.45 89.72 73.89 90.14 73.3 90.55 72.68 90.97 72.02 91.39 71.34 91.81 70.62 92.22 69.88 92.64 69.11 93.06 68.31 93.47 67.48 93.89 66.63 94.31 65.76 94.72 64.86 95.14 63.94 95.56 63 95.98 62.04 96.39 61.05 96.81 60.05 97.23 59.03 97.64 57.99 98.06 56.94 98.48 55.88 98.89 54.8 99.31 53.7 99.73 52.6 100.15 51.49 100.56 50.36 100.98 49.23 101.4 48.1 101.81 46.95 102.23 45.81 102.65 44.66 103.07 43.51 103.48 42.36 103.9 41.2 104.32 40.05 104.73 38.91 105.15 37.76 105.57 36.63 105.98 35.5 106.4 34.37 106.82 33.26 107.24 32.15 107.65 31.06 108.07 29.98 108.49 28.91 108.9 27.86 109.32 26.82 109.74 25.79 110.15 24.79 110.57 23.8 110.99 22.84 111.41 21.89 111.82 20.97 112.24 20.07 112.66 19.19 113.07 18.34 113.49 17.51 113.91 16.71 114.32 15.93 114.74 15.19 115.16 14.47 115.58 13.78 115.99 13.12 116.41 12.49 116.83 11.9 117.24 11.33 117.66 10.8 118.08 10.3 118.5 9.83 118.91 9.4 119.33 9 119.75 8.64 120.16 8.31 120.58 8.02 121 7.77 121.41 7.55 121.83 7.37 122.25 7.22 122.67 7.11 123.08 7.04 123.5 7 123.92 7.01 124.33 7.04 124.75 7.12 125.17 7.23 125.58 7.38\" id=\"img-cd557cd9-252\" class=\"geometry color_f1\" stroke=\"#00BFFF\"/>\n",
       "        <path fill=\"none\" d=\"M21.75,7 L 22.16 7.02 22.58 7.07 23 7.17 23.41 7.3 23.83 7.46 24.25 7.66 24.66 7.9 25.08 8.18 25.5 8.49 25.92 8.83 26.33 9.22 26.75 9.63 27.17 10.08 27.58 10.57 28 11.08 28.42 11.63 28.83 12.22 29.25 12.83 29.67 13.48 30.09 14.15 30.5 14.86 30.92 15.59 31.34 16.35 31.75 17.14 32.17 17.96 32.59 18.8 33 19.67 33.42 20.56 33.84 21.47 34.26 22.41 34.67 23.36 35.09 24.34 35.51 25.34 35.92 26.35 36.34 27.38 36.76 28.43 37.17 29.49 37.59 30.56 38.01 31.65 38.43 32.75 38.84 33.86 39.26 34.98 39.68 36.11 40.09 37.25 40.51 38.39 40.93 39.53 41.35 40.68 41.76 41.83 42.18 42.98 42.6 44.13 43.01 45.29 43.43 46.43 43.85 47.58 44.26 48.72 44.68 49.85 45.1 50.98 45.52 52.09 45.93 53.2 46.35 54.3 46.77 55.39 47.18 56.46 47.6 57.52 48.02 58.56 48.43 59.59 48.85 60.6 49.27 61.59 49.69 62.56 50.1 63.51 50.52 64.45 50.94 65.35 51.35 66.24 51.77 67.1 52.19 67.94 52.6 68.75 53.02 69.53 53.44 70.29 53.86 71.01 54.27 71.71 54.69 72.38 55.11 73.02 55.52 73.63 55.94 74.2 56.36 74.75 56.78 75.26 57.19 75.73 57.61 76.18 58.03 76.58 58.44 76.96 58.86 77.3 59.28 77.6 59.69 77.87 60.11 78.1 60.53 78.29 60.95 78.45 61.36 78.57 61.78 78.66 62.2 78.7 62.61 78.71 63.03 78.69 63.45 78.62 63.86 78.52 64.28 78.39 64.7 78.21 65.12 78 65.53 77.76 65.95 77.47 66.37 77.15 66.78 76.8 67.2 76.41 67.62 75.99 68.03 75.53 68.45 75.04 68.87 74.51 69.29 73.96 69.7 73.37 70.12 72.75 70.54 72.09 70.95 71.41 71.37 70.7 71.79 69.96 72.21 69.19 72.62 68.4 73.04 67.58 73.46 66.73 73.87 65.86 74.29 64.96 74.71 64.04 75.12 63.1 75.54 62.14 75.96 61.16 76.38 60.16 76.79 59.14 77.21 58.11 77.63 57.06 78.04 55.99 78.46 54.91 78.88 53.82 79.29 52.72 79.71 51.61 80.13 50.49 80.55 49.36 80.96 48.22 81.38 47.08 81.8 45.93 82.21 44.78 82.63 43.63 83.05 42.48 83.46 41.33 83.88 40.18 84.3 39.03 84.72 37.89 85.13 36.75 85.55 35.62 85.97 34.49 86.38 33.38 86.8 32.27 87.22 31.18 87.64 30.09 88.05 29.02 88.47 27.97 88.89 26.93 89.3 25.91 89.72 24.9 90.14 23.91 90.55 22.94 90.97 22 91.39 21.07 91.81 20.17 92.22 19.29 92.64 18.43 93.06 17.6 93.47 16.79 93.89 16.02 94.31 15.27 94.72 14.55 95.14 13.85 95.56 13.19 95.98 12.56 96.39 11.96 96.81 11.39 97.23 10.85 97.64 10.35 98.06 9.88 98.48 9.45 98.89 9.05 99.31 8.68 99.73 8.35 100.15 8.05 100.56 7.79 100.98 7.57 101.4 7.38 101.81 7.23 102.23 7.12 102.65 7.05 103.07 7.01 103.48 7 103.9 7.04 104.32 7.11 104.73 7.22 105.15 7.36 105.57 7.55 105.98 7.76 106.4 8.02 106.82 8.31 107.24 8.64 107.65 9 108.07 9.39 108.49 9.82 108.9 10.29 109.32 10.79 109.74 11.32 110.15 11.88 110.57 12.48 110.99 13.11 111.41 13.77 111.82 14.46 112.24 15.17 112.66 15.92 113.07 16.69 113.49 17.49 113.91 18.32 114.32 19.17 114.74 20.05 115.16 20.95 115.58 21.88 115.99 22.82 116.41 23.79 116.83 24.77 117.24 25.78 117.66 26.8 118.08 27.83 118.5 28.89 118.91 29.96 119.33 31.04 119.75 32.13 120.16 33.24 120.58 34.35 121 35.47 121.41 36.6 121.83 37.74 122.25 38.89 122.67 40.03 123.08 41.18 123.5 42.33 123.92 43.49 124.33 44.64 124.75 45.79 125.17 46.93 125.58 48.07\" id=\"img-cd557cd9-253\" class=\"geometry color_f2\" stroke=\"#D4CA3A\"/>\n",
       "        <path fill=\"none\" d=\"M21.75,42.86 L 22.16 42.28 22.58 41.71 23 41.13 23.41 40.56 23.83 39.99 24.25 39.42 24.66 38.85 25.08 38.29 25.5 37.73 25.92 37.17 26.33 36.62 26.75 36.07 27.17 35.53 27.58 35 28 34.47 28.42 33.94 28.83 33.43 29.25 32.92 29.67 32.41 30.09 31.92 30.5 31.44 30.92 30.96 31.34 30.49 31.75 30.04 32.17 29.59 32.59 29.15 33 28.72 33.42 28.31 33.84 27.9 34.26 27.51 34.67 27.13 35.09 26.76 35.51 26.4 35.92 26.05 36.34 25.72 36.76 25.4 37.17 25.09 37.59 24.8 38.01 24.52 38.43 24.26 38.84 24.01 39.26 23.77 39.68 23.55 40.09 23.34 40.51 23.14 40.93 22.97 41.35 22.8 41.76 22.65 42.18 22.52 42.6 22.4 43.01 22.3 43.43 22.21 43.85 22.13 44.26 22.08 44.68 22.03 45.1 22.01 45.52 21.99 45.93 22 46.35 22.01 46.77 22.05 47.18 22.1 47.6 22.16 48.02 22.24 48.43 22.33 48.85 22.44 49.27 22.56 49.69 22.7 50.1 22.85 50.52 23.01 50.94 23.19 51.35 23.38 51.77 23.59 52.19 23.8 52.6 24.04 53.02 24.28 53.44 24.54 53.86 24.81 54.27 25.09 54.69 25.38 55.11 25.68 55.52 26 55.94 26.33 56.36 26.66 56.78 27.01 57.19 27.37 57.61 27.73 58.03 28.11 58.44 28.49 58.86 28.89 59.28 29.29 59.69 29.7 60.11 30.12 60.53 30.54 60.95 30.97 61.36 31.41 61.78 31.85 62.2 32.3 62.61 32.75 63.03 33.21 63.45 33.67 63.86 34.14 64.28 34.61 64.7 35.08 65.12 35.56 65.53 36.04 65.95 36.52 66.37 37 66.78 37.48 67.2 37.96 67.62 38.44 68.03 38.93 68.45 39.41 68.87 39.89 69.29 40.37 69.7 40.85 70.12 41.33 70.54 41.8 70.95 42.27 71.37 42.74 71.79 43.2 72.21 43.66 72.62 44.11 73.04 44.56 73.46 45.01 73.87 45.44 74.29 45.88 74.71 46.3 75.12 46.72 75.54 47.13 75.96 47.54 76.38 47.94 76.79 48.33 77.21 48.71 77.63 49.08 78.04 49.45 78.46 49.8 78.88 50.15 79.29 50.48 79.71 50.81 80.13 51.12 80.55 51.43 80.96 51.72 81.38 52.01 81.8 52.28 82.21 52.54 82.63 52.79 83.05 53.03 83.46 53.26 83.88 53.48 84.3 53.68 84.72 53.87 85.13 54.05 85.55 54.22 85.97 54.38 86.38 54.52 86.8 54.65 87.22 54.77 87.64 54.88 88.05 54.97 88.47 55.05 88.89 55.12 89.3 55.17 89.72 55.21 90.14 55.25 90.55 55.26 90.97 55.27 91.39 55.26 91.81 55.24 92.22 55.21 92.64 55.17 93.06 55.11 93.47 55.05 93.89 54.97 94.31 54.88 94.72 54.77 95.14 54.66 95.56 54.54 95.98 54.4 96.39 54.25 96.81 54.1 97.23 53.93 97.64 53.75 98.06 53.56 98.48 53.37 98.89 53.16 99.31 52.95 99.73 52.72 100.15 52.49 100.56 52.25 100.98 52 101.4 51.74 101.81 51.47 102.23 51.2 102.65 50.92 103.07 50.64 103.48 50.34 103.9 50.05 104.32 49.74 104.73 49.43 105.15 49.12 105.57 48.8 105.98 48.48 106.4 48.15 106.82 47.82 107.24 47.48 107.65 47.14 108.07 46.8 108.49 46.46 108.9 46.12 109.32 45.77 109.74 45.42 110.15 45.07 110.57 44.72 110.99 44.38 111.41 44.03 111.82 43.68 112.24 43.33 112.66 42.98 113.07 42.64 113.49 42.29 113.91 41.95 114.32 41.61 114.74 41.28 115.16 40.94 115.58 40.61 115.99 40.29 116.41 39.96 116.83 39.65 117.24 39.33 117.66 39.03 118.08 38.72 118.5 38.43 118.91 38.13 119.33 37.85 119.75 37.57 120.16 37.3 120.58 37.03 121 36.77 121.41 36.52 121.83 36.27 122.25 36.04 122.67 35.81 123.08 35.59 123.5 35.38 123.92 35.17 124.33 34.98 124.75 34.79 125.17 34.61 125.58 34.44\" id=\"img-cd557cd9-254\" class=\"geometry color_f3\" stroke=\"#FF6DAE\"/>\n",
       "      </g>\n",
       "    </g>\n",
       "    <g opacity=\"0\" class=\"guide zoomslider\" stroke=\"#000000\" stroke-opacity=\"0.000\" id=\"img-cd557cd9-255\">\n",
       "      <g fill=\"#EAEAEA\" stroke-width=\"0.3\" stroke-opacity=\"0\" stroke=\"#6A6A6A\" id=\"img-cd557cd9-256\">\n",
       "        <rect x=\"120.58\" y=\"8\" width=\"4\" height=\"4\" id=\"img-cd557cd9-257\"/>\n",
       "        <g class=\"button_logo\" fill=\"#6A6A6A\" id=\"img-cd557cd9-258\">\n",
       "          <path d=\"M121.38,9.6 L 122.18 9.6 122.18 8.8 122.98 8.8 122.98 9.6 123.78 9.6 123.78 10.4 122.98 10.4 122.98 11.2 122.18 11.2 122.18 10.4 121.38 10.4 z\" id=\"img-cd557cd9-259\"/>\n",
       "        </g>\n",
       "      </g>\n",
       "      <g fill=\"#EAEAEA\" id=\"img-cd557cd9-260\">\n",
       "        <rect x=\"101.08\" y=\"8\" width=\"19\" height=\"4\" id=\"img-cd557cd9-261\"/>\n",
       "      </g>\n",
       "      <g class=\"zoomslider_thumb\" fill=\"#6A6A6A\" id=\"img-cd557cd9-262\">\n",
       "        <rect x=\"109.58\" y=\"8\" width=\"2\" height=\"4\" id=\"img-cd557cd9-263\"/>\n",
       "      </g>\n",
       "      <g fill=\"#EAEAEA\" stroke-width=\"0.3\" stroke-opacity=\"0\" stroke=\"#6A6A6A\" id=\"img-cd557cd9-264\">\n",
       "        <rect x=\"96.58\" y=\"8\" width=\"4\" height=\"4\" id=\"img-cd557cd9-265\"/>\n",
       "        <g class=\"button_logo\" fill=\"#6A6A6A\" id=\"img-cd557cd9-266\">\n",
       "          <path d=\"M97.38,9.6 L 99.78 9.6 99.78 10.4 97.38 10.4 z\" id=\"img-cd557cd9-267\"/>\n",
       "        </g>\n",
       "      </g>\n",
       "    </g>\n",
       "  </g>\n",
       "</g>\n",
       "  <g class=\"guide ylabels\" font-size=\"2.82\" font-family=\"'PT Sans Caption','Helvetica Neue','Helvetica',sans-serif\" fill=\"#6C606B\" id=\"img-cd557cd9-268\">\n",
       "    <text x=\"18.74\" y=\"168.36\" text-anchor=\"end\" dy=\"0.35em\" id=\"img-cd557cd9-269\" gadfly:scale=\"1.0\" visibility=\"hidden\">-3.5</text>\n",
       "    <text x=\"18.74\" y=\"150.43\" text-anchor=\"end\" dy=\"0.35em\" id=\"img-cd557cd9-270\" gadfly:scale=\"1.0\" visibility=\"hidden\">-3.0</text>\n",
       "    <text x=\"18.74\" y=\"132.5\" text-anchor=\"end\" dy=\"0.35em\" id=\"img-cd557cd9-271\" gadfly:scale=\"1.0\" visibility=\"hidden\">-2.5</text>\n",
       "    <text x=\"18.74\" y=\"114.57\" text-anchor=\"end\" dy=\"0.35em\" id=\"img-cd557cd9-272\" gadfly:scale=\"1.0\" visibility=\"hidden\">-2.0</text>\n",
       "    <text x=\"18.74\" y=\"96.64\" text-anchor=\"end\" dy=\"0.35em\" id=\"img-cd557cd9-273\" gadfly:scale=\"1.0\" visibility=\"hidden\">-1.5</text>\n",
       "    <text x=\"18.74\" y=\"78.71\" text-anchor=\"end\" dy=\"0.35em\" id=\"img-cd557cd9-274\" gadfly:scale=\"1.0\" visibility=\"visible\">-1.0</text>\n",
       "    <text x=\"18.74\" y=\"60.79\" text-anchor=\"end\" dy=\"0.35em\" id=\"img-cd557cd9-275\" gadfly:scale=\"1.0\" visibility=\"visible\">-0.5</text>\n",
       "    <text x=\"18.74\" y=\"42.86\" text-anchor=\"end\" dy=\"0.35em\" id=\"img-cd557cd9-276\" gadfly:scale=\"1.0\" visibility=\"visible\">0.0</text>\n",
       "    <text x=\"18.74\" y=\"24.93\" text-anchor=\"end\" dy=\"0.35em\" id=\"img-cd557cd9-277\" gadfly:scale=\"1.0\" visibility=\"visible\">0.5</text>\n",
       "    <text x=\"18.74\" y=\"7\" text-anchor=\"end\" dy=\"0.35em\" id=\"img-cd557cd9-278\" gadfly:scale=\"1.0\" visibility=\"visible\">1.0</text>\n",
       "    <text x=\"18.74\" y=\"-10.93\" text-anchor=\"end\" dy=\"0.35em\" id=\"img-cd557cd9-279\" gadfly:scale=\"1.0\" visibility=\"hidden\">1.5</text>\n",
       "    <text x=\"18.74\" y=\"-28.86\" text-anchor=\"end\" dy=\"0.35em\" id=\"img-cd557cd9-280\" gadfly:scale=\"1.0\" visibility=\"hidden\">2.0</text>\n",
       "    <text x=\"18.74\" y=\"-46.79\" text-anchor=\"end\" dy=\"0.35em\" id=\"img-cd557cd9-281\" gadfly:scale=\"1.0\" visibility=\"hidden\">2.5</text>\n",
       "    <text x=\"18.74\" y=\"-64.71\" text-anchor=\"end\" dy=\"0.35em\" id=\"img-cd557cd9-282\" gadfly:scale=\"1.0\" visibility=\"hidden\">3.0</text>\n",
       "    <text x=\"18.74\" y=\"-82.64\" text-anchor=\"end\" dy=\"0.35em\" id=\"img-cd557cd9-283\" gadfly:scale=\"1.0\" visibility=\"hidden\">3.5</text>\n",
       "    <text x=\"18.74\" y=\"150.43\" text-anchor=\"end\" dy=\"0.35em\" id=\"img-cd557cd9-284\" gadfly:scale=\"10.0\" visibility=\"hidden\">-3.0</text>\n",
       "    <text x=\"18.74\" y=\"146.84\" text-anchor=\"end\" dy=\"0.35em\" id=\"img-cd557cd9-285\" gadfly:scale=\"10.0\" visibility=\"hidden\">-2.9</text>\n",
       "    <text x=\"18.74\" y=\"143.26\" text-anchor=\"end\" dy=\"0.35em\" id=\"img-cd557cd9-286\" gadfly:scale=\"10.0\" visibility=\"hidden\">-2.8</text>\n",
       "    <text x=\"18.74\" y=\"139.67\" text-anchor=\"end\" dy=\"0.35em\" id=\"img-cd557cd9-287\" gadfly:scale=\"10.0\" visibility=\"hidden\">-2.7</text>\n",
       "    <text x=\"18.74\" y=\"136.09\" text-anchor=\"end\" dy=\"0.35em\" id=\"img-cd557cd9-288\" gadfly:scale=\"10.0\" visibility=\"hidden\">-2.6</text>\n",
       "    <text x=\"18.74\" y=\"132.5\" text-anchor=\"end\" dy=\"0.35em\" id=\"img-cd557cd9-289\" gadfly:scale=\"10.0\" visibility=\"hidden\">-2.5</text>\n",
       "    <text x=\"18.74\" y=\"128.92\" text-anchor=\"end\" dy=\"0.35em\" id=\"img-cd557cd9-290\" gadfly:scale=\"10.0\" visibility=\"hidden\">-2.4</text>\n",
       "    <text x=\"18.74\" y=\"125.33\" text-anchor=\"end\" dy=\"0.35em\" id=\"img-cd557cd9-291\" gadfly:scale=\"10.0\" visibility=\"hidden\">-2.3</text>\n",
       "    <text x=\"18.74\" y=\"121.74\" text-anchor=\"end\" dy=\"0.35em\" id=\"img-cd557cd9-292\" gadfly:scale=\"10.0\" visibility=\"hidden\">-2.2</text>\n",
       "    <text x=\"18.74\" y=\"118.16\" text-anchor=\"end\" dy=\"0.35em\" id=\"img-cd557cd9-293\" gadfly:scale=\"10.0\" visibility=\"hidden\">-2.1</text>\n",
       "    <text x=\"18.74\" y=\"114.57\" text-anchor=\"end\" dy=\"0.35em\" id=\"img-cd557cd9-294\" gadfly:scale=\"10.0\" visibility=\"hidden\">-2.0</text>\n",
       "    <text x=\"18.74\" y=\"110.99\" text-anchor=\"end\" dy=\"0.35em\" id=\"img-cd557cd9-295\" gadfly:scale=\"10.0\" visibility=\"hidden\">-1.9</text>\n",
       "    <text x=\"18.74\" y=\"107.4\" text-anchor=\"end\" dy=\"0.35em\" id=\"img-cd557cd9-296\" gadfly:scale=\"10.0\" visibility=\"hidden\">-1.8</text>\n",
       "    <text x=\"18.74\" y=\"103.82\" text-anchor=\"end\" dy=\"0.35em\" id=\"img-cd557cd9-297\" gadfly:scale=\"10.0\" visibility=\"hidden\">-1.7</text>\n",
       "    <text x=\"18.74\" y=\"100.23\" text-anchor=\"end\" dy=\"0.35em\" id=\"img-cd557cd9-298\" gadfly:scale=\"10.0\" visibility=\"hidden\">-1.6</text>\n",
       "    <text x=\"18.74\" y=\"96.64\" text-anchor=\"end\" dy=\"0.35em\" id=\"img-cd557cd9-299\" gadfly:scale=\"10.0\" visibility=\"hidden\">-1.5</text>\n",
       "    <text x=\"18.74\" y=\"93.06\" text-anchor=\"end\" dy=\"0.35em\" id=\"img-cd557cd9-300\" gadfly:scale=\"10.0\" visibility=\"hidden\">-1.4</text>\n",
       "    <text x=\"18.74\" y=\"89.47\" text-anchor=\"end\" dy=\"0.35em\" id=\"img-cd557cd9-301\" gadfly:scale=\"10.0\" visibility=\"hidden\">-1.3</text>\n",
       "    <text x=\"18.74\" y=\"85.89\" text-anchor=\"end\" dy=\"0.35em\" id=\"img-cd557cd9-302\" gadfly:scale=\"10.0\" visibility=\"hidden\">-1.2</text>\n",
       "    <text x=\"18.74\" y=\"82.3\" text-anchor=\"end\" dy=\"0.35em\" id=\"img-cd557cd9-303\" gadfly:scale=\"10.0\" visibility=\"hidden\">-1.1</text>\n",
       "    <text x=\"18.74\" y=\"78.71\" text-anchor=\"end\" dy=\"0.35em\" id=\"img-cd557cd9-304\" gadfly:scale=\"10.0\" visibility=\"hidden\">-1.0</text>\n",
       "    <text x=\"18.74\" y=\"75.13\" text-anchor=\"end\" dy=\"0.35em\" id=\"img-cd557cd9-305\" gadfly:scale=\"10.0\" visibility=\"hidden\">-0.9</text>\n",
       "    <text x=\"18.74\" y=\"71.54\" text-anchor=\"end\" dy=\"0.35em\" id=\"img-cd557cd9-306\" gadfly:scale=\"10.0\" visibility=\"hidden\">-0.8</text>\n",
       "    <text x=\"18.74\" y=\"67.96\" text-anchor=\"end\" dy=\"0.35em\" id=\"img-cd557cd9-307\" gadfly:scale=\"10.0\" visibility=\"hidden\">-0.7</text>\n",
       "    <text x=\"18.74\" y=\"64.37\" text-anchor=\"end\" dy=\"0.35em\" id=\"img-cd557cd9-308\" gadfly:scale=\"10.0\" visibility=\"hidden\">-0.6</text>\n",
       "    <text x=\"18.74\" y=\"60.79\" text-anchor=\"end\" dy=\"0.35em\" id=\"img-cd557cd9-309\" gadfly:scale=\"10.0\" visibility=\"hidden\">-0.5</text>\n",
       "    <text x=\"18.74\" y=\"57.2\" text-anchor=\"end\" dy=\"0.35em\" id=\"img-cd557cd9-310\" gadfly:scale=\"10.0\" visibility=\"hidden\">-0.4</text>\n",
       "    <text x=\"18.74\" y=\"53.61\" text-anchor=\"end\" dy=\"0.35em\" id=\"img-cd557cd9-311\" gadfly:scale=\"10.0\" visibility=\"hidden\">-0.3</text>\n",
       "    <text x=\"18.74\" y=\"50.03\" text-anchor=\"end\" dy=\"0.35em\" id=\"img-cd557cd9-312\" gadfly:scale=\"10.0\" visibility=\"hidden\">-0.2</text>\n",
       "    <text x=\"18.74\" y=\"46.44\" text-anchor=\"end\" dy=\"0.35em\" id=\"img-cd557cd9-313\" gadfly:scale=\"10.0\" visibility=\"hidden\">-0.1</text>\n",
       "    <text x=\"18.74\" y=\"42.86\" text-anchor=\"end\" dy=\"0.35em\" id=\"img-cd557cd9-314\" gadfly:scale=\"10.0\" visibility=\"hidden\">0.0</text>\n",
       "    <text x=\"18.74\" y=\"39.27\" text-anchor=\"end\" dy=\"0.35em\" id=\"img-cd557cd9-315\" gadfly:scale=\"10.0\" visibility=\"hidden\">0.1</text>\n",
       "    <text x=\"18.74\" y=\"35.69\" text-anchor=\"end\" dy=\"0.35em\" id=\"img-cd557cd9-316\" gadfly:scale=\"10.0\" visibility=\"hidden\">0.2</text>\n",
       "    <text x=\"18.74\" y=\"32.1\" text-anchor=\"end\" dy=\"0.35em\" id=\"img-cd557cd9-317\" gadfly:scale=\"10.0\" visibility=\"hidden\">0.3</text>\n",
       "    <text x=\"18.74\" y=\"28.51\" text-anchor=\"end\" dy=\"0.35em\" id=\"img-cd557cd9-318\" gadfly:scale=\"10.0\" visibility=\"hidden\">0.4</text>\n",
       "    <text x=\"18.74\" y=\"24.93\" text-anchor=\"end\" dy=\"0.35em\" id=\"img-cd557cd9-319\" gadfly:scale=\"10.0\" visibility=\"hidden\">0.5</text>\n",
       "    <text x=\"18.74\" y=\"21.34\" text-anchor=\"end\" dy=\"0.35em\" id=\"img-cd557cd9-320\" gadfly:scale=\"10.0\" visibility=\"hidden\">0.6</text>\n",
       "    <text x=\"18.74\" y=\"17.76\" text-anchor=\"end\" dy=\"0.35em\" id=\"img-cd557cd9-321\" gadfly:scale=\"10.0\" visibility=\"hidden\">0.7</text>\n",
       "    <text x=\"18.74\" y=\"14.17\" text-anchor=\"end\" dy=\"0.35em\" id=\"img-cd557cd9-322\" gadfly:scale=\"10.0\" visibility=\"hidden\">0.8</text>\n",
       "    <text x=\"18.74\" y=\"10.59\" text-anchor=\"end\" dy=\"0.35em\" id=\"img-cd557cd9-323\" gadfly:scale=\"10.0\" visibility=\"hidden\">0.9</text>\n",
       "    <text x=\"18.74\" y=\"7\" text-anchor=\"end\" dy=\"0.35em\" id=\"img-cd557cd9-324\" gadfly:scale=\"10.0\" visibility=\"hidden\">1.0</text>\n",
       "    <text x=\"18.74\" y=\"3.41\" text-anchor=\"end\" dy=\"0.35em\" id=\"img-cd557cd9-325\" gadfly:scale=\"10.0\" visibility=\"hidden\">1.1</text>\n",
       "    <text x=\"18.74\" y=\"-0.17\" text-anchor=\"end\" dy=\"0.35em\" id=\"img-cd557cd9-326\" gadfly:scale=\"10.0\" visibility=\"hidden\">1.2</text>\n",
       "    <text x=\"18.74\" y=\"-3.76\" text-anchor=\"end\" dy=\"0.35em\" id=\"img-cd557cd9-327\" gadfly:scale=\"10.0\" visibility=\"hidden\">1.3</text>\n",
       "    <text x=\"18.74\" y=\"-7.34\" text-anchor=\"end\" dy=\"0.35em\" id=\"img-cd557cd9-328\" gadfly:scale=\"10.0\" visibility=\"hidden\">1.4</text>\n",
       "    <text x=\"18.74\" y=\"-10.93\" text-anchor=\"end\" dy=\"0.35em\" id=\"img-cd557cd9-329\" gadfly:scale=\"10.0\" visibility=\"hidden\">1.5</text>\n",
       "    <text x=\"18.74\" y=\"-14.51\" text-anchor=\"end\" dy=\"0.35em\" id=\"img-cd557cd9-330\" gadfly:scale=\"10.0\" visibility=\"hidden\">1.6</text>\n",
       "    <text x=\"18.74\" y=\"-18.1\" text-anchor=\"end\" dy=\"0.35em\" id=\"img-cd557cd9-331\" gadfly:scale=\"10.0\" visibility=\"hidden\">1.7</text>\n",
       "    <text x=\"18.74\" y=\"-21.69\" text-anchor=\"end\" dy=\"0.35em\" id=\"img-cd557cd9-332\" gadfly:scale=\"10.0\" visibility=\"hidden\">1.8</text>\n",
       "    <text x=\"18.74\" y=\"-25.27\" text-anchor=\"end\" dy=\"0.35em\" id=\"img-cd557cd9-333\" gadfly:scale=\"10.0\" visibility=\"hidden\">1.9</text>\n",
       "    <text x=\"18.74\" y=\"-28.86\" text-anchor=\"end\" dy=\"0.35em\" id=\"img-cd557cd9-334\" gadfly:scale=\"10.0\" visibility=\"hidden\">2.0</text>\n",
       "    <text x=\"18.74\" y=\"-32.44\" text-anchor=\"end\" dy=\"0.35em\" id=\"img-cd557cd9-335\" gadfly:scale=\"10.0\" visibility=\"hidden\">2.1</text>\n",
       "    <text x=\"18.74\" y=\"-36.03\" text-anchor=\"end\" dy=\"0.35em\" id=\"img-cd557cd9-336\" gadfly:scale=\"10.0\" visibility=\"hidden\">2.2</text>\n",
       "    <text x=\"18.74\" y=\"-39.61\" text-anchor=\"end\" dy=\"0.35em\" id=\"img-cd557cd9-337\" gadfly:scale=\"10.0\" visibility=\"hidden\">2.3</text>\n",
       "    <text x=\"18.74\" y=\"-43.2\" text-anchor=\"end\" dy=\"0.35em\" id=\"img-cd557cd9-338\" gadfly:scale=\"10.0\" visibility=\"hidden\">2.4</text>\n",
       "    <text x=\"18.74\" y=\"-46.79\" text-anchor=\"end\" dy=\"0.35em\" id=\"img-cd557cd9-339\" gadfly:scale=\"10.0\" visibility=\"hidden\">2.5</text>\n",
       "    <text x=\"18.74\" y=\"-50.37\" text-anchor=\"end\" dy=\"0.35em\" id=\"img-cd557cd9-340\" gadfly:scale=\"10.0\" visibility=\"hidden\">2.6</text>\n",
       "    <text x=\"18.74\" y=\"-53.96\" text-anchor=\"end\" dy=\"0.35em\" id=\"img-cd557cd9-341\" gadfly:scale=\"10.0\" visibility=\"hidden\">2.7</text>\n",
       "    <text x=\"18.74\" y=\"-57.54\" text-anchor=\"end\" dy=\"0.35em\" id=\"img-cd557cd9-342\" gadfly:scale=\"10.0\" visibility=\"hidden\">2.8</text>\n",
       "    <text x=\"18.74\" y=\"-61.13\" text-anchor=\"end\" dy=\"0.35em\" id=\"img-cd557cd9-343\" gadfly:scale=\"10.0\" visibility=\"hidden\">2.9</text>\n",
       "    <text x=\"18.74\" y=\"-64.71\" text-anchor=\"end\" dy=\"0.35em\" id=\"img-cd557cd9-344\" gadfly:scale=\"10.0\" visibility=\"hidden\">3.0</text>\n",
       "    <text x=\"18.74\" y=\"186.29\" text-anchor=\"end\" dy=\"0.35em\" id=\"img-cd557cd9-345\" gadfly:scale=\"0.5\" visibility=\"hidden\">-4</text>\n",
       "    <text x=\"18.74\" y=\"114.57\" text-anchor=\"end\" dy=\"0.35em\" id=\"img-cd557cd9-346\" gadfly:scale=\"0.5\" visibility=\"hidden\">-2</text>\n",
       "    <text x=\"18.74\" y=\"42.86\" text-anchor=\"end\" dy=\"0.35em\" id=\"img-cd557cd9-347\" gadfly:scale=\"0.5\" visibility=\"hidden\">0</text>\n",
       "    <text x=\"18.74\" y=\"-28.86\" text-anchor=\"end\" dy=\"0.35em\" id=\"img-cd557cd9-348\" gadfly:scale=\"0.5\" visibility=\"hidden\">2</text>\n",
       "    <text x=\"18.74\" y=\"-100.57\" text-anchor=\"end\" dy=\"0.35em\" id=\"img-cd557cd9-349\" gadfly:scale=\"0.5\" visibility=\"hidden\">4</text>\n",
       "    <text x=\"18.74\" y=\"150.43\" text-anchor=\"end\" dy=\"0.35em\" id=\"img-cd557cd9-350\" gadfly:scale=\"5.0\" visibility=\"hidden\">-3.0</text>\n",
       "    <text x=\"18.74\" y=\"143.26\" text-anchor=\"end\" dy=\"0.35em\" id=\"img-cd557cd9-351\" gadfly:scale=\"5.0\" visibility=\"hidden\">-2.8</text>\n",
       "    <text x=\"18.74\" y=\"136.09\" text-anchor=\"end\" dy=\"0.35em\" id=\"img-cd557cd9-352\" gadfly:scale=\"5.0\" visibility=\"hidden\">-2.6</text>\n",
       "    <text x=\"18.74\" y=\"128.92\" text-anchor=\"end\" dy=\"0.35em\" id=\"img-cd557cd9-353\" gadfly:scale=\"5.0\" visibility=\"hidden\">-2.4</text>\n",
       "    <text x=\"18.74\" y=\"121.74\" text-anchor=\"end\" dy=\"0.35em\" id=\"img-cd557cd9-354\" gadfly:scale=\"5.0\" visibility=\"hidden\">-2.2</text>\n",
       "    <text x=\"18.74\" y=\"114.57\" text-anchor=\"end\" dy=\"0.35em\" id=\"img-cd557cd9-355\" gadfly:scale=\"5.0\" visibility=\"hidden\">-2.0</text>\n",
       "    <text x=\"18.74\" y=\"107.4\" text-anchor=\"end\" dy=\"0.35em\" id=\"img-cd557cd9-356\" gadfly:scale=\"5.0\" visibility=\"hidden\">-1.8</text>\n",
       "    <text x=\"18.74\" y=\"100.23\" text-anchor=\"end\" dy=\"0.35em\" id=\"img-cd557cd9-357\" gadfly:scale=\"5.0\" visibility=\"hidden\">-1.6</text>\n",
       "    <text x=\"18.74\" y=\"93.06\" text-anchor=\"end\" dy=\"0.35em\" id=\"img-cd557cd9-358\" gadfly:scale=\"5.0\" visibility=\"hidden\">-1.4</text>\n",
       "    <text x=\"18.74\" y=\"85.89\" text-anchor=\"end\" dy=\"0.35em\" id=\"img-cd557cd9-359\" gadfly:scale=\"5.0\" visibility=\"hidden\">-1.2</text>\n",
       "    <text x=\"18.74\" y=\"78.71\" text-anchor=\"end\" dy=\"0.35em\" id=\"img-cd557cd9-360\" gadfly:scale=\"5.0\" visibility=\"hidden\">-1.0</text>\n",
       "    <text x=\"18.74\" y=\"71.54\" text-anchor=\"end\" dy=\"0.35em\" id=\"img-cd557cd9-361\" gadfly:scale=\"5.0\" visibility=\"hidden\">-0.8</text>\n",
       "    <text x=\"18.74\" y=\"64.37\" text-anchor=\"end\" dy=\"0.35em\" id=\"img-cd557cd9-362\" gadfly:scale=\"5.0\" visibility=\"hidden\">-0.6</text>\n",
       "    <text x=\"18.74\" y=\"57.2\" text-anchor=\"end\" dy=\"0.35em\" id=\"img-cd557cd9-363\" gadfly:scale=\"5.0\" visibility=\"hidden\">-0.4</text>\n",
       "    <text x=\"18.74\" y=\"50.03\" text-anchor=\"end\" dy=\"0.35em\" id=\"img-cd557cd9-364\" gadfly:scale=\"5.0\" visibility=\"hidden\">-0.2</text>\n",
       "    <text x=\"18.74\" y=\"42.86\" text-anchor=\"end\" dy=\"0.35em\" id=\"img-cd557cd9-365\" gadfly:scale=\"5.0\" visibility=\"hidden\">0.0</text>\n",
       "    <text x=\"18.74\" y=\"35.69\" text-anchor=\"end\" dy=\"0.35em\" id=\"img-cd557cd9-366\" gadfly:scale=\"5.0\" visibility=\"hidden\">0.2</text>\n",
       "    <text x=\"18.74\" y=\"28.51\" text-anchor=\"end\" dy=\"0.35em\" id=\"img-cd557cd9-367\" gadfly:scale=\"5.0\" visibility=\"hidden\">0.4</text>\n",
       "    <text x=\"18.74\" y=\"21.34\" text-anchor=\"end\" dy=\"0.35em\" id=\"img-cd557cd9-368\" gadfly:scale=\"5.0\" visibility=\"hidden\">0.6</text>\n",
       "    <text x=\"18.74\" y=\"14.17\" text-anchor=\"end\" dy=\"0.35em\" id=\"img-cd557cd9-369\" gadfly:scale=\"5.0\" visibility=\"hidden\">0.8</text>\n",
       "    <text x=\"18.74\" y=\"7\" text-anchor=\"end\" dy=\"0.35em\" id=\"img-cd557cd9-370\" gadfly:scale=\"5.0\" visibility=\"hidden\">1.0</text>\n",
       "    <text x=\"18.74\" y=\"-0.17\" text-anchor=\"end\" dy=\"0.35em\" id=\"img-cd557cd9-371\" gadfly:scale=\"5.0\" visibility=\"hidden\">1.2</text>\n",
       "    <text x=\"18.74\" y=\"-7.34\" text-anchor=\"end\" dy=\"0.35em\" id=\"img-cd557cd9-372\" gadfly:scale=\"5.0\" visibility=\"hidden\">1.4</text>\n",
       "    <text x=\"18.74\" y=\"-14.51\" text-anchor=\"end\" dy=\"0.35em\" id=\"img-cd557cd9-373\" gadfly:scale=\"5.0\" visibility=\"hidden\">1.6</text>\n",
       "    <text x=\"18.74\" y=\"-21.69\" text-anchor=\"end\" dy=\"0.35em\" id=\"img-cd557cd9-374\" gadfly:scale=\"5.0\" visibility=\"hidden\">1.8</text>\n",
       "    <text x=\"18.74\" y=\"-28.86\" text-anchor=\"end\" dy=\"0.35em\" id=\"img-cd557cd9-375\" gadfly:scale=\"5.0\" visibility=\"hidden\">2.0</text>\n",
       "    <text x=\"18.74\" y=\"-36.03\" text-anchor=\"end\" dy=\"0.35em\" id=\"img-cd557cd9-376\" gadfly:scale=\"5.0\" visibility=\"hidden\">2.2</text>\n",
       "    <text x=\"18.74\" y=\"-43.2\" text-anchor=\"end\" dy=\"0.35em\" id=\"img-cd557cd9-377\" gadfly:scale=\"5.0\" visibility=\"hidden\">2.4</text>\n",
       "    <text x=\"18.74\" y=\"-50.37\" text-anchor=\"end\" dy=\"0.35em\" id=\"img-cd557cd9-378\" gadfly:scale=\"5.0\" visibility=\"hidden\">2.6</text>\n",
       "    <text x=\"18.74\" y=\"-57.54\" text-anchor=\"end\" dy=\"0.35em\" id=\"img-cd557cd9-379\" gadfly:scale=\"5.0\" visibility=\"hidden\">2.8</text>\n",
       "    <text x=\"18.74\" y=\"-64.71\" text-anchor=\"end\" dy=\"0.35em\" id=\"img-cd557cd9-380\" gadfly:scale=\"5.0\" visibility=\"hidden\">3.0</text>\n",
       "  </g>\n",
       "  <g font-size=\"3.88\" font-family=\"'PT Sans','Helvetica Neue','Helvetica',sans-serif\" fill=\"#564A55\" stroke=\"#000000\" stroke-opacity=\"0.000\" id=\"img-cd557cd9-381\">\n",
       "    <text x=\"8.81\" y=\"40.86\" text-anchor=\"middle\" dy=\"0.35em\" transform=\"rotate(-90, 8.81, 42.86)\" id=\"img-cd557cd9-382\">f(x)</text>\n",
       "  </g>\n",
       "</g>\n",
       "<defs>\n",
       "  <clipPath id=\"img-cd557cd9-15\">\n",
       "  <path d=\"M19.75,5 L 127.58 5 127.58 80.72 19.75 80.72\" />\n",
       "</clipPath>\n",
       "</defs>\n",
       "<script> <![CDATA[\n",
       "(function(N){var k=/[\\.\\/]/,L=/\\s*,\\s*/,C=function(a,d){return a-d},a,v,y={n:{}},M=function(){for(var a=0,d=this.length;a<d;a++)if(\"undefined\"!=typeof this[a])return this[a]},A=function(){for(var a=this.length;--a;)if(\"undefined\"!=typeof this[a])return this[a]},w=function(k,d){k=String(k);var f=v,n=Array.prototype.slice.call(arguments,2),u=w.listeners(k),p=0,b,q=[],e={},l=[],r=a;l.firstDefined=M;l.lastDefined=A;a=k;for(var s=v=0,x=u.length;s<x;s++)\"zIndex\"in u[s]&&(q.push(u[s].zIndex),0>u[s].zIndex&&\n",
       "(e[u[s].zIndex]=u[s]));for(q.sort(C);0>q[p];)if(b=e[q[p++] ],l.push(b.apply(d,n)),v)return v=f,l;for(s=0;s<x;s++)if(b=u[s],\"zIndex\"in b)if(b.zIndex==q[p]){l.push(b.apply(d,n));if(v)break;do if(p++,(b=e[q[p] ])&&l.push(b.apply(d,n)),v)break;while(b)}else e[b.zIndex]=b;else if(l.push(b.apply(d,n)),v)break;v=f;a=r;return l};w._events=y;w.listeners=function(a){a=a.split(k);var d=y,f,n,u,p,b,q,e,l=[d],r=[];u=0;for(p=a.length;u<p;u++){e=[];b=0;for(q=l.length;b<q;b++)for(d=l[b].n,f=[d[a[u] ],d[\"*\"] ],n=2;n--;)if(d=\n",
       "f[n])e.push(d),r=r.concat(d.f||[]);l=e}return r};w.on=function(a,d){a=String(a);if(\"function\"!=typeof d)return function(){};for(var f=a.split(L),n=0,u=f.length;n<u;n++)(function(a){a=a.split(k);for(var b=y,f,e=0,l=a.length;e<l;e++)b=b.n,b=b.hasOwnProperty(a[e])&&b[a[e] ]||(b[a[e] ]={n:{}});b.f=b.f||[];e=0;for(l=b.f.length;e<l;e++)if(b.f[e]==d){f=!0;break}!f&&b.f.push(d)})(f[n]);return function(a){+a==+a&&(d.zIndex=+a)}};w.f=function(a){var d=[].slice.call(arguments,1);return function(){w.apply(null,\n",
       "[a,null].concat(d).concat([].slice.call(arguments,0)))}};w.stop=function(){v=1};w.nt=function(k){return k?(new RegExp(\"(?:\\\\.|\\\\/|^)\"+k+\"(?:\\\\.|\\\\/|$)\")).test(a):a};w.nts=function(){return a.split(k)};w.off=w.unbind=function(a,d){if(a){var f=a.split(L);if(1<f.length)for(var n=0,u=f.length;n<u;n++)w.off(f[n],d);else{for(var f=a.split(k),p,b,q,e,l=[y],n=0,u=f.length;n<u;n++)for(e=0;e<l.length;e+=q.length-2){q=[e,1];p=l[e].n;if(\"*\"!=f[n])p[f[n] ]&&q.push(p[f[n] ]);else for(b in p)p.hasOwnProperty(b)&&\n",
       "q.push(p[b]);l.splice.apply(l,q)}n=0;for(u=l.length;n<u;n++)for(p=l[n];p.n;){if(d){if(p.f){e=0;for(f=p.f.length;e<f;e++)if(p.f[e]==d){p.f.splice(e,1);break}!p.f.length&&delete p.f}for(b in p.n)if(p.n.hasOwnProperty(b)&&p.n[b].f){q=p.n[b].f;e=0;for(f=q.length;e<f;e++)if(q[e]==d){q.splice(e,1);break}!q.length&&delete p.n[b].f}}else for(b in delete p.f,p.n)p.n.hasOwnProperty(b)&&p.n[b].f&&delete p.n[b].f;p=p.n}}}else w._events=y={n:{}}};w.once=function(a,d){var f=function(){w.unbind(a,f);return d.apply(this,\n",
       "arguments)};return w.on(a,f)};w.version=\"0.4.2\";w.toString=function(){return\"You are running Eve 0.4.2\"};\"undefined\"!=typeof module&&module.exports?module.exports=w:\"function\"===typeof define&&define.amd?define(\"eve\",[],function(){return w}):N.eve=w})(this);\n",
       "(function(N,k){\"function\"===typeof define&&define.amd?define(\"Snap.svg\",[\"eve\"],function(L){return k(N,L)}):k(N,N.eve)})(this,function(N,k){var L=function(a){var k={},y=N.requestAnimationFrame||N.webkitRequestAnimationFrame||N.mozRequestAnimationFrame||N.oRequestAnimationFrame||N.msRequestAnimationFrame||function(a){setTimeout(a,16)},M=Array.isArray||function(a){return a instanceof Array||\"[object Array]\"==Object.prototype.toString.call(a)},A=0,w=\"M\"+(+new Date).toString(36),z=function(a){if(null==\n",
       "a)return this.s;var b=this.s-a;this.b+=this.dur*b;this.B+=this.dur*b;this.s=a},d=function(a){if(null==a)return this.spd;this.spd=a},f=function(a){if(null==a)return this.dur;this.s=this.s*a/this.dur;this.dur=a},n=function(){delete k[this.id];this.update();a(\"mina.stop.\"+this.id,this)},u=function(){this.pdif||(delete k[this.id],this.update(),this.pdif=this.get()-this.b)},p=function(){this.pdif&&(this.b=this.get()-this.pdif,delete this.pdif,k[this.id]=this)},b=function(){var a;if(M(this.start)){a=[];\n",
       "for(var b=0,e=this.start.length;b<e;b++)a[b]=+this.start[b]+(this.end[b]-this.start[b])*this.easing(this.s)}else a=+this.start+(this.end-this.start)*this.easing(this.s);this.set(a)},q=function(){var l=0,b;for(b in k)if(k.hasOwnProperty(b)){var e=k[b],f=e.get();l++;e.s=(f-e.b)/(e.dur/e.spd);1<=e.s&&(delete k[b],e.s=1,l--,function(b){setTimeout(function(){a(\"mina.finish.\"+b.id,b)})}(e));e.update()}l&&y(q)},e=function(a,r,s,x,G,h,J){a={id:w+(A++).toString(36),start:a,end:r,b:s,s:0,dur:x-s,spd:1,get:G,\n",
       "set:h,easing:J||e.linear,status:z,speed:d,duration:f,stop:n,pause:u,resume:p,update:b};k[a.id]=a;r=0;for(var K in k)if(k.hasOwnProperty(K)&&(r++,2==r))break;1==r&&y(q);return a};e.time=Date.now||function(){return+new Date};e.getById=function(a){return k[a]||null};e.linear=function(a){return a};e.easeout=function(a){return Math.pow(a,1.7)};e.easein=function(a){return Math.pow(a,0.48)};e.easeinout=function(a){if(1==a)return 1;if(0==a)return 0;var b=0.48-a/1.04,e=Math.sqrt(0.1734+b*b);a=e-b;a=Math.pow(Math.abs(a),\n",
       "1/3)*(0>a?-1:1);b=-e-b;b=Math.pow(Math.abs(b),1/3)*(0>b?-1:1);a=a+b+0.5;return 3*(1-a)*a*a+a*a*a};e.backin=function(a){return 1==a?1:a*a*(2.70158*a-1.70158)};e.backout=function(a){if(0==a)return 0;a-=1;return a*a*(2.70158*a+1.70158)+1};e.elastic=function(a){return a==!!a?a:Math.pow(2,-10*a)*Math.sin(2*(a-0.075)*Math.PI/0.3)+1};e.bounce=function(a){a<1/2.75?a*=7.5625*a:a<2/2.75?(a-=1.5/2.75,a=7.5625*a*a+0.75):a<2.5/2.75?(a-=2.25/2.75,a=7.5625*a*a+0.9375):(a-=2.625/2.75,a=7.5625*a*a+0.984375);return a};\n",
       "return N.mina=e}(\"undefined\"==typeof k?function(){}:k),C=function(){function a(c,t){if(c){if(c.tagName)return x(c);if(y(c,\"array\")&&a.set)return a.set.apply(a,c);if(c instanceof e)return c;if(null==t)return c=G.doc.querySelector(c),x(c)}return new s(null==c?\"100%\":c,null==t?\"100%\":t)}function v(c,a){if(a){\"#text\"==c&&(c=G.doc.createTextNode(a.text||\"\"));\"string\"==typeof c&&(c=v(c));if(\"string\"==typeof a)return\"xlink:\"==a.substring(0,6)?c.getAttributeNS(m,a.substring(6)):\"xml:\"==a.substring(0,4)?c.getAttributeNS(la,\n",
       "a.substring(4)):c.getAttribute(a);for(var da in a)if(a[h](da)){var b=J(a[da]);b?\"xlink:\"==da.substring(0,6)?c.setAttributeNS(m,da.substring(6),b):\"xml:\"==da.substring(0,4)?c.setAttributeNS(la,da.substring(4),b):c.setAttribute(da,b):c.removeAttribute(da)}}else c=G.doc.createElementNS(la,c);return c}function y(c,a){a=J.prototype.toLowerCase.call(a);return\"finite\"==a?isFinite(c):\"array\"==a&&(c instanceof Array||Array.isArray&&Array.isArray(c))?!0:\"null\"==a&&null===c||a==typeof c&&null!==c||\"object\"==\n",
       "a&&c===Object(c)||$.call(c).slice(8,-1).toLowerCase()==a}function M(c){if(\"function\"==typeof c||Object(c)!==c)return c;var a=new c.constructor,b;for(b in c)c[h](b)&&(a[b]=M(c[b]));return a}function A(c,a,b){function m(){var e=Array.prototype.slice.call(arguments,0),f=e.join(\"\\u2400\"),d=m.cache=m.cache||{},l=m.count=m.count||[];if(d[h](f)){a:for(var e=l,l=f,B=0,H=e.length;B<H;B++)if(e[B]===l){e.push(e.splice(B,1)[0]);break a}return b?b(d[f]):d[f]}1E3<=l.length&&delete d[l.shift()];l.push(f);d[f]=c.apply(a,\n",
       "e);return b?b(d[f]):d[f]}return m}function w(c,a,b,m,e,f){return null==e?(c-=b,a-=m,c||a?(180*I.atan2(-a,-c)/C+540)%360:0):w(c,a,e,f)-w(b,m,e,f)}function z(c){return c%360*C/180}function d(c){var a=[];c=c.replace(/(?:^|\\s)(\\w+)\\(([^)]+)\\)/g,function(c,b,m){m=m.split(/\\s*,\\s*|\\s+/);\"rotate\"==b&&1==m.length&&m.push(0,0);\"scale\"==b&&(2<m.length?m=m.slice(0,2):2==m.length&&m.push(0,0),1==m.length&&m.push(m[0],0,0));\"skewX\"==b?a.push([\"m\",1,0,I.tan(z(m[0])),1,0,0]):\"skewY\"==b?a.push([\"m\",1,I.tan(z(m[0])),\n",
       "0,1,0,0]):a.push([b.charAt(0)].concat(m));return c});return a}function f(c,t){var b=O(c),m=new a.Matrix;if(b)for(var e=0,f=b.length;e<f;e++){var h=b[e],d=h.length,B=J(h[0]).toLowerCase(),H=h[0]!=B,l=H?m.invert():0,E;\"t\"==B&&2==d?m.translate(h[1],0):\"t\"==B&&3==d?H?(d=l.x(0,0),B=l.y(0,0),H=l.x(h[1],h[2]),l=l.y(h[1],h[2]),m.translate(H-d,l-B)):m.translate(h[1],h[2]):\"r\"==B?2==d?(E=E||t,m.rotate(h[1],E.x+E.width/2,E.y+E.height/2)):4==d&&(H?(H=l.x(h[2],h[3]),l=l.y(h[2],h[3]),m.rotate(h[1],H,l)):m.rotate(h[1],\n",
       "h[2],h[3])):\"s\"==B?2==d||3==d?(E=E||t,m.scale(h[1],h[d-1],E.x+E.width/2,E.y+E.height/2)):4==d?H?(H=l.x(h[2],h[3]),l=l.y(h[2],h[3]),m.scale(h[1],h[1],H,l)):m.scale(h[1],h[1],h[2],h[3]):5==d&&(H?(H=l.x(h[3],h[4]),l=l.y(h[3],h[4]),m.scale(h[1],h[2],H,l)):m.scale(h[1],h[2],h[3],h[4])):\"m\"==B&&7==d&&m.add(h[1],h[2],h[3],h[4],h[5],h[6])}return m}function n(c,t){if(null==t){var m=!0;t=\"linearGradient\"==c.type||\"radialGradient\"==c.type?c.node.getAttribute(\"gradientTransform\"):\"pattern\"==c.type?c.node.getAttribute(\"patternTransform\"):\n",
       "c.node.getAttribute(\"transform\");if(!t)return new a.Matrix;t=d(t)}else t=a._.rgTransform.test(t)?J(t).replace(/\\.{3}|\\u2026/g,c._.transform||aa):d(t),y(t,\"array\")&&(t=a.path?a.path.toString.call(t):J(t)),c._.transform=t;var b=f(t,c.getBBox(1));if(m)return b;c.matrix=b}function u(c){c=c.node.ownerSVGElement&&x(c.node.ownerSVGElement)||c.node.parentNode&&x(c.node.parentNode)||a.select(\"svg\")||a(0,0);var t=c.select(\"defs\"),t=null==t?!1:t.node;t||(t=r(\"defs\",c.node).node);return t}function p(c){return c.node.ownerSVGElement&&\n",
       "x(c.node.ownerSVGElement)||a.select(\"svg\")}function b(c,a,m){function b(c){if(null==c)return aa;if(c==+c)return c;v(B,{width:c});try{return B.getBBox().width}catch(a){return 0}}function h(c){if(null==c)return aa;if(c==+c)return c;v(B,{height:c});try{return B.getBBox().height}catch(a){return 0}}function e(b,B){null==a?d[b]=B(c.attr(b)||0):b==a&&(d=B(null==m?c.attr(b)||0:m))}var f=p(c).node,d={},B=f.querySelector(\".svg---mgr\");B||(B=v(\"rect\"),v(B,{x:-9E9,y:-9E9,width:10,height:10,\"class\":\"svg---mgr\",\n",
       "fill:\"none\"}),f.appendChild(B));switch(c.type){case \"rect\":e(\"rx\",b),e(\"ry\",h);case \"image\":e(\"width\",b),e(\"height\",h);case \"text\":e(\"x\",b);e(\"y\",h);break;case \"circle\":e(\"cx\",b);e(\"cy\",h);e(\"r\",b);break;case \"ellipse\":e(\"cx\",b);e(\"cy\",h);e(\"rx\",b);e(\"ry\",h);break;case \"line\":e(\"x1\",b);e(\"x2\",b);e(\"y1\",h);e(\"y2\",h);break;case \"marker\":e(\"refX\",b);e(\"markerWidth\",b);e(\"refY\",h);e(\"markerHeight\",h);break;case \"radialGradient\":e(\"fx\",b);e(\"fy\",h);break;case \"tspan\":e(\"dx\",b);e(\"dy\",h);break;default:e(a,\n",
       "b)}f.removeChild(B);return d}function q(c){y(c,\"array\")||(c=Array.prototype.slice.call(arguments,0));for(var a=0,b=0,m=this.node;this[a];)delete this[a++];for(a=0;a<c.length;a++)\"set\"==c[a].type?c[a].forEach(function(c){m.appendChild(c.node)}):m.appendChild(c[a].node);for(var h=m.childNodes,a=0;a<h.length;a++)this[b++]=x(h[a]);return this}function e(c){if(c.snap in E)return E[c.snap];var a=this.id=V(),b;try{b=c.ownerSVGElement}catch(m){}this.node=c;b&&(this.paper=new s(b));this.type=c.tagName;this.anims=\n",
       "{};this._={transform:[]};c.snap=a;E[a]=this;\"g\"==this.type&&(this.add=q);if(this.type in{g:1,mask:1,pattern:1})for(var e in s.prototype)s.prototype[h](e)&&(this[e]=s.prototype[e])}function l(c){this.node=c}function r(c,a){var b=v(c);a.appendChild(b);return x(b)}function s(c,a){var b,m,f,d=s.prototype;if(c&&\"svg\"==c.tagName){if(c.snap in E)return E[c.snap];var l=c.ownerDocument;b=new e(c);m=c.getElementsByTagName(\"desc\")[0];f=c.getElementsByTagName(\"defs\")[0];m||(m=v(\"desc\"),m.appendChild(l.createTextNode(\"Created with Snap\")),\n",
       "b.node.appendChild(m));f||(f=v(\"defs\"),b.node.appendChild(f));b.defs=f;for(var ca in d)d[h](ca)&&(b[ca]=d[ca]);b.paper=b.root=b}else b=r(\"svg\",G.doc.body),v(b.node,{height:a,version:1.1,width:c,xmlns:la});return b}function x(c){return!c||c instanceof e||c instanceof l?c:c.tagName&&\"svg\"==c.tagName.toLowerCase()?new s(c):c.tagName&&\"object\"==c.tagName.toLowerCase()&&\"image/svg+xml\"==c.type?new s(c.contentDocument.getElementsByTagName(\"svg\")[0]):new e(c)}a.version=\"0.3.0\";a.toString=function(){return\"Snap v\"+\n",
       "this.version};a._={};var G={win:N,doc:N.document};a._.glob=G;var h=\"hasOwnProperty\",J=String,K=parseFloat,U=parseInt,I=Math,P=I.max,Q=I.min,Y=I.abs,C=I.PI,aa=\"\",$=Object.prototype.toString,F=/^\\s*((#[a-f\\d]{6})|(#[a-f\\d]{3})|rgba?\\(\\s*([\\d\\.]+%?\\s*,\\s*[\\d\\.]+%?\\s*,\\s*[\\d\\.]+%?(?:\\s*,\\s*[\\d\\.]+%?)?)\\s*\\)|hsba?\\(\\s*([\\d\\.]+(?:deg|\\xb0|%)?\\s*,\\s*[\\d\\.]+%?\\s*,\\s*[\\d\\.]+(?:%?\\s*,\\s*[\\d\\.]+)?%?)\\s*\\)|hsla?\\(\\s*([\\d\\.]+(?:deg|\\xb0|%)?\\s*,\\s*[\\d\\.]+%?\\s*,\\s*[\\d\\.]+(?:%?\\s*,\\s*[\\d\\.]+)?%?)\\s*\\))\\s*$/i;a._.separator=\n",
       "RegExp(\"[,\\t\\n\\x0B\\f\\r \\u00a0\\u1680\\u180e\\u2000\\u2001\\u2002\\u2003\\u2004\\u2005\\u2006\\u2007\\u2008\\u2009\\u200a\\u202f\\u205f\\u3000\\u2028\\u2029]+\");var S=RegExp(\"[\\t\\n\\x0B\\f\\r \\u00a0\\u1680\\u180e\\u2000\\u2001\\u2002\\u2003\\u2004\\u2005\\u2006\\u2007\\u2008\\u2009\\u200a\\u202f\\u205f\\u3000\\u2028\\u2029]*,[\\t\\n\\x0B\\f\\r \\u00a0\\u1680\\u180e\\u2000\\u2001\\u2002\\u2003\\u2004\\u2005\\u2006\\u2007\\u2008\\u2009\\u200a\\u202f\\u205f\\u3000\\u2028\\u2029]*\"),X={hs:1,rg:1},W=RegExp(\"([a-z])[\\t\\n\\x0B\\f\\r \\u00a0\\u1680\\u180e\\u2000\\u2001\\u2002\\u2003\\u2004\\u2005\\u2006\\u2007\\u2008\\u2009\\u200a\\u202f\\u205f\\u3000\\u2028\\u2029,]*((-?\\\\d*\\\\.?\\\\d*(?:e[\\\\-+]?\\\\d+)?[\\t\\n\\x0B\\f\\r \\u00a0\\u1680\\u180e\\u2000\\u2001\\u2002\\u2003\\u2004\\u2005\\u2006\\u2007\\u2008\\u2009\\u200a\\u202f\\u205f\\u3000\\u2028\\u2029]*,?[\\t\\n\\x0B\\f\\r \\u00a0\\u1680\\u180e\\u2000\\u2001\\u2002\\u2003\\u2004\\u2005\\u2006\\u2007\\u2008\\u2009\\u200a\\u202f\\u205f\\u3000\\u2028\\u2029]*)+)\",\n",
       "\"ig\"),ma=RegExp(\"([rstm])[\\t\\n\\x0B\\f\\r \\u00a0\\u1680\\u180e\\u2000\\u2001\\u2002\\u2003\\u2004\\u2005\\u2006\\u2007\\u2008\\u2009\\u200a\\u202f\\u205f\\u3000\\u2028\\u2029,]*((-?\\\\d*\\\\.?\\\\d*(?:e[\\\\-+]?\\\\d+)?[\\t\\n\\x0B\\f\\r \\u00a0\\u1680\\u180e\\u2000\\u2001\\u2002\\u2003\\u2004\\u2005\\u2006\\u2007\\u2008\\u2009\\u200a\\u202f\\u205f\\u3000\\u2028\\u2029]*,?[\\t\\n\\x0B\\f\\r \\u00a0\\u1680\\u180e\\u2000\\u2001\\u2002\\u2003\\u2004\\u2005\\u2006\\u2007\\u2008\\u2009\\u200a\\u202f\\u205f\\u3000\\u2028\\u2029]*)+)\",\"ig\"),Z=RegExp(\"(-?\\\\d*\\\\.?\\\\d*(?:e[\\\\-+]?\\\\d+)?)[\\t\\n\\x0B\\f\\r \\u00a0\\u1680\\u180e\\u2000\\u2001\\u2002\\u2003\\u2004\\u2005\\u2006\\u2007\\u2008\\u2009\\u200a\\u202f\\u205f\\u3000\\u2028\\u2029]*,?[\\t\\n\\x0B\\f\\r \\u00a0\\u1680\\u180e\\u2000\\u2001\\u2002\\u2003\\u2004\\u2005\\u2006\\u2007\\u2008\\u2009\\u200a\\u202f\\u205f\\u3000\\u2028\\u2029]*\",\n",
       "\"ig\"),na=0,ba=\"S\"+(+new Date).toString(36),V=function(){return ba+(na++).toString(36)},m=\"http://www.w3.org/1999/xlink\",la=\"http://www.w3.org/2000/svg\",E={},ca=a.url=function(c){return\"url('#\"+c+\"')\"};a._.$=v;a._.id=V;a.format=function(){var c=/\\{([^\\}]+)\\}/g,a=/(?:(?:^|\\.)(.+?)(?=\\[|\\.|$|\\()|\\[('|\")(.+?)\\2\\])(\\(\\))?/g,b=function(c,b,m){var h=m;b.replace(a,function(c,a,b,m,t){a=a||m;h&&(a in h&&(h=h[a]),\"function\"==typeof h&&t&&(h=h()))});return h=(null==h||h==m?c:h)+\"\"};return function(a,m){return J(a).replace(c,\n",
       "function(c,a){return b(c,a,m)})}}();a._.clone=M;a._.cacher=A;a.rad=z;a.deg=function(c){return 180*c/C%360};a.angle=w;a.is=y;a.snapTo=function(c,a,b){b=y(b,\"finite\")?b:10;if(y(c,\"array\"))for(var m=c.length;m--;){if(Y(c[m]-a)<=b)return c[m]}else{c=+c;m=a%c;if(m<b)return a-m;if(m>c-b)return a-m+c}return a};a.getRGB=A(function(c){if(!c||(c=J(c)).indexOf(\"-\")+1)return{r:-1,g:-1,b:-1,hex:\"none\",error:1,toString:ka};if(\"none\"==c)return{r:-1,g:-1,b:-1,hex:\"none\",toString:ka};!X[h](c.toLowerCase().substring(0,\n",
       "2))&&\"#\"!=c.charAt()&&(c=T(c));if(!c)return{r:-1,g:-1,b:-1,hex:\"none\",error:1,toString:ka};var b,m,e,f,d;if(c=c.match(F)){c[2]&&(e=U(c[2].substring(5),16),m=U(c[2].substring(3,5),16),b=U(c[2].substring(1,3),16));c[3]&&(e=U((d=c[3].charAt(3))+d,16),m=U((d=c[3].charAt(2))+d,16),b=U((d=c[3].charAt(1))+d,16));c[4]&&(d=c[4].split(S),b=K(d[0]),\"%\"==d[0].slice(-1)&&(b*=2.55),m=K(d[1]),\"%\"==d[1].slice(-1)&&(m*=2.55),e=K(d[2]),\"%\"==d[2].slice(-1)&&(e*=2.55),\"rgba\"==c[1].toLowerCase().slice(0,4)&&(f=K(d[3])),\n",
       "d[3]&&\"%\"==d[3].slice(-1)&&(f/=100));if(c[5])return d=c[5].split(S),b=K(d[0]),\"%\"==d[0].slice(-1)&&(b/=100),m=K(d[1]),\"%\"==d[1].slice(-1)&&(m/=100),e=K(d[2]),\"%\"==d[2].slice(-1)&&(e/=100),\"deg\"!=d[0].slice(-3)&&\"\\u00b0\"!=d[0].slice(-1)||(b/=360),\"hsba\"==c[1].toLowerCase().slice(0,4)&&(f=K(d[3])),d[3]&&\"%\"==d[3].slice(-1)&&(f/=100),a.hsb2rgb(b,m,e,f);if(c[6])return d=c[6].split(S),b=K(d[0]),\"%\"==d[0].slice(-1)&&(b/=100),m=K(d[1]),\"%\"==d[1].slice(-1)&&(m/=100),e=K(d[2]),\"%\"==d[2].slice(-1)&&(e/=100),\n",
       "\"deg\"!=d[0].slice(-3)&&\"\\u00b0\"!=d[0].slice(-1)||(b/=360),\"hsla\"==c[1].toLowerCase().slice(0,4)&&(f=K(d[3])),d[3]&&\"%\"==d[3].slice(-1)&&(f/=100),a.hsl2rgb(b,m,e,f);b=Q(I.round(b),255);m=Q(I.round(m),255);e=Q(I.round(e),255);f=Q(P(f,0),1);c={r:b,g:m,b:e,toString:ka};c.hex=\"#\"+(16777216|e|m<<8|b<<16).toString(16).slice(1);c.opacity=y(f,\"finite\")?f:1;return c}return{r:-1,g:-1,b:-1,hex:\"none\",error:1,toString:ka}},a);a.hsb=A(function(c,b,m){return a.hsb2rgb(c,b,m).hex});a.hsl=A(function(c,b,m){return a.hsl2rgb(c,\n",
       "b,m).hex});a.rgb=A(function(c,a,b,m){if(y(m,\"finite\")){var e=I.round;return\"rgba(\"+[e(c),e(a),e(b),+m.toFixed(2)]+\")\"}return\"#\"+(16777216|b|a<<8|c<<16).toString(16).slice(1)});var T=function(c){var a=G.doc.getElementsByTagName(\"head\")[0]||G.doc.getElementsByTagName(\"svg\")[0];T=A(function(c){if(\"red\"==c.toLowerCase())return\"rgb(255, 0, 0)\";a.style.color=\"rgb(255, 0, 0)\";a.style.color=c;c=G.doc.defaultView.getComputedStyle(a,aa).getPropertyValue(\"color\");return\"rgb(255, 0, 0)\"==c?null:c});return T(c)},\n",
       "qa=function(){return\"hsb(\"+[this.h,this.s,this.b]+\")\"},ra=function(){return\"hsl(\"+[this.h,this.s,this.l]+\")\"},ka=function(){return 1==this.opacity||null==this.opacity?this.hex:\"rgba(\"+[this.r,this.g,this.b,this.opacity]+\")\"},D=function(c,b,m){null==b&&y(c,\"object\")&&\"r\"in c&&\"g\"in c&&\"b\"in c&&(m=c.b,b=c.g,c=c.r);null==b&&y(c,string)&&(m=a.getRGB(c),c=m.r,b=m.g,m=m.b);if(1<c||1<b||1<m)c/=255,b/=255,m/=255;return[c,b,m]},oa=function(c,b,m,e){c=I.round(255*c);b=I.round(255*b);m=I.round(255*m);c={r:c,\n",
       "g:b,b:m,opacity:y(e,\"finite\")?e:1,hex:a.rgb(c,b,m),toString:ka};y(e,\"finite\")&&(c.opacity=e);return c};a.color=function(c){var b;y(c,\"object\")&&\"h\"in c&&\"s\"in c&&\"b\"in c?(b=a.hsb2rgb(c),c.r=b.r,c.g=b.g,c.b=b.b,c.opacity=1,c.hex=b.hex):y(c,\"object\")&&\"h\"in c&&\"s\"in c&&\"l\"in c?(b=a.hsl2rgb(c),c.r=b.r,c.g=b.g,c.b=b.b,c.opacity=1,c.hex=b.hex):(y(c,\"string\")&&(c=a.getRGB(c)),y(c,\"object\")&&\"r\"in c&&\"g\"in c&&\"b\"in c&&!(\"error\"in c)?(b=a.rgb2hsl(c),c.h=b.h,c.s=b.s,c.l=b.l,b=a.rgb2hsb(c),c.v=b.b):(c={hex:\"none\"},\n",
       "c.r=c.g=c.b=c.h=c.s=c.v=c.l=-1,c.error=1));c.toString=ka;return c};a.hsb2rgb=function(c,a,b,m){y(c,\"object\")&&\"h\"in c&&\"s\"in c&&\"b\"in c&&(b=c.b,a=c.s,c=c.h,m=c.o);var e,h,d;c=360*c%360/60;d=b*a;a=d*(1-Y(c%2-1));b=e=h=b-d;c=~~c;b+=[d,a,0,0,a,d][c];e+=[a,d,d,a,0,0][c];h+=[0,0,a,d,d,a][c];return oa(b,e,h,m)};a.hsl2rgb=function(c,a,b,m){y(c,\"object\")&&\"h\"in c&&\"s\"in c&&\"l\"in c&&(b=c.l,a=c.s,c=c.h);if(1<c||1<a||1<b)c/=360,a/=100,b/=100;var e,h,d;c=360*c%360/60;d=2*a*(0.5>b?b:1-b);a=d*(1-Y(c%2-1));b=e=\n",
       "h=b-d/2;c=~~c;b+=[d,a,0,0,a,d][c];e+=[a,d,d,a,0,0][c];h+=[0,0,a,d,d,a][c];return oa(b,e,h,m)};a.rgb2hsb=function(c,a,b){b=D(c,a,b);c=b[0];a=b[1];b=b[2];var m,e;m=P(c,a,b);e=m-Q(c,a,b);c=((0==e?0:m==c?(a-b)/e:m==a?(b-c)/e+2:(c-a)/e+4)+360)%6*60/360;return{h:c,s:0==e?0:e/m,b:m,toString:qa}};a.rgb2hsl=function(c,a,b){b=D(c,a,b);c=b[0];a=b[1];b=b[2];var m,e,h;m=P(c,a,b);e=Q(c,a,b);h=m-e;c=((0==h?0:m==c?(a-b)/h:m==a?(b-c)/h+2:(c-a)/h+4)+360)%6*60/360;m=(m+e)/2;return{h:c,s:0==h?0:0.5>m?h/(2*m):h/(2-2*\n",
       "m),l:m,toString:ra}};a.parsePathString=function(c){if(!c)return null;var b=a.path(c);if(b.arr)return a.path.clone(b.arr);var m={a:7,c:6,o:2,h:1,l:2,m:2,r:4,q:4,s:4,t:2,v:1,u:3,z:0},e=[];y(c,\"array\")&&y(c[0],\"array\")&&(e=a.path.clone(c));e.length||J(c).replace(W,function(c,a,b){var h=[];c=a.toLowerCase();b.replace(Z,function(c,a){a&&h.push(+a)});\"m\"==c&&2<h.length&&(e.push([a].concat(h.splice(0,2))),c=\"l\",a=\"m\"==a?\"l\":\"L\");\"o\"==c&&1==h.length&&e.push([a,h[0] ]);if(\"r\"==c)e.push([a].concat(h));else for(;h.length>=\n",
       "m[c]&&(e.push([a].concat(h.splice(0,m[c]))),m[c]););});e.toString=a.path.toString;b.arr=a.path.clone(e);return e};var O=a.parseTransformString=function(c){if(!c)return null;var b=[];y(c,\"array\")&&y(c[0],\"array\")&&(b=a.path.clone(c));b.length||J(c).replace(ma,function(c,a,m){var e=[];a.toLowerCase();m.replace(Z,function(c,a){a&&e.push(+a)});b.push([a].concat(e))});b.toString=a.path.toString;return b};a._.svgTransform2string=d;a._.rgTransform=RegExp(\"^[a-z][\\t\\n\\x0B\\f\\r \\u00a0\\u1680\\u180e\\u2000\\u2001\\u2002\\u2003\\u2004\\u2005\\u2006\\u2007\\u2008\\u2009\\u200a\\u202f\\u205f\\u3000\\u2028\\u2029]*-?\\\\.?\\\\d\",\n",
       "\"i\");a._.transform2matrix=f;a._unit2px=b;a._.getSomeDefs=u;a._.getSomeSVG=p;a.select=function(c){return x(G.doc.querySelector(c))};a.selectAll=function(c){c=G.doc.querySelectorAll(c);for(var b=(a.set||Array)(),m=0;m<c.length;m++)b.push(x(c[m]));return b};setInterval(function(){for(var c in E)if(E[h](c)){var a=E[c],b=a.node;(\"svg\"!=a.type&&!b.ownerSVGElement||\"svg\"==a.type&&(!b.parentNode||\"ownerSVGElement\"in b.parentNode&&!b.ownerSVGElement))&&delete E[c]}},1E4);(function(c){function m(c){function a(c,\n",
       "b){var m=v(c.node,b);(m=(m=m&&m.match(d))&&m[2])&&\"#\"==m.charAt()&&(m=m.substring(1))&&(f[m]=(f[m]||[]).concat(function(a){var m={};m[b]=ca(a);v(c.node,m)}))}function b(c){var a=v(c.node,\"xlink:href\");a&&\"#\"==a.charAt()&&(a=a.substring(1))&&(f[a]=(f[a]||[]).concat(function(a){c.attr(\"xlink:href\",\"#\"+a)}))}var e=c.selectAll(\"*\"),h,d=/^\\s*url\\((\"|'|)(.*)\\1\\)\\s*$/;c=[];for(var f={},l=0,E=e.length;l<E;l++){h=e[l];a(h,\"fill\");a(h,\"stroke\");a(h,\"filter\");a(h,\"mask\");a(h,\"clip-path\");b(h);var t=v(h.node,\n",
       "\"id\");t&&(v(h.node,{id:h.id}),c.push({old:t,id:h.id}))}l=0;for(E=c.length;l<E;l++)if(e=f[c[l].old])for(h=0,t=e.length;h<t;h++)e[h](c[l].id)}function e(c,a,b){return function(m){m=m.slice(c,a);1==m.length&&(m=m[0]);return b?b(m):m}}function d(c){return function(){var a=c?\"<\"+this.type:\"\",b=this.node.attributes,m=this.node.childNodes;if(c)for(var e=0,h=b.length;e<h;e++)a+=\" \"+b[e].name+'=\"'+b[e].value.replace(/\"/g,'\\\\\"')+'\"';if(m.length){c&&(a+=\">\");e=0;for(h=m.length;e<h;e++)3==m[e].nodeType?a+=m[e].nodeValue:\n",
       "1==m[e].nodeType&&(a+=x(m[e]).toString());c&&(a+=\"</\"+this.type+\">\")}else c&&(a+=\"/>\");return a}}c.attr=function(c,a){if(!c)return this;if(y(c,\"string\"))if(1<arguments.length){var b={};b[c]=a;c=b}else return k(\"snap.util.getattr.\"+c,this).firstDefined();for(var m in c)c[h](m)&&k(\"snap.util.attr.\"+m,this,c[m]);return this};c.getBBox=function(c){if(!a.Matrix||!a.path)return this.node.getBBox();var b=this,m=new a.Matrix;if(b.removed)return a._.box();for(;\"use\"==b.type;)if(c||(m=m.add(b.transform().localMatrix.translate(b.attr(\"x\")||\n",
       "0,b.attr(\"y\")||0))),b.original)b=b.original;else var e=b.attr(\"xlink:href\"),b=b.original=b.node.ownerDocument.getElementById(e.substring(e.indexOf(\"#\")+1));var e=b._,h=a.path.get[b.type]||a.path.get.deflt;try{if(c)return e.bboxwt=h?a.path.getBBox(b.realPath=h(b)):a._.box(b.node.getBBox()),a._.box(e.bboxwt);b.realPath=h(b);b.matrix=b.transform().localMatrix;e.bbox=a.path.getBBox(a.path.map(b.realPath,m.add(b.matrix)));return a._.box(e.bbox)}catch(d){return a._.box()}};var f=function(){return this.string};\n",
       "c.transform=function(c){var b=this._;if(null==c){var m=this;c=new a.Matrix(this.node.getCTM());for(var e=n(this),h=[e],d=new a.Matrix,l=e.toTransformString(),b=J(e)==J(this.matrix)?J(b.transform):l;\"svg\"!=m.type&&(m=m.parent());)h.push(n(m));for(m=h.length;m--;)d.add(h[m]);return{string:b,globalMatrix:c,totalMatrix:d,localMatrix:e,diffMatrix:c.clone().add(e.invert()),global:c.toTransformString(),total:d.toTransformString(),local:l,toString:f}}c instanceof a.Matrix?this.matrix=c:n(this,c);this.node&&\n",
       "(\"linearGradient\"==this.type||\"radialGradient\"==this.type?v(this.node,{gradientTransform:this.matrix}):\"pattern\"==this.type?v(this.node,{patternTransform:this.matrix}):v(this.node,{transform:this.matrix}));return this};c.parent=function(){return x(this.node.parentNode)};c.append=c.add=function(c){if(c){if(\"set\"==c.type){var a=this;c.forEach(function(c){a.add(c)});return this}c=x(c);this.node.appendChild(c.node);c.paper=this.paper}return this};c.appendTo=function(c){c&&(c=x(c),c.append(this));return this};\n",
       "c.prepend=function(c){if(c){if(\"set\"==c.type){var a=this,b;c.forEach(function(c){b?b.after(c):a.prepend(c);b=c});return this}c=x(c);var m=c.parent();this.node.insertBefore(c.node,this.node.firstChild);this.add&&this.add();c.paper=this.paper;this.parent()&&this.parent().add();m&&m.add()}return this};c.prependTo=function(c){c=x(c);c.prepend(this);return this};c.before=function(c){if(\"set\"==c.type){var a=this;c.forEach(function(c){var b=c.parent();a.node.parentNode.insertBefore(c.node,a.node);b&&b.add()});\n",
       "this.parent().add();return this}c=x(c);var b=c.parent();this.node.parentNode.insertBefore(c.node,this.node);this.parent()&&this.parent().add();b&&b.add();c.paper=this.paper;return this};c.after=function(c){c=x(c);var a=c.parent();this.node.nextSibling?this.node.parentNode.insertBefore(c.node,this.node.nextSibling):this.node.parentNode.appendChild(c.node);this.parent()&&this.parent().add();a&&a.add();c.paper=this.paper;return this};c.insertBefore=function(c){c=x(c);var a=this.parent();c.node.parentNode.insertBefore(this.node,\n",
       "c.node);this.paper=c.paper;a&&a.add();c.parent()&&c.parent().add();return this};c.insertAfter=function(c){c=x(c);var a=this.parent();c.node.parentNode.insertBefore(this.node,c.node.nextSibling);this.paper=c.paper;a&&a.add();c.parent()&&c.parent().add();return this};c.remove=function(){var c=this.parent();this.node.parentNode&&this.node.parentNode.removeChild(this.node);delete this.paper;this.removed=!0;c&&c.add();return this};c.select=function(c){return x(this.node.querySelector(c))};c.selectAll=\n",
       "function(c){c=this.node.querySelectorAll(c);for(var b=(a.set||Array)(),m=0;m<c.length;m++)b.push(x(c[m]));return b};c.asPX=function(c,a){null==a&&(a=this.attr(c));return+b(this,c,a)};c.use=function(){var c,a=this.node.id;a||(a=this.id,v(this.node,{id:a}));c=\"linearGradient\"==this.type||\"radialGradient\"==this.type||\"pattern\"==this.type?r(this.type,this.node.parentNode):r(\"use\",this.node.parentNode);v(c.node,{\"xlink:href\":\"#\"+a});c.original=this;return c};var l=/\\S+/g;c.addClass=function(c){var a=(c||\n",
       "\"\").match(l)||[];c=this.node;var b=c.className.baseVal,m=b.match(l)||[],e,h,d;if(a.length){for(e=0;d=a[e++];)h=m.indexOf(d),~h||m.push(d);a=m.join(\" \");b!=a&&(c.className.baseVal=a)}return this};c.removeClass=function(c){var a=(c||\"\").match(l)||[];c=this.node;var b=c.className.baseVal,m=b.match(l)||[],e,h;if(m.length){for(e=0;h=a[e++];)h=m.indexOf(h),~h&&m.splice(h,1);a=m.join(\" \");b!=a&&(c.className.baseVal=a)}return this};c.hasClass=function(c){return!!~(this.node.className.baseVal.match(l)||[]).indexOf(c)};\n",
       "c.toggleClass=function(c,a){if(null!=a)return a?this.addClass(c):this.removeClass(c);var b=(c||\"\").match(l)||[],m=this.node,e=m.className.baseVal,h=e.match(l)||[],d,f,E;for(d=0;E=b[d++];)f=h.indexOf(E),~f?h.splice(f,1):h.push(E);b=h.join(\" \");e!=b&&(m.className.baseVal=b);return this};c.clone=function(){var c=x(this.node.cloneNode(!0));v(c.node,\"id\")&&v(c.node,{id:c.id});m(c);c.insertAfter(this);return c};c.toDefs=function(){u(this).appendChild(this.node);return this};c.pattern=c.toPattern=function(c,\n",
       "a,b,m){var e=r(\"pattern\",u(this));null==c&&(c=this.getBBox());y(c,\"object\")&&\"x\"in c&&(a=c.y,b=c.width,m=c.height,c=c.x);v(e.node,{x:c,y:a,width:b,height:m,patternUnits:\"userSpaceOnUse\",id:e.id,viewBox:[c,a,b,m].join(\" \")});e.node.appendChild(this.node);return e};c.marker=function(c,a,b,m,e,h){var d=r(\"marker\",u(this));null==c&&(c=this.getBBox());y(c,\"object\")&&\"x\"in c&&(a=c.y,b=c.width,m=c.height,e=c.refX||c.cx,h=c.refY||c.cy,c=c.x);v(d.node,{viewBox:[c,a,b,m].join(\" \"),markerWidth:b,markerHeight:m,\n",
       "orient:\"auto\",refX:e||0,refY:h||0,id:d.id});d.node.appendChild(this.node);return d};var E=function(c,a,b,m){\"function\"!=typeof b||b.length||(m=b,b=L.linear);this.attr=c;this.dur=a;b&&(this.easing=b);m&&(this.callback=m)};a._.Animation=E;a.animation=function(c,a,b,m){return new E(c,a,b,m)};c.inAnim=function(){var c=[],a;for(a in this.anims)this.anims[h](a)&&function(a){c.push({anim:new E(a._attrs,a.dur,a.easing,a._callback),mina:a,curStatus:a.status(),status:function(c){return a.status(c)},stop:function(){a.stop()}})}(this.anims[a]);\n",
       "return c};a.animate=function(c,a,b,m,e,h){\"function\"!=typeof e||e.length||(h=e,e=L.linear);var d=L.time();c=L(c,a,d,d+m,L.time,b,e);h&&k.once(\"mina.finish.\"+c.id,h);return c};c.stop=function(){for(var c=this.inAnim(),a=0,b=c.length;a<b;a++)c[a].stop();return this};c.animate=function(c,a,b,m){\"function\"!=typeof b||b.length||(m=b,b=L.linear);c instanceof E&&(m=c.callback,b=c.easing,a=b.dur,c=c.attr);var d=[],f=[],l={},t,ca,n,T=this,q;for(q in c)if(c[h](q)){T.equal?(n=T.equal(q,J(c[q])),t=n.from,ca=\n",
       "n.to,n=n.f):(t=+T.attr(q),ca=+c[q]);var la=y(t,\"array\")?t.length:1;l[q]=e(d.length,d.length+la,n);d=d.concat(t);f=f.concat(ca)}t=L.time();var p=L(d,f,t,t+a,L.time,function(c){var a={},b;for(b in l)l[h](b)&&(a[b]=l[b](c));T.attr(a)},b);T.anims[p.id]=p;p._attrs=c;p._callback=m;k(\"snap.animcreated.\"+T.id,p);k.once(\"mina.finish.\"+p.id,function(){delete T.anims[p.id];m&&m.call(T)});k.once(\"mina.stop.\"+p.id,function(){delete T.anims[p.id]});return T};var T={};c.data=function(c,b){var m=T[this.id]=T[this.id]||\n",
       "{};if(0==arguments.length)return k(\"snap.data.get.\"+this.id,this,m,null),m;if(1==arguments.length){if(a.is(c,\"object\")){for(var e in c)c[h](e)&&this.data(e,c[e]);return this}k(\"snap.data.get.\"+this.id,this,m[c],c);return m[c]}m[c]=b;k(\"snap.data.set.\"+this.id,this,b,c);return this};c.removeData=function(c){null==c?T[this.id]={}:T[this.id]&&delete T[this.id][c];return this};c.outerSVG=c.toString=d(1);c.innerSVG=d()})(e.prototype);a.parse=function(c){var a=G.doc.createDocumentFragment(),b=!0,m=G.doc.createElement(\"div\");\n",
       "c=J(c);c.match(/^\\s*<\\s*svg(?:\\s|>)/)||(c=\"<svg>\"+c+\"</svg>\",b=!1);m.innerHTML=c;if(c=m.getElementsByTagName(\"svg\")[0])if(b)a=c;else for(;c.firstChild;)a.appendChild(c.firstChild);m.innerHTML=aa;return new l(a)};l.prototype.select=e.prototype.select;l.prototype.selectAll=e.prototype.selectAll;a.fragment=function(){for(var c=Array.prototype.slice.call(arguments,0),b=G.doc.createDocumentFragment(),m=0,e=c.length;m<e;m++){var h=c[m];h.node&&h.node.nodeType&&b.appendChild(h.node);h.nodeType&&b.appendChild(h);\n",
       "\"string\"==typeof h&&b.appendChild(a.parse(h).node)}return new l(b)};a._.make=r;a._.wrap=x;s.prototype.el=function(c,a){var b=r(c,this.node);a&&b.attr(a);return b};k.on(\"snap.util.getattr\",function(){var c=k.nt(),c=c.substring(c.lastIndexOf(\".\")+1),a=c.replace(/[A-Z]/g,function(c){return\"-\"+c.toLowerCase()});return pa[h](a)?this.node.ownerDocument.defaultView.getComputedStyle(this.node,null).getPropertyValue(a):v(this.node,c)});var pa={\"alignment-baseline\":0,\"baseline-shift\":0,clip:0,\"clip-path\":0,\n",
       "\"clip-rule\":0,color:0,\"color-interpolation\":0,\"color-interpolation-filters\":0,\"color-profile\":0,\"color-rendering\":0,cursor:0,direction:0,display:0,\"dominant-baseline\":0,\"enable-background\":0,fill:0,\"fill-opacity\":0,\"fill-rule\":0,filter:0,\"flood-color\":0,\"flood-opacity\":0,font:0,\"font-family\":0,\"font-size\":0,\"font-size-adjust\":0,\"font-stretch\":0,\"font-style\":0,\"font-variant\":0,\"font-weight\":0,\"glyph-orientation-horizontal\":0,\"glyph-orientation-vertical\":0,\"image-rendering\":0,kerning:0,\"letter-spacing\":0,\n",
       "\"lighting-color\":0,marker:0,\"marker-end\":0,\"marker-mid\":0,\"marker-start\":0,mask:0,opacity:0,overflow:0,\"pointer-events\":0,\"shape-rendering\":0,\"stop-color\":0,\"stop-opacity\":0,stroke:0,\"stroke-dasharray\":0,\"stroke-dashoffset\":0,\"stroke-linecap\":0,\"stroke-linejoin\":0,\"stroke-miterlimit\":0,\"stroke-opacity\":0,\"stroke-width\":0,\"text-anchor\":0,\"text-decoration\":0,\"text-rendering\":0,\"unicode-bidi\":0,visibility:0,\"word-spacing\":0,\"writing-mode\":0};k.on(\"snap.util.attr\",function(c){var a=k.nt(),b={},a=a.substring(a.lastIndexOf(\".\")+\n",
       "1);b[a]=c;var m=a.replace(/-(\\w)/gi,function(c,a){return a.toUpperCase()}),a=a.replace(/[A-Z]/g,function(c){return\"-\"+c.toLowerCase()});pa[h](a)?this.node.style[m]=null==c?aa:c:v(this.node,b)});a.ajax=function(c,a,b,m){var e=new XMLHttpRequest,h=V();if(e){if(y(a,\"function\"))m=b,b=a,a=null;else if(y(a,\"object\")){var d=[],f;for(f in a)a.hasOwnProperty(f)&&d.push(encodeURIComponent(f)+\"=\"+encodeURIComponent(a[f]));a=d.join(\"&\")}e.open(a?\"POST\":\"GET\",c,!0);a&&(e.setRequestHeader(\"X-Requested-With\",\"XMLHttpRequest\"),\n",
       "e.setRequestHeader(\"Content-type\",\"application/x-www-form-urlencoded\"));b&&(k.once(\"snap.ajax.\"+h+\".0\",b),k.once(\"snap.ajax.\"+h+\".200\",b),k.once(\"snap.ajax.\"+h+\".304\",b));e.onreadystatechange=function(){4==e.readyState&&k(\"snap.ajax.\"+h+\".\"+e.status,m,e)};if(4==e.readyState)return e;e.send(a);return e}};a.load=function(c,b,m){a.ajax(c,function(c){c=a.parse(c.responseText);m?b.call(m,c):b(c)})};a.getElementByPoint=function(c,a){var b,m,e=G.doc.elementFromPoint(c,a);if(G.win.opera&&\"svg\"==e.tagName){b=\n",
       "e;m=b.getBoundingClientRect();b=b.ownerDocument;var h=b.body,d=b.documentElement;b=m.top+(g.win.pageYOffset||d.scrollTop||h.scrollTop)-(d.clientTop||h.clientTop||0);m=m.left+(g.win.pageXOffset||d.scrollLeft||h.scrollLeft)-(d.clientLeft||h.clientLeft||0);h=e.createSVGRect();h.x=c-m;h.y=a-b;h.width=h.height=1;b=e.getIntersectionList(h,null);b.length&&(e=b[b.length-1])}return e?x(e):null};a.plugin=function(c){c(a,e,s,G,l)};return G.win.Snap=a}();C.plugin(function(a,k,y,M,A){function w(a,d,f,b,q,e){null==\n",
       "d&&\"[object SVGMatrix]\"==z.call(a)?(this.a=a.a,this.b=a.b,this.c=a.c,this.d=a.d,this.e=a.e,this.f=a.f):null!=a?(this.a=+a,this.b=+d,this.c=+f,this.d=+b,this.e=+q,this.f=+e):(this.a=1,this.c=this.b=0,this.d=1,this.f=this.e=0)}var z=Object.prototype.toString,d=String,f=Math;(function(n){function k(a){return a[0]*a[0]+a[1]*a[1]}function p(a){var d=f.sqrt(k(a));a[0]&&(a[0]/=d);a[1]&&(a[1]/=d)}n.add=function(a,d,e,f,n,p){var k=[[],[],[] ],u=[[this.a,this.c,this.e],[this.b,this.d,this.f],[0,0,1] ];d=[[a,\n",
       "e,n],[d,f,p],[0,0,1] ];a&&a instanceof w&&(d=[[a.a,a.c,a.e],[a.b,a.d,a.f],[0,0,1] ]);for(a=0;3>a;a++)for(e=0;3>e;e++){for(f=n=0;3>f;f++)n+=u[a][f]*d[f][e];k[a][e]=n}this.a=k[0][0];this.b=k[1][0];this.c=k[0][1];this.d=k[1][1];this.e=k[0][2];this.f=k[1][2];return this};n.invert=function(){var a=this.a*this.d-this.b*this.c;return new w(this.d/a,-this.b/a,-this.c/a,this.a/a,(this.c*this.f-this.d*this.e)/a,(this.b*this.e-this.a*this.f)/a)};n.clone=function(){return new w(this.a,this.b,this.c,this.d,this.e,\n",
       "this.f)};n.translate=function(a,d){return this.add(1,0,0,1,a,d)};n.scale=function(a,d,e,f){null==d&&(d=a);(e||f)&&this.add(1,0,0,1,e,f);this.add(a,0,0,d,0,0);(e||f)&&this.add(1,0,0,1,-e,-f);return this};n.rotate=function(b,d,e){b=a.rad(b);d=d||0;e=e||0;var l=+f.cos(b).toFixed(9);b=+f.sin(b).toFixed(9);this.add(l,b,-b,l,d,e);return this.add(1,0,0,1,-d,-e)};n.x=function(a,d){return a*this.a+d*this.c+this.e};n.y=function(a,d){return a*this.b+d*this.d+this.f};n.get=function(a){return+this[d.fromCharCode(97+\n",
       "a)].toFixed(4)};n.toString=function(){return\"matrix(\"+[this.get(0),this.get(1),this.get(2),this.get(3),this.get(4),this.get(5)].join()+\")\"};n.offset=function(){return[this.e.toFixed(4),this.f.toFixed(4)]};n.determinant=function(){return this.a*this.d-this.b*this.c};n.split=function(){var b={};b.dx=this.e;b.dy=this.f;var d=[[this.a,this.c],[this.b,this.d] ];b.scalex=f.sqrt(k(d[0]));p(d[0]);b.shear=d[0][0]*d[1][0]+d[0][1]*d[1][1];d[1]=[d[1][0]-d[0][0]*b.shear,d[1][1]-d[0][1]*b.shear];b.scaley=f.sqrt(k(d[1]));\n",
       "p(d[1]);b.shear/=b.scaley;0>this.determinant()&&(b.scalex=-b.scalex);var e=-d[0][1],d=d[1][1];0>d?(b.rotate=a.deg(f.acos(d)),0>e&&(b.rotate=360-b.rotate)):b.rotate=a.deg(f.asin(e));b.isSimple=!+b.shear.toFixed(9)&&(b.scalex.toFixed(9)==b.scaley.toFixed(9)||!b.rotate);b.isSuperSimple=!+b.shear.toFixed(9)&&b.scalex.toFixed(9)==b.scaley.toFixed(9)&&!b.rotate;b.noRotation=!+b.shear.toFixed(9)&&!b.rotate;return b};n.toTransformString=function(a){a=a||this.split();if(+a.shear.toFixed(9))return\"m\"+[this.get(0),\n",
       "this.get(1),this.get(2),this.get(3),this.get(4),this.get(5)];a.scalex=+a.scalex.toFixed(4);a.scaley=+a.scaley.toFixed(4);a.rotate=+a.rotate.toFixed(4);return(a.dx||a.dy?\"t\"+[+a.dx.toFixed(4),+a.dy.toFixed(4)]:\"\")+(1!=a.scalex||1!=a.scaley?\"s\"+[a.scalex,a.scaley,0,0]:\"\")+(a.rotate?\"r\"+[+a.rotate.toFixed(4),0,0]:\"\")}})(w.prototype);a.Matrix=w;a.matrix=function(a,d,f,b,k,e){return new w(a,d,f,b,k,e)}});C.plugin(function(a,v,y,M,A){function w(h){return function(d){k.stop();d instanceof A&&1==d.node.childNodes.length&&\n",
       "(\"radialGradient\"==d.node.firstChild.tagName||\"linearGradient\"==d.node.firstChild.tagName||\"pattern\"==d.node.firstChild.tagName)&&(d=d.node.firstChild,b(this).appendChild(d),d=u(d));if(d instanceof v)if(\"radialGradient\"==d.type||\"linearGradient\"==d.type||\"pattern\"==d.type){d.node.id||e(d.node,{id:d.id});var f=l(d.node.id)}else f=d.attr(h);else f=a.color(d),f.error?(f=a(b(this).ownerSVGElement).gradient(d))?(f.node.id||e(f.node,{id:f.id}),f=l(f.node.id)):f=d:f=r(f);d={};d[h]=f;e(this.node,d);this.node.style[h]=\n",
       "x}}function z(a){k.stop();a==+a&&(a+=\"px\");this.node.style.fontSize=a}function d(a){var b=[];a=a.childNodes;for(var e=0,f=a.length;e<f;e++){var l=a[e];3==l.nodeType&&b.push(l.nodeValue);\"tspan\"==l.tagName&&(1==l.childNodes.length&&3==l.firstChild.nodeType?b.push(l.firstChild.nodeValue):b.push(d(l)))}return b}function f(){k.stop();return this.node.style.fontSize}var n=a._.make,u=a._.wrap,p=a.is,b=a._.getSomeDefs,q=/^url\\(#?([^)]+)\\)$/,e=a._.$,l=a.url,r=String,s=a._.separator,x=\"\";k.on(\"snap.util.attr.mask\",\n",
       "function(a){if(a instanceof v||a instanceof A){k.stop();a instanceof A&&1==a.node.childNodes.length&&(a=a.node.firstChild,b(this).appendChild(a),a=u(a));if(\"mask\"==a.type)var d=a;else d=n(\"mask\",b(this)),d.node.appendChild(a.node);!d.node.id&&e(d.node,{id:d.id});e(this.node,{mask:l(d.id)})}});(function(a){k.on(\"snap.util.attr.clip\",a);k.on(\"snap.util.attr.clip-path\",a);k.on(\"snap.util.attr.clipPath\",a)})(function(a){if(a instanceof v||a instanceof A){k.stop();if(\"clipPath\"==a.type)var d=a;else d=\n",
       "n(\"clipPath\",b(this)),d.node.appendChild(a.node),!d.node.id&&e(d.node,{id:d.id});e(this.node,{\"clip-path\":l(d.id)})}});k.on(\"snap.util.attr.fill\",w(\"fill\"));k.on(\"snap.util.attr.stroke\",w(\"stroke\"));var G=/^([lr])(?:\\(([^)]*)\\))?(.*)$/i;k.on(\"snap.util.grad.parse\",function(a){a=r(a);var b=a.match(G);if(!b)return null;a=b[1];var e=b[2],b=b[3],e=e.split(/\\s*,\\s*/).map(function(a){return+a==a?+a:a});1==e.length&&0==e[0]&&(e=[]);b=b.split(\"-\");b=b.map(function(a){a=a.split(\":\");var b={color:a[0]};a[1]&&\n",
       "(b.offset=parseFloat(a[1]));return b});return{type:a,params:e,stops:b}});k.on(\"snap.util.attr.d\",function(b){k.stop();p(b,\"array\")&&p(b[0],\"array\")&&(b=a.path.toString.call(b));b=r(b);b.match(/[ruo]/i)&&(b=a.path.toAbsolute(b));e(this.node,{d:b})})(-1);k.on(\"snap.util.attr.#text\",function(a){k.stop();a=r(a);for(a=M.doc.createTextNode(a);this.node.firstChild;)this.node.removeChild(this.node.firstChild);this.node.appendChild(a)})(-1);k.on(\"snap.util.attr.path\",function(a){k.stop();this.attr({d:a})})(-1);\n",
       "k.on(\"snap.util.attr.class\",function(a){k.stop();this.node.className.baseVal=a})(-1);k.on(\"snap.util.attr.viewBox\",function(a){a=p(a,\"object\")&&\"x\"in a?[a.x,a.y,a.width,a.height].join(\" \"):p(a,\"array\")?a.join(\" \"):a;e(this.node,{viewBox:a});k.stop()})(-1);k.on(\"snap.util.attr.transform\",function(a){this.transform(a);k.stop()})(-1);k.on(\"snap.util.attr.r\",function(a){\"rect\"==this.type&&(k.stop(),e(this.node,{rx:a,ry:a}))})(-1);k.on(\"snap.util.attr.textpath\",function(a){k.stop();if(\"text\"==this.type){var d,\n",
       "f;if(!a&&this.textPath){for(a=this.textPath;a.node.firstChild;)this.node.appendChild(a.node.firstChild);a.remove();delete this.textPath}else if(p(a,\"string\")?(d=b(this),a=u(d.parentNode).path(a),d.appendChild(a.node),d=a.id,a.attr({id:d})):(a=u(a),a instanceof v&&(d=a.attr(\"id\"),d||(d=a.id,a.attr({id:d})))),d)if(a=this.textPath,f=this.node,a)a.attr({\"xlink:href\":\"#\"+d});else{for(a=e(\"textPath\",{\"xlink:href\":\"#\"+d});f.firstChild;)a.appendChild(f.firstChild);f.appendChild(a);this.textPath=u(a)}}})(-1);\n",
       "k.on(\"snap.util.attr.text\",function(a){if(\"text\"==this.type){for(var b=this.node,d=function(a){var b=e(\"tspan\");if(p(a,\"array\"))for(var f=0;f<a.length;f++)b.appendChild(d(a[f]));else b.appendChild(M.doc.createTextNode(a));b.normalize&&b.normalize();return b};b.firstChild;)b.removeChild(b.firstChild);for(a=d(a);a.firstChild;)b.appendChild(a.firstChild)}k.stop()})(-1);k.on(\"snap.util.attr.fontSize\",z)(-1);k.on(\"snap.util.attr.font-size\",z)(-1);k.on(\"snap.util.getattr.transform\",function(){k.stop();\n",
       "return this.transform()})(-1);k.on(\"snap.util.getattr.textpath\",function(){k.stop();return this.textPath})(-1);(function(){function b(d){return function(){k.stop();var b=M.doc.defaultView.getComputedStyle(this.node,null).getPropertyValue(\"marker-\"+d);return\"none\"==b?b:a(M.doc.getElementById(b.match(q)[1]))}}function d(a){return function(b){k.stop();var d=\"marker\"+a.charAt(0).toUpperCase()+a.substring(1);if(\"\"==b||!b)this.node.style[d]=\"none\";else if(\"marker\"==b.type){var f=b.node.id;f||e(b.node,{id:b.id});\n",
       "this.node.style[d]=l(f)}}}k.on(\"snap.util.getattr.marker-end\",b(\"end\"))(-1);k.on(\"snap.util.getattr.markerEnd\",b(\"end\"))(-1);k.on(\"snap.util.getattr.marker-start\",b(\"start\"))(-1);k.on(\"snap.util.getattr.markerStart\",b(\"start\"))(-1);k.on(\"snap.util.getattr.marker-mid\",b(\"mid\"))(-1);k.on(\"snap.util.getattr.markerMid\",b(\"mid\"))(-1);k.on(\"snap.util.attr.marker-end\",d(\"end\"))(-1);k.on(\"snap.util.attr.markerEnd\",d(\"end\"))(-1);k.on(\"snap.util.attr.marker-start\",d(\"start\"))(-1);k.on(\"snap.util.attr.markerStart\",\n",
       "d(\"start\"))(-1);k.on(\"snap.util.attr.marker-mid\",d(\"mid\"))(-1);k.on(\"snap.util.attr.markerMid\",d(\"mid\"))(-1)})();k.on(\"snap.util.getattr.r\",function(){if(\"rect\"==this.type&&e(this.node,\"rx\")==e(this.node,\"ry\"))return k.stop(),e(this.node,\"rx\")})(-1);k.on(\"snap.util.getattr.text\",function(){if(\"text\"==this.type||\"tspan\"==this.type){k.stop();var a=d(this.node);return 1==a.length?a[0]:a}})(-1);k.on(\"snap.util.getattr.#text\",function(){return this.node.textContent})(-1);k.on(\"snap.util.getattr.viewBox\",\n",
       "function(){k.stop();var b=e(this.node,\"viewBox\");if(b)return b=b.split(s),a._.box(+b[0],+b[1],+b[2],+b[3])})(-1);k.on(\"snap.util.getattr.points\",function(){var a=e(this.node,\"points\");k.stop();if(a)return a.split(s)})(-1);k.on(\"snap.util.getattr.path\",function(){var a=e(this.node,\"d\");k.stop();return a})(-1);k.on(\"snap.util.getattr.class\",function(){return this.node.className.baseVal})(-1);k.on(\"snap.util.getattr.fontSize\",f)(-1);k.on(\"snap.util.getattr.font-size\",f)(-1)});C.plugin(function(a,v,y,\n",
       "M,A){function w(a){return a}function z(a){return function(b){return+b.toFixed(3)+a}}var d={\"+\":function(a,b){return a+b},\"-\":function(a,b){return a-b},\"/\":function(a,b){return a/b},\"*\":function(a,b){return a*b}},f=String,n=/[a-z]+$/i,u=/^\\s*([+\\-\\/*])\\s*=\\s*([\\d.eE+\\-]+)\\s*([^\\d\\s]+)?\\s*$/;k.on(\"snap.util.attr\",function(a){if(a=f(a).match(u)){var b=k.nt(),b=b.substring(b.lastIndexOf(\".\")+1),q=this.attr(b),e={};k.stop();var l=a[3]||\"\",r=q.match(n),s=d[a[1] ];r&&r==l?a=s(parseFloat(q),+a[2]):(q=this.asPX(b),\n",
       "a=s(this.asPX(b),this.asPX(b,a[2]+l)));isNaN(q)||isNaN(a)||(e[b]=a,this.attr(e))}})(-10);k.on(\"snap.util.equal\",function(a,b){var q=f(this.attr(a)||\"\"),e=f(b).match(u);if(e){k.stop();var l=e[3]||\"\",r=q.match(n),s=d[e[1] ];if(r&&r==l)return{from:parseFloat(q),to:s(parseFloat(q),+e[2]),f:z(r)};q=this.asPX(a);return{from:q,to:s(q,this.asPX(a,e[2]+l)),f:w}}})(-10)});C.plugin(function(a,v,y,M,A){var w=y.prototype,z=a.is;w.rect=function(a,d,k,p,b,q){var e;null==q&&(q=b);z(a,\"object\")&&\"[object Object]\"==\n",
       "a?e=a:null!=a&&(e={x:a,y:d,width:k,height:p},null!=b&&(e.rx=b,e.ry=q));return this.el(\"rect\",e)};w.circle=function(a,d,k){var p;z(a,\"object\")&&\"[object Object]\"==a?p=a:null!=a&&(p={cx:a,cy:d,r:k});return this.el(\"circle\",p)};var d=function(){function a(){this.parentNode.removeChild(this)}return function(d,k){var p=M.doc.createElement(\"img\"),b=M.doc.body;p.style.cssText=\"position:absolute;left:-9999em;top:-9999em\";p.onload=function(){k.call(p);p.onload=p.onerror=null;b.removeChild(p)};p.onerror=a;\n",
       "b.appendChild(p);p.src=d}}();w.image=function(f,n,k,p,b){var q=this.el(\"image\");if(z(f,\"object\")&&\"src\"in f)q.attr(f);else if(null!=f){var e={\"xlink:href\":f,preserveAspectRatio:\"none\"};null!=n&&null!=k&&(e.x=n,e.y=k);null!=p&&null!=b?(e.width=p,e.height=b):d(f,function(){a._.$(q.node,{width:this.offsetWidth,height:this.offsetHeight})});a._.$(q.node,e)}return q};w.ellipse=function(a,d,k,p){var b;z(a,\"object\")&&\"[object Object]\"==a?b=a:null!=a&&(b={cx:a,cy:d,rx:k,ry:p});return this.el(\"ellipse\",b)};\n",
       "w.path=function(a){var d;z(a,\"object\")&&!z(a,\"array\")?d=a:a&&(d={d:a});return this.el(\"path\",d)};w.group=w.g=function(a){var d=this.el(\"g\");1==arguments.length&&a&&!a.type?d.attr(a):arguments.length&&d.add(Array.prototype.slice.call(arguments,0));return d};w.svg=function(a,d,k,p,b,q,e,l){var r={};z(a,\"object\")&&null==d?r=a:(null!=a&&(r.x=a),null!=d&&(r.y=d),null!=k&&(r.width=k),null!=p&&(r.height=p),null!=b&&null!=q&&null!=e&&null!=l&&(r.viewBox=[b,q,e,l]));return this.el(\"svg\",r)};w.mask=function(a){var d=\n",
       "this.el(\"mask\");1==arguments.length&&a&&!a.type?d.attr(a):arguments.length&&d.add(Array.prototype.slice.call(arguments,0));return d};w.ptrn=function(a,d,k,p,b,q,e,l){if(z(a,\"object\"))var r=a;else arguments.length?(r={},null!=a&&(r.x=a),null!=d&&(r.y=d),null!=k&&(r.width=k),null!=p&&(r.height=p),null!=b&&null!=q&&null!=e&&null!=l&&(r.viewBox=[b,q,e,l])):r={patternUnits:\"userSpaceOnUse\"};return this.el(\"pattern\",r)};w.use=function(a){return null!=a?(make(\"use\",this.node),a instanceof v&&(a.attr(\"id\")||\n",
       "a.attr({id:ID()}),a=a.attr(\"id\")),this.el(\"use\",{\"xlink:href\":a})):v.prototype.use.call(this)};w.text=function(a,d,k){var p={};z(a,\"object\")?p=a:null!=a&&(p={x:a,y:d,text:k||\"\"});return this.el(\"text\",p)};w.line=function(a,d,k,p){var b={};z(a,\"object\")?b=a:null!=a&&(b={x1:a,x2:k,y1:d,y2:p});return this.el(\"line\",b)};w.polyline=function(a){1<arguments.length&&(a=Array.prototype.slice.call(arguments,0));var d={};z(a,\"object\")&&!z(a,\"array\")?d=a:null!=a&&(d={points:a});return this.el(\"polyline\",d)};\n",
       "w.polygon=function(a){1<arguments.length&&(a=Array.prototype.slice.call(arguments,0));var d={};z(a,\"object\")&&!z(a,\"array\")?d=a:null!=a&&(d={points:a});return this.el(\"polygon\",d)};(function(){function d(){return this.selectAll(\"stop\")}function n(b,d){var f=e(\"stop\"),k={offset:+d+\"%\"};b=a.color(b);k[\"stop-color\"]=b.hex;1>b.opacity&&(k[\"stop-opacity\"]=b.opacity);e(f,k);this.node.appendChild(f);return this}function u(){if(\"linearGradient\"==this.type){var b=e(this.node,\"x1\")||0,d=e(this.node,\"x2\")||\n",
       "1,f=e(this.node,\"y1\")||0,k=e(this.node,\"y2\")||0;return a._.box(b,f,math.abs(d-b),math.abs(k-f))}b=this.node.r||0;return a._.box((this.node.cx||0.5)-b,(this.node.cy||0.5)-b,2*b,2*b)}function p(a,d){function f(a,b){for(var d=(b-u)/(a-w),e=w;e<a;e++)h[e].offset=+(+u+d*(e-w)).toFixed(2);w=a;u=b}var n=k(\"snap.util.grad.parse\",null,d).firstDefined(),p;if(!n)return null;n.params.unshift(a);p=\"l\"==n.type.toLowerCase()?b.apply(0,n.params):q.apply(0,n.params);n.type!=n.type.toLowerCase()&&e(p.node,{gradientUnits:\"userSpaceOnUse\"});\n",
       "var h=n.stops,n=h.length,u=0,w=0;n--;for(var v=0;v<n;v++)\"offset\"in h[v]&&f(v,h[v].offset);h[n].offset=h[n].offset||100;f(n,h[n].offset);for(v=0;v<=n;v++){var y=h[v];p.addStop(y.color,y.offset)}return p}function b(b,k,p,q,w){b=a._.make(\"linearGradient\",b);b.stops=d;b.addStop=n;b.getBBox=u;null!=k&&e(b.node,{x1:k,y1:p,x2:q,y2:w});return b}function q(b,k,p,q,w,h){b=a._.make(\"radialGradient\",b);b.stops=d;b.addStop=n;b.getBBox=u;null!=k&&e(b.node,{cx:k,cy:p,r:q});null!=w&&null!=h&&e(b.node,{fx:w,fy:h});\n",
       "return b}var e=a._.$;w.gradient=function(a){return p(this.defs,a)};w.gradientLinear=function(a,d,e,f){return b(this.defs,a,d,e,f)};w.gradientRadial=function(a,b,d,e,f){return q(this.defs,a,b,d,e,f)};w.toString=function(){var b=this.node.ownerDocument,d=b.createDocumentFragment(),b=b.createElement(\"div\"),e=this.node.cloneNode(!0);d.appendChild(b);b.appendChild(e);a._.$(e,{xmlns:\"http://www.w3.org/2000/svg\"});b=b.innerHTML;d.removeChild(d.firstChild);return b};w.clear=function(){for(var a=this.node.firstChild,\n",
       "b;a;)b=a.nextSibling,\"defs\"!=a.tagName?a.parentNode.removeChild(a):w.clear.call({node:a}),a=b}})()});C.plugin(function(a,k,y,M){function A(a){var b=A.ps=A.ps||{};b[a]?b[a].sleep=100:b[a]={sleep:100};setTimeout(function(){for(var d in b)b[L](d)&&d!=a&&(b[d].sleep--,!b[d].sleep&&delete b[d])});return b[a]}function w(a,b,d,e){null==a&&(a=b=d=e=0);null==b&&(b=a.y,d=a.width,e=a.height,a=a.x);return{x:a,y:b,width:d,w:d,height:e,h:e,x2:a+d,y2:b+e,cx:a+d/2,cy:b+e/2,r1:F.min(d,e)/2,r2:F.max(d,e)/2,r0:F.sqrt(d*\n",
       "d+e*e)/2,path:s(a,b,d,e),vb:[a,b,d,e].join(\" \")}}function z(){return this.join(\",\").replace(N,\"$1\")}function d(a){a=C(a);a.toString=z;return a}function f(a,b,d,h,f,k,l,n,p){if(null==p)return e(a,b,d,h,f,k,l,n);if(0>p||e(a,b,d,h,f,k,l,n)<p)p=void 0;else{var q=0.5,O=1-q,s;for(s=e(a,b,d,h,f,k,l,n,O);0.01<Z(s-p);)q/=2,O+=(s<p?1:-1)*q,s=e(a,b,d,h,f,k,l,n,O);p=O}return u(a,b,d,h,f,k,l,n,p)}function n(b,d){function e(a){return+(+a).toFixed(3)}return a._.cacher(function(a,h,l){a instanceof k&&(a=a.attr(\"d\"));\n",
       "a=I(a);for(var n,p,D,q,O=\"\",s={},c=0,t=0,r=a.length;t<r;t++){D=a[t];if(\"M\"==D[0])n=+D[1],p=+D[2];else{q=f(n,p,D[1],D[2],D[3],D[4],D[5],D[6]);if(c+q>h){if(d&&!s.start){n=f(n,p,D[1],D[2],D[3],D[4],D[5],D[6],h-c);O+=[\"C\"+e(n.start.x),e(n.start.y),e(n.m.x),e(n.m.y),e(n.x),e(n.y)];if(l)return O;s.start=O;O=[\"M\"+e(n.x),e(n.y)+\"C\"+e(n.n.x),e(n.n.y),e(n.end.x),e(n.end.y),e(D[5]),e(D[6])].join();c+=q;n=+D[5];p=+D[6];continue}if(!b&&!d)return n=f(n,p,D[1],D[2],D[3],D[4],D[5],D[6],h-c)}c+=q;n=+D[5];p=+D[6]}O+=\n",
       "D.shift()+D}s.end=O;return n=b?c:d?s:u(n,p,D[0],D[1],D[2],D[3],D[4],D[5],1)},null,a._.clone)}function u(a,b,d,e,h,f,k,l,n){var p=1-n,q=ma(p,3),s=ma(p,2),c=n*n,t=c*n,r=q*a+3*s*n*d+3*p*n*n*h+t*k,q=q*b+3*s*n*e+3*p*n*n*f+t*l,s=a+2*n*(d-a)+c*(h-2*d+a),t=b+2*n*(e-b)+c*(f-2*e+b),x=d+2*n*(h-d)+c*(k-2*h+d),c=e+2*n*(f-e)+c*(l-2*f+e);a=p*a+n*d;b=p*b+n*e;h=p*h+n*k;f=p*f+n*l;l=90-180*F.atan2(s-x,t-c)/S;return{x:r,y:q,m:{x:s,y:t},n:{x:x,y:c},start:{x:a,y:b},end:{x:h,y:f},alpha:l}}function p(b,d,e,h,f,n,k,l){a.is(b,\n",
       "\"array\")||(b=[b,d,e,h,f,n,k,l]);b=U.apply(null,b);return w(b.min.x,b.min.y,b.max.x-b.min.x,b.max.y-b.min.y)}function b(a,b,d){return b>=a.x&&b<=a.x+a.width&&d>=a.y&&d<=a.y+a.height}function q(a,d){a=w(a);d=w(d);return b(d,a.x,a.y)||b(d,a.x2,a.y)||b(d,a.x,a.y2)||b(d,a.x2,a.y2)||b(a,d.x,d.y)||b(a,d.x2,d.y)||b(a,d.x,d.y2)||b(a,d.x2,d.y2)||(a.x<d.x2&&a.x>d.x||d.x<a.x2&&d.x>a.x)&&(a.y<d.y2&&a.y>d.y||d.y<a.y2&&d.y>a.y)}function e(a,b,d,e,h,f,n,k,l){null==l&&(l=1);l=(1<l?1:0>l?0:l)/2;for(var p=[-0.1252,\n",
       "0.1252,-0.3678,0.3678,-0.5873,0.5873,-0.7699,0.7699,-0.9041,0.9041,-0.9816,0.9816],q=[0.2491,0.2491,0.2335,0.2335,0.2032,0.2032,0.1601,0.1601,0.1069,0.1069,0.0472,0.0472],s=0,c=0;12>c;c++)var t=l*p[c]+l,r=t*(t*(-3*a+9*d-9*h+3*n)+6*a-12*d+6*h)-3*a+3*d,t=t*(t*(-3*b+9*e-9*f+3*k)+6*b-12*e+6*f)-3*b+3*e,s=s+q[c]*F.sqrt(r*r+t*t);return l*s}function l(a,b,d){a=I(a);b=I(b);for(var h,f,l,n,k,s,r,O,x,c,t=d?0:[],w=0,v=a.length;w<v;w++)if(x=a[w],\"M\"==x[0])h=k=x[1],f=s=x[2];else{\"C\"==x[0]?(x=[h,f].concat(x.slice(1)),\n",
       "h=x[6],f=x[7]):(x=[h,f,h,f,k,s,k,s],h=k,f=s);for(var G=0,y=b.length;G<y;G++)if(c=b[G],\"M\"==c[0])l=r=c[1],n=O=c[2];else{\"C\"==c[0]?(c=[l,n].concat(c.slice(1)),l=c[6],n=c[7]):(c=[l,n,l,n,r,O,r,O],l=r,n=O);var z;var K=x,B=c;z=d;var H=p(K),J=p(B);if(q(H,J)){for(var H=e.apply(0,K),J=e.apply(0,B),H=~~(H/8),J=~~(J/8),U=[],A=[],F={},M=z?0:[],P=0;P<H+1;P++){var C=u.apply(0,K.concat(P/H));U.push({x:C.x,y:C.y,t:P/H})}for(P=0;P<J+1;P++)C=u.apply(0,B.concat(P/J)),A.push({x:C.x,y:C.y,t:P/J});for(P=0;P<H;P++)for(K=\n",
       "0;K<J;K++){var Q=U[P],L=U[P+1],B=A[K],C=A[K+1],N=0.001>Z(L.x-Q.x)?\"y\":\"x\",S=0.001>Z(C.x-B.x)?\"y\":\"x\",R;R=Q.x;var Y=Q.y,V=L.x,ea=L.y,fa=B.x,ga=B.y,ha=C.x,ia=C.y;if(W(R,V)<X(fa,ha)||X(R,V)>W(fa,ha)||W(Y,ea)<X(ga,ia)||X(Y,ea)>W(ga,ia))R=void 0;else{var $=(R*ea-Y*V)*(fa-ha)-(R-V)*(fa*ia-ga*ha),aa=(R*ea-Y*V)*(ga-ia)-(Y-ea)*(fa*ia-ga*ha),ja=(R-V)*(ga-ia)-(Y-ea)*(fa-ha);if(ja){var $=$/ja,aa=aa/ja,ja=+$.toFixed(2),ba=+aa.toFixed(2);R=ja<+X(R,V).toFixed(2)||ja>+W(R,V).toFixed(2)||ja<+X(fa,ha).toFixed(2)||\n",
       "ja>+W(fa,ha).toFixed(2)||ba<+X(Y,ea).toFixed(2)||ba>+W(Y,ea).toFixed(2)||ba<+X(ga,ia).toFixed(2)||ba>+W(ga,ia).toFixed(2)?void 0:{x:$,y:aa}}else R=void 0}R&&F[R.x.toFixed(4)]!=R.y.toFixed(4)&&(F[R.x.toFixed(4)]=R.y.toFixed(4),Q=Q.t+Z((R[N]-Q[N])/(L[N]-Q[N]))*(L.t-Q.t),B=B.t+Z((R[S]-B[S])/(C[S]-B[S]))*(C.t-B.t),0<=Q&&1>=Q&&0<=B&&1>=B&&(z?M++:M.push({x:R.x,y:R.y,t1:Q,t2:B})))}z=M}else z=z?0:[];if(d)t+=z;else{H=0;for(J=z.length;H<J;H++)z[H].segment1=w,z[H].segment2=G,z[H].bez1=x,z[H].bez2=c;t=t.concat(z)}}}return t}\n",
       "function r(a){var b=A(a);if(b.bbox)return C(b.bbox);if(!a)return w();a=I(a);for(var d=0,e=0,h=[],f=[],l,n=0,k=a.length;n<k;n++)l=a[n],\"M\"==l[0]?(d=l[1],e=l[2],h.push(d),f.push(e)):(d=U(d,e,l[1],l[2],l[3],l[4],l[5],l[6]),h=h.concat(d.min.x,d.max.x),f=f.concat(d.min.y,d.max.y),d=l[5],e=l[6]);a=X.apply(0,h);l=X.apply(0,f);h=W.apply(0,h);f=W.apply(0,f);f=w(a,l,h-a,f-l);b.bbox=C(f);return f}function s(a,b,d,e,h){if(h)return[[\"M\",+a+ +h,b],[\"l\",d-2*h,0],[\"a\",h,h,0,0,1,h,h],[\"l\",0,e-2*h],[\"a\",h,h,0,0,1,\n",
       "-h,h],[\"l\",2*h-d,0],[\"a\",h,h,0,0,1,-h,-h],[\"l\",0,2*h-e],[\"a\",h,h,0,0,1,h,-h],[\"z\"] ];a=[[\"M\",a,b],[\"l\",d,0],[\"l\",0,e],[\"l\",-d,0],[\"z\"] ];a.toString=z;return a}function x(a,b,d,e,h){null==h&&null==e&&(e=d);a=+a;b=+b;d=+d;e=+e;if(null!=h){var f=Math.PI/180,l=a+d*Math.cos(-e*f);a+=d*Math.cos(-h*f);var n=b+d*Math.sin(-e*f);b+=d*Math.sin(-h*f);d=[[\"M\",l,n],[\"A\",d,d,0,+(180<h-e),0,a,b] ]}else d=[[\"M\",a,b],[\"m\",0,-e],[\"a\",d,e,0,1,1,0,2*e],[\"a\",d,e,0,1,1,0,-2*e],[\"z\"] ];d.toString=z;return d}function G(b){var e=\n",
       "A(b);if(e.abs)return d(e.abs);Q(b,\"array\")&&Q(b&&b[0],\"array\")||(b=a.parsePathString(b));if(!b||!b.length)return[[\"M\",0,0] ];var h=[],f=0,l=0,n=0,k=0,p=0;\"M\"==b[0][0]&&(f=+b[0][1],l=+b[0][2],n=f,k=l,p++,h[0]=[\"M\",f,l]);for(var q=3==b.length&&\"M\"==b[0][0]&&\"R\"==b[1][0].toUpperCase()&&\"Z\"==b[2][0].toUpperCase(),s,r,w=p,c=b.length;w<c;w++){h.push(s=[]);r=b[w];p=r[0];if(p!=p.toUpperCase())switch(s[0]=p.toUpperCase(),s[0]){case \"A\":s[1]=r[1];s[2]=r[2];s[3]=r[3];s[4]=r[4];s[5]=r[5];s[6]=+r[6]+f;s[7]=+r[7]+\n",
       "l;break;case \"V\":s[1]=+r[1]+l;break;case \"H\":s[1]=+r[1]+f;break;case \"R\":for(var t=[f,l].concat(r.slice(1)),u=2,v=t.length;u<v;u++)t[u]=+t[u]+f,t[++u]=+t[u]+l;h.pop();h=h.concat(P(t,q));break;case \"O\":h.pop();t=x(f,l,r[1],r[2]);t.push(t[0]);h=h.concat(t);break;case \"U\":h.pop();h=h.concat(x(f,l,r[1],r[2],r[3]));s=[\"U\"].concat(h[h.length-1].slice(-2));break;case \"M\":n=+r[1]+f,k=+r[2]+l;default:for(u=1,v=r.length;u<v;u++)s[u]=+r[u]+(u%2?f:l)}else if(\"R\"==p)t=[f,l].concat(r.slice(1)),h.pop(),h=h.concat(P(t,\n",
       "q)),s=[\"R\"].concat(r.slice(-2));else if(\"O\"==p)h.pop(),t=x(f,l,r[1],r[2]),t.push(t[0]),h=h.concat(t);else if(\"U\"==p)h.pop(),h=h.concat(x(f,l,r[1],r[2],r[3])),s=[\"U\"].concat(h[h.length-1].slice(-2));else for(t=0,u=r.length;t<u;t++)s[t]=r[t];p=p.toUpperCase();if(\"O\"!=p)switch(s[0]){case \"Z\":f=+n;l=+k;break;case \"H\":f=s[1];break;case \"V\":l=s[1];break;case \"M\":n=s[s.length-2],k=s[s.length-1];default:f=s[s.length-2],l=s[s.length-1]}}h.toString=z;e.abs=d(h);return h}function h(a,b,d,e){return[a,b,d,e,d,\n",
       "e]}function J(a,b,d,e,h,f){var l=1/3,n=2/3;return[l*a+n*d,l*b+n*e,l*h+n*d,l*f+n*e,h,f]}function K(b,d,e,h,f,l,n,k,p,s){var r=120*S/180,q=S/180*(+f||0),c=[],t,x=a._.cacher(function(a,b,c){var d=a*F.cos(c)-b*F.sin(c);a=a*F.sin(c)+b*F.cos(c);return{x:d,y:a}});if(s)v=s[0],t=s[1],l=s[2],u=s[3];else{t=x(b,d,-q);b=t.x;d=t.y;t=x(k,p,-q);k=t.x;p=t.y;F.cos(S/180*f);F.sin(S/180*f);t=(b-k)/2;v=(d-p)/2;u=t*t/(e*e)+v*v/(h*h);1<u&&(u=F.sqrt(u),e*=u,h*=u);var u=e*e,w=h*h,u=(l==n?-1:1)*F.sqrt(Z((u*w-u*v*v-w*t*t)/\n",
       "(u*v*v+w*t*t)));l=u*e*v/h+(b+k)/2;var u=u*-h*t/e+(d+p)/2,v=F.asin(((d-u)/h).toFixed(9));t=F.asin(((p-u)/h).toFixed(9));v=b<l?S-v:v;t=k<l?S-t:t;0>v&&(v=2*S+v);0>t&&(t=2*S+t);n&&v>t&&(v-=2*S);!n&&t>v&&(t-=2*S)}if(Z(t-v)>r){var c=t,w=k,G=p;t=v+r*(n&&t>v?1:-1);k=l+e*F.cos(t);p=u+h*F.sin(t);c=K(k,p,e,h,f,0,n,w,G,[t,c,l,u])}l=t-v;f=F.cos(v);r=F.sin(v);n=F.cos(t);t=F.sin(t);l=F.tan(l/4);e=4/3*e*l;l*=4/3*h;h=[b,d];b=[b+e*r,d-l*f];d=[k+e*t,p-l*n];k=[k,p];b[0]=2*h[0]-b[0];b[1]=2*h[1]-b[1];if(s)return[b,d,k].concat(c);\n",
       "c=[b,d,k].concat(c).join().split(\",\");s=[];k=0;for(p=c.length;k<p;k++)s[k]=k%2?x(c[k-1],c[k],q).y:x(c[k],c[k+1],q).x;return s}function U(a,b,d,e,h,f,l,k){for(var n=[],p=[[],[] ],s,r,c,t,q=0;2>q;++q)0==q?(r=6*a-12*d+6*h,s=-3*a+9*d-9*h+3*l,c=3*d-3*a):(r=6*b-12*e+6*f,s=-3*b+9*e-9*f+3*k,c=3*e-3*b),1E-12>Z(s)?1E-12>Z(r)||(s=-c/r,0<s&&1>s&&n.push(s)):(t=r*r-4*c*s,c=F.sqrt(t),0>t||(t=(-r+c)/(2*s),0<t&&1>t&&n.push(t),s=(-r-c)/(2*s),0<s&&1>s&&n.push(s)));for(r=q=n.length;q--;)s=n[q],c=1-s,p[0][q]=c*c*c*a+3*\n",
       "c*c*s*d+3*c*s*s*h+s*s*s*l,p[1][q]=c*c*c*b+3*c*c*s*e+3*c*s*s*f+s*s*s*k;p[0][r]=a;p[1][r]=b;p[0][r+1]=l;p[1][r+1]=k;p[0].length=p[1].length=r+2;return{min:{x:X.apply(0,p[0]),y:X.apply(0,p[1])},max:{x:W.apply(0,p[0]),y:W.apply(0,p[1])}}}function I(a,b){var e=!b&&A(a);if(!b&&e.curve)return d(e.curve);var f=G(a),l=b&&G(b),n={x:0,y:0,bx:0,by:0,X:0,Y:0,qx:null,qy:null},k={x:0,y:0,bx:0,by:0,X:0,Y:0,qx:null,qy:null},p=function(a,b,c){if(!a)return[\"C\",b.x,b.y,b.x,b.y,b.x,b.y];a[0]in{T:1,Q:1}||(b.qx=b.qy=null);\n",
       "switch(a[0]){case \"M\":b.X=a[1];b.Y=a[2];break;case \"A\":a=[\"C\"].concat(K.apply(0,[b.x,b.y].concat(a.slice(1))));break;case \"S\":\"C\"==c||\"S\"==c?(c=2*b.x-b.bx,b=2*b.y-b.by):(c=b.x,b=b.y);a=[\"C\",c,b].concat(a.slice(1));break;case \"T\":\"Q\"==c||\"T\"==c?(b.qx=2*b.x-b.qx,b.qy=2*b.y-b.qy):(b.qx=b.x,b.qy=b.y);a=[\"C\"].concat(J(b.x,b.y,b.qx,b.qy,a[1],a[2]));break;case \"Q\":b.qx=a[1];b.qy=a[2];a=[\"C\"].concat(J(b.x,b.y,a[1],a[2],a[3],a[4]));break;case \"L\":a=[\"C\"].concat(h(b.x,b.y,a[1],a[2]));break;case \"H\":a=[\"C\"].concat(h(b.x,\n",
       "b.y,a[1],b.y));break;case \"V\":a=[\"C\"].concat(h(b.x,b.y,b.x,a[1]));break;case \"Z\":a=[\"C\"].concat(h(b.x,b.y,b.X,b.Y))}return a},s=function(a,b){if(7<a[b].length){a[b].shift();for(var c=a[b];c.length;)q[b]=\"A\",l&&(u[b]=\"A\"),a.splice(b++,0,[\"C\"].concat(c.splice(0,6)));a.splice(b,1);v=W(f.length,l&&l.length||0)}},r=function(a,b,c,d,e){a&&b&&\"M\"==a[e][0]&&\"M\"!=b[e][0]&&(b.splice(e,0,[\"M\",d.x,d.y]),c.bx=0,c.by=0,c.x=a[e][1],c.y=a[e][2],v=W(f.length,l&&l.length||0))},q=[],u=[],c=\"\",t=\"\",x=0,v=W(f.length,\n",
       "l&&l.length||0);for(;x<v;x++){f[x]&&(c=f[x][0]);\"C\"!=c&&(q[x]=c,x&&(t=q[x-1]));f[x]=p(f[x],n,t);\"A\"!=q[x]&&\"C\"==c&&(q[x]=\"C\");s(f,x);l&&(l[x]&&(c=l[x][0]),\"C\"!=c&&(u[x]=c,x&&(t=u[x-1])),l[x]=p(l[x],k,t),\"A\"!=u[x]&&\"C\"==c&&(u[x]=\"C\"),s(l,x));r(f,l,n,k,x);r(l,f,k,n,x);var w=f[x],z=l&&l[x],y=w.length,U=l&&z.length;n.x=w[y-2];n.y=w[y-1];n.bx=$(w[y-4])||n.x;n.by=$(w[y-3])||n.y;k.bx=l&&($(z[U-4])||k.x);k.by=l&&($(z[U-3])||k.y);k.x=l&&z[U-2];k.y=l&&z[U-1]}l||(e.curve=d(f));return l?[f,l]:f}function P(a,\n",
       "b){for(var d=[],e=0,h=a.length;h-2*!b>e;e+=2){var f=[{x:+a[e-2],y:+a[e-1]},{x:+a[e],y:+a[e+1]},{x:+a[e+2],y:+a[e+3]},{x:+a[e+4],y:+a[e+5]}];b?e?h-4==e?f[3]={x:+a[0],y:+a[1]}:h-2==e&&(f[2]={x:+a[0],y:+a[1]},f[3]={x:+a[2],y:+a[3]}):f[0]={x:+a[h-2],y:+a[h-1]}:h-4==e?f[3]=f[2]:e||(f[0]={x:+a[e],y:+a[e+1]});d.push([\"C\",(-f[0].x+6*f[1].x+f[2].x)/6,(-f[0].y+6*f[1].y+f[2].y)/6,(f[1].x+6*f[2].x-f[3].x)/6,(f[1].y+6*f[2].y-f[3].y)/6,f[2].x,f[2].y])}return d}y=k.prototype;var Q=a.is,C=a._.clone,L=\"hasOwnProperty\",\n",
       "N=/,?([a-z]),?/gi,$=parseFloat,F=Math,S=F.PI,X=F.min,W=F.max,ma=F.pow,Z=F.abs;M=n(1);var na=n(),ba=n(0,1),V=a._unit2px;a.path=A;a.path.getTotalLength=M;a.path.getPointAtLength=na;a.path.getSubpath=function(a,b,d){if(1E-6>this.getTotalLength(a)-d)return ba(a,b).end;a=ba(a,d,1);return b?ba(a,b).end:a};y.getTotalLength=function(){if(this.node.getTotalLength)return this.node.getTotalLength()};y.getPointAtLength=function(a){return na(this.attr(\"d\"),a)};y.getSubpath=function(b,d){return a.path.getSubpath(this.attr(\"d\"),\n",
       "b,d)};a._.box=w;a.path.findDotsAtSegment=u;a.path.bezierBBox=p;a.path.isPointInsideBBox=b;a.path.isBBoxIntersect=q;a.path.intersection=function(a,b){return l(a,b)};a.path.intersectionNumber=function(a,b){return l(a,b,1)};a.path.isPointInside=function(a,d,e){var h=r(a);return b(h,d,e)&&1==l(a,[[\"M\",d,e],[\"H\",h.x2+10] ],1)%2};a.path.getBBox=r;a.path.get={path:function(a){return a.attr(\"path\")},circle:function(a){a=V(a);return x(a.cx,a.cy,a.r)},ellipse:function(a){a=V(a);return x(a.cx||0,a.cy||0,a.rx,\n",
       "a.ry)},rect:function(a){a=V(a);return s(a.x||0,a.y||0,a.width,a.height,a.rx,a.ry)},image:function(a){a=V(a);return s(a.x||0,a.y||0,a.width,a.height)},line:function(a){return\"M\"+[a.attr(\"x1\")||0,a.attr(\"y1\")||0,a.attr(\"x2\"),a.attr(\"y2\")]},polyline:function(a){return\"M\"+a.attr(\"points\")},polygon:function(a){return\"M\"+a.attr(\"points\")+\"z\"},deflt:function(a){a=a.node.getBBox();return s(a.x,a.y,a.width,a.height)}};a.path.toRelative=function(b){var e=A(b),h=String.prototype.toLowerCase;if(e.rel)return d(e.rel);\n",
       "a.is(b,\"array\")&&a.is(b&&b[0],\"array\")||(b=a.parsePathString(b));var f=[],l=0,n=0,k=0,p=0,s=0;\"M\"==b[0][0]&&(l=b[0][1],n=b[0][2],k=l,p=n,s++,f.push([\"M\",l,n]));for(var r=b.length;s<r;s++){var q=f[s]=[],x=b[s];if(x[0]!=h.call(x[0]))switch(q[0]=h.call(x[0]),q[0]){case \"a\":q[1]=x[1];q[2]=x[2];q[3]=x[3];q[4]=x[4];q[5]=x[5];q[6]=+(x[6]-l).toFixed(3);q[7]=+(x[7]-n).toFixed(3);break;case \"v\":q[1]=+(x[1]-n).toFixed(3);break;case \"m\":k=x[1],p=x[2];default:for(var c=1,t=x.length;c<t;c++)q[c]=+(x[c]-(c%2?l:\n",
       "n)).toFixed(3)}else for(f[s]=[],\"m\"==x[0]&&(k=x[1]+l,p=x[2]+n),q=0,c=x.length;q<c;q++)f[s][q]=x[q];x=f[s].length;switch(f[s][0]){case \"z\":l=k;n=p;break;case \"h\":l+=+f[s][x-1];break;case \"v\":n+=+f[s][x-1];break;default:l+=+f[s][x-2],n+=+f[s][x-1]}}f.toString=z;e.rel=d(f);return f};a.path.toAbsolute=G;a.path.toCubic=I;a.path.map=function(a,b){if(!b)return a;var d,e,h,f,l,n,k;a=I(a);h=0;for(l=a.length;h<l;h++)for(k=a[h],f=1,n=k.length;f<n;f+=2)d=b.x(k[f],k[f+1]),e=b.y(k[f],k[f+1]),k[f]=d,k[f+1]=e;return a};\n",
       "a.path.toString=z;a.path.clone=d});C.plugin(function(a,v,y,C){var A=Math.max,w=Math.min,z=function(a){this.items=[];this.bindings={};this.length=0;this.type=\"set\";if(a)for(var f=0,n=a.length;f<n;f++)a[f]&&(this[this.items.length]=this.items[this.items.length]=a[f],this.length++)};v=z.prototype;v.push=function(){for(var a,f,n=0,k=arguments.length;n<k;n++)if(a=arguments[n])f=this.items.length,this[f]=this.items[f]=a,this.length++;return this};v.pop=function(){this.length&&delete this[this.length--];\n",
       "return this.items.pop()};v.forEach=function(a,f){for(var n=0,k=this.items.length;n<k&&!1!==a.call(f,this.items[n],n);n++);return this};v.animate=function(d,f,n,u){\"function\"!=typeof n||n.length||(u=n,n=L.linear);d instanceof a._.Animation&&(u=d.callback,n=d.easing,f=n.dur,d=d.attr);var p=arguments;if(a.is(d,\"array\")&&a.is(p[p.length-1],\"array\"))var b=!0;var q,e=function(){q?this.b=q:q=this.b},l=0,r=u&&function(){l++==this.length&&u.call(this)};return this.forEach(function(a,l){k.once(\"snap.animcreated.\"+\n",
       "a.id,e);b?p[l]&&a.animate.apply(a,p[l]):a.animate(d,f,n,r)})};v.remove=function(){for(;this.length;)this.pop().remove();return this};v.bind=function(a,f,k){var u={};if(\"function\"==typeof f)this.bindings[a]=f;else{var p=k||a;this.bindings[a]=function(a){u[p]=a;f.attr(u)}}return this};v.attr=function(a){var f={},k;for(k in a)if(this.bindings[k])this.bindings[k](a[k]);else f[k]=a[k];a=0;for(k=this.items.length;a<k;a++)this.items[a].attr(f);return this};v.clear=function(){for(;this.length;)this.pop()};\n",
       "v.splice=function(a,f,k){a=0>a?A(this.length+a,0):a;f=A(0,w(this.length-a,f));var u=[],p=[],b=[],q;for(q=2;q<arguments.length;q++)b.push(arguments[q]);for(q=0;q<f;q++)p.push(this[a+q]);for(;q<this.length-a;q++)u.push(this[a+q]);var e=b.length;for(q=0;q<e+u.length;q++)this.items[a+q]=this[a+q]=q<e?b[q]:u[q-e];for(q=this.items.length=this.length-=f-e;this[q];)delete this[q++];return new z(p)};v.exclude=function(a){for(var f=0,k=this.length;f<k;f++)if(this[f]==a)return this.splice(f,1),!0;return!1};\n",
       "v.insertAfter=function(a){for(var f=this.items.length;f--;)this.items[f].insertAfter(a);return this};v.getBBox=function(){for(var a=[],f=[],k=[],u=[],p=this.items.length;p--;)if(!this.items[p].removed){var b=this.items[p].getBBox();a.push(b.x);f.push(b.y);k.push(b.x+b.width);u.push(b.y+b.height)}a=w.apply(0,a);f=w.apply(0,f);k=A.apply(0,k);u=A.apply(0,u);return{x:a,y:f,x2:k,y2:u,width:k-a,height:u-f,cx:a+(k-a)/2,cy:f+(u-f)/2}};v.clone=function(a){a=new z;for(var f=0,k=this.items.length;f<k;f++)a.push(this.items[f].clone());\n",
       "return a};v.toString=function(){return\"Snap\\u2018s set\"};v.type=\"set\";a.set=function(){var a=new z;arguments.length&&a.push.apply(a,Array.prototype.slice.call(arguments,0));return a}});C.plugin(function(a,v,y,C){function A(a){var b=a[0];switch(b.toLowerCase()){case \"t\":return[b,0,0];case \"m\":return[b,1,0,0,1,0,0];case \"r\":return 4==a.length?[b,0,a[2],a[3] ]:[b,0];case \"s\":return 5==a.length?[b,1,1,a[3],a[4] ]:3==a.length?[b,1,1]:[b,1]}}function w(b,d,f){d=q(d).replace(/\\.{3}|\\u2026/g,b);b=a.parseTransformString(b)||\n",
       "[];d=a.parseTransformString(d)||[];for(var k=Math.max(b.length,d.length),p=[],v=[],h=0,w,z,y,I;h<k;h++){y=b[h]||A(d[h]);I=d[h]||A(y);if(y[0]!=I[0]||\"r\"==y[0].toLowerCase()&&(y[2]!=I[2]||y[3]!=I[3])||\"s\"==y[0].toLowerCase()&&(y[3]!=I[3]||y[4]!=I[4])){b=a._.transform2matrix(b,f());d=a._.transform2matrix(d,f());p=[[\"m\",b.a,b.b,b.c,b.d,b.e,b.f] ];v=[[\"m\",d.a,d.b,d.c,d.d,d.e,d.f] ];break}p[h]=[];v[h]=[];w=0;for(z=Math.max(y.length,I.length);w<z;w++)w in y&&(p[h][w]=y[w]),w in I&&(v[h][w]=I[w])}return{from:u(p),\n",
       "to:u(v),f:n(p)}}function z(a){return a}function d(a){return function(b){return+b.toFixed(3)+a}}function f(b){return a.rgb(b[0],b[1],b[2])}function n(a){var b=0,d,f,k,n,h,p,q=[];d=0;for(f=a.length;d<f;d++){h=\"[\";p=['\"'+a[d][0]+'\"'];k=1;for(n=a[d].length;k<n;k++)p[k]=\"val[\"+b++ +\"]\";h+=p+\"]\";q[d]=h}return Function(\"val\",\"return Snap.path.toString.call([\"+q+\"])\")}function u(a){for(var b=[],d=0,f=a.length;d<f;d++)for(var k=1,n=a[d].length;k<n;k++)b.push(a[d][k]);return b}var p={},b=/[a-z]+$/i,q=String;\n",
       "p.stroke=p.fill=\"colour\";v.prototype.equal=function(a,b){return k(\"snap.util.equal\",this,a,b).firstDefined()};k.on(\"snap.util.equal\",function(e,k){var r,s;r=q(this.attr(e)||\"\");var x=this;if(r==+r&&k==+k)return{from:+r,to:+k,f:z};if(\"colour\"==p[e])return r=a.color(r),s=a.color(k),{from:[r.r,r.g,r.b,r.opacity],to:[s.r,s.g,s.b,s.opacity],f:f};if(\"transform\"==e||\"gradientTransform\"==e||\"patternTransform\"==e)return k instanceof a.Matrix&&(k=k.toTransformString()),a._.rgTransform.test(k)||(k=a._.svgTransform2string(k)),\n",
       "w(r,k,function(){return x.getBBox(1)});if(\"d\"==e||\"path\"==e)return r=a.path.toCubic(r,k),{from:u(r[0]),to:u(r[1]),f:n(r[0])};if(\"points\"==e)return r=q(r).split(a._.separator),s=q(k).split(a._.separator),{from:r,to:s,f:function(a){return a}};aUnit=r.match(b);s=q(k).match(b);return aUnit&&aUnit==s?{from:parseFloat(r),to:parseFloat(k),f:d(aUnit)}:{from:this.asPX(e),to:this.asPX(e,k),f:z}})});C.plugin(function(a,v,y,C){var A=v.prototype,w=\"createTouch\"in C.doc;v=\"click dblclick mousedown mousemove mouseout mouseover mouseup touchstart touchmove touchend touchcancel\".split(\" \");\n",
       "var z={mousedown:\"touchstart\",mousemove:\"touchmove\",mouseup:\"touchend\"},d=function(a,b){var d=\"y\"==a?\"scrollTop\":\"scrollLeft\",e=b&&b.node?b.node.ownerDocument:C.doc;return e[d in e.documentElement?\"documentElement\":\"body\"][d]},f=function(){this.returnValue=!1},n=function(){return this.originalEvent.preventDefault()},u=function(){this.cancelBubble=!0},p=function(){return this.originalEvent.stopPropagation()},b=function(){if(C.doc.addEventListener)return function(a,b,e,f){var k=w&&z[b]?z[b]:b,l=function(k){var l=\n",
       "d(\"y\",f),q=d(\"x\",f);if(w&&z.hasOwnProperty(b))for(var r=0,u=k.targetTouches&&k.targetTouches.length;r<u;r++)if(k.targetTouches[r].target==a||a.contains(k.targetTouches[r].target)){u=k;k=k.targetTouches[r];k.originalEvent=u;k.preventDefault=n;k.stopPropagation=p;break}return e.call(f,k,k.clientX+q,k.clientY+l)};b!==k&&a.addEventListener(b,l,!1);a.addEventListener(k,l,!1);return function(){b!==k&&a.removeEventListener(b,l,!1);a.removeEventListener(k,l,!1);return!0}};if(C.doc.attachEvent)return function(a,\n",
       "b,e,h){var k=function(a){a=a||h.node.ownerDocument.window.event;var b=d(\"y\",h),k=d(\"x\",h),k=a.clientX+k,b=a.clientY+b;a.preventDefault=a.preventDefault||f;a.stopPropagation=a.stopPropagation||u;return e.call(h,a,k,b)};a.attachEvent(\"on\"+b,k);return function(){a.detachEvent(\"on\"+b,k);return!0}}}(),q=[],e=function(a){for(var b=a.clientX,e=a.clientY,f=d(\"y\"),l=d(\"x\"),n,p=q.length;p--;){n=q[p];if(w)for(var r=a.touches&&a.touches.length,u;r--;){if(u=a.touches[r],u.identifier==n.el._drag.id||n.el.node.contains(u.target)){b=\n",
       "u.clientX;e=u.clientY;(a.originalEvent?a.originalEvent:a).preventDefault();break}}else a.preventDefault();b+=l;e+=f;k(\"snap.drag.move.\"+n.el.id,n.move_scope||n.el,b-n.el._drag.x,e-n.el._drag.y,b,e,a)}},l=function(b){a.unmousemove(e).unmouseup(l);for(var d=q.length,f;d--;)f=q[d],f.el._drag={},k(\"snap.drag.end.\"+f.el.id,f.end_scope||f.start_scope||f.move_scope||f.el,b);q=[]};for(y=v.length;y--;)(function(d){a[d]=A[d]=function(e,f){a.is(e,\"function\")&&(this.events=this.events||[],this.events.push({name:d,\n",
       "f:e,unbind:b(this.node||document,d,e,f||this)}));return this};a[\"un\"+d]=A[\"un\"+d]=function(a){for(var b=this.events||[],e=b.length;e--;)if(b[e].name==d&&(b[e].f==a||!a)){b[e].unbind();b.splice(e,1);!b.length&&delete this.events;break}return this}})(v[y]);A.hover=function(a,b,d,e){return this.mouseover(a,d).mouseout(b,e||d)};A.unhover=function(a,b){return this.unmouseover(a).unmouseout(b)};var r=[];A.drag=function(b,d,f,h,n,p){function u(r,v,w){(r.originalEvent||r).preventDefault();this._drag.x=v;\n",
       "this._drag.y=w;this._drag.id=r.identifier;!q.length&&a.mousemove(e).mouseup(l);q.push({el:this,move_scope:h,start_scope:n,end_scope:p});d&&k.on(\"snap.drag.start.\"+this.id,d);b&&k.on(\"snap.drag.move.\"+this.id,b);f&&k.on(\"snap.drag.end.\"+this.id,f);k(\"snap.drag.start.\"+this.id,n||h||this,v,w,r)}if(!arguments.length){var v;return this.drag(function(a,b){this.attr({transform:v+(v?\"T\":\"t\")+[a,b]})},function(){v=this.transform().local})}this._drag={};r.push({el:this,start:u});this.mousedown(u);return this};\n",
       "A.undrag=function(){for(var b=r.length;b--;)r[b].el==this&&(this.unmousedown(r[b].start),r.splice(b,1),k.unbind(\"snap.drag.*.\"+this.id));!r.length&&a.unmousemove(e).unmouseup(l);return this}});C.plugin(function(a,v,y,C){y=y.prototype;var A=/^\\s*url\\((.+)\\)/,w=String,z=a._.$;a.filter={};y.filter=function(d){var f=this;\"svg\"!=f.type&&(f=f.paper);d=a.parse(w(d));var k=a._.id(),u=z(\"filter\");z(u,{id:k,filterUnits:\"userSpaceOnUse\"});u.appendChild(d.node);f.defs.appendChild(u);return new v(u)};k.on(\"snap.util.getattr.filter\",\n",
       "function(){k.stop();var d=z(this.node,\"filter\");if(d)return(d=w(d).match(A))&&a.select(d[1])});k.on(\"snap.util.attr.filter\",function(d){if(d instanceof v&&\"filter\"==d.type){k.stop();var f=d.node.id;f||(z(d.node,{id:d.id}),f=d.id);z(this.node,{filter:a.url(f)})}d&&\"none\"!=d||(k.stop(),this.node.removeAttribute(\"filter\"))});a.filter.blur=function(d,f){null==d&&(d=2);return a.format('<feGaussianBlur stdDeviation=\"{def}\"/>',{def:null==f?d:[d,f]})};a.filter.blur.toString=function(){return this()};a.filter.shadow=\n",
       "function(d,f,k,u,p){\"string\"==typeof k&&(p=u=k,k=4);\"string\"!=typeof u&&(p=u,u=\"#000\");null==k&&(k=4);null==p&&(p=1);null==d&&(d=0,f=2);null==f&&(f=d);u=a.color(u||\"#000\");return a.format('<feGaussianBlur in=\"SourceAlpha\" stdDeviation=\"{blur}\"/><feOffset dx=\"{dx}\" dy=\"{dy}\" result=\"offsetblur\"/><feFlood flood-color=\"{color}\"/><feComposite in2=\"offsetblur\" operator=\"in\"/><feComponentTransfer><feFuncA type=\"linear\" slope=\"{opacity}\"/></feComponentTransfer><feMerge><feMergeNode/><feMergeNode in=\"SourceGraphic\"/></feMerge>',\n",
       "{color:u,dx:d,dy:f,blur:k,opacity:p})};a.filter.shadow.toString=function(){return this()};a.filter.grayscale=function(d){null==d&&(d=1);return a.format('<feColorMatrix type=\"matrix\" values=\"{a} {b} {c} 0 0 {d} {e} {f} 0 0 {g} {b} {h} 0 0 0 0 0 1 0\"/>',{a:0.2126+0.7874*(1-d),b:0.7152-0.7152*(1-d),c:0.0722-0.0722*(1-d),d:0.2126-0.2126*(1-d),e:0.7152+0.2848*(1-d),f:0.0722-0.0722*(1-d),g:0.2126-0.2126*(1-d),h:0.0722+0.9278*(1-d)})};a.filter.grayscale.toString=function(){return this()};a.filter.sepia=\n",
       "function(d){null==d&&(d=1);return a.format('<feColorMatrix type=\"matrix\" values=\"{a} {b} {c} 0 0 {d} {e} {f} 0 0 {g} {h} {i} 0 0 0 0 0 1 0\"/>',{a:0.393+0.607*(1-d),b:0.769-0.769*(1-d),c:0.189-0.189*(1-d),d:0.349-0.349*(1-d),e:0.686+0.314*(1-d),f:0.168-0.168*(1-d),g:0.272-0.272*(1-d),h:0.534-0.534*(1-d),i:0.131+0.869*(1-d)})};a.filter.sepia.toString=function(){return this()};a.filter.saturate=function(d){null==d&&(d=1);return a.format('<feColorMatrix type=\"saturate\" values=\"{amount}\"/>',{amount:1-\n",
       "d})};a.filter.saturate.toString=function(){return this()};a.filter.hueRotate=function(d){return a.format('<feColorMatrix type=\"hueRotate\" values=\"{angle}\"/>',{angle:d||0})};a.filter.hueRotate.toString=function(){return this()};a.filter.invert=function(d){null==d&&(d=1);return a.format('<feComponentTransfer><feFuncR type=\"table\" tableValues=\"{amount} {amount2}\"/><feFuncG type=\"table\" tableValues=\"{amount} {amount2}\"/><feFuncB type=\"table\" tableValues=\"{amount} {amount2}\"/></feComponentTransfer>',{amount:d,\n",
       "amount2:1-d})};a.filter.invert.toString=function(){return this()};a.filter.brightness=function(d){null==d&&(d=1);return a.format('<feComponentTransfer><feFuncR type=\"linear\" slope=\"{amount}\"/><feFuncG type=\"linear\" slope=\"{amount}\"/><feFuncB type=\"linear\" slope=\"{amount}\"/></feComponentTransfer>',{amount:d})};a.filter.brightness.toString=function(){return this()};a.filter.contrast=function(d){null==d&&(d=1);return a.format('<feComponentTransfer><feFuncR type=\"linear\" slope=\"{amount}\" intercept=\"{amount2}\"/><feFuncG type=\"linear\" slope=\"{amount}\" intercept=\"{amount2}\"/><feFuncB type=\"linear\" slope=\"{amount}\" intercept=\"{amount2}\"/></feComponentTransfer>',\n",
       "{amount:d,amount2:0.5-d/2})};a.filter.contrast.toString=function(){return this()}});return C});\n",
       "\n",
       "]]> </script>\n",
       "<script> <![CDATA[\n",
       "\n",
       "(function (glob, factory) {\n",
       "    // AMD support\n",
       "    if (typeof define === \"function\" && define.amd) {\n",
       "        // Define as an anonymous module\n",
       "        define(\"Gadfly\", [\"Snap.svg\"], function (Snap) {\n",
       "            return factory(Snap);\n",
       "        });\n",
       "    } else {\n",
       "        // Browser globals (glob is window)\n",
       "        // Snap adds itself to window\n",
       "        glob.Gadfly = factory(glob.Snap);\n",
       "    }\n",
       "}(this, function (Snap) {\n",
       "\n",
       "var Gadfly = {};\n",
       "\n",
       "// Get an x/y coordinate value in pixels\n",
       "var xPX = function(fig, x) {\n",
       "    var client_box = fig.node.getBoundingClientRect();\n",
       "    return x * fig.node.viewBox.baseVal.width / client_box.width;\n",
       "};\n",
       "\n",
       "var yPX = function(fig, y) {\n",
       "    var client_box = fig.node.getBoundingClientRect();\n",
       "    return y * fig.node.viewBox.baseVal.height / client_box.height;\n",
       "};\n",
       "\n",
       "\n",
       "Snap.plugin(function (Snap, Element, Paper, global) {\n",
       "    // Traverse upwards from a snap element to find and return the first\n",
       "    // note with the \"plotroot\" class.\n",
       "    Element.prototype.plotroot = function () {\n",
       "        var element = this;\n",
       "        while (!element.hasClass(\"plotroot\") && element.parent() != null) {\n",
       "            element = element.parent();\n",
       "        }\n",
       "        return element;\n",
       "    };\n",
       "\n",
       "    Element.prototype.svgroot = function () {\n",
       "        var element = this;\n",
       "        while (element.node.nodeName != \"svg\" && element.parent() != null) {\n",
       "            element = element.parent();\n",
       "        }\n",
       "        return element;\n",
       "    };\n",
       "\n",
       "    Element.prototype.plotbounds = function () {\n",
       "        var root = this.plotroot()\n",
       "        var bbox = root.select(\".guide.background\").node.getBBox();\n",
       "        return {\n",
       "            x0: bbox.x,\n",
       "            x1: bbox.x + bbox.width,\n",
       "            y0: bbox.y,\n",
       "            y1: bbox.y + bbox.height\n",
       "        };\n",
       "    };\n",
       "\n",
       "    Element.prototype.plotcenter = function () {\n",
       "        var root = this.plotroot()\n",
       "        var bbox = root.select(\".guide.background\").node.getBBox();\n",
       "        return {\n",
       "            x: bbox.x + bbox.width / 2,\n",
       "            y: bbox.y + bbox.height / 2\n",
       "        };\n",
       "    };\n",
       "\n",
       "    // Emulate IE style mouseenter/mouseleave events, since Microsoft always\n",
       "    // does everything right.\n",
       "    // See: http://www.dynamic-tools.net/toolbox/isMouseLeaveOrEnter/\n",
       "    var events = [\"mouseenter\", \"mouseleave\"];\n",
       "\n",
       "    for (i in events) {\n",
       "        (function (event_name) {\n",
       "            var event_name = events[i];\n",
       "            Element.prototype[event_name] = function (fn, scope) {\n",
       "                if (Snap.is(fn, \"function\")) {\n",
       "                    var fn2 = function (event) {\n",
       "                        if (event.type != \"mouseover\" && event.type != \"mouseout\") {\n",
       "                            return;\n",
       "                        }\n",
       "\n",
       "                        var reltg = event.relatedTarget ? event.relatedTarget :\n",
       "                            event.type == \"mouseout\" ? event.toElement : event.fromElement;\n",
       "                        while (reltg && reltg != this.node) reltg = reltg.parentNode;\n",
       "\n",
       "                        if (reltg != this.node) {\n",
       "                            return fn.apply(this, event);\n",
       "                        }\n",
       "                    };\n",
       "\n",
       "                    if (event_name == \"mouseenter\") {\n",
       "                        this.mouseover(fn2, scope);\n",
       "                    } else {\n",
       "                        this.mouseout(fn2, scope);\n",
       "                    }\n",
       "                }\n",
       "                return this;\n",
       "            };\n",
       "        })(events[i]);\n",
       "    }\n",
       "\n",
       "\n",
       "    Element.prototype.mousewheel = function (fn, scope) {\n",
       "        if (Snap.is(fn, \"function\")) {\n",
       "            var el = this;\n",
       "            var fn2 = function (event) {\n",
       "                fn.apply(el, [event]);\n",
       "            };\n",
       "        }\n",
       "\n",
       "        this.node.addEventListener(\n",
       "            /Firefox/i.test(navigator.userAgent) ? \"DOMMouseScroll\" : \"mousewheel\",\n",
       "            fn2);\n",
       "\n",
       "        return this;\n",
       "    };\n",
       "\n",
       "\n",
       "    // Snap's attr function can be too slow for things like panning/zooming.\n",
       "    // This is a function to directly update element attributes without going\n",
       "    // through eve.\n",
       "    Element.prototype.attribute = function(key, val) {\n",
       "        if (val === undefined) {\n",
       "            return this.node.getAttribute(key);\n",
       "        } else {\n",
       "            this.node.setAttribute(key, val);\n",
       "            return this;\n",
       "        }\n",
       "    };\n",
       "\n",
       "    Element.prototype.init_gadfly = function() {\n",
       "        this.mouseenter(Gadfly.plot_mouseover)\n",
       "            .mouseleave(Gadfly.plot_mouseout)\n",
       "            .dblclick(Gadfly.plot_dblclick)\n",
       "            .mousewheel(Gadfly.guide_background_scroll)\n",
       "            .drag(Gadfly.guide_background_drag_onmove,\n",
       "                  Gadfly.guide_background_drag_onstart,\n",
       "                  Gadfly.guide_background_drag_onend);\n",
       "        this.mouseenter(function (event) {\n",
       "            init_pan_zoom(this.plotroot());\n",
       "        });\n",
       "        return this;\n",
       "    };\n",
       "});\n",
       "\n",
       "\n",
       "// When the plot is moused over, emphasize the grid lines.\n",
       "Gadfly.plot_mouseover = function(event) {\n",
       "    var root = this.plotroot();\n",
       "\n",
       "    var keyboard_zoom = function(event) {\n",
       "        if (event.which == 187) { // plus\n",
       "            increase_zoom_by_position(root, 0.1, true);\n",
       "        } else if (event.which == 189) { // minus\n",
       "            increase_zoom_by_position(root, -0.1, true);\n",
       "        }\n",
       "    };\n",
       "    root.data(\"keyboard_zoom\", keyboard_zoom);\n",
       "    window.addEventListener(\"keyup\", keyboard_zoom);\n",
       "\n",
       "    var xgridlines = root.select(\".xgridlines\"),\n",
       "        ygridlines = root.select(\".ygridlines\");\n",
       "\n",
       "    xgridlines.data(\"unfocused_strokedash\",\n",
       "                    xgridlines.attribute(\"stroke-dasharray\").replace(/(\\d)(,|$)/g, \"$1mm$2\"));\n",
       "    ygridlines.data(\"unfocused_strokedash\",\n",
       "                    ygridlines.attribute(\"stroke-dasharray\").replace(/(\\d)(,|$)/g, \"$1mm$2\"));\n",
       "\n",
       "    // emphasize grid lines\n",
       "    var destcolor = root.data(\"focused_xgrid_color\");\n",
       "    xgridlines.attribute(\"stroke-dasharray\", \"none\")\n",
       "              .selectAll(\"path\")\n",
       "              .animate({stroke: destcolor}, 250);\n",
       "\n",
       "    destcolor = root.data(\"focused_ygrid_color\");\n",
       "    ygridlines.attribute(\"stroke-dasharray\", \"none\")\n",
       "              .selectAll(\"path\")\n",
       "              .animate({stroke: destcolor}, 250);\n",
       "\n",
       "    // reveal zoom slider\n",
       "    root.select(\".zoomslider\")\n",
       "        .animate({opacity: 1.0}, 250);\n",
       "};\n",
       "\n",
       "// Reset pan and zoom on double click\n",
       "Gadfly.plot_dblclick = function(event) {\n",
       "  set_plot_pan_zoom(this.plotroot(), 0.0, 0.0, 1.0);\n",
       "};\n",
       "\n",
       "// Unemphasize grid lines on mouse out.\n",
       "Gadfly.plot_mouseout = function(event) {\n",
       "    var root = this.plotroot();\n",
       "\n",
       "    window.removeEventListener(\"keyup\", root.data(\"keyboard_zoom\"));\n",
       "    root.data(\"keyboard_zoom\", undefined);\n",
       "\n",
       "    var xgridlines = root.select(\".xgridlines\"),\n",
       "        ygridlines = root.select(\".ygridlines\");\n",
       "\n",
       "    var destcolor = root.data(\"unfocused_xgrid_color\");\n",
       "\n",
       "    xgridlines.attribute(\"stroke-dasharray\", xgridlines.data(\"unfocused_strokedash\"))\n",
       "              .selectAll(\"path\")\n",
       "              .animate({stroke: destcolor}, 250);\n",
       "\n",
       "    destcolor = root.data(\"unfocused_ygrid_color\");\n",
       "    ygridlines.attribute(\"stroke-dasharray\", ygridlines.data(\"unfocused_strokedash\"))\n",
       "              .selectAll(\"path\")\n",
       "              .animate({stroke: destcolor}, 250);\n",
       "\n",
       "    // hide zoom slider\n",
       "    root.select(\".zoomslider\")\n",
       "        .animate({opacity: 0.0}, 250);\n",
       "};\n",
       "\n",
       "\n",
       "var set_geometry_transform = function(root, tx, ty, scale) {\n",
       "    var xscalable = root.hasClass(\"xscalable\"),\n",
       "        yscalable = root.hasClass(\"yscalable\");\n",
       "\n",
       "    var old_scale = root.data(\"scale\");\n",
       "\n",
       "    var xscale = xscalable ? scale : 1.0,\n",
       "        yscale = yscalable ? scale : 1.0;\n",
       "\n",
       "    tx = xscalable ? tx : 0.0;\n",
       "    ty = yscalable ? ty : 0.0;\n",
       "\n",
       "    var t = new Snap.Matrix().translate(tx, ty).scale(xscale, yscale);\n",
       "\n",
       "    root.selectAll(\".geometry, image\")\n",
       "        .forEach(function (element, i) {\n",
       "            element.transform(t);\n",
       "        });\n",
       "\n",
       "    bounds = root.plotbounds();\n",
       "\n",
       "    if (yscalable) {\n",
       "        var xfixed_t = new Snap.Matrix().translate(0, ty).scale(1.0, yscale);\n",
       "        root.selectAll(\".xfixed\")\n",
       "            .forEach(function (element, i) {\n",
       "                element.transform(xfixed_t);\n",
       "            });\n",
       "\n",
       "        root.select(\".ylabels\")\n",
       "            .transform(xfixed_t)\n",
       "            .selectAll(\"text\")\n",
       "            .forEach(function (element, i) {\n",
       "                if (element.attribute(\"gadfly:inscale\") == \"true\") {\n",
       "                    var cx = element.asPX(\"x\"),\n",
       "                        cy = element.asPX(\"y\");\n",
       "                    var st = element.data(\"static_transform\");\n",
       "                    unscale_t = new Snap.Matrix();\n",
       "                    unscale_t.scale(1, 1/scale, cx, cy).add(st);\n",
       "                    element.transform(unscale_t);\n",
       "\n",
       "                    var y = cy * scale + ty;\n",
       "                    element.attr(\"visibility\",\n",
       "                        bounds.y0 <= y && y <= bounds.y1 ? \"visible\" : \"hidden\");\n",
       "                }\n",
       "            });\n",
       "    }\n",
       "\n",
       "    if (xscalable) {\n",
       "        var yfixed_t = new Snap.Matrix().translate(tx, 0).scale(xscale, 1.0);\n",
       "        var xtrans = new Snap.Matrix().translate(tx, 0);\n",
       "        root.selectAll(\".yfixed\")\n",
       "            .forEach(function (element, i) {\n",
       "                element.transform(yfixed_t);\n",
       "            });\n",
       "\n",
       "        root.select(\".xlabels\")\n",
       "            .transform(yfixed_t)\n",
       "            .selectAll(\"text\")\n",
       "            .forEach(function (element, i) {\n",
       "                if (element.attribute(\"gadfly:inscale\") == \"true\") {\n",
       "                    var cx = element.asPX(\"x\"),\n",
       "                        cy = element.asPX(\"y\");\n",
       "                    var st = element.data(\"static_transform\");\n",
       "                    unscale_t = new Snap.Matrix();\n",
       "                    unscale_t.scale(1/scale, 1, cx, cy).add(st);\n",
       "\n",
       "                    element.transform(unscale_t);\n",
       "\n",
       "                    var x = cx * scale + tx;\n",
       "                    element.attr(\"visibility\",\n",
       "                        bounds.x0 <= x && x <= bounds.x1 ? \"visible\" : \"hidden\");\n",
       "                    }\n",
       "            });\n",
       "    }\n",
       "\n",
       "    // we must unscale anything that is scale invariance: widths, raiduses, etc.\n",
       "    var size_attribs = [\"font-size\"];\n",
       "    var unscaled_selection = \".geometry, .geometry *\";\n",
       "    if (xscalable) {\n",
       "        size_attribs.push(\"rx\");\n",
       "        unscaled_selection += \", .xgridlines\";\n",
       "    }\n",
       "    if (yscalable) {\n",
       "        size_attribs.push(\"ry\");\n",
       "        unscaled_selection += \", .ygridlines\";\n",
       "    }\n",
       "\n",
       "    root.selectAll(unscaled_selection)\n",
       "        .forEach(function (element, i) {\n",
       "            // circle need special help\n",
       "            if (element.node.nodeName == \"circle\") {\n",
       "                var cx = element.attribute(\"cx\"),\n",
       "                    cy = element.attribute(\"cy\");\n",
       "                unscale_t = new Snap.Matrix().scale(1/xscale, 1/yscale,\n",
       "                                                        cx, cy);\n",
       "                element.transform(unscale_t);\n",
       "                return;\n",
       "            }\n",
       "\n",
       "            for (i in size_attribs) {\n",
       "                var key = size_attribs[i];\n",
       "                var val = parseFloat(element.attribute(key));\n",
       "                if (val !== undefined && val != 0 && !isNaN(val)) {\n",
       "                    element.attribute(key, val * old_scale / scale);\n",
       "                }\n",
       "            }\n",
       "        });\n",
       "};\n",
       "\n",
       "\n",
       "// Find the most appropriate tick scale and update label visibility.\n",
       "var update_tickscale = function(root, scale, axis) {\n",
       "    if (!root.hasClass(axis + \"scalable\")) return;\n",
       "\n",
       "    var tickscales = root.data(axis + \"tickscales\");\n",
       "    var best_tickscale = 1.0;\n",
       "    var best_tickscale_dist = Infinity;\n",
       "    for (tickscale in tickscales) {\n",
       "        var dist = Math.abs(Math.log(tickscale) - Math.log(scale));\n",
       "        if (dist < best_tickscale_dist) {\n",
       "            best_tickscale_dist = dist;\n",
       "            best_tickscale = tickscale;\n",
       "        }\n",
       "    }\n",
       "\n",
       "    if (best_tickscale != root.data(axis + \"tickscale\")) {\n",
       "        root.data(axis + \"tickscale\", best_tickscale);\n",
       "        var mark_inscale_gridlines = function (element, i) {\n",
       "            var inscale = element.attr(\"gadfly:scale\") == best_tickscale;\n",
       "            element.attribute(\"gadfly:inscale\", inscale);\n",
       "            element.attr(\"visibility\", inscale ? \"visible\" : \"hidden\");\n",
       "        };\n",
       "\n",
       "        var mark_inscale_labels = function (element, i) {\n",
       "            var inscale = element.attr(\"gadfly:scale\") == best_tickscale;\n",
       "            element.attribute(\"gadfly:inscale\", inscale);\n",
       "            element.attr(\"visibility\", inscale ? \"visible\" : \"hidden\");\n",
       "        };\n",
       "\n",
       "        root.select(\".\" + axis + \"gridlines\").selectAll(\"path\").forEach(mark_inscale_gridlines);\n",
       "        root.select(\".\" + axis + \"labels\").selectAll(\"text\").forEach(mark_inscale_labels);\n",
       "    }\n",
       "};\n",
       "\n",
       "\n",
       "var set_plot_pan_zoom = function(root, tx, ty, scale) {\n",
       "    var old_scale = root.data(\"scale\");\n",
       "    var bounds = root.plotbounds();\n",
       "\n",
       "    var width = bounds.x1 - bounds.x0,\n",
       "        height = bounds.y1 - bounds.y0;\n",
       "\n",
       "    // compute the viewport derived from tx, ty, and scale\n",
       "    var x_min = -width * scale - (scale * width - width),\n",
       "        x_max = width * scale,\n",
       "        y_min = -height * scale - (scale * height - height),\n",
       "        y_max = height * scale;\n",
       "\n",
       "    var x0 = bounds.x0 - scale * bounds.x0,\n",
       "        y0 = bounds.y0 - scale * bounds.y0;\n",
       "\n",
       "    var tx = Math.max(Math.min(tx - x0, x_max), x_min),\n",
       "        ty = Math.max(Math.min(ty - y0, y_max), y_min);\n",
       "\n",
       "    tx += x0;\n",
       "    ty += y0;\n",
       "\n",
       "    // when the scale change, we may need to alter which set of\n",
       "    // ticks is being displayed\n",
       "    if (scale != old_scale) {\n",
       "        update_tickscale(root, scale, \"x\");\n",
       "        update_tickscale(root, scale, \"y\");\n",
       "    }\n",
       "\n",
       "    set_geometry_transform(root, tx, ty, scale);\n",
       "\n",
       "    root.data(\"scale\", scale);\n",
       "    root.data(\"tx\", tx);\n",
       "    root.data(\"ty\", ty);\n",
       "};\n",
       "\n",
       "\n",
       "var scale_centered_translation = function(root, scale) {\n",
       "    var bounds = root.plotbounds();\n",
       "\n",
       "    var width = bounds.x1 - bounds.x0,\n",
       "        height = bounds.y1 - bounds.y0;\n",
       "\n",
       "    var tx0 = root.data(\"tx\"),\n",
       "        ty0 = root.data(\"ty\");\n",
       "\n",
       "    var scale0 = root.data(\"scale\");\n",
       "\n",
       "    // how off from center the current view is\n",
       "    var xoff = tx0 - (bounds.x0 * (1 - scale0) + (width * (1 - scale0)) / 2),\n",
       "        yoff = ty0 - (bounds.y0 * (1 - scale0) + (height * (1 - scale0)) / 2);\n",
       "\n",
       "    // rescale offsets\n",
       "    xoff = xoff * scale / scale0;\n",
       "    yoff = yoff * scale / scale0;\n",
       "\n",
       "    // adjust for the panel position being scaled\n",
       "    var x_edge_adjust = bounds.x0 * (1 - scale),\n",
       "        y_edge_adjust = bounds.y0 * (1 - scale);\n",
       "\n",
       "    return {\n",
       "        x: xoff + x_edge_adjust + (width - width * scale) / 2,\n",
       "        y: yoff + y_edge_adjust + (height - height * scale) / 2\n",
       "    };\n",
       "};\n",
       "\n",
       "\n",
       "// Initialize data for panning zooming if it isn't already.\n",
       "var init_pan_zoom = function(root) {\n",
       "    if (root.data(\"zoompan-ready\")) {\n",
       "        return;\n",
       "    }\n",
       "\n",
       "    // The non-scaling-stroke trick. Rather than try to correct for the\n",
       "    // stroke-width when zooming, we force it to a fixed value.\n",
       "    var px_per_mm = root.node.getCTM().a;\n",
       "\n",
       "    // Drag events report deltas in pixels, which we'd like to convert to\n",
       "    // millimeters.\n",
       "    root.data(\"px_per_mm\", px_per_mm);\n",
       "\n",
       "    root.selectAll(\"path\")\n",
       "        .forEach(function (element, i) {\n",
       "        sw = element.asPX(\"stroke-width\") * px_per_mm;\n",
       "        if (sw > 0) {\n",
       "            element.attribute(\"stroke-width\", sw);\n",
       "            element.attribute(\"vector-effect\", \"non-scaling-stroke\");\n",
       "        }\n",
       "    });\n",
       "\n",
       "    // Store ticks labels original tranformation\n",
       "    root.selectAll(\".xlabels > text, .ylabels > text\")\n",
       "        .forEach(function (element, i) {\n",
       "            var lm = element.transform().localMatrix;\n",
       "            element.data(\"static_transform\",\n",
       "                new Snap.Matrix(lm.a, lm.b, lm.c, lm.d, lm.e, lm.f));\n",
       "        });\n",
       "\n",
       "    var xgridlines = root.select(\".xgridlines\");\n",
       "    var ygridlines = root.select(\".ygridlines\");\n",
       "    var xlabels = root.select(\".xlabels\");\n",
       "    var ylabels = root.select(\".ylabels\");\n",
       "\n",
       "    if (root.data(\"tx\") === undefined) root.data(\"tx\", 0);\n",
       "    if (root.data(\"ty\") === undefined) root.data(\"ty\", 0);\n",
       "    if (root.data(\"scale\") === undefined) root.data(\"scale\", 1.0);\n",
       "    if (root.data(\"xtickscales\") === undefined) {\n",
       "\n",
       "        // index all the tick scales that are listed\n",
       "        var xtickscales = {};\n",
       "        var ytickscales = {};\n",
       "        var add_x_tick_scales = function (element, i) {\n",
       "            xtickscales[element.attribute(\"gadfly:scale\")] = true;\n",
       "        };\n",
       "        var add_y_tick_scales = function (element, i) {\n",
       "            ytickscales[element.attribute(\"gadfly:scale\")] = true;\n",
       "        };\n",
       "\n",
       "        if (xgridlines) xgridlines.selectAll(\"path\").forEach(add_x_tick_scales);\n",
       "        if (ygridlines) ygridlines.selectAll(\"path\").forEach(add_y_tick_scales);\n",
       "        if (xlabels) xlabels.selectAll(\"text\").forEach(add_x_tick_scales);\n",
       "        if (ylabels) ylabels.selectAll(\"text\").forEach(add_y_tick_scales);\n",
       "\n",
       "        root.data(\"xtickscales\", xtickscales);\n",
       "        root.data(\"ytickscales\", ytickscales);\n",
       "        root.data(\"xtickscale\", 1.0);\n",
       "    }\n",
       "\n",
       "    var min_scale = 1.0, max_scale = 1.0;\n",
       "    for (scale in xtickscales) {\n",
       "        min_scale = Math.min(min_scale, scale);\n",
       "        max_scale = Math.max(max_scale, scale);\n",
       "    }\n",
       "    for (scale in ytickscales) {\n",
       "        min_scale = Math.min(min_scale, scale);\n",
       "        max_scale = Math.max(max_scale, scale);\n",
       "    }\n",
       "    root.data(\"min_scale\", min_scale);\n",
       "    root.data(\"max_scale\", max_scale);\n",
       "\n",
       "    // store the original positions of labels\n",
       "    if (xlabels) {\n",
       "        xlabels.selectAll(\"text\")\n",
       "               .forEach(function (element, i) {\n",
       "                   element.data(\"x\", element.asPX(\"x\"));\n",
       "               });\n",
       "    }\n",
       "\n",
       "    if (ylabels) {\n",
       "        ylabels.selectAll(\"text\")\n",
       "               .forEach(function (element, i) {\n",
       "                   element.data(\"y\", element.asPX(\"y\"));\n",
       "               });\n",
       "    }\n",
       "\n",
       "    // mark grid lines and ticks as in or out of scale.\n",
       "    var mark_inscale = function (element, i) {\n",
       "        element.attribute(\"gadfly:inscale\", element.attribute(\"gadfly:scale\") == 1.0);\n",
       "    };\n",
       "\n",
       "    if (xgridlines) xgridlines.selectAll(\"path\").forEach(mark_inscale);\n",
       "    if (ygridlines) ygridlines.selectAll(\"path\").forEach(mark_inscale);\n",
       "    if (xlabels) xlabels.selectAll(\"text\").forEach(mark_inscale);\n",
       "    if (ylabels) ylabels.selectAll(\"text\").forEach(mark_inscale);\n",
       "\n",
       "    // figure out the upper ond lower bounds on panning using the maximum\n",
       "    // and minum grid lines\n",
       "    var bounds = root.plotbounds();\n",
       "    var pan_bounds = {\n",
       "        x0: 0.0,\n",
       "        y0: 0.0,\n",
       "        x1: 0.0,\n",
       "        y1: 0.0\n",
       "    };\n",
       "\n",
       "    if (xgridlines) {\n",
       "        xgridlines\n",
       "            .selectAll(\"path\")\n",
       "            .forEach(function (element, i) {\n",
       "                if (element.attribute(\"gadfly:inscale\") == \"true\") {\n",
       "                    var bbox = element.node.getBBox();\n",
       "                    if (bounds.x1 - bbox.x < pan_bounds.x0) {\n",
       "                        pan_bounds.x0 = bounds.x1 - bbox.x;\n",
       "                    }\n",
       "                    if (bounds.x0 - bbox.x > pan_bounds.x1) {\n",
       "                        pan_bounds.x1 = bounds.x0 - bbox.x;\n",
       "                    }\n",
       "                    element.attr(\"visibility\", \"visible\");\n",
       "                }\n",
       "            });\n",
       "    }\n",
       "\n",
       "    if (ygridlines) {\n",
       "        ygridlines\n",
       "            .selectAll(\"path\")\n",
       "            .forEach(function (element, i) {\n",
       "                if (element.attribute(\"gadfly:inscale\") == \"true\") {\n",
       "                    var bbox = element.node.getBBox();\n",
       "                    if (bounds.y1 - bbox.y < pan_bounds.y0) {\n",
       "                        pan_bounds.y0 = bounds.y1 - bbox.y;\n",
       "                    }\n",
       "                    if (bounds.y0 - bbox.y > pan_bounds.y1) {\n",
       "                        pan_bounds.y1 = bounds.y0 - bbox.y;\n",
       "                    }\n",
       "                    element.attr(\"visibility\", \"visible\");\n",
       "                }\n",
       "            });\n",
       "    }\n",
       "\n",
       "    // nudge these values a little\n",
       "    pan_bounds.x0 -= 5;\n",
       "    pan_bounds.x1 += 5;\n",
       "    pan_bounds.y0 -= 5;\n",
       "    pan_bounds.y1 += 5;\n",
       "    root.data(\"pan_bounds\", pan_bounds);\n",
       "\n",
       "    root.data(\"zoompan-ready\", true)\n",
       "};\n",
       "\n",
       "\n",
       "// drag actions, i.e. zooming and panning\n",
       "var pan_action = {\n",
       "    start: function(root, x, y, event) {\n",
       "        root.data(\"dx\", 0);\n",
       "        root.data(\"dy\", 0);\n",
       "        root.data(\"tx0\", root.data(\"tx\"));\n",
       "        root.data(\"ty0\", root.data(\"ty\"));\n",
       "    },\n",
       "    update: function(root, dx, dy, x, y, event) {\n",
       "        var px_per_mm = root.data(\"px_per_mm\");\n",
       "        dx /= px_per_mm;\n",
       "        dy /= px_per_mm;\n",
       "\n",
       "        var tx0 = root.data(\"tx\"),\n",
       "            ty0 = root.data(\"ty\");\n",
       "\n",
       "        var dx0 = root.data(\"dx\"),\n",
       "            dy0 = root.data(\"dy\");\n",
       "\n",
       "        root.data(\"dx\", dx);\n",
       "        root.data(\"dy\", dy);\n",
       "\n",
       "        dx = dx - dx0;\n",
       "        dy = dy - dy0;\n",
       "\n",
       "        var tx = tx0 + dx,\n",
       "            ty = ty0 + dy;\n",
       "\n",
       "        set_plot_pan_zoom(root, tx, ty, root.data(\"scale\"));\n",
       "    },\n",
       "    end: function(root, event) {\n",
       "\n",
       "    },\n",
       "    cancel: function(root) {\n",
       "        set_plot_pan_zoom(root, root.data(\"tx0\"), root.data(\"ty0\"), root.data(\"scale\"));\n",
       "    }\n",
       "};\n",
       "\n",
       "var zoom_box;\n",
       "var zoom_action = {\n",
       "    start: function(root, x, y, event) {\n",
       "        var bounds = root.plotbounds();\n",
       "        var width = bounds.x1 - bounds.x0,\n",
       "            height = bounds.y1 - bounds.y0;\n",
       "        var ratio = width / height;\n",
       "        var xscalable = root.hasClass(\"xscalable\"),\n",
       "            yscalable = root.hasClass(\"yscalable\");\n",
       "        var px_per_mm = root.data(\"px_per_mm\");\n",
       "        x = xscalable ? x / px_per_mm : bounds.x0;\n",
       "        y = yscalable ? y / px_per_mm : bounds.y0;\n",
       "        var w = xscalable ? 0 : width;\n",
       "        var h = yscalable ? 0 : height;\n",
       "        zoom_box = root.rect(x, y, w, h).attr({\n",
       "            \"fill\": \"#000\",\n",
       "            \"opacity\": 0.25\n",
       "        });\n",
       "        zoom_box.data(\"ratio\", ratio);\n",
       "    },\n",
       "    update: function(root, dx, dy, x, y, event) {\n",
       "        var xscalable = root.hasClass(\"xscalable\"),\n",
       "            yscalable = root.hasClass(\"yscalable\");\n",
       "        var px_per_mm = root.data(\"px_per_mm\");\n",
       "        var bounds = root.plotbounds();\n",
       "        if (yscalable) {\n",
       "            y /= px_per_mm;\n",
       "            y = Math.max(bounds.y0, y);\n",
       "            y = Math.min(bounds.y1, y);\n",
       "        } else {\n",
       "            y = bounds.y1;\n",
       "        }\n",
       "        if (xscalable) {\n",
       "            x /= px_per_mm;\n",
       "            x = Math.max(bounds.x0, x);\n",
       "            x = Math.min(bounds.x1, x);\n",
       "        } else {\n",
       "            x = bounds.x1;\n",
       "        }\n",
       "\n",
       "        dx = x - zoom_box.attr(\"x\");\n",
       "        dy = y - zoom_box.attr(\"y\");\n",
       "        if (xscalable && yscalable) {\n",
       "            var ratio = zoom_box.data(\"ratio\");\n",
       "            var width = Math.min(Math.abs(dx), ratio * Math.abs(dy));\n",
       "            var height = Math.min(Math.abs(dy), Math.abs(dx) / ratio);\n",
       "            dx = width * dx / Math.abs(dx);\n",
       "            dy = height * dy / Math.abs(dy);\n",
       "        }\n",
       "        var xoffset = 0,\n",
       "            yoffset = 0;\n",
       "        if (dx < 0) {\n",
       "            xoffset = dx;\n",
       "            dx = -1 * dx;\n",
       "        }\n",
       "        if (dy < 0) {\n",
       "            yoffset = dy;\n",
       "            dy = -1 * dy;\n",
       "        }\n",
       "        if (isNaN(dy)) {\n",
       "            dy = 0.0;\n",
       "        }\n",
       "        if (isNaN(dx)) {\n",
       "            dx = 0.0;\n",
       "        }\n",
       "        zoom_box.transform(\"T\" + xoffset + \",\" + yoffset);\n",
       "        zoom_box.attr(\"width\", dx);\n",
       "        zoom_box.attr(\"height\", dy);\n",
       "    },\n",
       "    end: function(root, event) {\n",
       "        var xscalable = root.hasClass(\"xscalable\"),\n",
       "            yscalable = root.hasClass(\"yscalable\");\n",
       "        var zoom_bounds = zoom_box.getBBox();\n",
       "        if (zoom_bounds.width * zoom_bounds.height <= 0) {\n",
       "            return;\n",
       "        }\n",
       "        var plot_bounds = root.plotbounds();\n",
       "        var zoom_factor = 1.0;\n",
       "        if (yscalable) {\n",
       "            zoom_factor = (plot_bounds.y1 - plot_bounds.y0) / zoom_bounds.height;\n",
       "        } else {\n",
       "            zoom_factor = (plot_bounds.x1 - plot_bounds.x0) / zoom_bounds.width;\n",
       "        }\n",
       "        var tx = (root.data(\"tx\") - zoom_bounds.x) * zoom_factor + plot_bounds.x0,\n",
       "            ty = (root.data(\"ty\") - zoom_bounds.y) * zoom_factor + plot_bounds.y0;\n",
       "        set_plot_pan_zoom(root, tx, ty, root.data(\"scale\") * zoom_factor);\n",
       "        zoom_box.remove();\n",
       "    },\n",
       "    cancel: function(root) {\n",
       "        zoom_box.remove();\n",
       "    }\n",
       "};\n",
       "\n",
       "\n",
       "Gadfly.guide_background_drag_onstart = function(x, y, event) {\n",
       "    var root = this.plotroot();\n",
       "    var scalable = root.hasClass(\"xscalable\") || root.hasClass(\"yscalable\");\n",
       "    var zoomable = !event.altKey && !event.ctrlKey && event.shiftKey && scalable;\n",
       "    var panable = !event.altKey && !event.ctrlKey && !event.shiftKey && scalable;\n",
       "    var drag_action = zoomable ? zoom_action :\n",
       "                      panable  ? pan_action :\n",
       "                                 undefined;\n",
       "    root.data(\"drag_action\", drag_action);\n",
       "    if (drag_action) {\n",
       "        var cancel_drag_action = function(event) {\n",
       "            if (event.which == 27) { // esc key\n",
       "                drag_action.cancel(root);\n",
       "                root.data(\"drag_action\", undefined);\n",
       "            }\n",
       "        };\n",
       "        window.addEventListener(\"keyup\", cancel_drag_action);\n",
       "        root.data(\"cancel_drag_action\", cancel_drag_action);\n",
       "        drag_action.start(root, x, y, event);\n",
       "    }\n",
       "};\n",
       "\n",
       "\n",
       "Gadfly.guide_background_drag_onmove = function(dx, dy, x, y, event) {\n",
       "    var root = this.plotroot();\n",
       "    var drag_action = root.data(\"drag_action\");\n",
       "    if (drag_action) {\n",
       "        drag_action.update(root, dx, dy, x, y, event);\n",
       "    }\n",
       "};\n",
       "\n",
       "\n",
       "Gadfly.guide_background_drag_onend = function(event) {\n",
       "    var root = this.plotroot();\n",
       "    window.removeEventListener(\"keyup\", root.data(\"cancel_drag_action\"));\n",
       "    root.data(\"cancel_drag_action\", undefined);\n",
       "    var drag_action = root.data(\"drag_action\");\n",
       "    if (drag_action) {\n",
       "        drag_action.end(root, event);\n",
       "    }\n",
       "    root.data(\"drag_action\", undefined);\n",
       "};\n",
       "\n",
       "\n",
       "Gadfly.guide_background_scroll = function(event) {\n",
       "    if (event.shiftKey) {\n",
       "        increase_zoom_by_position(this.plotroot(), 0.001 * event.wheelDelta);\n",
       "        event.preventDefault();\n",
       "    }\n",
       "};\n",
       "\n",
       "\n",
       "Gadfly.zoomslider_button_mouseover = function(event) {\n",
       "    this.select(\".button_logo\")\n",
       "         .animate({fill: this.data(\"mouseover_color\")}, 100);\n",
       "};\n",
       "\n",
       "\n",
       "Gadfly.zoomslider_button_mouseout = function(event) {\n",
       "     this.select(\".button_logo\")\n",
       "         .animate({fill: this.data(\"mouseout_color\")}, 100);\n",
       "};\n",
       "\n",
       "\n",
       "Gadfly.zoomslider_zoomout_click = function(event) {\n",
       "    increase_zoom_by_position(this.plotroot(), -0.1, true);\n",
       "};\n",
       "\n",
       "\n",
       "Gadfly.zoomslider_zoomin_click = function(event) {\n",
       "    increase_zoom_by_position(this.plotroot(), 0.1, true);\n",
       "};\n",
       "\n",
       "\n",
       "Gadfly.zoomslider_track_click = function(event) {\n",
       "    // TODO\n",
       "};\n",
       "\n",
       "\n",
       "// Map slider position x to scale y using the function y = a*exp(b*x)+c.\n",
       "// The constants a, b, and c are solved using the constraint that the function\n",
       "// should go through the points (0; min_scale), (0.5; 1), and (1; max_scale).\n",
       "var scale_from_slider_position = function(position, min_scale, max_scale) {\n",
       "    var a = (1 - 2 * min_scale + min_scale * min_scale) / (min_scale + max_scale - 2),\n",
       "        b = 2 * Math.log((max_scale - 1) / (1 - min_scale)),\n",
       "        c = (min_scale * max_scale - 1) / (min_scale + max_scale - 2);\n",
       "    return a * Math.exp(b * position) + c;\n",
       "}\n",
       "\n",
       "// inverse of scale_from_slider_position\n",
       "var slider_position_from_scale = function(scale, min_scale, max_scale) {\n",
       "    var a = (1 - 2 * min_scale + min_scale * min_scale) / (min_scale + max_scale - 2),\n",
       "        b = 2 * Math.log((max_scale - 1) / (1 - min_scale)),\n",
       "        c = (min_scale * max_scale - 1) / (min_scale + max_scale - 2);\n",
       "    return 1 / b * Math.log((scale - c) / a);\n",
       "}\n",
       "\n",
       "var increase_zoom_by_position = function(root, delta_position, animate) {\n",
       "    var scale = root.data(\"scale\"),\n",
       "        min_scale = root.data(\"min_scale\"),\n",
       "        max_scale = root.data(\"max_scale\");\n",
       "    var position = slider_position_from_scale(scale, min_scale, max_scale);\n",
       "    position += delta_position;\n",
       "    scale = scale_from_slider_position(position, min_scale, max_scale);\n",
       "    set_zoom(root, scale, animate);\n",
       "}\n",
       "\n",
       "var set_zoom = function(root, scale, animate) {\n",
       "    var min_scale = root.data(\"min_scale\"),\n",
       "        max_scale = root.data(\"max_scale\"),\n",
       "        old_scale = root.data(\"scale\");\n",
       "    var new_scale = Math.max(min_scale, Math.min(scale, max_scale));\n",
       "    if (animate) {\n",
       "        Snap.animate(\n",
       "            old_scale,\n",
       "            new_scale,\n",
       "            function (new_scale) {\n",
       "                update_plot_scale(root, new_scale);\n",
       "            },\n",
       "            200);\n",
       "    } else {\n",
       "        update_plot_scale(root, new_scale);\n",
       "    }\n",
       "}\n",
       "\n",
       "\n",
       "var update_plot_scale = function(root, new_scale) {\n",
       "    var trans = scale_centered_translation(root, new_scale);\n",
       "    set_plot_pan_zoom(root, trans.x, trans.y, new_scale);\n",
       "\n",
       "    root.selectAll(\".zoomslider_thumb\")\n",
       "        .forEach(function (element, i) {\n",
       "            var min_pos = element.data(\"min_pos\"),\n",
       "                max_pos = element.data(\"max_pos\"),\n",
       "                min_scale = root.data(\"min_scale\"),\n",
       "                max_scale = root.data(\"max_scale\");\n",
       "            var xmid = (min_pos + max_pos) / 2;\n",
       "            var xpos = slider_position_from_scale(new_scale, min_scale, max_scale);\n",
       "            element.transform(new Snap.Matrix().translate(\n",
       "                Math.max(min_pos, Math.min(\n",
       "                         max_pos, min_pos + (max_pos - min_pos) * xpos)) - xmid, 0));\n",
       "    });\n",
       "};\n",
       "\n",
       "\n",
       "Gadfly.zoomslider_thumb_dragmove = function(dx, dy, x, y, event) {\n",
       "    var root = this.plotroot();\n",
       "    var min_pos = this.data(\"min_pos\"),\n",
       "        max_pos = this.data(\"max_pos\"),\n",
       "        min_scale = root.data(\"min_scale\"),\n",
       "        max_scale = root.data(\"max_scale\"),\n",
       "        old_scale = root.data(\"old_scale\");\n",
       "\n",
       "    var px_per_mm = root.data(\"px_per_mm\");\n",
       "    dx /= px_per_mm;\n",
       "    dy /= px_per_mm;\n",
       "\n",
       "    var xmid = (min_pos + max_pos) / 2;\n",
       "    var xpos = slider_position_from_scale(old_scale, min_scale, max_scale) +\n",
       "                   dx / (max_pos - min_pos);\n",
       "\n",
       "    // compute the new scale\n",
       "    var new_scale = scale_from_slider_position(xpos, min_scale, max_scale);\n",
       "    new_scale = Math.min(max_scale, Math.max(min_scale, new_scale));\n",
       "\n",
       "    update_plot_scale(root, new_scale);\n",
       "    event.stopPropagation();\n",
       "};\n",
       "\n",
       "\n",
       "Gadfly.zoomslider_thumb_dragstart = function(x, y, event) {\n",
       "    this.animate({fill: this.data(\"mouseover_color\")}, 100);\n",
       "    var root = this.plotroot();\n",
       "\n",
       "    // keep track of what the scale was when we started dragging\n",
       "    root.data(\"old_scale\", root.data(\"scale\"));\n",
       "    event.stopPropagation();\n",
       "};\n",
       "\n",
       "\n",
       "Gadfly.zoomslider_thumb_dragend = function(event) {\n",
       "    this.animate({fill: this.data(\"mouseout_color\")}, 100);\n",
       "    event.stopPropagation();\n",
       "};\n",
       "\n",
       "\n",
       "var toggle_color_class = function(root, color_class, ison) {\n",
       "    var guides = root.selectAll(\".guide.\" + color_class + \",.guide .\" + color_class);\n",
       "    var geoms = root.selectAll(\".geometry.\" + color_class + \",.geometry .\" + color_class);\n",
       "    if (ison) {\n",
       "        guides.animate({opacity: 0.5}, 250);\n",
       "        geoms.animate({opacity: 0.0}, 250);\n",
       "    } else {\n",
       "        guides.animate({opacity: 1.0}, 250);\n",
       "        geoms.animate({opacity: 1.0}, 250);\n",
       "    }\n",
       "};\n",
       "\n",
       "\n",
       "Gadfly.colorkey_swatch_click = function(event) {\n",
       "    var root = this.plotroot();\n",
       "    var color_class = this.data(\"color_class\");\n",
       "\n",
       "    if (event.shiftKey) {\n",
       "        root.selectAll(\".colorkey text\")\n",
       "            .forEach(function (element) {\n",
       "                var other_color_class = element.data(\"color_class\");\n",
       "                if (other_color_class != color_class) {\n",
       "                    toggle_color_class(root, other_color_class,\n",
       "                                       element.attr(\"opacity\") == 1.0);\n",
       "                }\n",
       "            });\n",
       "    } else {\n",
       "        toggle_color_class(root, color_class, this.attr(\"opacity\") == 1.0);\n",
       "    }\n",
       "};\n",
       "\n",
       "\n",
       "return Gadfly;\n",
       "\n",
       "}));\n",
       "\n",
       "\n",
       "//@ sourceURL=gadfly.js\n",
       "\n",
       "(function (glob, factory) {\n",
       "    // AMD support\n",
       "      if (typeof require === \"function\" && typeof define === \"function\" && define.amd) {\n",
       "        require([\"Snap.svg\", \"Gadfly\"], function (Snap, Gadfly) {\n",
       "            factory(Snap, Gadfly);\n",
       "        });\n",
       "      } else {\n",
       "          factory(glob.Snap, glob.Gadfly);\n",
       "      }\n",
       "})(window, function (Snap, Gadfly) {\n",
       "    var fig = Snap(\"#img-cd557cd9\");\n",
       "fig.select(\"#img-cd557cd9-4\")\n",
       "   .drag(function() {}, function() {}, function() {});\n",
       "fig.select(\"#img-cd557cd9-6\")\n",
       "   .data(\"color_class\", \"color_f1\")\n",
       ".click(Gadfly.colorkey_swatch_click)\n",
       ";\n",
       "fig.select(\"#img-cd557cd9-7\")\n",
       "   .data(\"color_class\", \"color_f2\")\n",
       ".click(Gadfly.colorkey_swatch_click)\n",
       ";\n",
       "fig.select(\"#img-cd557cd9-8\")\n",
       "   .data(\"color_class\", \"color_f3\")\n",
       ".click(Gadfly.colorkey_swatch_click)\n",
       ";\n",
       "fig.select(\"#img-cd557cd9-10\")\n",
       "   .data(\"color_class\", \"color_f1\")\n",
       ".click(Gadfly.colorkey_swatch_click)\n",
       ";\n",
       "fig.select(\"#img-cd557cd9-11\")\n",
       "   .data(\"color_class\", \"color_f2\")\n",
       ".click(Gadfly.colorkey_swatch_click)\n",
       ";\n",
       "fig.select(\"#img-cd557cd9-12\")\n",
       "   .data(\"color_class\", \"color_f3\")\n",
       ".click(Gadfly.colorkey_swatch_click)\n",
       ";\n",
       "fig.select(\"#img-cd557cd9-16\")\n",
       "   .init_gadfly();\n",
       "fig.select(\"#img-cd557cd9-19\")\n",
       "   .plotroot().data(\"unfocused_ygrid_color\", \"#D0D0E0\")\n",
       ";\n",
       "fig.select(\"#img-cd557cd9-19\")\n",
       "   .plotroot().data(\"focused_ygrid_color\", \"#A0A0A0\")\n",
       ";\n",
       "fig.select(\"#img-cd557cd9-132\")\n",
       "   .plotroot().data(\"unfocused_xgrid_color\", \"#D0D0E0\")\n",
       ";\n",
       "fig.select(\"#img-cd557cd9-132\")\n",
       "   .plotroot().data(\"focused_xgrid_color\", \"#A0A0A0\")\n",
       ";\n",
       "fig.select(\"#img-cd557cd9-256\")\n",
       "   .data(\"mouseover_color\", \"#CD5C5C\")\n",
       ";\n",
       "fig.select(\"#img-cd557cd9-256\")\n",
       "   .data(\"mouseout_color\", \"#6A6A6A\")\n",
       ";\n",
       "fig.select(\"#img-cd557cd9-256\")\n",
       "   .click(Gadfly.zoomslider_zoomin_click)\n",
       ".mouseenter(Gadfly.zoomslider_button_mouseover)\n",
       ".mouseleave(Gadfly.zoomslider_button_mouseout)\n",
       ";\n",
       "fig.select(\"#img-cd557cd9-260\")\n",
       "   .data(\"max_pos\", 111.58)\n",
       ";\n",
       "fig.select(\"#img-cd557cd9-260\")\n",
       "   .data(\"min_pos\", 94.58)\n",
       ";\n",
       "fig.select(\"#img-cd557cd9-260\")\n",
       "   .click(Gadfly.zoomslider_track_click);\n",
       "fig.select(\"#img-cd557cd9-262\")\n",
       "   .data(\"max_pos\", 111.58)\n",
       ";\n",
       "fig.select(\"#img-cd557cd9-262\")\n",
       "   .data(\"min_pos\", 94.58)\n",
       ";\n",
       "fig.select(\"#img-cd557cd9-262\")\n",
       "   .data(\"mouseover_color\", \"#CD5C5C\")\n",
       ";\n",
       "fig.select(\"#img-cd557cd9-262\")\n",
       "   .data(\"mouseout_color\", \"#6A6A6A\")\n",
       ";\n",
       "fig.select(\"#img-cd557cd9-262\")\n",
       "   .drag(Gadfly.zoomslider_thumb_dragmove,\n",
       "     Gadfly.zoomslider_thumb_dragstart,\n",
       "     Gadfly.zoomslider_thumb_dragend)\n",
       ";\n",
       "fig.select(\"#img-cd557cd9-264\")\n",
       "   .data(\"mouseover_color\", \"#CD5C5C\")\n",
       ";\n",
       "fig.select(\"#img-cd557cd9-264\")\n",
       "   .data(\"mouseout_color\", \"#6A6A6A\")\n",
       ";\n",
       "fig.select(\"#img-cd557cd9-264\")\n",
       "   .click(Gadfly.zoomslider_zoomout_click)\n",
       ".mouseenter(Gadfly.zoomslider_button_mouseover)\n",
       ".mouseleave(Gadfly.zoomslider_button_mouseout)\n",
       ";\n",
       "    });\n",
       "]]> </script>\n",
       "</svg>\n"
      ],
      "text/plain": [
       "Plot(...)"
      ]
     },
     "execution_count": 124,
     "metadata": {},
     "output_type": "execute_result"
    }
   ],
   "source": [
    "#Pkg.add(\"Gadfly\")\n",
    "#Pkg.update()\n",
    "using Gadfly\n",
    "\n",
    "funcs = [sin, cos, besselj1]\n",
    "Gadfly.plot(funcs, 0, 8)"
   ]
  },
  {
   "cell_type": "markdown",
   "metadata": {},
   "source": [
    "## Objetos"
   ]
  },
  {
   "cell_type": "code",
   "execution_count": 128,
   "metadata": {
    "collapsed": false
   },
   "outputs": [],
   "source": [
    "type Becario    \n",
    "    peso::Float64\n",
    "    altura::Float64\n",
    "    id::Int64\n",
    "end       "
   ]
  },
  {
   "cell_type": "code",
   "execution_count": 129,
   "metadata": {
    "collapsed": false
   },
   "outputs": [
    {
     "data": {
      "text/plain": [
       "Becario(90.0,1.75,54321)"
      ]
     },
     "execution_count": 129,
     "metadata": {},
     "output_type": "execute_result"
    }
   ],
   "source": [
    "Francisco=Becario(90.0,1.90,12345)\n",
    "Juanito=Becario(90.0,1.75,54321)"
   ]
  },
  {
   "cell_type": "code",
   "execution_count": 130,
   "metadata": {
    "collapsed": false
   },
   "outputs": [
    {
     "data": {
      "text/plain": [
       "1.9"
      ]
     },
     "execution_count": 130,
     "metadata": {},
     "output_type": "execute_result"
    }
   ],
   "source": [
    "Francisco.altura"
   ]
  },
  {
   "cell_type": "code",
   "execution_count": 131,
   "metadata": {
    "collapsed": false
   },
   "outputs": [
    {
     "data": {
      "text/plain": [
       "12345"
      ]
     },
     "execution_count": 131,
     "metadata": {},
     "output_type": "execute_result"
    }
   ],
   "source": [
    "Francisco.id"
   ]
  },
  {
   "cell_type": "code",
   "execution_count": 132,
   "metadata": {
    "collapsed": false
   },
   "outputs": [
    {
     "data": {
      "text/plain": [
       "90.0"
      ]
     },
     "execution_count": 132,
     "metadata": {},
     "output_type": "execute_result"
    }
   ],
   "source": [
    "Juanito.peso"
   ]
  },
  {
   "cell_type": "code",
   "execution_count": 133,
   "metadata": {
    "collapsed": false
   },
   "outputs": [
    {
     "data": {
      "text/plain": [
       "54321"
      ]
     },
     "execution_count": 133,
     "metadata": {},
     "output_type": "execute_result"
    }
   ],
   "source": [
    "Juanito.id"
   ]
  },
  {
   "cell_type": "code",
   "execution_count": null,
   "metadata": {
    "collapsed": true
   },
   "outputs": [],
   "source": []
  }
 ],
 "metadata": {
  "kernelspec": {
   "display_name": "Julia 0.4.3",
   "language": "julia",
   "name": "julia-0.4"
  },
  "language_info": {
   "file_extension": ".jl",
   "mimetype": "application/julia",
   "name": "julia",
   "version": "0.4.3"
  }
 },
 "nbformat": 4,
 "nbformat_minor": 0
}
