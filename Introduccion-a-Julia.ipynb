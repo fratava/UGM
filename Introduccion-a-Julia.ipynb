{
 "cells": [
  {
   "cell_type": "markdown",
   "metadata": {
    "slideshow": {
     "slide_type": "slide"
    }
   },
   "source": [
    "# *Introducción a Julia*\n",
    "\n",
    "<img src=\"http://courses.csail.mit.edu/18.337/2015/images/julialogo.png\" alt=\"Julia logo\" style=\"width: 300px;\"/>\n",
    "\n",
    "## Francisco Tapia Vázquez\n",
    "## UMSNH-SCIESMEX"
   ]
  },
  {
   "cell_type": "markdown",
   "metadata": {},
   "source": [
    "# Bienvenido a Julia\n",
    "* ¿Qué es Julia?\n",
    "* Ventajas de Julia\n",
    "* Desventajas\n",
    "* ¿Cómo iniciar?"
   ]
  },
  {
   "cell_type": "markdown",
   "metadata": {},
   "source": [
    "# ¿Qué es Julia?\n",
    "\n",
    "\n",
    "<img src=\"http://i.imgur.com/VDjgSDS.png\" alt=\"Juli-what?\" style=\"width: 300px;\"/>"
   ]
  },
  {
   "cell_type": "markdown",
   "metadata": {},
   "source": [
    "Julia es un nuevo lenguaje de programación orientado al cómputo científico y para aquellos programdores que buscan velocidad, flexibilidad y usabilidad.<br>\n",
    "<a href=http://arxiv.org/pdf/1209.5145v1.pdf>Fue Presentado en 2012</a> tras dos años de desarrollo en el MIT  y sus principales desarrolladores son Jeff Benzanson, Stefan Karpinski, Viral Shah y Alan Edelman.  <br>\n",
    "Es aún un lenguaje en desarrollo pues aún no alcanza la **V 1.0** pero tiene, como veremos un futuro que promete mucho.<br>\n",
    "Una de la promesas de Julia es detener el problema de \"los dos lenguajes\".<br>\n",
    "En particular, en el campo de la ciencia, uno prueba cosas a pequeña escala para luego correr códigos con una gran cantidad de datos. Muchos científicos y programadores necesitan estar constantemente moviéndose entre dos códigos, ya que uno tiene herramientas que le son útiles, pero no logra satisfacer lo que necesita para cumplir con los objetivos de su investigación, así que recurre a un segundo lenguaje para completar la investigación. En general un busca que un lenguaje sea dinámico, fácil de aprender, de propósito general, que sea bueno para el cálculo y sobre todo que sea rápido. Teniendo en todas estas cosas en mente fue que se desarroló Julia.<br>\n",
    "<cite> http://julialang.org/blog/2012/02/why-we-created-julia </cite>\n",
    "\n",
    "Veamos ahora que ventajas tiene:"
   ]
  },
  {
   "cell_type": "markdown",
   "metadata": {},
   "source": [
    "## Veloz y flexible\n",
    "El buen diseño de Julia y su LLVM (Low-Level-vitual-machine) le permiten ejecutar código 2-3xC y aproximadamente 2-3 ordenes de magninutid respecto a Python o Matlab.\n",
    "Veamos un benchmark:\n",
    "<img src=\"http://i.imgur.com/kQKulLk.png\" alt=\"Julia benchmarks\" style=\"width: auto;\"/>\n",
    "\n",
    "Es importante mencionar que no se basan en la escritura de código óptimo en cada situación. El objetivo de estos benchmarks es comparar el rendimiento de los algoritmos específicos a través de implementaciones de lenguajes, no comparar el medio más rápido de calcular un resultado, que en la mayoría de lenguajes de alto nivel se basa en llamar a código C."
   ]
  },
  {
   "cell_type": "markdown",
   "metadata": {},
   "source": [
    "## Fácil de aprender\n",
    "Julia es amigable con los nuevos usuarios, pero mantiene contentos a los usuarios más avanzados, ya que si conoces la sintaxis de lenguajes como Matlab, Python,R etc. te sentirás como en casa."
   ]
  },
  {
   "cell_type": "code",
   "execution_count": null,
   "metadata": {
    "collapsed": false
   },
   "outputs": [],
   "source": [
    "[1 2 3] + [4 5 6]\n",
    "\n",
    "# =>[ 5  7  9]\n",
    "\n",
    "A=[1 2 3]\n",
    "A.^2\n",
    "\n",
    "# => [1  4  9]"
   ]
  },
  {
   "cell_type": "markdown",
   "metadata": {},
   "source": [
    "## Llamadas a otros lenguajes\n",
    "En Julia podemos llamar código de otro lenguajes, su filosofía *\"No repetitivo\"* nos permite utilizar nuestro código o alguna función de C,Fortran,Python etc. para que no tengamos que convertir código y perder valioso tiempo de trabajo."
   ]
  },
  {
   "cell_type": "code",
   "execution_count": null,
   "metadata": {
    "collapsed": false
   },
   "outputs": [],
   "source": [
    "num_ran= ccall( (:rand, \"libc\"), Int32, ())"
   ]
  },
  {
   "cell_type": "code",
   "execution_count": null,
   "metadata": {
    "collapsed": false
   },
   "outputs": [],
   "source": [
    "ccall((:clock, \"libc\"), Int32, ())"
   ]
  },
  {
   "cell_type": "code",
   "execution_count": null,
   "metadata": {
    "collapsed": false
   },
   "outputs": [],
   "source": [
    "using PyCall\n",
    "@pyimport numpy as np\n",
    "@pyimport matplotlib.pyplot as plt\n",
    "\n",
    "x=np.linspace(-pi,pi,1000)\n",
    "y=np.cos(x)\n",
    "\n",
    "plt.plot(x,y,\"b-\")\n",
    "plt.title(\"Graficando en Julia con librerias de Python\")\n",
    "plt.grid()\n",
    "plt.show()"
   ]
  },
  {
   "cell_type": "markdown",
   "metadata": {
    "slideshow": {
     "slide_type": "subslide"
    }
   },
   "source": [
    "<!--Julia es un lenguaje de programación orientado al cómputo científico y de alto rendimiento, así como para propósitos generales.\n",
    "\n",
    "\n",
    "# Introducción a Julia\n",
    "<a href=http://arxiv.org/pdf/1209.5145v1.pdf>Julia fue lanzado en 2012</a> tras dos años de desarrollo en el MIT  y sus principales desarrolladores son Jeff Benzanson, Stefan Karpinski, Viral Shah y Alan Edelman.  <br>\n",
    "\n",
    "## ¿Qué ventajas tiene?\n",
    "* Orientado al cómputo científico y de alto rendimiento\n",
    "* Diseñado para computo paralelo y distribuido \n",
    "* Open Source\n",
    "* Gratuito\n",
    "* Tan rápido con C, pero tan dinámico como Ruby\n",
    "* Macros al estilo lisp, pero notación matemática como Matlab.\n",
    "* Se usa para programación en general como Python\n",
    "* Fácil para la estadítica como R\n",
    "* Un procesamiento de cadenas natural como Perl\n",
    "* Poderoso para álgebra lineal como Matlab\n",
    "* Actua como una interfaz shell\n",
    "* Fácil de aprender, pero manteniendo a los más avanzados felices\n",
    "* Interactivo, pero \"Just-In-Time\" (JIT) compilado\n",
    "* Puede llamar código de C y fortran nativamente\n",
    "* Mediante un pacquete se puede llamar funciones de diferentes lenguajes\n",
    "* Una amplia librería de funciones matemáticas\n",
    "\n",
    "<cite> http://julialang.org/blog/2012/02/why-we-created-julia </cite>\n",
    "\n",
    "\n",
    "## ¿Por qué debería usarlo?\n",
    "* Da un nuevo enfoque al computo científico\n",
    "* Muchas personas en el mundo los están usando a diario\n",
    "* Tiene el respaldo de una amplia cominidad de desarrolladores a lo largo de mundo\n",
    "* Marca el futuro del computo científico\n",
    "\n",
    "\n",
    "## ¿Qué tan rápido es respecto a otros lenguajes?\n",
    "El buen diseño de Julia y su LLVM (Low-Level-vitual-machine) le permiten aproximarse a la velocidad de C. <b>\n",
    "Veamos un benchmark:\n",
    "\n",
    "\n",
    "<img src=\"http://scienceblogs.com/catdynamics/files/2014/04/julia-perf1.jpg\" />\n",
    "\n",
    "\n",
    "\n",
    "\n",
    "\n",
    "<!--El lenguaje es \"Open source\"  y fue diseñado teniendo en mente el cómputo científico.\n",
    "<blockquote><i>\n",
    "Nosotros queremos un lenguaje que sea \"open source\", con una licencia libre. Queremos la velocidad de C con el dinamismo de Ruby. Queremos un lenguaje que sea ?homoiconico, con los macros como lisp, pero con notacional matemática familiar como Matlab. Queremos algo que sea usable para la programación general como Python, pero fácil para la estadística con R, natural para el procesamiento de cadenas como Perl  </i>\n",
    "\n",
    "</blockquote>\n",
    "\n",
    "\n",
    "\n",
    "######  Julia se considera aún en fase de desarrollo pues aún no alcanza su $V1.0$\n",
    "\n",
    "###### Julia integra mucho código de C/C++ en su kernel.\n",
    "\n",
    "###### Julia es comparado \n",
    "-->\n",
    "\n",
    "## Paralelismo\n"
   ]
  },
  {
   "cell_type": "markdown",
   "metadata": {},
   "source": [
    "Julia fue creado con la idea aprovechar el computo paralelo y distribuido, para ayudar a los científicos con sus tareas más pesadas.\n",
    "Por defecto Julia cuenta con un macro que paraleliza, pero existen herramientas clásicas como MPI o CUDA, las cuales podemos usar sin necesidad de aprender nuevas cosas, sólo aplicar lo que sabemos con una sintaxis ligeramente distinta.\n"
   ]
  },
  {
   "cell_type": "code",
   "execution_count": null,
   "metadata": {
    "collapsed": false
   },
   "outputs": [],
   "source": [
    "N = 100000000\n",
    "@time promedio = sum(rand(1:6,N)) / N"
   ]
  },
  {
   "cell_type": "code",
   "execution_count": null,
   "metadata": {
    "collapsed": false
   },
   "outputs": [],
   "source": [
    "numero() = rand(1:6)\n",
    "total = @parallel (+) for i=1:N\n",
    "    numero()\n",
    "end\n",
    "\n",
    "@time promedio = total / N"
   ]
  },
  {
   "cell_type": "markdown",
   "metadata": {},
   "source": [
    "## Desventajas\n",
    "\n",
    "## Estabilidad del lenguaje\n",
    "* Debido a que está aún en fase de desarrollo, las cosas cambian, pero podemos tomar eso como una oportunidad para crear librería que se adapten a nuestras necesidades y que sirvan a los demás.\n",
    "* Los lanzamientos son algo inestables\n",
    "* Si no quieres escribir el código otra vez para adaptarse a los estándares, Julia no es para ti! \n",
    "<img src=\"http://i.imgur.com/WKmerew.png\" alt=\"Constantly changing\" style=\"width: auto;\"/>\n",
    "## Soporte a los paquetes\n",
    "* Algunos paquetes están aún en desarrollo, por lo que es posible que no los encuentres\n",
    "* Poco documentación\n",
    "<img src=\"http://i.imgur.com/kola3TB.png\" alt=\"Few astro libraries\" style=\"width: auto;\"/>\n",
    "## Reparar código\n",
    "* En ocaciones es probable que te encuentres con código que necesita una optimización o un detalle pequeño, por lo que hay que intervenir. La comunidad de desarrolladores arregla con bastante rapidez los inconvenientes.\n",
    "\n",
    "<img src=\"http://i.imgur.com/2EbC8d8.png\" alt=\"Tinkering may be required\" style=\"width: auto;\"/>"
   ]
  },
  {
   "cell_type": "markdown",
   "metadata": {},
   "source": [
    "## En resumen\n",
    "\n",
    "<img src=\"http://i.imgur.com/OtAoIiD.png\" alt=\"Graphical summary of Julia\" style=\"width: auto;\"/>\n",
    "\n",
    "* Lenguaje Nuevo\n",
    "* Rápido y dinámico\n",
    "* Se lleva bien con los demás lenguajes\n",
    "* Diseño limpio pero muy poderoso"
   ]
  },
  {
   "cell_type": "markdown",
   "metadata": {},
   "source": [
    "# Ok, me convenciste, pero ¿Cómo puedo empezar?\n",
    "## Hay dos formas de empezar\n",
    "\n",
    "### En tu computadora\n",
    "Julia está disponible para Windows, OSx y Linux. </b>\n",
    "Se puede descargar directamente de la <a href=http://julialang.org/downloads/>página</a>. Si tienes un Ubuntu sigue las siguientes instruciones:\n",
    "\n",
    "<code >\n",
    "sudo add-apt-repository ppa:staticfloat/juliareleases\n",
    "sudo add-apt-repository ppa:staticfloat/julia-deps\n",
    "sudo apt-get update\n",
    "sudo apt-get install julia\n",
    "</code>\n",
    "\n",
    "Una vez instalado, seguimos estos pasos: </b>\n",
    "* Abrimos una terminal nueva\n",
    "* Escribimos: \n",
    "![Command line](http://i.imgur.com/yfj2iR5.png)\n",
    "\n",
    "\n",
    "### IDE's\n",
    "\n",
    "#### IJulia\n",
    "\n",
    "Existe una alternativa gráfica y muy cómoda para programar, corre sobre nuestro servidor local y es ejecutado en el navegador. \n",
    "\n",
    "Para instalar un paquete en julia basta con escribir <i>Pkg.add(\"Nombre del paquete\")</i> y listo! tenemos la librería en nuestra computadora.\n",
    "\n",
    "Para instalar IJulia, un prerequisito es contar con ipython notebook, si no lo tenemos instalado solo escribimos en una terminal: </b>\n",
    "\n",
    " ```\n",
    "    sudo apt-get install ipython-notebook python-numpy python-scipy python-matplotlib ipython ipython-notebook python-pandas python-sympy python-nose\n",
    "    ```\n",
    "y una vez ya instalado estos paquetes, instalamos IJulia como sigue:\n",
    "\n",
    "```julia\n",
    "    julia> Pkg.add(\"IJulia\")\n",
    "    julia> Pkg.update()\n",
    "    ```    \n",
    " Y lo ejecutamos\n",
    "    \n",
    "![Command line](http://i.imgur.com/fmX0JCB.png)\n",
    " \n",
    "### En la nube mediante JuliaBox \n",
    "\n",
    "<img src=\"http://i.imgur.com/L814XDv.png\" alt=\"Login\" style=\"width: auto;\"/>\n",
    "Podemos utilizar nuestra cuenta de Google o Github para entrar.\n",
    "<img src=\"http://i.imgur.com/0C3bdJZ.png\" alt=\"Kernelchoise\" style=\"width: auto;\"/>\n",
    "Una vez logeados, creamos una nueva notebook con el Kernel de Julia. Se nos abrirá una nueva pestaña.\n",
    "<img src=\"http://i.imgur.com/Uf8qTou.png\" alt=\"Start\" style=\"width: auto;\"/>\n",
    "\n",
    "##### ¡Listo ahora podemos comenzar a programar en Julia!"
   ]
  },
  {
   "cell_type": "markdown",
   "metadata": {},
   "source": [
    "# Manos a la obra\n",
    "# contenido\n",
    "\n",
    "                                                                                        \n",
    "                                                                                        \n",
    "<ul>\n",
    "                                                                                                <li><a href=\"#I/O\">Entradas y salidas</a></li>\n",
    "                                                                                                <li><a href=\"#Tipos-de-datos\">Tipo de datos</a></li>\n",
    "                                                                                                <li><a href=\"#Funciones-matemáticas\">Funciones matenmáticas</a></li>\n",
    "                                                                                                <li><a href=\"#Strings\">Strings</a></li>\n",
    "                                                                                                <li><a href=\"#Arreglos\">Arreglos y matrices</a></li>\n",
    "                                                                                                <li><a href=\"#Funciones\">Funciones</a></li>\n",
    "                                                                                                <li><a href=\"#Loops-y-condicionales\">Loops y condicionales</a></li>\n",
    "                                                                                                <li><a href=\"#Graficando\">Graficando</a></li>\n",
    "                                                                                                <li><a href=\"#Objetos\">Objetos orientados</a></li>\n",
    "</ul>\n",
    "\n",
    "\n",
    "## I/O"
   ]
  },
  {
   "cell_type": "code",
   "execution_count": null,
   "metadata": {
    "collapsed": false
   },
   "outputs": [],
   "source": [
    "println(\"Hola mundo!\")"
   ]
  },
  {
   "cell_type": "code",
   "execution_count": null,
   "metadata": {
    "collapsed": false
   },
   "outputs": [],
   "source": [
    "print(\"Hola mundo!\")\n",
    "println(\"Hola mundo!\")\n",
    "println(\"Nueva línea\")"
   ]
  },
  {
   "cell_type": "code",
   "execution_count": null,
   "metadata": {
    "collapsed": false
   },
   "outputs": [],
   "source": [
    "mensaje= readline() "
   ]
  },
  {
   "cell_type": "code",
   "execution_count": null,
   "metadata": {
    "collapsed": false
   },
   "outputs": [],
   "source": [
    "println(\"El mensaje que ingresaste fue: $mensaje\")"
   ]
  },
  {
   "cell_type": "markdown",
   "metadata": {},
   "source": [
    "# Tipos de datos\n",
    "\n",
    "## Números"
   ]
  },
  {
   "cell_type": "code",
   "execution_count": null,
   "metadata": {
    "collapsed": false
   },
   "outputs": [],
   "source": [
    "x=2"
   ]
  },
  {
   "cell_type": "code",
   "execution_count": null,
   "metadata": {
    "collapsed": false
   },
   "outputs": [],
   "source": [
    "typeof(ans)"
   ]
  },
  {
   "cell_type": "code",
   "execution_count": null,
   "metadata": {
    "collapsed": false,
    "scrolled": true
   },
   "outputs": [],
   "source": [
    "WORD_SIZE"
   ]
  },
  {
   "cell_type": "code",
   "execution_count": null,
   "metadata": {
    "collapsed": false
   },
   "outputs": [],
   "source": [
    "x=Int64(2)"
   ]
  },
  {
   "cell_type": "code",
   "execution_count": null,
   "metadata": {
    "collapsed": false
   },
   "outputs": [],
   "source": [
    "typeof(ans)"
   ]
  },
  {
   "cell_type": "code",
   "execution_count": null,
   "metadata": {
    "collapsed": false
   },
   "outputs": [],
   "source": [
    "y=1.0"
   ]
  },
  {
   "cell_type": "code",
   "execution_count": null,
   "metadata": {
    "collapsed": false
   },
   "outputs": [],
   "source": [
    "typeof(ans)"
   ]
  },
  {
   "cell_type": "code",
   "execution_count": null,
   "metadata": {
    "collapsed": false
   },
   "outputs": [],
   "source": [
    "y=Float64(10)"
   ]
  },
  {
   "cell_type": "code",
   "execution_count": null,
   "metadata": {
    "collapsed": false
   },
   "outputs": [],
   "source": [
    "typeof(ans)"
   ]
  },
  {
   "cell_type": "code",
   "execution_count": null,
   "metadata": {
    "collapsed": false
   },
   "outputs": [],
   "source": [
    "x=BigInt(2^54)"
   ]
  },
  {
   "cell_type": "code",
   "execution_count": null,
   "metadata": {
    "collapsed": false
   },
   "outputs": [],
   "source": [
    "typeof(ans)"
   ]
  },
  {
   "cell_type": "code",
   "execution_count": null,
   "metadata": {
    "collapsed": false
   },
   "outputs": [],
   "source": [
    "x^6"
   ]
  },
  {
   "cell_type": "code",
   "execution_count": null,
   "metadata": {
    "collapsed": false
   },
   "outputs": [],
   "source": [
    "typeof(ans)"
   ]
  },
  {
   "cell_type": "code",
   "execution_count": null,
   "metadata": {
    "collapsed": false
   },
   "outputs": [],
   "source": [
    "y=BigFloat(2.0^32)"
   ]
  },
  {
   "cell_type": "code",
   "execution_count": null,
   "metadata": {
    "collapsed": false
   },
   "outputs": [],
   "source": [
    "typeof(ans)"
   ]
  },
  {
   "cell_type": "code",
   "execution_count": null,
   "metadata": {
    "collapsed": false
   },
   "outputs": [],
   "source": [
    "y^6"
   ]
  },
  {
   "cell_type": "code",
   "execution_count": null,
   "metadata": {
    "collapsed": false
   },
   "outputs": [],
   "source": [
    "for T = [Int8,Int16,Int32,Int64,Int128]\n",
    "    println(\"$(lpad(T,7)): [$(typemin(T)),$(typemax(T))]\")\n",
    "end"
   ]
  },
  {
   "cell_type": "code",
   "execution_count": null,
   "metadata": {
    "collapsed": false
   },
   "outputs": [],
   "source": [
    "x = Int128(2^63)\n",
    "x*x "
   ]
  },
  {
   "cell_type": "code",
   "execution_count": null,
   "metadata": {
    "collapsed": false
   },
   "outputs": [],
   "source": [
    "x=6\n",
    "y=2.0\n",
    "x+y"
   ]
  },
  {
   "cell_type": "code",
   "execution_count": null,
   "metadata": {
    "collapsed": false
   },
   "outputs": [],
   "source": [
    "x/y #6/2"
   ]
  },
  {
   "cell_type": "code",
   "execution_count": null,
   "metadata": {
    "collapsed": false
   },
   "outputs": [],
   "source": [
    "x\\y #2/6"
   ]
  },
  {
   "cell_type": "code",
   "execution_count": null,
   "metadata": {
    "collapsed": false
   },
   "outputs": [],
   "source": [
    "x*y"
   ]
  },
  {
   "cell_type": "code",
   "execution_count": null,
   "metadata": {
    "collapsed": false
   },
   "outputs": [],
   "source": [
    "x-y"
   ]
  },
  {
   "cell_type": "code",
   "execution_count": null,
   "metadata": {
    "collapsed": false
   },
   "outputs": [],
   "source": [
    "x^y"
   ]
  },
  {
   "cell_type": "code",
   "execution_count": null,
   "metadata": {
    "collapsed": false
   },
   "outputs": [],
   "source": [
    "typeof(ans)"
   ]
  },
  {
   "cell_type": "code",
   "execution_count": null,
   "metadata": {
    "collapsed": false
   },
   "outputs": [],
   "source": [
    "2<2"
   ]
  },
  {
   "cell_type": "code",
   "execution_count": null,
   "metadata": {
    "collapsed": false
   },
   "outputs": [],
   "source": [
    "2<3"
   ]
  },
  {
   "cell_type": "code",
   "execution_count": null,
   "metadata": {
    "collapsed": false
   },
   "outputs": [],
   "source": [
    "2<=3"
   ]
  },
  {
   "cell_type": "code",
   "execution_count": null,
   "metadata": {
    "collapsed": false
   },
   "outputs": [],
   "source": [
    "typeof(ans)"
   ]
  },
  {
   "cell_type": "code",
   "execution_count": null,
   "metadata": {
    "collapsed": false
   },
   "outputs": [],
   "source": [
    "3 ∈ (1,2,4) #\\in"
   ]
  },
  {
   "cell_type": "markdown",
   "metadata": {},
   "source": [
    "## Funciones matemáticas"
   ]
  },
  {
   "cell_type": "code",
   "execution_count": null,
   "metadata": {
    "collapsed": false
   },
   "outputs": [],
   "source": [
    "α=pi"
   ]
  },
  {
   "cell_type": "code",
   "execution_count": null,
   "metadata": {
    "collapsed": false
   },
   "outputs": [],
   "source": [
    "π"
   ]
  },
  {
   "cell_type": "code",
   "execution_count": null,
   "metadata": {
    "collapsed": false
   },
   "outputs": [],
   "source": [
    "sin(π)"
   ]
  },
  {
   "cell_type": "code",
   "execution_count": null,
   "metadata": {
    "collapsed": false
   },
   "outputs": [],
   "source": [
    "cos(π)"
   ]
  },
  {
   "cell_type": "code",
   "execution_count": null,
   "metadata": {
    "collapsed": false
   },
   "outputs": [],
   "source": [
    "sinh(π)"
   ]
  },
  {
   "cell_type": "code",
   "execution_count": null,
   "metadata": {
    "collapsed": false
   },
   "outputs": [],
   "source": [
    "acos(1)"
   ]
  },
  {
   "cell_type": "code",
   "execution_count": null,
   "metadata": {
    "collapsed": false
   },
   "outputs": [],
   "source": [
    "asin(1)"
   ]
  },
  {
   "cell_type": "code",
   "execution_count": null,
   "metadata": {
    "collapsed": false
   },
   "outputs": [],
   "source": [
    "π/2"
   ]
  },
  {
   "cell_type": "code",
   "execution_count": null,
   "metadata": {
    "collapsed": false
   },
   "outputs": [],
   "source": [
    "2 + 1im"
   ]
  },
  {
   "cell_type": "code",
   "execution_count": null,
   "metadata": {
    "collapsed": false
   },
   "outputs": [],
   "source": [
    "complex(2,1)"
   ]
  },
  {
   "cell_type": "code",
   "execution_count": null,
   "metadata": {
    "collapsed": false
   },
   "outputs": [],
   "source": [
    "θ=complex(0,pi)"
   ]
  },
  {
   "cell_type": "code",
   "execution_count": null,
   "metadata": {
    "collapsed": false
   },
   "outputs": [],
   "source": [
    "e^(θ)"
   ]
  },
  {
   "cell_type": "code",
   "execution_count": null,
   "metadata": {
    "collapsed": false
   },
   "outputs": [],
   "source": [
    "typeof(ans)"
   ]
  },
  {
   "cell_type": "code",
   "execution_count": null,
   "metadata": {
    "collapsed": false
   },
   "outputs": [],
   "source": [
    "log(θ)"
   ]
  },
  {
   "cell_type": "markdown",
   "metadata": {},
   "source": [
    "## Strings"
   ]
  },
  {
   "cell_type": "code",
   "execution_count": null,
   "metadata": {
    "collapsed": false
   },
   "outputs": [],
   "source": [
    "frase=\"Hola \""
   ]
  },
  {
   "cell_type": "code",
   "execution_count": null,
   "metadata": {
    "collapsed": false
   },
   "outputs": [],
   "source": [
    "nombre=\"Francisco\"\n",
    "saludo=\", buenos dias mi nombre es $nombre\""
   ]
  },
  {
   "cell_type": "code",
   "execution_count": null,
   "metadata": {
    "collapsed": false
   },
   "outputs": [],
   "source": [
    "saludo_mañana=frase+saludo"
   ]
  },
  {
   "cell_type": "code",
   "execution_count": null,
   "metadata": {
    "collapsed": false
   },
   "outputs": [],
   "source": [
    "saludo_mañana=frase * saludo"
   ]
  },
  {
   "cell_type": "code",
   "execution_count": null,
   "metadata": {
    "collapsed": false
   },
   "outputs": [],
   "source": [
    "typeof(ans)"
   ]
  },
  {
   "cell_type": "code",
   "execution_count": null,
   "metadata": {
    "collapsed": false
   },
   "outputs": [],
   "source": [
    "frase^3"
   ]
  },
  {
   "cell_type": "code",
   "execution_count": null,
   "metadata": {
    "collapsed": false
   },
   "outputs": [],
   "source": [
    "frase[1]"
   ]
  },
  {
   "cell_type": "code",
   "execution_count": null,
   "metadata": {
    "collapsed": false
   },
   "outputs": [],
   "source": [
    "length(frase)"
   ]
  },
  {
   "cell_type": "code",
   "execution_count": null,
   "metadata": {
    "collapsed": false
   },
   "outputs": [],
   "source": [
    "@time for i=1:length(frase)\n",
    "    print(frase[i],\"-\")\n",
    "end"
   ]
  },
  {
   "cell_type": "code",
   "execution_count": null,
   "metadata": {
    "collapsed": false
   },
   "outputs": [],
   "source": [
    "frase[1:end]"
   ]
  },
  {
   "cell_type": "code",
   "execution_count": null,
   "metadata": {
    "collapsed": false
   },
   "outputs": [],
   "source": [
    "frase[1:2]"
   ]
  },
  {
   "cell_type": "code",
   "execution_count": null,
   "metadata": {
    "collapsed": false
   },
   "outputs": [],
   "source": [
    "frase[3:end]"
   ]
  },
  {
   "cell_type": "code",
   "execution_count": null,
   "metadata": {
    "collapsed": false
   },
   "outputs": [],
   "source": [
    "frase[1:2:end]"
   ]
  },
  {
   "cell_type": "code",
   "execution_count": null,
   "metadata": {
    "collapsed": false
   },
   "outputs": [],
   "source": [
    "frase[1:3:end]"
   ]
  },
  {
   "cell_type": "code",
   "execution_count": null,
   "metadata": {
    "collapsed": false
   },
   "outputs": [],
   "source": [
    "frase[end:-1:1]"
   ]
  },
  {
   "cell_type": "code",
   "execution_count": null,
   "metadata": {
    "collapsed": false
   },
   "outputs": [],
   "source": [
    "frase[end:-2:1]"
   ]
  },
  {
   "cell_type": "code",
   "execution_count": null,
   "metadata": {
    "collapsed": false
   },
   "outputs": [],
   "source": [
    "c='A'"
   ]
  },
  {
   "cell_type": "code",
   "execution_count": null,
   "metadata": {
    "collapsed": false
   },
   "outputs": [],
   "source": [
    "c=Char(65)"
   ]
  },
  {
   "cell_type": "code",
   "execution_count": null,
   "metadata": {
    "collapsed": false
   },
   "outputs": [],
   "source": [
    "c='\\U0041'"
   ]
  },
  {
   "cell_type": "markdown",
   "metadata": {},
   "source": [
    "## Arreglos"
   ]
  },
  {
   "cell_type": "code",
   "execution_count": null,
   "metadata": {
    "collapsed": false
   },
   "outputs": [],
   "source": [
    "A=[1,2,3] #Estructura de datos de una dimensión"
   ]
  },
  {
   "cell_type": "code",
   "execution_count": null,
   "metadata": {
    "collapsed": false
   },
   "outputs": [],
   "source": [
    "B=[1 2 3] #Matriz"
   ]
  },
  {
   "cell_type": "code",
   "execution_count": null,
   "metadata": {
    "collapsed": false
   },
   "outputs": [],
   "source": [
    "BB=[1 2 3; 4 5 6]"
   ]
  },
  {
   "cell_type": "code",
   "execution_count": null,
   "metadata": {
    "collapsed": false
   },
   "outputs": [],
   "source": [
    "c=[1:0.1:2]"
   ]
  },
  {
   "cell_type": "code",
   "execution_count": null,
   "metadata": {
    "collapsed": false
   },
   "outputs": [],
   "source": [
    "D=[1:10]"
   ]
  },
  {
   "cell_type": "code",
   "execution_count": null,
   "metadata": {
    "collapsed": false
   },
   "outputs": [],
   "source": [
    "E=zeros(2)"
   ]
  },
  {
   "cell_type": "code",
   "execution_count": null,
   "metadata": {
    "collapsed": false
   },
   "outputs": [],
   "source": [
    "EE=zeros(2,2)"
   ]
  },
  {
   "cell_type": "code",
   "execution_count": null,
   "metadata": {
    "collapsed": false
   },
   "outputs": [],
   "source": [
    "Identidad=eye(2,2)"
   ]
  },
  {
   "cell_type": "code",
   "execution_count": null,
   "metadata": {
    "collapsed": false
   },
   "outputs": [],
   "source": [
    "EEE=ones(2,2)"
   ]
  },
  {
   "cell_type": "code",
   "execution_count": null,
   "metadata": {
    "collapsed": false
   },
   "outputs": [],
   "source": [
    "EEEE=rand(1:3,2,2)"
   ]
  },
  {
   "cell_type": "code",
   "execution_count": null,
   "metadata": {
    "collapsed": false
   },
   "outputs": [],
   "source": [
    "A=Int64[]"
   ]
  },
  {
   "cell_type": "code",
   "execution_count": null,
   "metadata": {
    "collapsed": false
   },
   "outputs": [],
   "source": [
    "push!(A,1)"
   ]
  },
  {
   "cell_type": "code",
   "execution_count": null,
   "metadata": {
    "collapsed": false
   },
   "outputs": [],
   "source": [
    "push!(A,2)"
   ]
  },
  {
   "cell_type": "code",
   "execution_count": null,
   "metadata": {
    "collapsed": false
   },
   "outputs": [],
   "source": [
    "push!(A,3)"
   ]
  },
  {
   "cell_type": "code",
   "execution_count": null,
   "metadata": {
    "collapsed": false
   },
   "outputs": [],
   "source": [
    "pop!(A)"
   ]
  },
  {
   "cell_type": "code",
   "execution_count": null,
   "metadata": {
    "collapsed": false
   },
   "outputs": [],
   "source": [
    "pop!(A)"
   ]
  },
  {
   "cell_type": "code",
   "execution_count": null,
   "metadata": {
    "collapsed": false
   },
   "outputs": [],
   "source": [
    "A"
   ]
  },
  {
   "cell_type": "code",
   "execution_count": null,
   "metadata": {
    "collapsed": false
   },
   "outputs": [],
   "source": [
    "BB"
   ]
  },
  {
   "cell_type": "code",
   "execution_count": null,
   "metadata": {
    "collapsed": false
   },
   "outputs": [],
   "source": [
    "BB[1,2]"
   ]
  },
  {
   "cell_type": "code",
   "execution_count": null,
   "metadata": {
    "collapsed": false
   },
   "outputs": [],
   "source": [
    "BB[:,1]"
   ]
  },
  {
   "cell_type": "code",
   "execution_count": null,
   "metadata": {
    "collapsed": false
   },
   "outputs": [],
   "source": [
    "BB[1,:]"
   ]
  },
  {
   "cell_type": "code",
   "execution_count": null,
   "metadata": {
    "collapsed": false
   },
   "outputs": [],
   "source": [
    "BBB=rand(1:2,5,5)"
   ]
  },
  {
   "cell_type": "code",
   "execution_count": null,
   "metadata": {
    "collapsed": false
   },
   "outputs": [],
   "source": [
    "BBB[1:2,1:3]"
   ]
  },
  {
   "cell_type": "code",
   "execution_count": null,
   "metadata": {
    "collapsed": false
   },
   "outputs": [],
   "source": [
    "BBB[1:3,1:2]"
   ]
  },
  {
   "cell_type": "code",
   "execution_count": null,
   "metadata": {
    "collapsed": false
   },
   "outputs": [],
   "source": [
    "T=transpose(BBB)"
   ]
  },
  {
   "cell_type": "code",
   "execution_count": null,
   "metadata": {
    "collapsed": false
   },
   "outputs": [],
   "source": [
    "BBB+T"
   ]
  },
  {
   "cell_type": "code",
   "execution_count": null,
   "metadata": {
    "collapsed": false
   },
   "outputs": [],
   "source": [
    "BBB*T"
   ]
  },
  {
   "cell_type": "code",
   "execution_count": null,
   "metadata": {
    "collapsed": false
   },
   "outputs": [],
   "source": [
    "A=[1 2;3 4]"
   ]
  },
  {
   "cell_type": "code",
   "execution_count": null,
   "metadata": {
    "collapsed": false
   },
   "outputs": [],
   "source": [
    "B=[5 6;7 8]"
   ]
  },
  {
   "cell_type": "code",
   "execution_count": null,
   "metadata": {
    "collapsed": false
   },
   "outputs": [],
   "source": [
    "A.*B"
   ]
  },
  {
   "cell_type": "code",
   "execution_count": null,
   "metadata": {
    "collapsed": false
   },
   "outputs": [],
   "source": [
    "A./B"
   ]
  },
  {
   "cell_type": "code",
   "execution_count": null,
   "metadata": {
    "collapsed": false
   },
   "outputs": [],
   "source": [
    "A.==B"
   ]
  },
  {
   "cell_type": "code",
   "execution_count": null,
   "metadata": {
    "collapsed": false
   },
   "outputs": [],
   "source": [
    "inv(A)"
   ]
  },
  {
   "cell_type": "code",
   "execution_count": null,
   "metadata": {
    "collapsed": false
   },
   "outputs": [],
   "source": [
    "trace(A)"
   ]
  },
  {
   "cell_type": "code",
   "execution_count": null,
   "metadata": {
    "collapsed": false
   },
   "outputs": [],
   "source": [
    "v1=[1,2,3]\n",
    "v2=[3,4,5]\n",
    "\n",
    "dot(v1,v2)"
   ]
  },
  {
   "cell_type": "markdown",
   "metadata": {},
   "source": [
    "## Funciones"
   ]
  },
  {
   "cell_type": "code",
   "execution_count": null,
   "metadata": {
    "collapsed": false
   },
   "outputs": [],
   "source": [
    "f(x)=x^2"
   ]
  },
  {
   "cell_type": "code",
   "execution_count": null,
   "metadata": {
    "collapsed": false
   },
   "outputs": [],
   "source": [
    "f(3)"
   ]
  },
  {
   "cell_type": "code",
   "execution_count": null,
   "metadata": {
    "collapsed": false
   },
   "outputs": [],
   "source": [
    "g(x::Array)=x.^2"
   ]
  },
  {
   "cell_type": "code",
   "execution_count": null,
   "metadata": {
    "collapsed": false
   },
   "outputs": [],
   "source": [
    "x=[10 20 30]"
   ]
  },
  {
   "cell_type": "code",
   "execution_count": null,
   "metadata": {
    "collapsed": false
   },
   "outputs": [],
   "source": [
    "g(x)"
   ]
  },
  {
   "cell_type": "code",
   "execution_count": null,
   "metadata": {
    "collapsed": false
   },
   "outputs": [],
   "source": [
    "g(2)"
   ]
  },
  {
   "cell_type": "code",
   "execution_count": null,
   "metadata": {
    "collapsed": false
   },
   "outputs": [],
   "source": [
    "function h(x::Array,n::Int64)\n",
    "    return Y=x.^n\n",
    "end "
   ]
  },
  {
   "cell_type": "code",
   "execution_count": null,
   "metadata": {
    "collapsed": false
   },
   "outputs": [],
   "source": [
    "n=2\n",
    " \n",
    "h(x,2)"
   ]
  },
  {
   "cell_type": "code",
   "execution_count": null,
   "metadata": {
    "collapsed": false
   },
   "outputs": [],
   "source": [
    "function l(x::Array,n::Int64)\n",
    "    for j in enumerate(x)\n",
    "        println(\"$j\")\n",
    "    end\n",
    "end "
   ]
  },
  {
   "cell_type": "code",
   "execution_count": null,
   "metadata": {
    "collapsed": false
   },
   "outputs": [],
   "source": [
    "funcion_l=l(x,2)"
   ]
  },
  {
   "cell_type": "code",
   "execution_count": null,
   "metadata": {
    "collapsed": false
   },
   "outputs": [],
   "source": [
    "typeof(funcion_l)"
   ]
  },
  {
   "cell_type": "code",
   "execution_count": null,
   "metadata": {
    "collapsed": false
   },
   "outputs": [],
   "source": [
    "funcion_l[1]"
   ]
  },
  {
   "cell_type": "markdown",
   "metadata": {},
   "source": [
    "## Loops y condicionales"
   ]
  },
  {
   "cell_type": "code",
   "execution_count": null,
   "metadata": {
    "collapsed": false
   },
   "outputs": [],
   "source": [
    "R = 1:5\n",
    "for i in R\n",
    "    println(i)\n",
    "end"
   ]
  },
  {
   "cell_type": "code",
   "execution_count": null,
   "metadata": {
    "collapsed": false
   },
   "outputs": [],
   "source": [
    "v = collect(1:5)"
   ]
  },
  {
   "cell_type": "code",
   "execution_count": null,
   "metadata": {
    "collapsed": false
   },
   "outputs": [],
   "source": [
    "for i=1:length(R)\n",
    "    if i%2==0\n",
    "        println(i)\n",
    "        elseif(i==3)    \n",
    "            println(\"*\")    \n",
    "    else\n",
    "        println(\"$i % 2 no es igual a 0\")\n",
    "    end\n",
    "end"
   ]
  },
  {
   "cell_type": "markdown",
   "metadata": {},
   "source": [
    "## Graficando"
   ]
  },
  {
   "cell_type": "code",
   "execution_count": null,
   "metadata": {
    "collapsed": false
   },
   "outputs": [],
   "source": [
    "#Pkg.add(\"PyPlot\")\n",
    "#Pkg.add(\"Gadfly\")\n",
    "#Pkg.add(\"Winston\")\n",
    "\n",
    "using PyPlot"
   ]
  },
  {
   "cell_type": "code",
   "execution_count": null,
   "metadata": {
    "collapsed": false
   },
   "outputs": [],
   "source": [
    "x=linspace(-pi,pi,1000)\n",
    "\n",
    "titulo=\"Sin(x)\"\n",
    "\n",
    "plot(x,sin(x))\n",
    "title(titulo)\n",
    "xlabel=(\"x\")\n",
    "ylabel=(\"sin(x)\")\n",
    "grid()"
   ]
  },
  {
   "cell_type": "code",
   "execution_count": null,
   "metadata": {
    "collapsed": false
   },
   "outputs": [],
   "source": [
    "waves(x::Int64, y::Int64) = sin(x) * cos(y)\n",
    "\n",
    "xs = linspace(-2, 2)\n",
    "ys = linspace(-2, 2)\n",
    "\n",
    "zs = [waves(x, y) for x in xs, y in ys]\n",
    "surf(xs, ys, zs, cmap=\"bone\");"
   ]
  },
  {
   "cell_type": "code",
   "execution_count": null,
   "metadata": {
    "collapsed": false
   },
   "outputs": [],
   "source": [
    "f(x, y) = (1 - x^2) + (y - x^2)^2\n",
    "xs = linspace(-2, 2)\n",
    "ys = linspace(-1, 3)\n",
    "zs = [f(x,y) for x in xs, y in ys];\n",
    "\n",
    "surf(xs, ys, zs, cmap=\"Spectral_r\");"
   ]
  },
  {
   "cell_type": "code",
   "execution_count": null,
   "metadata": {
    "collapsed": true
   },
   "outputs": [],
   "source": [
    "workspace()"
   ]
  },
  {
   "cell_type": "code",
   "execution_count": null,
   "metadata": {
    "collapsed": false
   },
   "outputs": [],
   "source": [
    "#Pkg.add(\"Gadfly\")\n",
    "#Pkg.update()\n",
    "using Gadfly\n",
    "\n",
    "funcs = [sin, cos, besselj1]\n",
    "Gadfly.plot(funcs, 0, 8)"
   ]
  },
  {
   "cell_type": "markdown",
   "metadata": {},
   "source": [
    "## Objetos"
   ]
  },
  {
   "cell_type": "code",
   "execution_count": 2,
   "metadata": {
    "collapsed": false
   },
   "outputs": [
    {
     "name": "stderr",
     "output_type": "stream",
     "text": [
      "WARNING: Method definition (::Type{Main.Becario})(Float64, Float64, Int64) in module Main at In[1]:2 overwritten at In[2]:2.\n",
      "WARNING: Method definition (::Type{Main.Becario})(Any, Any, Any) in module Main at In[1]:2 overwritten at In[2]:2.\n"
     ]
    }
   ],
   "source": [
    "type Becario    \n",
    "    peso::Float64\n",
    "    altura::Float64\n",
    "    id::Int64\n",
    "end       "
   ]
  },
  {
   "cell_type": "code",
   "execution_count": 3,
   "metadata": {
    "collapsed": false
   },
   "outputs": [
    {
     "data": {
      "text/plain": [
       "Becario(90.0,1.75,54321)"
      ]
     },
     "execution_count": 3,
     "metadata": {},
     "output_type": "execute_result"
    }
   ],
   "source": [
    "Francisco=Becario(90.0,1.90,12345)\n",
    "Juanito=Becario(90.0,1.75,54321)"
   ]
  },
  {
   "cell_type": "code",
   "execution_count": 4,
   "metadata": {
    "collapsed": false
   },
   "outputs": [
    {
     "data": {
      "text/plain": [
       "1.9"
      ]
     },
     "execution_count": 4,
     "metadata": {},
     "output_type": "execute_result"
    }
   ],
   "source": [
    "Francisco.altura"
   ]
  },
  {
   "cell_type": "code",
   "execution_count": 5,
   "metadata": {
    "collapsed": false
   },
   "outputs": [
    {
     "data": {
      "text/plain": [
       "12345"
      ]
     },
     "execution_count": 5,
     "metadata": {},
     "output_type": "execute_result"
    }
   ],
   "source": [
    "Francisco.id"
   ]
  },
  {
   "cell_type": "code",
   "execution_count": 6,
   "metadata": {
    "collapsed": false
   },
   "outputs": [
    {
     "data": {
      "text/plain": [
       "90.0"
      ]
     },
     "execution_count": 6,
     "metadata": {},
     "output_type": "execute_result"
    }
   ],
   "source": [
    "Juanito.peso"
   ]
  },
  {
   "cell_type": "code",
   "execution_count": 7,
   "metadata": {
    "collapsed": false
   },
   "outputs": [
    {
     "data": {
      "text/plain": [
       "54321"
      ]
     },
     "execution_count": 7,
     "metadata": {},
     "output_type": "execute_result"
    }
   ],
   "source": [
    "Juanito.id"
   ]
  }
 ],
 "metadata": {
  "kernelspec": {
   "display_name": "Julia 0.4.6",
   "language": "julia",
   "name": "julia-0.4"
  },
  "language_info": {
   "file_extension": ".jl",
   "mimetype": "application/julia",
   "name": "julia",
   "version": "0.5.0"
  }
 },
 "nbformat": 4,
 "nbformat_minor": 0
}
